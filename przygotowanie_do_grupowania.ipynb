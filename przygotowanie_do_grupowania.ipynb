{
 "cells": [
  {
   "cell_type": "code",
   "execution_count": 1,
   "id": "29399a91-2e03-4c21-afd7-4e17d95effc2",
   "metadata": {
    "tags": []
   },
   "outputs": [],
   "source": [
    "import numpy as np\n",
    "import pandas as pd"
   ]
  },
  {
   "cell_type": "code",
   "execution_count": 11,
   "id": "49da8a84-ead4-4043-88fa-4d130df0aa24",
   "metadata": {
    "tags": []
   },
   "outputs": [],
   "source": [
    "ratings = pd.read_csv(\"u.data\", sep = \"\\t\", header = None, names = [\"user_id\", \"item_id\", \"rating\", \"timestamp\"])"
   ]
  },
  {
   "cell_type": "code",
   "execution_count": 12,
   "id": "1965463c-30e0-493d-8024-a1270c3ca003",
   "metadata": {
    "tags": []
   },
   "outputs": [],
   "source": [
    "ratings.set_index([\"item_id\", \"user_id\"], inplace = True)"
   ]
  },
  {
   "cell_type": "code",
   "execution_count": 13,
   "id": "9248e73c-5210-431b-87da-ae2d98b88d8e",
   "metadata": {
    "tags": []
   },
   "outputs": [],
   "source": [
    "items = pd.read_csv(\"u.item\", sep = \"|\", header = None, encoding = \"ISO-8859-1\")"
   ]
  },
  {
   "cell_type": "code",
   "execution_count": 14,
   "id": "b530ab2f-37d1-45af-9d00-bb187cc195ae",
   "metadata": {
    "tags": []
   },
   "outputs": [],
   "source": [
    "cnam = [\"movie_id\", \"movie_title\", \"release_date\", \"video_release_date\",\n",
    "              \"IMDb_URL\", \"unknown\", \"Action\", \"Adventure\", \"Animation\",\n",
    "              \"Children's\", \"Comedy\", \"Crime\", \"Documentary\" , \"Drama\" , \"Fantasy\", \n",
    "        \"Film-Noir\", \"Horror\", \"Musical\", \"Mystery\", \"Romance\", \"Sci-Fi\", \"Thriller\", \"War\", \"Western\"]"
   ]
  },
  {
   "cell_type": "code",
   "execution_count": 16,
   "id": "8d7877a3-c9bb-4e36-84fe-d23b9b651c00",
   "metadata": {
    "tags": []
   },
   "outputs": [],
   "source": [
    "items.columns = cnam"
   ]
  },
  {
   "cell_type": "code",
   "execution_count": 17,
   "id": "cc564ec5-443b-43ca-a3e2-f4f8da0e5f5f",
   "metadata": {
    "tags": []
   },
   "outputs": [],
   "source": [
    "items.set_index(\"movie_id\", inplace = True)"
   ]
  },
  {
   "cell_type": "code",
   "execution_count": 18,
   "id": "dacaf53a-6767-4a43-bbdc-76e4e7dcd986",
   "metadata": {
    "tags": []
   },
   "outputs": [],
   "source": [
    "users = pd.read_csv(\"u.user\", sep =\"|\", header = None, names = [\"user_id\", \"age\", \"gender\", \"occupation\", \"zip_code\"])"
   ]
  },
  {
   "cell_type": "code",
   "execution_count": 19,
   "id": "4e21b8d1-cf51-4d67-927c-9e42a52df3e6",
   "metadata": {
    "tags": []
   },
   "outputs": [],
   "source": [
    "users.set_index(\"user_id\", inplace = True)"
   ]
  }
 ],
 "metadata": {
  "kernelspec": {
   "display_name": "Python 3 (ipykernel)",
   "language": "python",
   "name": "python3"
  },
  "language_info": {
   "codemirror_mode": {
    "name": "ipython",
    "version": 3
   },
   "file_extension": ".py",
   "mimetype": "text/x-python",
   "name": "python",
   "nbconvert_exporter": "python",
   "pygments_lexer": "ipython3",
   "version": "3.10.9"
  }
 },
 "nbformat": 4,
 "nbformat_minor": 5
}
