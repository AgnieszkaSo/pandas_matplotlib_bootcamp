{
 "cells": [
  {
   "cell_type": "markdown",
   "id": "17851df0-5bb4-4eb3-8b8d-9c5a82934436",
   "metadata": {},
   "source": [
    "# Wczytanie bibliotek"
   ]
  },
  {
   "cell_type": "code",
   "execution_count": 1,
   "id": "fb93dc3b-835d-4aeb-9302-512f1c48f5bf",
   "metadata": {
    "tags": []
   },
   "outputs": [],
   "source": [
    "import pandas as pd\n",
    "import numpy as np"
   ]
  },
  {
   "cell_type": "markdown",
   "id": "b898b9b7-a2d9-4384-a90d-b51011727ed0",
   "metadata": {},
   "source": [
    "## 2. Serie i ramki danych (Series and Data Frames)"
   ]
  },
  {
   "cell_type": "markdown",
   "id": "07147124-12cb-4b34-b969-21fce3431899",
   "metadata": {},
   "source": [
    "### Serie"
   ]
  },
  {
   "cell_type": "markdown",
   "id": "8578aade-8b3b-4195-a02b-b876124e673d",
   "metadata": {},
   "source": [
    "Seria - jednowymiarowa tablica przechowująca konkretny jeden typ danych (integers, strings, floating point numbers, Python objects).\n",
    "Etykiety elementów nazywane są indeksem (index)."
   ]
  },
  {
   "cell_type": "markdown",
   "id": "67b61ccf-2856-4338-b629-d305b07b75d7",
   "metadata": {},
   "source": [
    "Serie są bardzo podobne do ndarray, fcje numpy na nich działają."
   ]
  },
  {
   "cell_type": "markdown",
   "id": "460d743e-0bf1-419a-bedf-b560e246208a",
   "metadata": {},
   "source": [
    "Tworzenie serii z tabeli numpy ndarray"
   ]
  },
  {
   "cell_type": "markdown",
   "id": "1abd5931-5953-4e04-865d-012b08999f65",
   "metadata": {},
   "source": [
    "### Ramki danych (Data Frames)"
   ]
  },
  {
   "cell_type": "markdown",
   "id": "3858ef4b-38bd-4842-aca1-89160f853b3c",
   "metadata": {},
   "source": [
    "Ramka Danych (Data Frame) - dwuwymiarowa tablica danych z indeksem, w której kolumny mogą być różnych \n",
    "typów. Można myśleć o niej jak o tabeli SQL albo słowniku zawierającym serie danych."
   ]
  },
  {
   "cell_type": "markdown",
   "id": "66aa5833-6f97-4ec5-b2fa-ac4d3dbdae15",
   "metadata": {},
   "source": [
    "### Wybór kolumn"
   ]
  },
  {
   "cell_type": "markdown",
   "id": "5961853f-1ff3-40eb-ba90-1cc255cf035a",
   "metadata": {},
   "source": [
    "### Wybór wierszy (loc, iloc)"
   ]
  },
  {
   "cell_type": "markdown",
   "id": "a0eeb3ef-1efe-4430-94bc-13fcad3b9a4c",
   "metadata": {},
   "source": [
    "## 3. Indeksowanie"
   ]
  },
  {
   "cell_type": "markdown",
   "id": "afa85005-839d-4eed-ac3b-8e79bc913ab7",
   "metadata": {},
   "source": [
    "Domyślnie liczby 0,1,2,... Czasem sensowny jest jakiś inny indeks, np. adres email (numer PESEL), w PANDAS \n",
    "nie musi on być unikalny."
   ]
  },
  {
   "cell_type": "markdown",
   "id": "907fd574-a3a4-4014-b0d5-d5cf1b92570e",
   "metadata": {},
   "source": [
    "### Indeksy hierarchiczne (zagnieżdżone)"
   ]
  },
  {
   "cell_type": "markdown",
   "id": "cb786f59-1476-41c3-a3a9-8e36d309e53d",
   "metadata": {},
   "source": [
    "## 5. Filtrowanie"
   ]
  },
  {
   "cell_type": "markdown",
   "id": "f37fcc56-e4ae-492f-8896-56f6c82bc3ae",
   "metadata": {},
   "source": [
    "### & , | i ~"
   ]
  },
  {
   "cell_type": "markdown",
   "id": "146756f5-da65-42de-b2e0-85310a1ca9a9",
   "metadata": {},
   "source": [
    "## 6. Dane jakościowe"
   ]
  },
  {
   "cell_type": "markdown",
   "id": "7ed04c0e-8ac1-4462-8920-49a8559eed29",
   "metadata": {},
   "source": [
    "zmienne jakościowe to zmienne niemierzalne: \n",
    "- nominalne, np. kolor oczu (niebieskie, zielone, brązowe),\n",
    "- porządkowe, np. wykształcenie (podstawowe, średnie, wyższe)"
   ]
  },
  {
   "cell_type": "markdown",
   "id": "d14d1a20-18ae-4fd4-abee-e8ce0202b787",
   "metadata": {},
   "source": [
    "## 7. Zmiana kolumn i wierszy"
   ]
  },
  {
   "cell_type": "markdown",
   "id": "a09a389f-e0fe-4bcf-8733-b09afe0cb77d",
   "metadata": {},
   "source": [
    "### zmiana nazw kolumn"
   ]
  },
  {
   "cell_type": "markdown",
   "id": "fa1a215f-b937-4f48-9a50-82c6b33daeee",
   "metadata": {},
   "source": [
    "### zmiana wierszy"
   ]
  },
  {
   "cell_type": "markdown",
   "id": "528bee01-319b-4e4a-976f-214bf139fa7d",
   "metadata": {},
   "source": [
    "### uwaga, tutaj potrzebne loc!"
   ]
  },
  {
   "cell_type": "markdown",
   "id": "cc89c5c1-6114-4bc7-a08e-6a9f9665d91b",
   "metadata": {},
   "source": [
    "### zmiana kolumn"
   ]
  },
  {
   "cell_type": "markdown",
   "id": "add3118e-7e0d-428d-bca7-e06304b51b68",
   "metadata": {},
   "source": [
    "### apply"
   ]
  },
  {
   "cell_type": "markdown",
   "id": "ffe49f35-a999-48e2-85c1-741a363290b5",
   "metadata": {},
   "source": [
    "### applymap - tylko dla ramek danych (Data Frames), użycie funkcji dla każdego elementu "
   ]
  },
  {
   "cell_type": "markdown",
   "id": "c0e67bed-ddf3-4265-b5e3-ed5dd5b8366a",
   "metadata": {},
   "source": [
    "### map - tylko dla serii, podstaw wartości, uwaga na NAN!"
   ]
  },
  {
   "cell_type": "markdown",
   "id": "d6eb26a8-fc70-4454-ad44-932e7930a9e9",
   "metadata": {},
   "source": [
    "### replace"
   ]
  },
  {
   "cell_type": "markdown",
   "id": "9184a5c4-8bb6-4063-a703-6c168dd0bf36",
   "metadata": {},
   "source": [
    "## 8. Obsługa obserwacji brakujących"
   ]
  },
  {
   "cell_type": "markdown",
   "id": "69318770-bfae-4702-b3b0-5154531e0a61",
   "metadata": {},
   "source": [
    "usuwanie braków danych"
   ]
  },
  {
   "cell_type": "code",
   "execution_count": 2,
   "id": "1dbf6e8e-4264-4726-b9c6-90a56081b301",
   "metadata": {
    "tags": []
   },
   "outputs": [],
   "source": [
    "osoby1 = {\n",
    "    'imię': ['Agnieszka', 'Jan', 'Anna', 'Janusz', np.nan, None, 'NA'],\n",
    "    'nazwisko': ['Sołtys', 'Kowalski', 'Kowalska', 'Nowak', np.nan, pd.NaT, 'Missing'],\n",
    "    'email': ['agnieszka.soltys@email.com', 'jan.kowalski@wp.pl', 'anna.kowalska@wp.pl', 'januszek@email.com', None, \"antek.nowak@gmail.com\", np.nan],\n",
    "    'age': ['25', '55', '63', '36', None, None, 'Missing']\n",
    "}"
   ]
  },
  {
   "cell_type": "markdown",
   "id": "2a01bb64-40e1-405e-b2b9-e89f04a5af0b",
   "metadata": {},
   "source": [
    "ujednolicenie braków"
   ]
  },
  {
   "cell_type": "markdown",
   "id": "b1f1f425-1769-4b93-b5c1-004c1bd733a3",
   "metadata": {},
   "source": [
    "wypełnianie braków"
   ]
  },
  {
   "cell_type": "markdown",
   "id": "88c734c6-ec2a-4eaa-9181-b2f5ddecd3c2",
   "metadata": {},
   "source": [
    "## 9. Dodawanie/usuwanie wierszy i kolumn"
   ]
  },
  {
   "cell_type": "markdown",
   "id": "3a52af3f-7e59-4ec9-a8fb-f7643b37cae2",
   "metadata": {},
   "source": [
    "podobne do zmiany wierszy i kolumn"
   ]
  },
  {
   "cell_type": "markdown",
   "id": "3ebfa8ef-1c1b-456c-a1ea-cda934d47535",
   "metadata": {},
   "source": [
    "dodawanie kolumn"
   ]
  },
  {
   "cell_type": "markdown",
   "id": "929130ec-c9d2-4b06-a0ef-f24274868b6a",
   "metadata": {},
   "source": [
    "usuwanie kolumn"
   ]
  },
  {
   "cell_type": "markdown",
   "id": "23ea7405-f083-4f77-bd35-8fab0e502c48",
   "metadata": {},
   "source": [
    "dodawanie wierszy"
   ]
  },
  {
   "cell_type": "markdown",
   "id": "87c7b7ed-7533-4da5-a637-19378f6012a2",
   "metadata": {},
   "source": [
    "usuwanie wierszy"
   ]
  },
  {
   "cell_type": "markdown",
   "id": "65e0286c-1b52-4bf8-be8f-ea1c11faa7a1",
   "metadata": {},
   "source": [
    "### 10. Sortowanie"
   ]
  },
  {
   "cell_type": "code",
   "execution_count": null,
   "id": "287f5678-591c-4860-a93f-3a61de4649f4",
   "metadata": {},
   "outputs": [],
   "source": []
  }
 ],
 "metadata": {
  "kernelspec": {
   "display_name": "Python 3 (ipykernel)",
   "language": "python",
   "name": "python3"
  },
  "language_info": {
   "codemirror_mode": {
    "name": "ipython",
    "version": 3
   },
   "file_extension": ".py",
   "mimetype": "text/x-python",
   "name": "python",
   "nbconvert_exporter": "python",
   "pygments_lexer": "ipython3",
   "version": "3.10.9"
  }
 },
 "nbformat": 4,
 "nbformat_minor": 5
}
