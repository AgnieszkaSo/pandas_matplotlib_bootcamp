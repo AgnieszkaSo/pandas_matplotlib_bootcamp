{
 "cells": [
  {
   "cell_type": "markdown",
   "id": "a58f3d74-9ec9-41dd-b6b3-09fe7d0e2d73",
   "metadata": {},
   "source": [
    "# Wczytanie bibliotek"
   ]
  },
  {
   "cell_type": "code",
   "execution_count": 1,
   "id": "3e0d29b0-a95b-4df7-b11d-f6a41d397cdd",
   "metadata": {
    "tags": []
   },
   "outputs": [],
   "source": [
    "import numpy as np\n",
    "import pandas as pd\n",
    "import re"
   ]
  },
  {
   "cell_type": "markdown",
   "id": "4b48519b-1c45-442d-99d7-d27337c760b3",
   "metadata": {},
   "source": [
    "# PANDAS - wstęp"
   ]
  },
  {
   "cell_type": "markdown",
   "id": "694087d6-4663-47ef-a5f0-b6a336558d65",
   "metadata": {},
   "source": [
    "Jeden z najczęściej pobieranych pakietów Python\n",
    "\n",
    "https://hugovk.github.io/top-pypi-packages/\n",
    "\n",
    "Nazwa pochodzi od PANel DAta, danych panelowych używanych w ekonometrii (dane zbierane dla tych samych osób w wielu przedziałach czasowych)\n",
    "\n",
    "Służy do wczytywania i analizowania danych, w szczególności ramek danych (data frames) i szeregów czasowych\n",
    "\n",
    "Ma bardzo dobrą wydajność - jest zbudowany w oparciu o pakiet numpy\n",
    "\n",
    "Ramki danych (data frames) w pandas mają bardzo dużo funkcjonalnośći, można robić nanich operacje typu numpy, typu SQL, prezentować graficznie, itd.\n"
   ]
  },
  {
   "cell_type": "markdown",
   "id": "b6a78e42-ad43-4b05-be70-c3f6cdb54b6e",
   "metadata": {},
   "source": [
    "Pandas user guide:\n",
    "https://pandas.pydata.org/docs/user_guide/index.html"
   ]
  },
  {
   "cell_type": "markdown",
   "id": "7a657afc-c432-4cf9-af1b-4a0a9683b07d",
   "metadata": {},
   "source": [
    "## Plan na dzisiaj:\n",
    "\n",
    "1. Wczytywanie danych\n",
    "\n",
    "2. Serie i ramki danych (Series and Data Frames)\n",
    "\n",
    "3. Indeksowanie\n",
    "\n",
    "4. Typy danych\n",
    "\n",
    "5. Filtrowanie\n",
    "\n",
    "6. Dane jakościowe\n",
    "\n",
    "7. Zmiana kolumn i wierszy\n",
    "\n",
    "8. Obsługa obserwacji brakujących\n",
    "\n",
    "9. Dodawanie/usuwanie wierszy i kolumn\n",
    "\n",
    "10. Sortowanie\n",
    "\n",
    "11. Grupowanie i agregacja\n",
    "\n",
    "12. Dane dotyczące daty i godziny\n",
    "\n",
    "13. Obsługa dużych danych - dzielenie na kawałki"
   ]
  },
  {
   "cell_type": "markdown",
   "id": "5d2d8487-bca5-4c09-9846-279d08749c43",
   "metadata": {},
   "source": [
    "## 1. Wczytywanie danych"
   ]
  },
  {
   "cell_type": "markdown",
   "id": "bea8c0c1-1ef2-45f0-a836-813e08bd9085",
   "metadata": {},
   "source": [
    "https://grouplens.org/datasets/movielens/"
   ]
  },
  {
   "cell_type": "markdown",
   "id": "f32aa320-686b-4908-91f2-15dcea3e3a9d",
   "metadata": {},
   "source": [
    "https://pandas.pydata.org/docs/reference/api/pandas.read_csv.html#pandas.read_csv"
   ]
  },
  {
   "cell_type": "markdown",
   "id": "6433ede6-8e92-42fe-880d-f2a9a640997a",
   "metadata": {},
   "source": [
    "### Zadanie 1: wczytywanie danych"
   ]
  },
  {
   "cell_type": "markdown",
   "id": "fd4b2740-b264-41a9-89a8-771a80641aa7",
   "metadata": {},
   "source": [
    "Wczytaj dane u.genre jako genre i u.users jako users. Ramce users nadaj nazwy kolumn takie jak w opisie README, \n",
    "zamiast \" \" użyj \"_\". Sprawdź liczbę wierszy i kolumn, wyświetl pierwsze 7 obserwacji. "
   ]
  },
  {
   "cell_type": "markdown",
   "id": "0b9b124b-6533-4787-a8f4-36501cd5c02a",
   "metadata": {
    "tags": []
   },
   "source": [
    "## 2. Serie i ramki danych (Series and Data Frames)"
   ]
  },
  {
   "cell_type": "markdown",
   "id": "53f531cb-5f39-47df-bca1-d984186b217d",
   "metadata": {},
   "source": [
    "### krojenie ramek danych (slicing)"
   ]
  },
  {
   "cell_type": "markdown",
   "id": "9c69edff-99c1-4a46-bc7b-e4c7c1f4e5d8",
   "metadata": {},
   "source": [
    "## 3. Indeksowanie"
   ]
  },
  {
   "cell_type": "markdown",
   "id": "77e4773e-1759-47a1-b2b6-ee0ef70caeb5",
   "metadata": {},
   "source": [
    "### Zadanie 2: indeksy i nazwy kolumn"
   ]
  },
  {
   "cell_type": "markdown",
   "id": "b4dfe8b0-766b-406d-a474-885d0e05a34b",
   "metadata": {},
   "source": [
    "W ramce danych items dodaj nazwy kolumn i zmień indeks na movie_id. Zmień indeks w ramce danych users na user_id"
   ]
  },
  {
   "cell_type": "markdown",
   "id": "df4e6591-6dfd-493c-8d55-8d991c28470d",
   "metadata": {},
   "source": [
    "### Indeksy hierarchiczne (zagnieżdżone)"
   ]
  },
  {
   "cell_type": "markdown",
   "id": "9d0a8119-5924-42ef-a0f0-a2f361570d74",
   "metadata": {},
   "source": [
    "## 4. Typy danych"
   ]
  },
  {
   "cell_type": "markdown",
   "id": "10b59b52-e2ee-4240-83f3-ff15e431a11e",
   "metadata": {},
   "source": [
    "https://pbpython.com/pandas_dtypes.html"
   ]
  },
  {
   "cell_type": "markdown",
   "id": "4b2e9c75-3eed-4372-a608-dbfbe74916c3",
   "metadata": {},
   "source": [
    "## 5. Filtrowanie"
   ]
  },
  {
   "cell_type": "markdown",
   "id": "8229fbbe-68f9-499d-b576-5aec93637624",
   "metadata": {},
   "source": [
    "Porównania > < >= <="
   ]
  },
  {
   "cell_type": "markdown",
   "id": "3f441384-51e0-4880-b439-7a6a251fc6c0",
   "metadata": {},
   "source": [
    "Kilka wartości zmiennej jakościowej"
   ]
  },
  {
   "cell_type": "markdown",
   "id": "84e2f1bc-c146-4beb-830b-a4da9469649c",
   "metadata": {},
   "source": [
    "### Operacje na obiektach typu string"
   ]
  },
  {
   "cell_type": "markdown",
   "id": "11bcaec2-e65e-437c-8af5-78840473c224",
   "metadata": {},
   "source": [
    "regular expressions"
   ]
  },
  {
   "cell_type": "markdown",
   "id": "610e58d3-e183-4a49-809f-c15ac4d45335",
   "metadata": {},
   "source": [
    "### Zadanie 3: filtrowanie"
   ]
  },
  {
   "cell_type": "markdown",
   "id": "7e27fde6-0d43-4235-8bfb-9bb57f760f47",
   "metadata": {},
   "source": [
    "Sprawdź, ile części Ojca Chrzestnego jest w zbiorze danych."
   ]
  },
  {
   "cell_type": "markdown",
   "id": "0a3bf6cd-e39e-4b47-98d6-b602692391cd",
   "metadata": {},
   "source": [
    "## 7. Zmiana kolumn i wierszy"
   ]
  },
  {
   "cell_type": "markdown",
   "id": "e72e977a-c23d-4066-8758-441e54aecd1d",
   "metadata": {},
   "source": [
    "### Zadanie 4: zmiana kolumn"
   ]
  },
  {
   "cell_type": "markdown",
   "id": "07938d94-83a7-4549-9e79-bb63eb0a146e",
   "metadata": {},
   "source": [
    "Dla danych users, zmiennej gender zamień skróty literowe na słowa: \n",
    "    F na Female, M na Male"
   ]
  },
  {
   "cell_type": "markdown",
   "id": "89c7a4f5-f402-431d-92f0-e7b25d4278de",
   "metadata": {},
   "source": [
    "## 9. Dodawanie/usuwanie wierszy i kolumn"
   ]
  },
  {
   "cell_type": "markdown",
   "id": "9fa6cd23-fc30-43f1-9272-e64eaedc17bc",
   "metadata": {},
   "source": [
    "### Zadanie 5: dodawanie/usuwanie wierszy"
   ]
  },
  {
   "cell_type": "markdown",
   "id": "74bc2425-be15-4170-aa10-4650cfbf95ea",
   "metadata": {},
   "source": [
    "Do ramki danych items dodaj kolumnę year, w której będzie rok wydania filmu typu integer. \n",
    "Jeżeli kolumna video_release_date zawiera same braki danych, usuń ją."
   ]
  },
  {
   "cell_type": "markdown",
   "id": "761b1a71-2473-49f2-9870-4059a148d48f",
   "metadata": {},
   "source": [
    "## 10. Sortowanie"
   ]
  },
  {
   "cell_type": "markdown",
   "id": "0778b94d-1741-41e3-9423-9b1b6a9d9db4",
   "metadata": {},
   "source": [
    "### Zadanie 6: sortowanie"
   ]
  },
  {
   "cell_type": "markdown",
   "id": "0c31f302-c440-48e5-8e43-fe2af20b7dee",
   "metadata": {},
   "source": [
    "Znajdź 20 najmłodszych użytkowników w ramce danych users."
   ]
  },
  {
   "cell_type": "markdown",
   "id": "d4dfeab7-5709-4c5b-837e-6e6b5553b029",
   "metadata": {},
   "source": [
    "## 11. Grupowanie i agregacja"
   ]
  },
  {
   "cell_type": "markdown",
   "id": "cd219777-0413-4dbb-a462-8ac4ac5be964",
   "metadata": {},
   "source": [
    "agregacja"
   ]
  },
  {
   "cell_type": "markdown",
   "id": "157e37bc-017b-4124-9b76-3c05e3828422",
   "metadata": {},
   "source": [
    "grupowanie"
   ]
  },
  {
   "cell_type": "markdown",
   "id": "abee9609-ddfe-4753-ad09-b11837afdad6",
   "metadata": {},
   "source": [
    "splitting (dzielenie na grupy wedug zadanego kryterium)\n",
    "\n",
    "applying (użycie fcji do każdej z grup niezależnie)\n",
    "\n",
    "combining (łączenie wyników)"
   ]
  },
  {
   "cell_type": "markdown",
   "id": "5314e839-7f56-4f88-9300-60c2a92c0f47",
   "metadata": {},
   "source": [
    "### Zadanie 7"
   ]
  },
  {
   "cell_type": "markdown",
   "id": "7266a2de-da28-48fe-91d8-55b95523b289",
   "metadata": {},
   "source": [
    "Policz:\n",
    "\n",
    "    - jaka jest łączna liczba filmów w danych?\n",
    "    \n",
    "    - jakie gatunki filmowe są w zbiorze najczęstsze?\n",
    "    \n",
    "    - jaki jest wiek osób w zalezności od płci - policz medianę i średnią\n",
    "    \n",
    "    - jaki jest rozkład średnich ocen w zbiorze - znajdź średnią, odchylenie standardowe, kwartyle, maximum i minimum\n",
    "   "
   ]
  },
  {
   "cell_type": "markdown",
   "id": "e263b755-03cb-417f-b970-58d7d33709ca",
   "metadata": {},
   "source": [
    "merge"
   ]
  },
  {
   "cell_type": "markdown",
   "id": "449443ef-c897-4059-904d-48b131a9f5fc",
   "metadata": {},
   "source": [
    "https://towardsdatascience.com/3-key-differences-between-merge-and-concat-functions-of-pandas-ab2bab224b59"
   ]
  },
  {
   "cell_type": "markdown",
   "id": "a46ef180-6ad8-47b1-8e4e-65fa6f991f4f",
   "metadata": {},
   "source": [
    "### Zadanie 8: najlepszy film często oceniany"
   ]
  },
  {
   "cell_type": "markdown",
   "id": "94d06510-f155-4bec-b868-0b856f94ccfd",
   "metadata": {
    "tags": []
   },
   "source": [
    "Znajdź najlepiej oceniany film pośród filmów ocenianych co najmniej 100 razy."
   ]
  },
  {
   "cell_type": "markdown",
   "id": "2bf46b00-7438-4054-aab5-0c0e09c559e9",
   "metadata": {},
   "source": [
    "### Zadanie 9"
   ]
  },
  {
   "cell_type": "markdown",
   "id": "d867e3f1-db44-4c67-b1f3-5e0fcfeae9a2",
   "metadata": {},
   "source": [
    "Kobiety czy mężczyźni oceniają częściej/wyżej? Jaki rozkład częstości ocen jest w grupach wiekowych?"
   ]
  },
  {
   "cell_type": "markdown",
   "id": "77570af2-13ed-4891-a563-f6cffaaedf97",
   "metadata": {},
   "source": [
    "## 12. Dane dotyczące daty i godziny"
   ]
  },
  {
   "cell_type": "markdown",
   "id": "a62a9e10-6729-475c-a954-35f563ae9833",
   "metadata": {},
   "source": [
    "## 13. Obsługa dużych danych - dzielenie na kawałki"
   ]
  },
  {
   "cell_type": "code",
   "execution_count": null,
   "id": "79ad4c9e-53f6-411f-89e7-891fe49d4844",
   "metadata": {},
   "outputs": [],
   "source": []
  }
 ],
 "metadata": {
  "kernelspec": {
   "display_name": "Python 3 (ipykernel)",
   "language": "python",
   "name": "python3"
  },
  "language_info": {
   "codemirror_mode": {
    "name": "ipython",
    "version": 3
   },
   "file_extension": ".py",
   "mimetype": "text/x-python",
   "name": "python",
   "nbconvert_exporter": "python",
   "pygments_lexer": "ipython3",
   "version": "3.10.9"
  }
 },
 "nbformat": 4,
 "nbformat_minor": 5
}
