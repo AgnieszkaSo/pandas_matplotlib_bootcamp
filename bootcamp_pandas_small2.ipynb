{
 "cells": [
  {
   "cell_type": "markdown",
   "id": "17851df0-5bb4-4eb3-8b8d-9c5a82934436",
   "metadata": {},
   "source": [
    "# Wczytanie bibliotek"
   ]
  },
  {
   "cell_type": "code",
   "execution_count": 1,
   "id": "fb93dc3b-835d-4aeb-9302-512f1c48f5bf",
   "metadata": {
    "tags": []
   },
   "outputs": [],
   "source": [
    "import pandas as pd\n",
    "import numpy as np"
   ]
  },
  {
   "cell_type": "markdown",
   "id": "b898b9b7-a2d9-4384-a90d-b51011727ed0",
   "metadata": {},
   "source": [
    "## 2. Serie i ramki danych (Series and Data Frames)"
   ]
  },
  {
   "cell_type": "markdown",
   "id": "07147124-12cb-4b34-b969-21fce3431899",
   "metadata": {},
   "source": [
    "### Serie"
   ]
  },
  {
   "cell_type": "markdown",
   "id": "8578aade-8b3b-4195-a02b-b876124e673d",
   "metadata": {},
   "source": [
    "Seria - jednowymiarowa tablica przechowująca konkretny jeden typ danych (integers, strings, floating point numbers, Python objects).\n",
    "Etykiety elementów nazywane są indeksem (index)."
   ]
  },
  {
   "cell_type": "markdown",
   "id": "67b61ccf-2856-4338-b629-d305b07b75d7",
   "metadata": {},
   "source": [
    "Serie są bardzo podobne do ndarray, fcje numpy na nich działają."
   ]
  },
  {
   "cell_type": "markdown",
   "id": "460d743e-0bf1-419a-bedf-b560e246208a",
   "metadata": {},
   "source": [
    "Tworzenie serii z tabeli numpy ndarray"
   ]
  },
  {
   "cell_type": "code",
   "execution_count": 2,
   "id": "f0cb3245-5f7d-4b74-ad31-542cc9ebbf90",
   "metadata": {
    "tags": []
   },
   "outputs": [],
   "source": [
    "s = pd.Series(np.random.randn(5), index = [\"a\", \"b\", \"c\", \"d\", \"e\"])"
   ]
  },
  {
   "cell_type": "code",
   "execution_count": 3,
   "id": "e99d1ca6-79ca-4879-80bd-952a960eea07",
   "metadata": {
    "tags": []
   },
   "outputs": [
    {
     "data": {
      "text/plain": [
       "a    0.086076\n",
       "b    0.050558\n",
       "c   -0.369284\n",
       "d   -0.508609\n",
       "e    0.827123\n",
       "dtype: float64"
      ]
     },
     "execution_count": 3,
     "metadata": {},
     "output_type": "execute_result"
    }
   ],
   "source": [
    "s"
   ]
  },
  {
   "cell_type": "code",
   "execution_count": 4,
   "id": "1c9c7936-f734-492b-b7d7-8e1d2a4ce059",
   "metadata": {
    "tags": []
   },
   "outputs": [
    {
     "data": {
      "text/plain": [
       "Index(['a', 'b', 'c', 'd', 'e'], dtype='object')"
      ]
     },
     "execution_count": 4,
     "metadata": {},
     "output_type": "execute_result"
    }
   ],
   "source": [
    "s.index"
   ]
  },
  {
   "cell_type": "code",
   "execution_count": 5,
   "id": "a0dd7895-e120-4a73-9f96-467fa80bce28",
   "metadata": {
    "tags": []
   },
   "outputs": [
    {
     "data": {
      "text/plain": [
       "0    0.608813\n",
       "1    1.617106\n",
       "2   -2.408194\n",
       "3    1.429673\n",
       "4   -1.285901\n",
       "dtype: float64"
      ]
     },
     "execution_count": 5,
     "metadata": {},
     "output_type": "execute_result"
    }
   ],
   "source": [
    "pd.Series(np.random.randn(5))"
   ]
  },
  {
   "cell_type": "code",
   "execution_count": 6,
   "id": "ea3937f3-26cf-4453-8349-6699883206a5",
   "metadata": {
    "tags": []
   },
   "outputs": [
    {
     "data": {
      "text/plain": [
       "array([ 0.0860759 ,  0.0505575 , -0.36928391, -0.50860919,  0.82712272])"
      ]
     },
     "execution_count": 6,
     "metadata": {},
     "output_type": "execute_result"
    }
   ],
   "source": [
    "s.to_numpy()"
   ]
  },
  {
   "cell_type": "markdown",
   "id": "50b3e516-4665-41ba-8b3a-24bf0f4f94eb",
   "metadata": {},
   "source": [
    "Serie ze słownika"
   ]
  },
  {
   "cell_type": "code",
   "execution_count": 7,
   "id": "fa947080-8dbf-474f-89ff-0f8bd80c5d4e",
   "metadata": {
    "tags": []
   },
   "outputs": [],
   "source": [
    "d = {\"b\": 1, \"a\": 0, \"c\": 2}"
   ]
  },
  {
   "cell_type": "code",
   "execution_count": 8,
   "id": "42e8b62b-da03-4133-9299-dd1f3f420ff1",
   "metadata": {
    "tags": []
   },
   "outputs": [
    {
     "data": {
      "text/plain": [
       "b    1\n",
       "a    0\n",
       "c    2\n",
       "dtype: int64"
      ]
     },
     "execution_count": 8,
     "metadata": {},
     "output_type": "execute_result"
    }
   ],
   "source": [
    "pd.Series(d)"
   ]
  },
  {
   "cell_type": "code",
   "execution_count": 9,
   "id": "ff78f9cc-0a8c-4fd6-aaee-3c9a08c8b845",
   "metadata": {
    "tags": []
   },
   "outputs": [
    {
     "data": {
      "text/plain": [
       "b    1.0\n",
       "c    2.0\n",
       "d    NaN\n",
       "a    0.0\n",
       "dtype: float64"
      ]
     },
     "execution_count": 9,
     "metadata": {},
     "output_type": "execute_result"
    }
   ],
   "source": [
    "pd.Series(d, index = [\"b\", \"c\", \"d\", \"a\"])"
   ]
  },
  {
   "cell_type": "code",
   "execution_count": 10,
   "id": "80a69e04-3adf-46d9-a0a4-06011f2fe076",
   "metadata": {
    "tags": []
   },
   "outputs": [
    {
     "data": {
      "text/plain": [
       "float"
      ]
     },
     "execution_count": 10,
     "metadata": {},
     "output_type": "execute_result"
    }
   ],
   "source": [
    "type(np.nan)"
   ]
  },
  {
   "cell_type": "code",
   "execution_count": 11,
   "id": "88497588-a808-4e3c-8700-3dab7afb8f71",
   "metadata": {
    "tags": []
   },
   "outputs": [
    {
     "data": {
      "text/plain": [
       "0.05055750487742177"
      ]
     },
     "execution_count": 11,
     "metadata": {},
     "output_type": "execute_result"
    }
   ],
   "source": [
    "s[\"b\"]"
   ]
  },
  {
   "cell_type": "code",
   "execution_count": 12,
   "id": "496d5ad3-1179-46ad-959e-674d90fbbe27",
   "metadata": {
    "tags": []
   },
   "outputs": [],
   "source": [
    "s[\"a\"] = 5"
   ]
  },
  {
   "cell_type": "code",
   "execution_count": 13,
   "id": "20aa1455-9cd4-4838-bb4b-863f5171f5de",
   "metadata": {
    "tags": []
   },
   "outputs": [
    {
     "data": {
      "text/plain": [
       "a    5.000000\n",
       "b    0.050558\n",
       "c   -0.369284\n",
       "d   -0.508609\n",
       "e    0.827123\n",
       "dtype: float64"
      ]
     },
     "execution_count": 13,
     "metadata": {},
     "output_type": "execute_result"
    }
   ],
   "source": [
    "s"
   ]
  },
  {
   "cell_type": "markdown",
   "id": "1abd5931-5953-4e04-865d-012b08999f65",
   "metadata": {},
   "source": [
    "### Ramki danych (Data Frames)"
   ]
  },
  {
   "cell_type": "markdown",
   "id": "3858ef4b-38bd-4842-aca1-89160f853b3c",
   "metadata": {},
   "source": [
    "Ramka Danych (Data Frame) - dwuwymiarowa tablica danych z indeksem, w której kolumny mogą być różnych \n",
    "typów. Można myśleć o niej jak o tabeli SQL albo słowniku zawierającym serie danych."
   ]
  },
  {
   "cell_type": "code",
   "execution_count": 14,
   "id": "2fc7ecb6-ccf5-4189-806d-e493ae9bdd00",
   "metadata": {
    "tags": []
   },
   "outputs": [],
   "source": [
    "osoby = {\n",
    "    \"imię\": [\"Agnieszka\", \"Jan\", \"Anna\"],\n",
    "    \"nazwisko\": [\"Sołtys\", \"Nowak\", \"Nowak\"],\n",
    "    \"email\": [\"agnieszka.sołtys@email.com\", \"jan.nowak@gmail.com\", \"anna.nowak@email.com\"]\n",
    "}"
   ]
  },
  {
   "cell_type": "code",
   "execution_count": 15,
   "id": "eb2c0d50-3da5-41ce-9e94-1a4f633a89b7",
   "metadata": {
    "tags": []
   },
   "outputs": [],
   "source": [
    "df = pd.DataFrame(osoby)"
   ]
  },
  {
   "cell_type": "code",
   "execution_count": 16,
   "id": "2501c499-611a-449c-a7b4-746221edac46",
   "metadata": {
    "tags": []
   },
   "outputs": [
    {
     "data": {
      "text/html": [
       "<div>\n",
       "<style scoped>\n",
       "    .dataframe tbody tr th:only-of-type {\n",
       "        vertical-align: middle;\n",
       "    }\n",
       "\n",
       "    .dataframe tbody tr th {\n",
       "        vertical-align: top;\n",
       "    }\n",
       "\n",
       "    .dataframe thead th {\n",
       "        text-align: right;\n",
       "    }\n",
       "</style>\n",
       "<table border=\"1\" class=\"dataframe\">\n",
       "  <thead>\n",
       "    <tr style=\"text-align: right;\">\n",
       "      <th></th>\n",
       "      <th>imię</th>\n",
       "      <th>nazwisko</th>\n",
       "      <th>email</th>\n",
       "    </tr>\n",
       "  </thead>\n",
       "  <tbody>\n",
       "    <tr>\n",
       "      <th>0</th>\n",
       "      <td>Agnieszka</td>\n",
       "      <td>Sołtys</td>\n",
       "      <td>agnieszka.sołtys@email.com</td>\n",
       "    </tr>\n",
       "    <tr>\n",
       "      <th>1</th>\n",
       "      <td>Jan</td>\n",
       "      <td>Nowak</td>\n",
       "      <td>jan.nowak@gmail.com</td>\n",
       "    </tr>\n",
       "    <tr>\n",
       "      <th>2</th>\n",
       "      <td>Anna</td>\n",
       "      <td>Nowak</td>\n",
       "      <td>anna.nowak@email.com</td>\n",
       "    </tr>\n",
       "  </tbody>\n",
       "</table>\n",
       "</div>"
      ],
      "text/plain": [
       "        imię nazwisko                       email\n",
       "0  Agnieszka   Sołtys  agnieszka.sołtys@email.com\n",
       "1        Jan    Nowak         jan.nowak@gmail.com\n",
       "2       Anna    Nowak        anna.nowak@email.com"
      ]
     },
     "execution_count": 16,
     "metadata": {},
     "output_type": "execute_result"
    }
   ],
   "source": [
    "df"
   ]
  },
  {
   "cell_type": "markdown",
   "id": "66aa5833-6f97-4ec5-b2fa-ac4d3dbdae15",
   "metadata": {},
   "source": [
    "### Wybór kolumn"
   ]
  },
  {
   "cell_type": "code",
   "execution_count": 17,
   "id": "6725f9ea-f062-475c-a4af-6fe4df801578",
   "metadata": {
    "tags": []
   },
   "outputs": [
    {
     "data": {
      "text/plain": [
       "0    agnieszka.sołtys@email.com\n",
       "1           jan.nowak@gmail.com\n",
       "2          anna.nowak@email.com\n",
       "Name: email, dtype: object"
      ]
     },
     "execution_count": 17,
     "metadata": {},
     "output_type": "execute_result"
    }
   ],
   "source": [
    "df[\"email\"]"
   ]
  },
  {
   "cell_type": "code",
   "execution_count": 18,
   "id": "53beeb12-fa0d-47f2-9b5a-4a6eba1efdbe",
   "metadata": {
    "tags": []
   },
   "outputs": [
    {
     "data": {
      "text/plain": [
       "pandas.core.series.Series"
      ]
     },
     "execution_count": 18,
     "metadata": {},
     "output_type": "execute_result"
    }
   ],
   "source": [
    "type(df[\"email\"])"
   ]
  },
  {
   "cell_type": "code",
   "execution_count": 19,
   "id": "491017dd-1f80-45fe-a97a-7627c1c9a9a2",
   "metadata": {
    "tags": []
   },
   "outputs": [
    {
     "data": {
      "text/plain": [
       "0    agnieszka.sołtys@email.com\n",
       "1           jan.nowak@gmail.com\n",
       "2          anna.nowak@email.com\n",
       "Name: email, dtype: object"
      ]
     },
     "execution_count": 19,
     "metadata": {},
     "output_type": "execute_result"
    }
   ],
   "source": [
    "df.email"
   ]
  },
  {
   "cell_type": "markdown",
   "id": "f4cc2503-7276-458c-bb55-29e31fb83707",
   "metadata": {},
   "source": [
    "wiele kolumn"
   ]
  },
  {
   "cell_type": "code",
   "execution_count": 20,
   "id": "2647a180-8646-4ecf-b0f0-efaa3a97d064",
   "metadata": {
    "tags": []
   },
   "outputs": [
    {
     "data": {
      "text/html": [
       "<div>\n",
       "<style scoped>\n",
       "    .dataframe tbody tr th:only-of-type {\n",
       "        vertical-align: middle;\n",
       "    }\n",
       "\n",
       "    .dataframe tbody tr th {\n",
       "        vertical-align: top;\n",
       "    }\n",
       "\n",
       "    .dataframe thead th {\n",
       "        text-align: right;\n",
       "    }\n",
       "</style>\n",
       "<table border=\"1\" class=\"dataframe\">\n",
       "  <thead>\n",
       "    <tr style=\"text-align: right;\">\n",
       "      <th></th>\n",
       "      <th>imię</th>\n",
       "      <th>email</th>\n",
       "    </tr>\n",
       "  </thead>\n",
       "  <tbody>\n",
       "    <tr>\n",
       "      <th>0</th>\n",
       "      <td>Agnieszka</td>\n",
       "      <td>agnieszka.sołtys@email.com</td>\n",
       "    </tr>\n",
       "    <tr>\n",
       "      <th>1</th>\n",
       "      <td>Jan</td>\n",
       "      <td>jan.nowak@gmail.com</td>\n",
       "    </tr>\n",
       "    <tr>\n",
       "      <th>2</th>\n",
       "      <td>Anna</td>\n",
       "      <td>anna.nowak@email.com</td>\n",
       "    </tr>\n",
       "  </tbody>\n",
       "</table>\n",
       "</div>"
      ],
      "text/plain": [
       "        imię                       email\n",
       "0  Agnieszka  agnieszka.sołtys@email.com\n",
       "1        Jan         jan.nowak@gmail.com\n",
       "2       Anna        anna.nowak@email.com"
      ]
     },
     "execution_count": 20,
     "metadata": {},
     "output_type": "execute_result"
    }
   ],
   "source": [
    "df[[\"imię\", \"email\"]] # indeksowanie listą"
   ]
  },
  {
   "cell_type": "code",
   "execution_count": 21,
   "id": "e0c79938-f609-43bc-b1ab-d959a3f19839",
   "metadata": {
    "tags": []
   },
   "outputs": [
    {
     "data": {
      "text/plain": [
       "Index(['imię', 'nazwisko', 'email'], dtype='object')"
      ]
     },
     "execution_count": 21,
     "metadata": {},
     "output_type": "execute_result"
    }
   ],
   "source": [
    "df.columns"
   ]
  },
  {
   "cell_type": "markdown",
   "id": "5961853f-1ff3-40eb-ba90-1cc255cf035a",
   "metadata": {},
   "source": [
    "### Wybór wierszy (loc, iloc)"
   ]
  },
  {
   "cell_type": "markdown",
   "id": "744be908-adbc-460c-9d91-98a7d3e55747",
   "metadata": {},
   "source": [
    "iloc - integer locator"
   ]
  },
  {
   "cell_type": "code",
   "execution_count": 22,
   "id": "c7776fa7-66ea-4ecf-882c-81880cb540ac",
   "metadata": {
    "tags": []
   },
   "outputs": [
    {
     "data": {
      "text/plain": [
       "imię                         Agnieszka\n",
       "nazwisko                        Sołtys\n",
       "email       agnieszka.sołtys@email.com\n",
       "Name: 0, dtype: object"
      ]
     },
     "execution_count": 22,
     "metadata": {},
     "output_type": "execute_result"
    }
   ],
   "source": [
    "df.iloc[0]"
   ]
  },
  {
   "cell_type": "markdown",
   "id": "5725736f-c2b2-42bf-82d2-1420ee52899c",
   "metadata": {},
   "source": [
    "wiele wierszy"
   ]
  },
  {
   "cell_type": "code",
   "execution_count": 23,
   "id": "54c25745-f384-4024-b3c1-58597ca64084",
   "metadata": {
    "tags": []
   },
   "outputs": [
    {
     "data": {
      "text/html": [
       "<div>\n",
       "<style scoped>\n",
       "    .dataframe tbody tr th:only-of-type {\n",
       "        vertical-align: middle;\n",
       "    }\n",
       "\n",
       "    .dataframe tbody tr th {\n",
       "        vertical-align: top;\n",
       "    }\n",
       "\n",
       "    .dataframe thead th {\n",
       "        text-align: right;\n",
       "    }\n",
       "</style>\n",
       "<table border=\"1\" class=\"dataframe\">\n",
       "  <thead>\n",
       "    <tr style=\"text-align: right;\">\n",
       "      <th></th>\n",
       "      <th>imię</th>\n",
       "      <th>nazwisko</th>\n",
       "      <th>email</th>\n",
       "    </tr>\n",
       "  </thead>\n",
       "  <tbody>\n",
       "    <tr>\n",
       "      <th>0</th>\n",
       "      <td>Agnieszka</td>\n",
       "      <td>Sołtys</td>\n",
       "      <td>agnieszka.sołtys@email.com</td>\n",
       "    </tr>\n",
       "    <tr>\n",
       "      <th>1</th>\n",
       "      <td>Jan</td>\n",
       "      <td>Nowak</td>\n",
       "      <td>jan.nowak@gmail.com</td>\n",
       "    </tr>\n",
       "  </tbody>\n",
       "</table>\n",
       "</div>"
      ],
      "text/plain": [
       "        imię nazwisko                       email\n",
       "0  Agnieszka   Sołtys  agnieszka.sołtys@email.com\n",
       "1        Jan    Nowak         jan.nowak@gmail.com"
      ]
     },
     "execution_count": 23,
     "metadata": {},
     "output_type": "execute_result"
    }
   ],
   "source": [
    "df.iloc[[0,1]]"
   ]
  },
  {
   "cell_type": "code",
   "execution_count": 26,
   "id": "5b07e2cd-802a-4fdc-8c59-f77017f81a7b",
   "metadata": {
    "tags": []
   },
   "outputs": [
    {
     "data": {
      "text/plain": [
       "0    agnieszka.sołtys@email.com\n",
       "1           jan.nowak@gmail.com\n",
       "Name: email, dtype: object"
      ]
     },
     "execution_count": 26,
     "metadata": {},
     "output_type": "execute_result"
    }
   ],
   "source": [
    "df.iloc[[0,1], 2] # nie nazwy, tylko numery - integer locator"
   ]
  },
  {
   "cell_type": "code",
   "execution_count": 25,
   "id": "289d8adf-e80f-4157-b4e1-4136a78d22f9",
   "metadata": {
    "tags": []
   },
   "outputs": [
    {
     "data": {
      "text/html": [
       "<div>\n",
       "<style scoped>\n",
       "    .dataframe tbody tr th:only-of-type {\n",
       "        vertical-align: middle;\n",
       "    }\n",
       "\n",
       "    .dataframe tbody tr th {\n",
       "        vertical-align: top;\n",
       "    }\n",
       "\n",
       "    .dataframe thead th {\n",
       "        text-align: right;\n",
       "    }\n",
       "</style>\n",
       "<table border=\"1\" class=\"dataframe\">\n",
       "  <thead>\n",
       "    <tr style=\"text-align: right;\">\n",
       "      <th></th>\n",
       "      <th>imię</th>\n",
       "      <th>nazwisko</th>\n",
       "      <th>email</th>\n",
       "    </tr>\n",
       "  </thead>\n",
       "  <tbody>\n",
       "    <tr>\n",
       "      <th>0</th>\n",
       "      <td>Agnieszka</td>\n",
       "      <td>Sołtys</td>\n",
       "      <td>agnieszka.sołtys@email.com</td>\n",
       "    </tr>\n",
       "    <tr>\n",
       "      <th>1</th>\n",
       "      <td>Jan</td>\n",
       "      <td>Nowak</td>\n",
       "      <td>jan.nowak@gmail.com</td>\n",
       "    </tr>\n",
       "    <tr>\n",
       "      <th>2</th>\n",
       "      <td>Anna</td>\n",
       "      <td>Nowak</td>\n",
       "      <td>anna.nowak@email.com</td>\n",
       "    </tr>\n",
       "  </tbody>\n",
       "</table>\n",
       "</div>"
      ],
      "text/plain": [
       "        imię nazwisko                       email\n",
       "0  Agnieszka   Sołtys  agnieszka.sołtys@email.com\n",
       "1        Jan    Nowak         jan.nowak@gmail.com\n",
       "2       Anna    Nowak        anna.nowak@email.com"
      ]
     },
     "execution_count": 25,
     "metadata": {},
     "output_type": "execute_result"
    }
   ],
   "source": [
    "df"
   ]
  },
  {
   "cell_type": "markdown",
   "id": "9ac35e14-5ef0-4561-94a2-b6481f951488",
   "metadata": {},
   "source": [
    "loc "
   ]
  },
  {
   "cell_type": "code",
   "execution_count": 29,
   "id": "fce48cc8-8c49-4e53-8926-25b273c1be23",
   "metadata": {
    "tags": []
   },
   "outputs": [
    {
     "data": {
      "text/plain": [
       "'Sołtys'"
      ]
     },
     "execution_count": 29,
     "metadata": {},
     "output_type": "execute_result"
    }
   ],
   "source": [
    "df.loc[0, \"nazwisko\"] # odwoływanie po nazwach!"
   ]
  },
  {
   "cell_type": "code",
   "execution_count": 30,
   "id": "c5879674-a2b6-4a6e-8fb2-498f786774d1",
   "metadata": {
    "tags": []
   },
   "outputs": [
    {
     "data": {
      "text/html": [
       "<div>\n",
       "<style scoped>\n",
       "    .dataframe tbody tr th:only-of-type {\n",
       "        vertical-align: middle;\n",
       "    }\n",
       "\n",
       "    .dataframe tbody tr th {\n",
       "        vertical-align: top;\n",
       "    }\n",
       "\n",
       "    .dataframe thead th {\n",
       "        text-align: right;\n",
       "    }\n",
       "</style>\n",
       "<table border=\"1\" class=\"dataframe\">\n",
       "  <thead>\n",
       "    <tr style=\"text-align: right;\">\n",
       "      <th></th>\n",
       "      <th>email</th>\n",
       "      <th>imię</th>\n",
       "    </tr>\n",
       "  </thead>\n",
       "  <tbody>\n",
       "    <tr>\n",
       "      <th>0</th>\n",
       "      <td>agnieszka.sołtys@email.com</td>\n",
       "      <td>Agnieszka</td>\n",
       "    </tr>\n",
       "    <tr>\n",
       "      <th>1</th>\n",
       "      <td>jan.nowak@gmail.com</td>\n",
       "      <td>Jan</td>\n",
       "    </tr>\n",
       "  </tbody>\n",
       "</table>\n",
       "</div>"
      ],
      "text/plain": [
       "                        email       imię\n",
       "0  agnieszka.sołtys@email.com  Agnieszka\n",
       "1         jan.nowak@gmail.com        Jan"
      ]
     },
     "execution_count": 30,
     "metadata": {},
     "output_type": "execute_result"
    }
   ],
   "source": [
    "df.loc[[0,1], [\"email\", \"imię\"]]"
   ]
  },
  {
   "cell_type": "markdown",
   "id": "a0eeb3ef-1efe-4430-94bc-13fcad3b9a4c",
   "metadata": {},
   "source": [
    "## 3. Indeksowanie"
   ]
  },
  {
   "cell_type": "markdown",
   "id": "afa85005-839d-4eed-ac3b-8e79bc913ab7",
   "metadata": {},
   "source": [
    "Domyślnie liczby 0,1,2,... Czasem sensowny jest jakiś inny indeks, np. adres email (numer PESEL), w PANDAS \n",
    "nie musi on być unikalny."
   ]
  },
  {
   "cell_type": "code",
   "execution_count": 31,
   "id": "fc6a69fa-0d2d-494d-b7cd-12991f05aa9d",
   "metadata": {
    "tags": []
   },
   "outputs": [
    {
     "data": {
      "text/html": [
       "<div>\n",
       "<style scoped>\n",
       "    .dataframe tbody tr th:only-of-type {\n",
       "        vertical-align: middle;\n",
       "    }\n",
       "\n",
       "    .dataframe tbody tr th {\n",
       "        vertical-align: top;\n",
       "    }\n",
       "\n",
       "    .dataframe thead th {\n",
       "        text-align: right;\n",
       "    }\n",
       "</style>\n",
       "<table border=\"1\" class=\"dataframe\">\n",
       "  <thead>\n",
       "    <tr style=\"text-align: right;\">\n",
       "      <th></th>\n",
       "      <th>imię</th>\n",
       "      <th>nazwisko</th>\n",
       "      <th>email</th>\n",
       "    </tr>\n",
       "  </thead>\n",
       "  <tbody>\n",
       "    <tr>\n",
       "      <th>0</th>\n",
       "      <td>Agnieszka</td>\n",
       "      <td>Sołtys</td>\n",
       "      <td>agnieszka.sołtys@email.com</td>\n",
       "    </tr>\n",
       "    <tr>\n",
       "      <th>1</th>\n",
       "      <td>Jan</td>\n",
       "      <td>Nowak</td>\n",
       "      <td>jan.nowak@gmail.com</td>\n",
       "    </tr>\n",
       "    <tr>\n",
       "      <th>2</th>\n",
       "      <td>Anna</td>\n",
       "      <td>Nowak</td>\n",
       "      <td>anna.nowak@email.com</td>\n",
       "    </tr>\n",
       "  </tbody>\n",
       "</table>\n",
       "</div>"
      ],
      "text/plain": [
       "        imię nazwisko                       email\n",
       "0  Agnieszka   Sołtys  agnieszka.sołtys@email.com\n",
       "1        Jan    Nowak         jan.nowak@gmail.com\n",
       "2       Anna    Nowak        anna.nowak@email.com"
      ]
     },
     "execution_count": 31,
     "metadata": {},
     "output_type": "execute_result"
    }
   ],
   "source": [
    "df"
   ]
  },
  {
   "cell_type": "code",
   "execution_count": 32,
   "id": "2467d80b-a103-48a4-8222-0accd01c76ab",
   "metadata": {
    "tags": []
   },
   "outputs": [
    {
     "data": {
      "text/html": [
       "<div>\n",
       "<style scoped>\n",
       "    .dataframe tbody tr th:only-of-type {\n",
       "        vertical-align: middle;\n",
       "    }\n",
       "\n",
       "    .dataframe tbody tr th {\n",
       "        vertical-align: top;\n",
       "    }\n",
       "\n",
       "    .dataframe thead th {\n",
       "        text-align: right;\n",
       "    }\n",
       "</style>\n",
       "<table border=\"1\" class=\"dataframe\">\n",
       "  <thead>\n",
       "    <tr style=\"text-align: right;\">\n",
       "      <th></th>\n",
       "      <th>imię</th>\n",
       "      <th>nazwisko</th>\n",
       "    </tr>\n",
       "    <tr>\n",
       "      <th>email</th>\n",
       "      <th></th>\n",
       "      <th></th>\n",
       "    </tr>\n",
       "  </thead>\n",
       "  <tbody>\n",
       "    <tr>\n",
       "      <th>agnieszka.sołtys@email.com</th>\n",
       "      <td>Agnieszka</td>\n",
       "      <td>Sołtys</td>\n",
       "    </tr>\n",
       "    <tr>\n",
       "      <th>jan.nowak@gmail.com</th>\n",
       "      <td>Jan</td>\n",
       "      <td>Nowak</td>\n",
       "    </tr>\n",
       "    <tr>\n",
       "      <th>anna.nowak@email.com</th>\n",
       "      <td>Anna</td>\n",
       "      <td>Nowak</td>\n",
       "    </tr>\n",
       "  </tbody>\n",
       "</table>\n",
       "</div>"
      ],
      "text/plain": [
       "                                 imię nazwisko\n",
       "email                                         \n",
       "agnieszka.sołtys@email.com  Agnieszka   Sołtys\n",
       "jan.nowak@gmail.com               Jan    Nowak\n",
       "anna.nowak@email.com             Anna    Nowak"
      ]
     },
     "execution_count": 32,
     "metadata": {},
     "output_type": "execute_result"
    }
   ],
   "source": [
    "df.set_index(\"email\")"
   ]
  },
  {
   "cell_type": "code",
   "execution_count": 33,
   "id": "7f327da2-bb53-4b36-b09a-8603223f0b1b",
   "metadata": {
    "tags": []
   },
   "outputs": [
    {
     "data": {
      "text/html": [
       "<div>\n",
       "<style scoped>\n",
       "    .dataframe tbody tr th:only-of-type {\n",
       "        vertical-align: middle;\n",
       "    }\n",
       "\n",
       "    .dataframe tbody tr th {\n",
       "        vertical-align: top;\n",
       "    }\n",
       "\n",
       "    .dataframe thead th {\n",
       "        text-align: right;\n",
       "    }\n",
       "</style>\n",
       "<table border=\"1\" class=\"dataframe\">\n",
       "  <thead>\n",
       "    <tr style=\"text-align: right;\">\n",
       "      <th></th>\n",
       "      <th>imię</th>\n",
       "      <th>nazwisko</th>\n",
       "      <th>email</th>\n",
       "    </tr>\n",
       "  </thead>\n",
       "  <tbody>\n",
       "    <tr>\n",
       "      <th>0</th>\n",
       "      <td>Agnieszka</td>\n",
       "      <td>Sołtys</td>\n",
       "      <td>agnieszka.sołtys@email.com</td>\n",
       "    </tr>\n",
       "    <tr>\n",
       "      <th>1</th>\n",
       "      <td>Jan</td>\n",
       "      <td>Nowak</td>\n",
       "      <td>jan.nowak@gmail.com</td>\n",
       "    </tr>\n",
       "    <tr>\n",
       "      <th>2</th>\n",
       "      <td>Anna</td>\n",
       "      <td>Nowak</td>\n",
       "      <td>anna.nowak@email.com</td>\n",
       "    </tr>\n",
       "  </tbody>\n",
       "</table>\n",
       "</div>"
      ],
      "text/plain": [
       "        imię nazwisko                       email\n",
       "0  Agnieszka   Sołtys  agnieszka.sołtys@email.com\n",
       "1        Jan    Nowak         jan.nowak@gmail.com\n",
       "2       Anna    Nowak        anna.nowak@email.com"
      ]
     },
     "execution_count": 33,
     "metadata": {},
     "output_type": "execute_result"
    }
   ],
   "source": [
    "df"
   ]
  },
  {
   "cell_type": "code",
   "execution_count": 34,
   "id": "43cbd3a5-aefa-4f09-999e-d17bbc918a54",
   "metadata": {
    "tags": []
   },
   "outputs": [],
   "source": [
    "df.set_index(\"email\", inplace = True)"
   ]
  },
  {
   "cell_type": "code",
   "execution_count": 35,
   "id": "49534a3a-c211-414d-ab3c-bb5510722893",
   "metadata": {
    "tags": []
   },
   "outputs": [
    {
     "data": {
      "text/html": [
       "<div>\n",
       "<style scoped>\n",
       "    .dataframe tbody tr th:only-of-type {\n",
       "        vertical-align: middle;\n",
       "    }\n",
       "\n",
       "    .dataframe tbody tr th {\n",
       "        vertical-align: top;\n",
       "    }\n",
       "\n",
       "    .dataframe thead th {\n",
       "        text-align: right;\n",
       "    }\n",
       "</style>\n",
       "<table border=\"1\" class=\"dataframe\">\n",
       "  <thead>\n",
       "    <tr style=\"text-align: right;\">\n",
       "      <th></th>\n",
       "      <th>imię</th>\n",
       "      <th>nazwisko</th>\n",
       "    </tr>\n",
       "    <tr>\n",
       "      <th>email</th>\n",
       "      <th></th>\n",
       "      <th></th>\n",
       "    </tr>\n",
       "  </thead>\n",
       "  <tbody>\n",
       "    <tr>\n",
       "      <th>agnieszka.sołtys@email.com</th>\n",
       "      <td>Agnieszka</td>\n",
       "      <td>Sołtys</td>\n",
       "    </tr>\n",
       "    <tr>\n",
       "      <th>jan.nowak@gmail.com</th>\n",
       "      <td>Jan</td>\n",
       "      <td>Nowak</td>\n",
       "    </tr>\n",
       "    <tr>\n",
       "      <th>anna.nowak@email.com</th>\n",
       "      <td>Anna</td>\n",
       "      <td>Nowak</td>\n",
       "    </tr>\n",
       "  </tbody>\n",
       "</table>\n",
       "</div>"
      ],
      "text/plain": [
       "                                 imię nazwisko\n",
       "email                                         \n",
       "agnieszka.sołtys@email.com  Agnieszka   Sołtys\n",
       "jan.nowak@gmail.com               Jan    Nowak\n",
       "anna.nowak@email.com             Anna    Nowak"
      ]
     },
     "execution_count": 35,
     "metadata": {},
     "output_type": "execute_result"
    }
   ],
   "source": [
    "df"
   ]
  },
  {
   "cell_type": "code",
   "execution_count": 36,
   "id": "ae406f66-60d9-40d5-9e5d-10b66d10840f",
   "metadata": {
    "tags": []
   },
   "outputs": [
    {
     "data": {
      "text/plain": [
       "Index(['agnieszka.sołtys@email.com', 'jan.nowak@gmail.com',\n",
       "       'anna.nowak@email.com'],\n",
       "      dtype='object', name='email')"
      ]
     },
     "execution_count": 36,
     "metadata": {},
     "output_type": "execute_result"
    }
   ],
   "source": [
    "df.index"
   ]
  },
  {
   "cell_type": "code",
   "execution_count": 37,
   "id": "d9bf11c0-fc08-43d0-b96e-72413a0f91f6",
   "metadata": {
    "tags": []
   },
   "outputs": [
    {
     "data": {
      "text/plain": [
       "imię          Jan\n",
       "nazwisko    Nowak\n",
       "Name: jan.nowak@gmail.com, dtype: object"
      ]
     },
     "execution_count": 37,
     "metadata": {},
     "output_type": "execute_result"
    }
   ],
   "source": [
    "df.loc[\"jan.nowak@gmail.com\"]"
   ]
  },
  {
   "cell_type": "code",
   "execution_count": 39,
   "id": "4c366b97-6564-44ed-8632-b000a32215f7",
   "metadata": {
    "tags": []
   },
   "outputs": [
    {
     "data": {
      "text/plain": [
       "imię        Agnieszka\n",
       "nazwisko       Sołtys\n",
       "Name: agnieszka.sołtys@email.com, dtype: object"
      ]
     },
     "execution_count": 39,
     "metadata": {},
     "output_type": "execute_result"
    }
   ],
   "source": [
    "df.iloc[0]"
   ]
  },
  {
   "cell_type": "code",
   "execution_count": 40,
   "id": "cb472090-6dd2-4123-83cc-2d4b0acb0520",
   "metadata": {
    "tags": []
   },
   "outputs": [],
   "source": [
    "df.reset_index(inplace = True)"
   ]
  },
  {
   "cell_type": "code",
   "execution_count": 41,
   "id": "62ae94ce-d58a-4474-8ef4-c82c01f78de5",
   "metadata": {
    "tags": []
   },
   "outputs": [
    {
     "data": {
      "text/html": [
       "<div>\n",
       "<style scoped>\n",
       "    .dataframe tbody tr th:only-of-type {\n",
       "        vertical-align: middle;\n",
       "    }\n",
       "\n",
       "    .dataframe tbody tr th {\n",
       "        vertical-align: top;\n",
       "    }\n",
       "\n",
       "    .dataframe thead th {\n",
       "        text-align: right;\n",
       "    }\n",
       "</style>\n",
       "<table border=\"1\" class=\"dataframe\">\n",
       "  <thead>\n",
       "    <tr style=\"text-align: right;\">\n",
       "      <th></th>\n",
       "      <th>email</th>\n",
       "      <th>imię</th>\n",
       "      <th>nazwisko</th>\n",
       "    </tr>\n",
       "  </thead>\n",
       "  <tbody>\n",
       "    <tr>\n",
       "      <th>0</th>\n",
       "      <td>agnieszka.sołtys@email.com</td>\n",
       "      <td>Agnieszka</td>\n",
       "      <td>Sołtys</td>\n",
       "    </tr>\n",
       "    <tr>\n",
       "      <th>1</th>\n",
       "      <td>jan.nowak@gmail.com</td>\n",
       "      <td>Jan</td>\n",
       "      <td>Nowak</td>\n",
       "    </tr>\n",
       "    <tr>\n",
       "      <th>2</th>\n",
       "      <td>anna.nowak@email.com</td>\n",
       "      <td>Anna</td>\n",
       "      <td>Nowak</td>\n",
       "    </tr>\n",
       "  </tbody>\n",
       "</table>\n",
       "</div>"
      ],
      "text/plain": [
       "                        email       imię nazwisko\n",
       "0  agnieszka.sołtys@email.com  Agnieszka   Sołtys\n",
       "1         jan.nowak@gmail.com        Jan    Nowak\n",
       "2        anna.nowak@email.com       Anna    Nowak"
      ]
     },
     "execution_count": 41,
     "metadata": {},
     "output_type": "execute_result"
    }
   ],
   "source": [
    "df"
   ]
  },
  {
   "cell_type": "markdown",
   "id": "907fd574-a3a4-4014-b0d5-d5cf1b92570e",
   "metadata": {},
   "source": [
    "### Indeksy hierarchiczne (zagnieżdżone)"
   ]
  },
  {
   "cell_type": "code",
   "execution_count": 42,
   "id": "d7f966a8-1ebb-4782-967c-0c1f7a61c98a",
   "metadata": {
    "tags": []
   },
   "outputs": [],
   "source": [
    "iterables = [[\"bar\", \"baz\", \"foo\", \"qux\"], [\"one\", \"two\"]]"
   ]
  },
  {
   "cell_type": "code",
   "execution_count": 43,
   "id": "1dfd7c58-4eb0-4664-bfba-fde8458030e5",
   "metadata": {
    "tags": []
   },
   "outputs": [],
   "source": [
    "index = pd.MultiIndex.from_product(iterables, names = [\"first\", \"second\"])"
   ]
  },
  {
   "cell_type": "code",
   "execution_count": 44,
   "id": "0f2ba825-b6aa-4fa2-b7a8-f9c2b340deb2",
   "metadata": {
    "tags": []
   },
   "outputs": [],
   "source": [
    "s = pd.Series(np.random.randn(8), index = index)"
   ]
  },
  {
   "cell_type": "code",
   "execution_count": 45,
   "id": "3348440f-00a8-4066-a087-8367af3c1ed6",
   "metadata": {
    "tags": []
   },
   "outputs": [
    {
     "data": {
      "text/plain": [
       "first  second\n",
       "bar    one      -0.405969\n",
       "       two       0.196577\n",
       "baz    one       1.182120\n",
       "       two       0.420792\n",
       "foo    one       0.922954\n",
       "       two      -1.842617\n",
       "qux    one       0.340414\n",
       "       two       0.207405\n",
       "dtype: float64"
      ]
     },
     "execution_count": 45,
     "metadata": {},
     "output_type": "execute_result"
    }
   ],
   "source": [
    "s"
   ]
  },
  {
   "cell_type": "code",
   "execution_count": 46,
   "id": "599bf039-7ee4-4bbe-9261-aa9729627d78",
   "metadata": {
    "tags": []
   },
   "outputs": [
    {
     "data": {
      "text/plain": [
       "-0.4059691020269081"
      ]
     },
     "execution_count": 46,
     "metadata": {},
     "output_type": "execute_result"
    }
   ],
   "source": [
    "s[\"bar\", \"one\"]"
   ]
  },
  {
   "cell_type": "code",
   "execution_count": 47,
   "id": "8ae8da14-2f27-495f-b175-e1af2c6124c5",
   "metadata": {
    "tags": []
   },
   "outputs": [
    {
     "data": {
      "text/plain": [
       "second\n",
       "one   -0.405969\n",
       "two    0.196577\n",
       "dtype: float64"
      ]
     },
     "execution_count": 47,
     "metadata": {},
     "output_type": "execute_result"
    }
   ],
   "source": [
    "s[\"bar\"]"
   ]
  },
  {
   "cell_type": "markdown",
   "id": "cb786f59-1476-41c3-a3a9-8e36d309e53d",
   "metadata": {},
   "source": [
    "## 5. Filtrowanie"
   ]
  },
  {
   "cell_type": "markdown",
   "id": "f37fcc56-e4ae-492f-8896-56f6c82bc3ae",
   "metadata": {},
   "source": [
    "### & , | i ~"
   ]
  },
  {
   "cell_type": "markdown",
   "id": "146756f5-da65-42de-b2e0-85310a1ca9a9",
   "metadata": {},
   "source": [
    "## 6. Dane jakościowe"
   ]
  },
  {
   "cell_type": "markdown",
   "id": "7ed04c0e-8ac1-4462-8920-49a8559eed29",
   "metadata": {},
   "source": [
    "zmienne jakościowe to zmienne niemierzalne: \n",
    "- nominalne, np. kolor oczu (niebieskie, zielone, brązowe),\n",
    "- porządkowe, np. wykształcenie (podstawowe, średnie, wyższe)"
   ]
  },
  {
   "cell_type": "markdown",
   "id": "d14d1a20-18ae-4fd4-abee-e8ce0202b787",
   "metadata": {},
   "source": [
    "## 7. Zmiana kolumn i wierszy"
   ]
  },
  {
   "cell_type": "markdown",
   "id": "a09a389f-e0fe-4bcf-8733-b09afe0cb77d",
   "metadata": {},
   "source": [
    "### zmiana nazw kolumn"
   ]
  },
  {
   "cell_type": "markdown",
   "id": "fa1a215f-b937-4f48-9a50-82c6b33daeee",
   "metadata": {},
   "source": [
    "### zmiana wierszy"
   ]
  },
  {
   "cell_type": "markdown",
   "id": "528bee01-319b-4e4a-976f-214bf139fa7d",
   "metadata": {},
   "source": [
    "### uwaga, tutaj potrzebne loc!"
   ]
  },
  {
   "cell_type": "markdown",
   "id": "cc89c5c1-6114-4bc7-a08e-6a9f9665d91b",
   "metadata": {},
   "source": [
    "### zmiana kolumn"
   ]
  },
  {
   "cell_type": "markdown",
   "id": "add3118e-7e0d-428d-bca7-e06304b51b68",
   "metadata": {},
   "source": [
    "### apply"
   ]
  },
  {
   "cell_type": "markdown",
   "id": "ffe49f35-a999-48e2-85c1-741a363290b5",
   "metadata": {},
   "source": [
    "### applymap - tylko dla ramek danych (Data Frames), użycie funkcji dla każdego elementu "
   ]
  },
  {
   "cell_type": "markdown",
   "id": "c0e67bed-ddf3-4265-b5e3-ed5dd5b8366a",
   "metadata": {},
   "source": [
    "### map - tylko dla serii, podstaw wartości, uwaga na NAN!"
   ]
  },
  {
   "cell_type": "markdown",
   "id": "d6eb26a8-fc70-4454-ad44-932e7930a9e9",
   "metadata": {},
   "source": [
    "### replace"
   ]
  },
  {
   "cell_type": "markdown",
   "id": "9184a5c4-8bb6-4063-a703-6c168dd0bf36",
   "metadata": {},
   "source": [
    "## 8. Obsługa obserwacji brakujących"
   ]
  },
  {
   "cell_type": "markdown",
   "id": "69318770-bfae-4702-b3b0-5154531e0a61",
   "metadata": {},
   "source": [
    "usuwanie braków danych"
   ]
  },
  {
   "cell_type": "code",
   "execution_count": 2,
   "id": "1dbf6e8e-4264-4726-b9c6-90a56081b301",
   "metadata": {
    "tags": []
   },
   "outputs": [],
   "source": [
    "osoby1 = {\n",
    "    'imię': ['Agnieszka', 'Jan', 'Anna', 'Janusz', np.nan, None, 'NA'],\n",
    "    'nazwisko': ['Sołtys', 'Kowalski', 'Kowalska', 'Nowak', np.nan, pd.NaT, 'Missing'],\n",
    "    'email': ['agnieszka.soltys@email.com', 'jan.kowalski@wp.pl', 'anna.kowalska@wp.pl', 'januszek@email.com', None, \"antek.nowak@gmail.com\", np.nan],\n",
    "    'age': ['25', '55', '63', '36', None, None, 'Missing']\n",
    "}"
   ]
  },
  {
   "cell_type": "markdown",
   "id": "2a01bb64-40e1-405e-b2b9-e89f04a5af0b",
   "metadata": {},
   "source": [
    "ujednolicenie braków"
   ]
  },
  {
   "cell_type": "markdown",
   "id": "b1f1f425-1769-4b93-b5c1-004c1bd733a3",
   "metadata": {},
   "source": [
    "wypełnianie braków"
   ]
  },
  {
   "cell_type": "markdown",
   "id": "88c734c6-ec2a-4eaa-9181-b2f5ddecd3c2",
   "metadata": {},
   "source": [
    "## 9. Dodawanie/usuwanie wierszy i kolumn"
   ]
  },
  {
   "cell_type": "markdown",
   "id": "3a52af3f-7e59-4ec9-a8fb-f7643b37cae2",
   "metadata": {},
   "source": [
    "podobne do zmiany wierszy i kolumn"
   ]
  },
  {
   "cell_type": "markdown",
   "id": "3ebfa8ef-1c1b-456c-a1ea-cda934d47535",
   "metadata": {},
   "source": [
    "dodawanie kolumn"
   ]
  },
  {
   "cell_type": "markdown",
   "id": "929130ec-c9d2-4b06-a0ef-f24274868b6a",
   "metadata": {},
   "source": [
    "usuwanie kolumn"
   ]
  },
  {
   "cell_type": "markdown",
   "id": "23ea7405-f083-4f77-bd35-8fab0e502c48",
   "metadata": {},
   "source": [
    "dodawanie wierszy"
   ]
  },
  {
   "cell_type": "markdown",
   "id": "87c7b7ed-7533-4da5-a637-19378f6012a2",
   "metadata": {},
   "source": [
    "usuwanie wierszy"
   ]
  },
  {
   "cell_type": "markdown",
   "id": "65e0286c-1b52-4bf8-be8f-ea1c11faa7a1",
   "metadata": {},
   "source": [
    "### 10. Sortowanie"
   ]
  },
  {
   "cell_type": "code",
   "execution_count": null,
   "id": "287f5678-591c-4860-a93f-3a61de4649f4",
   "metadata": {},
   "outputs": [],
   "source": []
  }
 ],
 "metadata": {
  "kernelspec": {
   "display_name": "Python 3 (ipykernel)",
   "language": "python",
   "name": "python3"
  },
  "language_info": {
   "codemirror_mode": {
    "name": "ipython",
    "version": 3
   },
   "file_extension": ".py",
   "mimetype": "text/x-python",
   "name": "python",
   "nbconvert_exporter": "python",
   "pygments_lexer": "ipython3",
   "version": "3.10.9"
  }
 },
 "nbformat": 4,
 "nbformat_minor": 5
}
