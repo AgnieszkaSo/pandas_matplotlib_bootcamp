{
 "cells": [
  {
   "cell_type": "markdown",
   "id": "0f57f463-f88f-47db-9943-2f08667b03fb",
   "metadata": {},
   "source": [
    "# Wczytanie bibliotek"
   ]
  },
  {
   "cell_type": "code",
   "execution_count": 1,
   "id": "83aedeca-65c6-4688-ac95-92e4750f058a",
   "metadata": {
    "tags": []
   },
   "outputs": [],
   "source": [
    "from matplotlib import pyplot as plt\n",
    "from matplotlib import dates as mpl_dates\n",
    "import numpy as np\n",
    "import pandas as pd\n",
    "import seaborn as sns\n",
    "%matplotlib inline"
   ]
  },
  {
   "cell_type": "markdown",
   "id": "15cb21fb-6d5e-4674-b92d-b36b37ce011e",
   "metadata": {},
   "source": [
    "# Matplotlib - plan"
   ]
  },
  {
   "cell_type": "markdown",
   "id": "1a84c2eb-d002-48fc-acd2-8a7ceb613c4c",
   "metadata": {},
   "source": [
    "1. Wykresy liniowe - line plots\n",
    "\n",
    "2. Wypełnianie pola pomiędzy liniami\n",
    "\n",
    "3. Wykresy słupkowe - bar charts\n",
    "\n",
    "4. Histogramy - histograms\n",
    "\n",
    "5. Wykresy pudełkowe - boxplots\n",
    "\n",
    "6. Wykresy rozrzutu - scatter plots\n",
    "\n",
    "7. Rysowanie danych dotyczących dat i godzin\n",
    "\n",
    "8. Stosy - Stack plots\n",
    "\n",
    "9. Wykresy kołowe - pie charts\n",
    "\n",
    "10. Kilka wykresów na jednym obrazku - subplots\n"
   ]
  },
  {
   "cell_type": "markdown",
   "id": "e80de03b-c104-45c1-a8ba-b98363b7af9b",
   "metadata": {},
   "source": [
    "## Zbiór danych movies_plot"
   ]
  },
  {
   "cell_type": "markdown",
   "id": "f31fd93d-d9ba-402d-b8bc-cbe879d0bba9",
   "metadata": {},
   "source": [
    "## Wykresy liniowe - line plots"
   ]
  },
  {
   "cell_type": "markdown",
   "id": "999c99ce-2fd7-419e-865c-7c59557756f5",
   "metadata": {},
   "source": [
    "https://matplotlib.org/stable/api/_as_gen/matplotlib.pyplot.plot.html"
   ]
  },
  {
   "cell_type": "markdown",
   "id": "55c57a39-bc1d-4578-ae48-e67e631a09db",
   "metadata": {},
   "source": [
    "Format strings fmt = '[marker][line][color]'"
   ]
  },
  {
   "cell_type": "markdown",
   "id": "d356be74-848f-4daf-9beb-56a360859c53",
   "metadata": {},
   "source": [
    "https://www.hipb2b.com/blog/what-the-hex-decoding-the-rgb-hex-and-cmyk-color-models"
   ]
  },
  {
   "cell_type": "markdown",
   "id": "bda45d0d-0fb2-4945-af53-8a1395699bc1",
   "metadata": {},
   "source": [
    "https://htmlcolorcodes.com/"
   ]
  },
  {
   "cell_type": "markdown",
   "id": "55a3274e-c10e-46dd-9def-fc7a304062f7",
   "metadata": {},
   "source": [
    "## Zadanie 1"
   ]
  },
  {
   "cell_type": "markdown",
   "id": "51f3ead4-97e9-4d5b-ad60-e85b5324f6c6",
   "metadata": {},
   "source": [
    "Dla danych x narysuj funkcje: f(x) = x, f(x) = x^2, f(x) = x^3. "
   ]
  },
  {
   "cell_type": "code",
   "execution_count": 2,
   "id": "44142054-d0f8-46dd-9db4-e138fde5780e",
   "metadata": {
    "tags": []
   },
   "outputs": [],
   "source": [
    "x = np. linspace(-1.5, 1.5, 100)"
   ]
  },
  {
   "cell_type": "markdown",
   "id": "90688e7e-8cac-4693-b571-29cef8c63a8e",
   "metadata": {},
   "source": [
    "## Wypełnianie pola pomiędzy liniami"
   ]
  },
  {
   "cell_type": "markdown",
   "id": "8b6344fa-38f5-4a36-ba61-0d16c927c1de",
   "metadata": {},
   "source": [
    "## Zadanie 2"
   ]
  },
  {
   "cell_type": "markdown",
   "id": "c9fb043e-b785-4b1e-a7f4-3e02337b5e72",
   "metadata": {},
   "source": [
    "Narysuj podobny wykres, tylko zamiast wypełnienia pomiędzy x^2 i 1, dodaj wypełnienie pomiędzy x^2 i x. "
   ]
  },
  {
   "cell_type": "markdown",
   "id": "0852bb3a-056c-45cb-8716-cfbf4aadd26e",
   "metadata": {},
   "source": [
    "## Zbiór danych Fish"
   ]
  },
  {
   "cell_type": "markdown",
   "id": "7b4dd08e-049b-48d9-82f6-822891a10a22",
   "metadata": {},
   "source": [
    "https://www.kaggle.com/datasets/aungpyaeap/fish-market?resource=download"
   ]
  },
  {
   "cell_type": "markdown",
   "id": "92921233-b44f-4b57-b777-e2e7e0542f72",
   "metadata": {},
   "source": [
    "## Wykresy słupkowe - bar charts"
   ]
  },
  {
   "cell_type": "markdown",
   "id": "dc4de108-2c3e-41b4-84d2-ebd62822ba5f",
   "metadata": {},
   "source": [
    "Dla każdego gatunku ryb przedstawimy średnie wartośći zmiennych numerycznych."
   ]
  },
  {
   "cell_type": "markdown",
   "id": "253a2624-c344-457f-87ce-7a8610bfa78e",
   "metadata": {},
   "source": [
    "## Zadanie 3"
   ]
  },
  {
   "cell_type": "markdown",
   "id": "b6661602-1ca1-4190-9d2c-97c38320cc75",
   "metadata": {},
   "source": [
    "Narysuj wykres słupkowy dla zmiennej Height w podziale na gatunki, oznacz liczby na wykresie."
   ]
  },
  {
   "cell_type": "markdown",
   "id": "1feb0ba6-fe48-4b29-a021-13682a1a8af9",
   "metadata": {},
   "source": [
    "## Histogramy - histograms"
   ]
  },
  {
   "cell_type": "markdown",
   "id": "5bad5edd-bb64-4c88-b4d9-ccb129512e84",
   "metadata": {},
   "source": [
    "wykres rozkładu zmiennej ciągłej"
   ]
  },
  {
   "cell_type": "markdown",
   "id": "911248ae-0d0e-412b-a60c-45b55473d629",
   "metadata": {},
   "source": [
    "## Zadanie 4"
   ]
  },
  {
   "cell_type": "markdown",
   "id": "e81060fa-26fd-49af-8a64-3f5b034ddddd",
   "metadata": {},
   "source": [
    "Dla zmiennej Weight ze zbioru Fish narysuj histogram."
   ]
  },
  {
   "cell_type": "markdown",
   "id": "e8a167e0-4a52-4175-bfe3-8a7bc86245a6",
   "metadata": {},
   "source": [
    "## Wykresy pudełkowe - boxplots"
   ]
  },
  {
   "cell_type": "markdown",
   "id": "da17398d-a55d-4589-a385-e5f85ac4e3ce",
   "metadata": {},
   "source": [
    "https://www.six-sigma-material.com/Box-Plot.html"
   ]
  },
  {
   "cell_type": "markdown",
   "id": "c9a7a863-4bb9-4495-999b-b6285e072817",
   "metadata": {},
   "source": [
    "## Zadanie 5"
   ]
  },
  {
   "cell_type": "markdown",
   "id": "967fe13a-a282-4a47-a30f-de15ceddcfab",
   "metadata": {},
   "source": [
    "Posortuj boxploty dla Weight według mediany. Żeby to zrobić, poziomy w zmiennej Species\n",
    "muszą być w kolejności rosnącej mediany."
   ]
  },
  {
   "cell_type": "markdown",
   "id": "af2b5fc1-88a7-4bf4-b23f-bdb69146e84d",
   "metadata": {},
   "source": [
    "## Wykresy rozrzutu - scatter plots"
   ]
  },
  {
   "cell_type": "markdown",
   "id": "a36b7159-586a-4e63-a352-d0a7456a2c7c",
   "metadata": {
    "tags": []
   },
   "source": [
    "zależności pomiędzy dwiema zmiennymi - czy skorelowane, czy trendy, czy obserwacje odstające"
   ]
  },
  {
   "cell_type": "markdown",
   "id": "02a76ad2-10ee-4563-8c68-89e05ec333f7",
   "metadata": {},
   "source": [
    "https://matplotlib.org/stable/tutorials/colors/colormaps.html"
   ]
  },
  {
   "cell_type": "markdown",
   "id": "47efbe22-243f-47ee-9ee4-b8923421f03b",
   "metadata": {},
   "source": [
    "## Zadanie 6"
   ]
  },
  {
   "cell_type": "markdown",
   "id": "b2354abd-1df6-43bf-9f86-8bae654e3ec0",
   "metadata": {},
   "source": [
    "Narysuj wykres rozrzutu dla zmiennych Length1 i Length2, pokoloruj punkty w zależności od gatunku ryby."
   ]
  },
  {
   "cell_type": "markdown",
   "id": "6d5f7c72-9b6c-40db-af66-2a038792cc9b",
   "metadata": {},
   "source": [
    "## Rysowanie danych dotyczących dat i godzin"
   ]
  },
  {
   "cell_type": "markdown",
   "id": "e3df6f4c-a158-4fe4-97ad-fa6ae1e1d046",
   "metadata": {},
   "source": [
    "## Stosy - Stack plots"
   ]
  },
  {
   "cell_type": "markdown",
   "id": "e938e0cb-26ab-4232-8771-2e014b02a6bd",
   "metadata": {},
   "source": [
    "Zmiana w czasie wielkości, którą można podzielić na kategorie, np. kolejnych minutach gry 3 graczy zdobywa punkty.\n",
    "Chcemy zaprezentowac na wykresie dynamikę przyrostu punktów i podział ich na graczy."
   ]
  },
  {
   "cell_type": "markdown",
   "id": "858e2113-6308-4463-b27a-73d84549c7c4",
   "metadata": {},
   "source": [
    "## Zadanie 7"
   ]
  },
  {
   "cell_type": "markdown",
   "id": "21d30e28-aed6-4e61-bea2-3a7c5cc9a302",
   "metadata": {},
   "source": [
    "Ciekawym przypadkiem jest wykres ze stałą sumą. Załóżmy, że jeden projekt wykonuje 3 deweloperów, a kontrakt\n",
    "jest podpisany na łączną sumę 8 roboczogodzin dziennie. Przedstaw udział deweloperów w projekcie."
   ]
  },
  {
   "cell_type": "markdown",
   "id": "09572206-c893-49a7-946f-ee931be75439",
   "metadata": {},
   "source": [
    "## Wykresy kołowe - pie charts"
   ]
  },
  {
   "cell_type": "markdown",
   "id": "52199e13-e357-4138-8951-e00780e5a63b",
   "metadata": {},
   "source": [
    "## Kilka wykresów na jednym obrazku - subplots"
   ]
  },
  {
   "cell_type": "markdown",
   "id": "c42386d7-b286-4464-9661-827a404f1994",
   "metadata": {},
   "source": [
    "składnia dla rysowania bardziej \"obiektowa\", kilka wykresów na jednym obrazku "
   ]
  },
  {
   "cell_type": "markdown",
   "id": "e4ec2ac5-bfac-4204-9726-f928549ee6ed",
   "metadata": {},
   "source": [
    "wcześniej  używaliśmy obiektu plt (pyplot) z matplotlib i na nim wykonywaliśmy polecenia, beż tworzenia go. \n",
    "Teraz stworzymy obiekty, na których będziemy rysować. Przy korzystaniu z plt mieliśmy jeden obrazek, czyli pojemnik na wykresy, obszar wyykresów (figure)\n",
    "i jeden wykres (axes). Teraz możemy stworzyć więcej. Korzystaliśmy wcześniej z plt.gcf() i plt.gca()"
   ]
  },
  {
   "cell_type": "markdown",
   "id": "606fc28f-1088-4b3d-b1f2-8326f16d2ce6",
   "metadata": {},
   "source": [
    "## Zadanie 8"
   ]
  },
  {
   "cell_type": "markdown",
   "id": "5557f340-184f-4dfa-9502-e4b2fb38b898",
   "metadata": {},
   "source": [
    "Dla różnych gatunków ryb narysuj histogramy dla Width jeden pod drugim. \n",
    "Narysuj jedną oś x dla wszystkich gatunków. Zaznacz pionową linią medianę z całej próby."
   ]
  },
  {
   "cell_type": "code",
   "execution_count": null,
   "id": "5d7508ba-1c06-4c5d-98f7-ffc9a63ff42d",
   "metadata": {},
   "outputs": [],
   "source": []
  }
 ],
 "metadata": {
  "kernelspec": {
   "display_name": "Python 3 (ipykernel)",
   "language": "python",
   "name": "python3"
  },
  "language_info": {
   "codemirror_mode": {
    "name": "ipython",
    "version": 3
   },
   "file_extension": ".py",
   "mimetype": "text/x-python",
   "name": "python",
   "nbconvert_exporter": "python",
   "pygments_lexer": "ipython3",
   "version": "3.10.9"
  }
 },
 "nbformat": 4,
 "nbformat_minor": 5
}
