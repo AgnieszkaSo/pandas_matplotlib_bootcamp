{
 "cells": [
  {
   "cell_type": "markdown",
   "id": "36ebf42b-83b0-4b96-9f33-fe038d0afb31",
   "metadata": {},
   "source": [
    "# Wczytanie bibliotek"
   ]
  },
  {
   "cell_type": "code",
   "execution_count": 1,
   "id": "8d5492ca-5cff-4d53-aa1d-c9cba3176b63",
   "metadata": {
    "tags": []
   },
   "outputs": [],
   "source": [
    "import pandas as pd\n",
    "import numpy as np"
   ]
  },
  {
   "cell_type": "markdown",
   "id": "5c50bbfe-5956-430b-b1af-0b495835055e",
   "metadata": {},
   "source": [
    "## 2. Serie i ramki danych (Series and Data Frames)"
   ]
  },
  {
   "cell_type": "markdown",
   "id": "a7fc8dc0-f5e3-42b8-9677-51a9d205b373",
   "metadata": {
    "tags": []
   },
   "source": [
    "### Serie"
   ]
  },
  {
   "cell_type": "markdown",
   "id": "337ad593-9046-459c-aa5f-31bb51adcb5b",
   "metadata": {},
   "source": [
    "Seria - jednowymiarowa tablica przechowująca konkretny jeden typ danych (integers, strings, floating point numbers, Python objects).\n",
    "Etykiety elementów nazywane są indeksem (index)."
   ]
  },
  {
   "cell_type": "markdown",
   "id": "0e086054-4d70-4b6c-b906-48153f243634",
   "metadata": {},
   "source": [
    "Serie są bardzo podobne do ndarray, fcje numpy na nich działają."
   ]
  },
  {
   "cell_type": "markdown",
   "id": "b39b6e03-51b2-4dac-89d6-4e87899c413e",
   "metadata": {},
   "source": [
    "Serie z tabeli numpy ndarray"
   ]
  },
  {
   "cell_type": "code",
   "execution_count": 2,
   "id": "ce049aa7-b97d-4267-8ec2-da90c5efeda6",
   "metadata": {
    "tags": []
   },
   "outputs": [],
   "source": [
    "s = pd.Series(np.random.randn(5), index=[\"a\", \"b\", \"c\", \"d\", \"e\"])"
   ]
  },
  {
   "cell_type": "code",
   "execution_count": 3,
   "id": "2c321aee-2996-448b-b551-95de275face2",
   "metadata": {
    "tags": []
   },
   "outputs": [
    {
     "data": {
      "text/plain": [
       "a   -0.012473\n",
       "b   -0.425707\n",
       "c   -0.246763\n",
       "d    0.483913\n",
       "e    1.672875\n",
       "dtype: float64"
      ]
     },
     "execution_count": 3,
     "metadata": {},
     "output_type": "execute_result"
    }
   ],
   "source": [
    "s"
   ]
  },
  {
   "cell_type": "code",
   "execution_count": 4,
   "id": "a9437f91-c893-4194-86cd-c63893934e71",
   "metadata": {
    "tags": []
   },
   "outputs": [
    {
     "data": {
      "text/plain": [
       "Index(['a', 'b', 'c', 'd', 'e'], dtype='object')"
      ]
     },
     "execution_count": 4,
     "metadata": {},
     "output_type": "execute_result"
    }
   ],
   "source": [
    "s.index"
   ]
  },
  {
   "cell_type": "code",
   "execution_count": 5,
   "id": "2ceec0a0-336f-4b3e-864f-fad1f09a5864",
   "metadata": {
    "tags": []
   },
   "outputs": [
    {
     "data": {
      "text/plain": [
       "0    0.901714\n",
       "1   -1.078345\n",
       "2   -0.038986\n",
       "3   -0.934455\n",
       "4   -0.896473\n",
       "dtype: float64"
      ]
     },
     "execution_count": 5,
     "metadata": {},
     "output_type": "execute_result"
    }
   ],
   "source": [
    "pd.Series(np.random.randn(5)) # domyślny indeks"
   ]
  },
  {
   "cell_type": "code",
   "execution_count": 6,
   "id": "40deab60-b67e-4be8-9f83-675479a9314f",
   "metadata": {
    "tags": []
   },
   "outputs": [
    {
     "data": {
      "text/plain": [
       "array([-0.01247294, -0.42570727, -0.24676285,  0.4839127 ,  1.67287527])"
      ]
     },
     "execution_count": 6,
     "metadata": {},
     "output_type": "execute_result"
    }
   ],
   "source": [
    "s.to_numpy()"
   ]
  },
  {
   "cell_type": "markdown",
   "id": "6738d491-fa9c-4f2b-b97a-007448d674dd",
   "metadata": {},
   "source": [
    "Serie ze słownika (dictionary)"
   ]
  },
  {
   "cell_type": "code",
   "execution_count": 7,
   "id": "3af12457-f0aa-403a-9aeb-792b3e339fe7",
   "metadata": {
    "tags": []
   },
   "outputs": [
    {
     "data": {
      "text/plain": [
       "b    1\n",
       "a    0\n",
       "c    2\n",
       "dtype: int64"
      ]
     },
     "execution_count": 7,
     "metadata": {},
     "output_type": "execute_result"
    }
   ],
   "source": [
    "d = {\"b\": 1, \"a\": 0, \"c\": 2}\n",
    "pd.Series(d)"
   ]
  },
  {
   "cell_type": "code",
   "execution_count": 8,
   "id": "9726eb06-09b4-4ec6-a470-e9a76c7b0fca",
   "metadata": {
    "tags": []
   },
   "outputs": [
    {
     "data": {
      "text/plain": [
       "b    1.0\n",
       "c    2.0\n",
       "d    NaN\n",
       "a    0.0\n",
       "dtype: float64"
      ]
     },
     "execution_count": 8,
     "metadata": {},
     "output_type": "execute_result"
    }
   ],
   "source": [
    "pd.Series(d, index=[\"b\", \"c\", \"d\", \"a\"])"
   ]
  },
  {
   "cell_type": "markdown",
   "id": "92e96db1-1f04-4063-a62d-10eeb0cb22c5",
   "metadata": {},
   "source": [
    "NaN - braki w danych (missing values) w pandas, NaN jest typem float, dlatego konwersja całego Series do float!"
   ]
  },
  {
   "cell_type": "code",
   "execution_count": 9,
   "id": "8cc2929e-a4d7-4372-88cb-509aa2f137c0",
   "metadata": {
    "tags": []
   },
   "outputs": [
    {
     "data": {
      "text/plain": [
       "float"
      ]
     },
     "execution_count": 9,
     "metadata": {},
     "output_type": "execute_result"
    }
   ],
   "source": [
    "type(np.nan)"
   ]
  },
  {
   "cell_type": "markdown",
   "id": "0f8e7f9d-26f2-4b17-b631-c200a2ec0c8a",
   "metadata": {},
   "source": [
    "Serie działają podobnie jak słowniki - do elementów można odwoływać się poprzez indeks"
   ]
  },
  {
   "cell_type": "code",
   "execution_count": 10,
   "id": "a99c92ec-5d7c-4efb-8b79-78bc3fe617e6",
   "metadata": {
    "tags": []
   },
   "outputs": [
    {
     "data": {
      "text/plain": [
       "-0.42570726564149214"
      ]
     },
     "execution_count": 10,
     "metadata": {},
     "output_type": "execute_result"
    }
   ],
   "source": [
    "s['b']"
   ]
  },
  {
   "cell_type": "code",
   "execution_count": 11,
   "id": "614ad92c-ce1c-4821-84c6-a9bdc623e544",
   "metadata": {
    "tags": []
   },
   "outputs": [],
   "source": [
    "s['a'] = 5"
   ]
  },
  {
   "cell_type": "code",
   "execution_count": 12,
   "id": "93dc3859-fac2-4c42-9ffd-1990ec29c9b6",
   "metadata": {
    "tags": []
   },
   "outputs": [
    {
     "data": {
      "text/plain": [
       "a    5.000000\n",
       "b   -0.425707\n",
       "c   -0.246763\n",
       "d    0.483913\n",
       "e    1.672875\n",
       "dtype: float64"
      ]
     },
     "execution_count": 12,
     "metadata": {},
     "output_type": "execute_result"
    }
   ],
   "source": [
    "s"
   ]
  },
  {
   "cell_type": "markdown",
   "id": "816b9d82-dbba-464c-94cb-3bac0405d9e4",
   "metadata": {},
   "source": [
    "### Ramki danych (Data Frames)"
   ]
  },
  {
   "cell_type": "markdown",
   "id": "fbacb74e-6c51-4e2f-bd73-cb473bfd2e6f",
   "metadata": {},
   "source": [
    "Ramka Danych (Data Frame) - dwuwymiarowa tablica danych z indeksem, w której kolumny mogą być różnych \n",
    "typów. Można myśleć o niej jak o tabeli SQL albo słowniku zawierającym serie danych."
   ]
  },
  {
   "cell_type": "code",
   "execution_count": 13,
   "id": "fdbfec3a-a098-48d2-8163-4b223a838739",
   "metadata": {
    "tags": []
   },
   "outputs": [],
   "source": [
    "osoby = {\n",
    "    \"imię\": [\"Agnieszka\", \"Jan\", \"Anna\"],\n",
    "    \"nazwisko\": [\"Sołtys\", \"Nowak\", \"Nowak\"],\n",
    "    \"email\": [\"agnieszka.sołtys@email.com\", \"jan.nowak@gmail.com\", \"anna.nowak@email.com\"]\n",
    "}"
   ]
  },
  {
   "cell_type": "code",
   "execution_count": 14,
   "id": "183c93cf-6b91-4d30-99e9-16008a3b1ba0",
   "metadata": {
    "tags": []
   },
   "outputs": [
    {
     "data": {
      "text/plain": [
       "{'imię': ['Agnieszka', 'Jan', 'Anna'],\n",
       " 'nazwisko': ['Sołtys', 'Nowak', 'Nowak'],\n",
       " 'email': ['agnieszka.sołtys@email.com',\n",
       "  'jan.nowak@gmail.com',\n",
       "  'anna.nowak@email.com']}"
      ]
     },
     "execution_count": 14,
     "metadata": {},
     "output_type": "execute_result"
    }
   ],
   "source": [
    "osoby # ramki danych podobne do słowników, ale mają dużo więcej funkcjonalności!"
   ]
  },
  {
   "cell_type": "code",
   "execution_count": 15,
   "id": "67847600-ad39-4048-a521-f92f608fcdbf",
   "metadata": {
    "tags": []
   },
   "outputs": [],
   "source": [
    "df = pd.DataFrame(osoby)"
   ]
  },
  {
   "cell_type": "code",
   "execution_count": 16,
   "id": "668b052c-168b-4937-aa46-dcc041282204",
   "metadata": {
    "tags": []
   },
   "outputs": [
    {
     "data": {
      "text/html": [
       "<div>\n",
       "<style scoped>\n",
       "    .dataframe tbody tr th:only-of-type {\n",
       "        vertical-align: middle;\n",
       "    }\n",
       "\n",
       "    .dataframe tbody tr th {\n",
       "        vertical-align: top;\n",
       "    }\n",
       "\n",
       "    .dataframe thead th {\n",
       "        text-align: right;\n",
       "    }\n",
       "</style>\n",
       "<table border=\"1\" class=\"dataframe\">\n",
       "  <thead>\n",
       "    <tr style=\"text-align: right;\">\n",
       "      <th></th>\n",
       "      <th>imię</th>\n",
       "      <th>nazwisko</th>\n",
       "      <th>email</th>\n",
       "    </tr>\n",
       "  </thead>\n",
       "  <tbody>\n",
       "    <tr>\n",
       "      <th>0</th>\n",
       "      <td>Agnieszka</td>\n",
       "      <td>Sołtys</td>\n",
       "      <td>agnieszka.sołtys@email.com</td>\n",
       "    </tr>\n",
       "    <tr>\n",
       "      <th>1</th>\n",
       "      <td>Jan</td>\n",
       "      <td>Nowak</td>\n",
       "      <td>jan.nowak@gmail.com</td>\n",
       "    </tr>\n",
       "    <tr>\n",
       "      <th>2</th>\n",
       "      <td>Anna</td>\n",
       "      <td>Nowak</td>\n",
       "      <td>anna.nowak@email.com</td>\n",
       "    </tr>\n",
       "  </tbody>\n",
       "</table>\n",
       "</div>"
      ],
      "text/plain": [
       "        imię nazwisko                       email\n",
       "0  Agnieszka   Sołtys  agnieszka.sołtys@email.com\n",
       "1        Jan    Nowak         jan.nowak@gmail.com\n",
       "2       Anna    Nowak        anna.nowak@email.com"
      ]
     },
     "execution_count": 16,
     "metadata": {},
     "output_type": "execute_result"
    }
   ],
   "source": [
    "df # indeksy 0, 1, 2"
   ]
  },
  {
   "cell_type": "markdown",
   "id": "9fff761a-5fb8-4839-8f35-25f6448db0e3",
   "metadata": {},
   "source": [
    "### Wybór kolumn"
   ]
  },
  {
   "cell_type": "markdown",
   "id": "792c502b-c98f-4a75-b21b-a548e4271f24",
   "metadata": {},
   "source": [
    "jedna kolumna"
   ]
  },
  {
   "cell_type": "code",
   "execution_count": 17,
   "id": "456dc9b5-acb5-4745-a92d-e726cb838833",
   "metadata": {
    "tags": []
   },
   "outputs": [
    {
     "data": {
      "text/plain": [
       "0    agnieszka.sołtys@email.com\n",
       "1           jan.nowak@gmail.com\n",
       "2          anna.nowak@email.com\n",
       "Name: email, dtype: object"
      ]
     },
     "execution_count": 17,
     "metadata": {},
     "output_type": "execute_result"
    }
   ],
   "source": [
    "df[\"email\"] # dtype object dla strings "
   ]
  },
  {
   "cell_type": "code",
   "execution_count": 18,
   "id": "55ba310b-bfe0-4999-8c22-aabcb534dacc",
   "metadata": {
    "tags": []
   },
   "outputs": [
    {
     "data": {
      "text/plain": [
       "pandas.core.series.Series"
      ]
     },
     "execution_count": 18,
     "metadata": {},
     "output_type": "execute_result"
    }
   ],
   "source": [
    "type(df[\"email\"])"
   ]
  },
  {
   "cell_type": "code",
   "execution_count": 19,
   "id": "12f7e1e3-d64f-4019-8cf5-d88e2bbad8fb",
   "metadata": {
    "tags": []
   },
   "outputs": [
    {
     "data": {
      "text/plain": [
       "0    agnieszka.sołtys@email.com\n",
       "1           jan.nowak@gmail.com\n",
       "2          anna.nowak@email.com\n",
       "Name: email, dtype: object"
      ]
     },
     "execution_count": 19,
     "metadata": {},
     "output_type": "execute_result"
    }
   ],
   "source": [
    "df.email # ale uwaga na spacje i atrybuty w Python!"
   ]
  },
  {
   "cell_type": "markdown",
   "id": "343201eb-c4db-48c7-ae78-5efc562ceafb",
   "metadata": {},
   "source": [
    "wiele kolumn"
   ]
  },
  {
   "cell_type": "code",
   "execution_count": 20,
   "id": "c687a5af-2a21-4cf7-b1c7-6a4de6ebbc5b",
   "metadata": {
    "tags": []
   },
   "outputs": [
    {
     "data": {
      "text/html": [
       "<div>\n",
       "<style scoped>\n",
       "    .dataframe tbody tr th:only-of-type {\n",
       "        vertical-align: middle;\n",
       "    }\n",
       "\n",
       "    .dataframe tbody tr th {\n",
       "        vertical-align: top;\n",
       "    }\n",
       "\n",
       "    .dataframe thead th {\n",
       "        text-align: right;\n",
       "    }\n",
       "</style>\n",
       "<table border=\"1\" class=\"dataframe\">\n",
       "  <thead>\n",
       "    <tr style=\"text-align: right;\">\n",
       "      <th></th>\n",
       "      <th>imię</th>\n",
       "      <th>email</th>\n",
       "    </tr>\n",
       "  </thead>\n",
       "  <tbody>\n",
       "    <tr>\n",
       "      <th>0</th>\n",
       "      <td>Agnieszka</td>\n",
       "      <td>agnieszka.sołtys@email.com</td>\n",
       "    </tr>\n",
       "    <tr>\n",
       "      <th>1</th>\n",
       "      <td>Jan</td>\n",
       "      <td>jan.nowak@gmail.com</td>\n",
       "    </tr>\n",
       "    <tr>\n",
       "      <th>2</th>\n",
       "      <td>Anna</td>\n",
       "      <td>anna.nowak@email.com</td>\n",
       "    </tr>\n",
       "  </tbody>\n",
       "</table>\n",
       "</div>"
      ],
      "text/plain": [
       "        imię                       email\n",
       "0  Agnieszka  agnieszka.sołtys@email.com\n",
       "1        Jan         jan.nowak@gmail.com\n",
       "2       Anna        anna.nowak@email.com"
      ]
     },
     "execution_count": 20,
     "metadata": {},
     "output_type": "execute_result"
    }
   ],
   "source": [
    "df[[\"imię\", \"email\"]] # indeksowanie listą, dostajemy mniejszą ramkę danych"
   ]
  },
  {
   "cell_type": "code",
   "execution_count": 21,
   "id": "14a2222f-1ec8-4447-8037-14a837cba378",
   "metadata": {
    "tags": []
   },
   "outputs": [
    {
     "data": {
      "text/plain": [
       "Index(['imię', 'nazwisko', 'email'], dtype='object')"
      ]
     },
     "execution_count": 21,
     "metadata": {},
     "output_type": "execute_result"
    }
   ],
   "source": [
    "df.columns # nazwy kolumn"
   ]
  },
  {
   "cell_type": "markdown",
   "id": "244c45a8-94c2-4c9f-ac3e-42189468e0d0",
   "metadata": {},
   "source": [
    "### Wybór wierszy (loc, iloc)"
   ]
  },
  {
   "cell_type": "markdown",
   "id": "f5498da6-7a24-4d5d-aa4a-6a9c01593624",
   "metadata": {},
   "source": [
    "iloc - integer location"
   ]
  },
  {
   "cell_type": "code",
   "execution_count": 22,
   "id": "bf432717-ad17-4d28-904d-1397b6f47f24",
   "metadata": {
    "tags": []
   },
   "outputs": [
    {
     "data": {
      "text/plain": [
       "imię                         Agnieszka\n",
       "nazwisko                        Sołtys\n",
       "email       agnieszka.sołtys@email.com\n",
       "Name: 0, dtype: object"
      ]
     },
     "execution_count": 22,
     "metadata": {},
     "output_type": "execute_result"
    }
   ],
   "source": [
    "df.iloc[0] # pierwszy wiersz"
   ]
  },
  {
   "cell_type": "markdown",
   "id": "929507d3-eac1-425d-9dfa-68d0245f3fd3",
   "metadata": {},
   "source": [
    "wiele wierszy"
   ]
  },
  {
   "cell_type": "code",
   "execution_count": 23,
   "id": "c7c48c32-2e0c-4a15-8df6-193ce0545f32",
   "metadata": {
    "tags": []
   },
   "outputs": [
    {
     "data": {
      "text/html": [
       "<div>\n",
       "<style scoped>\n",
       "    .dataframe tbody tr th:only-of-type {\n",
       "        vertical-align: middle;\n",
       "    }\n",
       "\n",
       "    .dataframe tbody tr th {\n",
       "        vertical-align: top;\n",
       "    }\n",
       "\n",
       "    .dataframe thead th {\n",
       "        text-align: right;\n",
       "    }\n",
       "</style>\n",
       "<table border=\"1\" class=\"dataframe\">\n",
       "  <thead>\n",
       "    <tr style=\"text-align: right;\">\n",
       "      <th></th>\n",
       "      <th>imię</th>\n",
       "      <th>nazwisko</th>\n",
       "      <th>email</th>\n",
       "    </tr>\n",
       "  </thead>\n",
       "  <tbody>\n",
       "    <tr>\n",
       "      <th>0</th>\n",
       "      <td>Agnieszka</td>\n",
       "      <td>Sołtys</td>\n",
       "      <td>agnieszka.sołtys@email.com</td>\n",
       "    </tr>\n",
       "    <tr>\n",
       "      <th>1</th>\n",
       "      <td>Jan</td>\n",
       "      <td>Nowak</td>\n",
       "      <td>jan.nowak@gmail.com</td>\n",
       "    </tr>\n",
       "  </tbody>\n",
       "</table>\n",
       "</div>"
      ],
      "text/plain": [
       "        imię nazwisko                       email\n",
       "0  Agnieszka   Sołtys  agnieszka.sołtys@email.com\n",
       "1        Jan    Nowak         jan.nowak@gmail.com"
      ]
     },
     "execution_count": 23,
     "metadata": {},
     "output_type": "execute_result"
    }
   ],
   "source": [
    "df.iloc[[0, 1]]"
   ]
  },
  {
   "cell_type": "code",
   "execution_count": 24,
   "id": "964769f2-9920-43a7-a8cc-4c04d276b1e9",
   "metadata": {
    "tags": []
   },
   "outputs": [
    {
     "data": {
      "text/plain": [
       "0    agnieszka.sołtys@email.com\n",
       "1           jan.nowak@gmail.com\n",
       "Name: email, dtype: object"
      ]
     },
     "execution_count": 24,
     "metadata": {},
     "output_type": "execute_result"
    }
   ],
   "source": [
    "df.iloc[[0, 1], 2] # nie nazwy, tylko integers! Tutaj indeksy to 0, 1, 2 ale jak np. a, b, to nie, tylko integers"
   ]
  },
  {
   "cell_type": "markdown",
   "id": "888050ec-e337-4daa-a6cf-37bdeade7c45",
   "metadata": {},
   "source": [
    "loc - wybór poprzez nazwę/indeks"
   ]
  },
  {
   "cell_type": "code",
   "execution_count": 25,
   "id": "88cb0cc0-c1e2-4409-a0fa-f9bdcbade2b0",
   "metadata": {
    "tags": []
   },
   "outputs": [
    {
     "data": {
      "text/plain": [
       "imię                         Agnieszka\n",
       "nazwisko                        Sołtys\n",
       "email       agnieszka.sołtys@email.com\n",
       "Name: 0, dtype: object"
      ]
     },
     "execution_count": 25,
     "metadata": {},
     "output_type": "execute_result"
    }
   ],
   "source": [
    "df.loc[0] # tutaj to samo, bo indeksy to 0,1,2"
   ]
  },
  {
   "cell_type": "code",
   "execution_count": 26,
   "id": "9018f267-b423-4a33-bfbf-c8fb0f1f331e",
   "metadata": {
    "tags": []
   },
   "outputs": [
    {
     "data": {
      "text/html": [
       "<div>\n",
       "<style scoped>\n",
       "    .dataframe tbody tr th:only-of-type {\n",
       "        vertical-align: middle;\n",
       "    }\n",
       "\n",
       "    .dataframe tbody tr th {\n",
       "        vertical-align: top;\n",
       "    }\n",
       "\n",
       "    .dataframe thead th {\n",
       "        text-align: right;\n",
       "    }\n",
       "</style>\n",
       "<table border=\"1\" class=\"dataframe\">\n",
       "  <thead>\n",
       "    <tr style=\"text-align: right;\">\n",
       "      <th></th>\n",
       "      <th>email</th>\n",
       "      <th>imię</th>\n",
       "    </tr>\n",
       "  </thead>\n",
       "  <tbody>\n",
       "    <tr>\n",
       "      <th>0</th>\n",
       "      <td>agnieszka.sołtys@email.com</td>\n",
       "      <td>Agnieszka</td>\n",
       "    </tr>\n",
       "    <tr>\n",
       "      <th>1</th>\n",
       "      <td>jan.nowak@gmail.com</td>\n",
       "      <td>Jan</td>\n",
       "    </tr>\n",
       "  </tbody>\n",
       "</table>\n",
       "</div>"
      ],
      "text/plain": [
       "                        email       imię\n",
       "0  agnieszka.sołtys@email.com  Agnieszka\n",
       "1         jan.nowak@gmail.com        Jan"
      ]
     },
     "execution_count": 26,
     "metadata": {},
     "output_type": "execute_result"
    }
   ],
   "source": [
    "df.loc[[0, 1], [\"email\", \"imię\"]]"
   ]
  },
  {
   "cell_type": "markdown",
   "id": "7264ea0f-dbd1-4920-9e9f-6c2357c52445",
   "metadata": {},
   "source": [
    "## 3. Indeksowanie"
   ]
  },
  {
   "cell_type": "markdown",
   "id": "00b3feb5-6764-48cc-8bb4-9da8a23de472",
   "metadata": {},
   "source": [
    "Domyślnie liczby 0,1,2,... Czasem sensowny jest jakiś inny indeks, np. adres email (numer PESEL), w PANDAS \n",
    "nie musi on być unikalny."
   ]
  },
  {
   "cell_type": "code",
   "execution_count": 27,
   "id": "5705430e-de0f-4f62-9994-a22703f08f19",
   "metadata": {
    "tags": []
   },
   "outputs": [
    {
     "data": {
      "text/html": [
       "<div>\n",
       "<style scoped>\n",
       "    .dataframe tbody tr th:only-of-type {\n",
       "        vertical-align: middle;\n",
       "    }\n",
       "\n",
       "    .dataframe tbody tr th {\n",
       "        vertical-align: top;\n",
       "    }\n",
       "\n",
       "    .dataframe thead th {\n",
       "        text-align: right;\n",
       "    }\n",
       "</style>\n",
       "<table border=\"1\" class=\"dataframe\">\n",
       "  <thead>\n",
       "    <tr style=\"text-align: right;\">\n",
       "      <th></th>\n",
       "      <th>imię</th>\n",
       "      <th>nazwisko</th>\n",
       "    </tr>\n",
       "    <tr>\n",
       "      <th>email</th>\n",
       "      <th></th>\n",
       "      <th></th>\n",
       "    </tr>\n",
       "  </thead>\n",
       "  <tbody>\n",
       "    <tr>\n",
       "      <th>agnieszka.sołtys@email.com</th>\n",
       "      <td>Agnieszka</td>\n",
       "      <td>Sołtys</td>\n",
       "    </tr>\n",
       "    <tr>\n",
       "      <th>jan.nowak@gmail.com</th>\n",
       "      <td>Jan</td>\n",
       "      <td>Nowak</td>\n",
       "    </tr>\n",
       "    <tr>\n",
       "      <th>anna.nowak@email.com</th>\n",
       "      <td>Anna</td>\n",
       "      <td>Nowak</td>\n",
       "    </tr>\n",
       "  </tbody>\n",
       "</table>\n",
       "</div>"
      ],
      "text/plain": [
       "                                 imię nazwisko\n",
       "email                                         \n",
       "agnieszka.sołtys@email.com  Agnieszka   Sołtys\n",
       "jan.nowak@gmail.com               Jan    Nowak\n",
       "anna.nowak@email.com             Anna    Nowak"
      ]
     },
     "execution_count": 27,
     "metadata": {},
     "output_type": "execute_result"
    }
   ],
   "source": [
    "df.set_index(\"email\")"
   ]
  },
  {
   "cell_type": "code",
   "execution_count": 28,
   "id": "2d969865-1e10-43dc-9deb-e699d4fb43fd",
   "metadata": {
    "tags": []
   },
   "outputs": [
    {
     "data": {
      "text/html": [
       "<div>\n",
       "<style scoped>\n",
       "    .dataframe tbody tr th:only-of-type {\n",
       "        vertical-align: middle;\n",
       "    }\n",
       "\n",
       "    .dataframe tbody tr th {\n",
       "        vertical-align: top;\n",
       "    }\n",
       "\n",
       "    .dataframe thead th {\n",
       "        text-align: right;\n",
       "    }\n",
       "</style>\n",
       "<table border=\"1\" class=\"dataframe\">\n",
       "  <thead>\n",
       "    <tr style=\"text-align: right;\">\n",
       "      <th></th>\n",
       "      <th>imię</th>\n",
       "      <th>nazwisko</th>\n",
       "      <th>email</th>\n",
       "    </tr>\n",
       "  </thead>\n",
       "  <tbody>\n",
       "    <tr>\n",
       "      <th>0</th>\n",
       "      <td>Agnieszka</td>\n",
       "      <td>Sołtys</td>\n",
       "      <td>agnieszka.sołtys@email.com</td>\n",
       "    </tr>\n",
       "    <tr>\n",
       "      <th>1</th>\n",
       "      <td>Jan</td>\n",
       "      <td>Nowak</td>\n",
       "      <td>jan.nowak@gmail.com</td>\n",
       "    </tr>\n",
       "    <tr>\n",
       "      <th>2</th>\n",
       "      <td>Anna</td>\n",
       "      <td>Nowak</td>\n",
       "      <td>anna.nowak@email.com</td>\n",
       "    </tr>\n",
       "  </tbody>\n",
       "</table>\n",
       "</div>"
      ],
      "text/plain": [
       "        imię nazwisko                       email\n",
       "0  Agnieszka   Sołtys  agnieszka.sołtys@email.com\n",
       "1        Jan    Nowak         jan.nowak@gmail.com\n",
       "2       Anna    Nowak        anna.nowak@email.com"
      ]
     },
     "execution_count": 28,
     "metadata": {},
     "output_type": "execute_result"
    }
   ],
   "source": [
    "df"
   ]
  },
  {
   "cell_type": "code",
   "execution_count": 29,
   "id": "3966a1f4-9a7a-4e7b-811c-8063f3e5d4d6",
   "metadata": {
    "tags": []
   },
   "outputs": [],
   "source": [
    "df.set_index(\"email\", inplace = True) # inplace = True!"
   ]
  },
  {
   "cell_type": "code",
   "execution_count": 30,
   "id": "e7240f12-772f-4515-847b-e7f65a58618c",
   "metadata": {
    "tags": []
   },
   "outputs": [
    {
     "data": {
      "text/html": [
       "<div>\n",
       "<style scoped>\n",
       "    .dataframe tbody tr th:only-of-type {\n",
       "        vertical-align: middle;\n",
       "    }\n",
       "\n",
       "    .dataframe tbody tr th {\n",
       "        vertical-align: top;\n",
       "    }\n",
       "\n",
       "    .dataframe thead th {\n",
       "        text-align: right;\n",
       "    }\n",
       "</style>\n",
       "<table border=\"1\" class=\"dataframe\">\n",
       "  <thead>\n",
       "    <tr style=\"text-align: right;\">\n",
       "      <th></th>\n",
       "      <th>imię</th>\n",
       "      <th>nazwisko</th>\n",
       "    </tr>\n",
       "    <tr>\n",
       "      <th>email</th>\n",
       "      <th></th>\n",
       "      <th></th>\n",
       "    </tr>\n",
       "  </thead>\n",
       "  <tbody>\n",
       "    <tr>\n",
       "      <th>agnieszka.sołtys@email.com</th>\n",
       "      <td>Agnieszka</td>\n",
       "      <td>Sołtys</td>\n",
       "    </tr>\n",
       "    <tr>\n",
       "      <th>jan.nowak@gmail.com</th>\n",
       "      <td>Jan</td>\n",
       "      <td>Nowak</td>\n",
       "    </tr>\n",
       "    <tr>\n",
       "      <th>anna.nowak@email.com</th>\n",
       "      <td>Anna</td>\n",
       "      <td>Nowak</td>\n",
       "    </tr>\n",
       "  </tbody>\n",
       "</table>\n",
       "</div>"
      ],
      "text/plain": [
       "                                 imię nazwisko\n",
       "email                                         \n",
       "agnieszka.sołtys@email.com  Agnieszka   Sołtys\n",
       "jan.nowak@gmail.com               Jan    Nowak\n",
       "anna.nowak@email.com             Anna    Nowak"
      ]
     },
     "execution_count": 30,
     "metadata": {},
     "output_type": "execute_result"
    }
   ],
   "source": [
    "df"
   ]
  },
  {
   "cell_type": "code",
   "execution_count": 31,
   "id": "93f452a4-5fa1-40d6-8619-e613dc9c12e1",
   "metadata": {
    "tags": []
   },
   "outputs": [
    {
     "data": {
      "text/plain": [
       "Index(['agnieszka.sołtys@email.com', 'jan.nowak@gmail.com',\n",
       "       'anna.nowak@email.com'],\n",
       "      dtype='object', name='email')"
      ]
     },
     "execution_count": 31,
     "metadata": {},
     "output_type": "execute_result"
    }
   ],
   "source": [
    "df.index # indeks ma nazwę"
   ]
  },
  {
   "cell_type": "code",
   "execution_count": 32,
   "id": "6649b36c-0d4c-461c-a3b3-99bfe98bb6d2",
   "metadata": {
    "tags": []
   },
   "outputs": [
    {
     "data": {
      "text/plain": [
       "'Jan'"
      ]
     },
     "execution_count": 32,
     "metadata": {},
     "output_type": "execute_result"
    }
   ],
   "source": [
    "df.loc[\"jan.nowak@gmail.com\", \"imię\"]"
   ]
  },
  {
   "cell_type": "code",
   "execution_count": 34,
   "id": "2ae68777-17fc-4e77-a580-2dec60f62302",
   "metadata": {
    "tags": []
   },
   "outputs": [],
   "source": [
    "# df.loc[0]"
   ]
  },
  {
   "cell_type": "code",
   "execution_count": 35,
   "id": "ad77b292-b2b9-4595-90c3-2bd66db8297a",
   "metadata": {
    "tags": []
   },
   "outputs": [
    {
     "data": {
      "text/plain": [
       "imię        Agnieszka\n",
       "nazwisko       Sołtys\n",
       "Name: agnieszka.sołtys@email.com, dtype: object"
      ]
     },
     "execution_count": 35,
     "metadata": {},
     "output_type": "execute_result"
    }
   ],
   "source": [
    "df.iloc[0]"
   ]
  },
  {
   "cell_type": "code",
   "execution_count": 36,
   "id": "f6f06165-aff1-4a4d-a382-522e075ce1f7",
   "metadata": {
    "tags": []
   },
   "outputs": [],
   "source": [
    "df.reset_index(inplace = True)"
   ]
  },
  {
   "cell_type": "code",
   "execution_count": 37,
   "id": "3327ddf5-3374-4a1c-a2e0-d62d82b10497",
   "metadata": {
    "tags": []
   },
   "outputs": [
    {
     "data": {
      "text/html": [
       "<div>\n",
       "<style scoped>\n",
       "    .dataframe tbody tr th:only-of-type {\n",
       "        vertical-align: middle;\n",
       "    }\n",
       "\n",
       "    .dataframe tbody tr th {\n",
       "        vertical-align: top;\n",
       "    }\n",
       "\n",
       "    .dataframe thead th {\n",
       "        text-align: right;\n",
       "    }\n",
       "</style>\n",
       "<table border=\"1\" class=\"dataframe\">\n",
       "  <thead>\n",
       "    <tr style=\"text-align: right;\">\n",
       "      <th></th>\n",
       "      <th>email</th>\n",
       "      <th>imię</th>\n",
       "      <th>nazwisko</th>\n",
       "    </tr>\n",
       "  </thead>\n",
       "  <tbody>\n",
       "    <tr>\n",
       "      <th>0</th>\n",
       "      <td>agnieszka.sołtys@email.com</td>\n",
       "      <td>Agnieszka</td>\n",
       "      <td>Sołtys</td>\n",
       "    </tr>\n",
       "    <tr>\n",
       "      <th>1</th>\n",
       "      <td>jan.nowak@gmail.com</td>\n",
       "      <td>Jan</td>\n",
       "      <td>Nowak</td>\n",
       "    </tr>\n",
       "    <tr>\n",
       "      <th>2</th>\n",
       "      <td>anna.nowak@email.com</td>\n",
       "      <td>Anna</td>\n",
       "      <td>Nowak</td>\n",
       "    </tr>\n",
       "  </tbody>\n",
       "</table>\n",
       "</div>"
      ],
      "text/plain": [
       "                        email       imię nazwisko\n",
       "0  agnieszka.sołtys@email.com  Agnieszka   Sołtys\n",
       "1         jan.nowak@gmail.com        Jan    Nowak\n",
       "2        anna.nowak@email.com       Anna    Nowak"
      ]
     },
     "execution_count": 37,
     "metadata": {},
     "output_type": "execute_result"
    }
   ],
   "source": [
    "df"
   ]
  },
  {
   "cell_type": "markdown",
   "id": "eebf195f-6c88-4053-8f9f-dbe867d74d12",
   "metadata": {},
   "source": [
    "### Indeksy hierarchiczne (zagnieżdżone)"
   ]
  },
  {
   "cell_type": "code",
   "execution_count": 38,
   "id": "5d85957e-6d8f-4ad0-8ed3-e4c07b00cad8",
   "metadata": {
    "tags": []
   },
   "outputs": [],
   "source": [
    "iterables = [[\"bar\", \"baz\", \"foo\", \"qux\"], [\"one\", \"two\"]]"
   ]
  },
  {
   "cell_type": "code",
   "execution_count": 39,
   "id": "ff9c202e-8cd7-4f98-bfa4-66dfef1c5d28",
   "metadata": {
    "tags": []
   },
   "outputs": [],
   "source": [
    "index = pd.MultiIndex.from_product(iterables, names=[\"first\", \"second\"])"
   ]
  },
  {
   "cell_type": "code",
   "execution_count": 40,
   "id": "8aa5db23-106d-46a6-a4bf-e1a3dab92aba",
   "metadata": {
    "tags": []
   },
   "outputs": [],
   "source": [
    "s = pd.Series(np.random.randn(8), index=index)"
   ]
  },
  {
   "cell_type": "code",
   "execution_count": 41,
   "id": "ef52abaa-70a8-4563-afdb-c0d9e73fa504",
   "metadata": {
    "tags": []
   },
   "outputs": [
    {
     "data": {
      "text/plain": [
       "first  second\n",
       "bar    one       0.454088\n",
       "       two      -0.940389\n",
       "baz    one      -0.778149\n",
       "       two      -0.225574\n",
       "foo    one      -0.553826\n",
       "       two       0.818882\n",
       "qux    one      -0.450864\n",
       "       two      -1.492118\n",
       "dtype: float64"
      ]
     },
     "execution_count": 41,
     "metadata": {},
     "output_type": "execute_result"
    }
   ],
   "source": [
    "s"
   ]
  },
  {
   "cell_type": "code",
   "execution_count": 41,
   "id": "74009919-23e8-435a-9841-6aecfab8be79",
   "metadata": {
    "tags": []
   },
   "outputs": [],
   "source": [
    "#s[('bar', 'two')]"
   ]
  },
  {
   "cell_type": "code",
   "execution_count": 42,
   "id": "0d62e5fb-2f13-428d-ab53-ecad612c4dd1",
   "metadata": {
    "tags": []
   },
   "outputs": [
    {
     "data": {
      "text/plain": [
       "-0.9403887213062767"
      ]
     },
     "execution_count": 42,
     "metadata": {},
     "output_type": "execute_result"
    }
   ],
   "source": [
    "s[\"bar\"][\"two\"]"
   ]
  },
  {
   "cell_type": "code",
   "execution_count": 43,
   "id": "530de009-f639-429f-b335-dc3ac0203138",
   "metadata": {
    "tags": []
   },
   "outputs": [
    {
     "data": {
      "text/plain": [
       "second\n",
       "one    0.454088\n",
       "two   -0.940389\n",
       "dtype: float64"
      ]
     },
     "execution_count": 43,
     "metadata": {},
     "output_type": "execute_result"
    }
   ],
   "source": [
    "s[\"bar\"]"
   ]
  },
  {
   "cell_type": "markdown",
   "id": "b5176d74-908e-49d2-bdd4-5b5edf7fb38c",
   "metadata": {},
   "source": [
    "## 5. Filtrowanie"
   ]
  },
  {
   "cell_type": "code",
   "execution_count": 45,
   "id": "3ff1c6ed-18a7-4587-b8d1-047f8e405999",
   "metadata": {
    "tags": []
   },
   "outputs": [
    {
     "data": {
      "text/html": [
       "<div>\n",
       "<style scoped>\n",
       "    .dataframe tbody tr th:only-of-type {\n",
       "        vertical-align: middle;\n",
       "    }\n",
       "\n",
       "    .dataframe tbody tr th {\n",
       "        vertical-align: top;\n",
       "    }\n",
       "\n",
       "    .dataframe thead th {\n",
       "        text-align: right;\n",
       "    }\n",
       "</style>\n",
       "<table border=\"1\" class=\"dataframe\">\n",
       "  <thead>\n",
       "    <tr style=\"text-align: right;\">\n",
       "      <th></th>\n",
       "      <th>email</th>\n",
       "      <th>imię</th>\n",
       "      <th>nazwisko</th>\n",
       "    </tr>\n",
       "  </thead>\n",
       "  <tbody>\n",
       "    <tr>\n",
       "      <th>0</th>\n",
       "      <td>agnieszka.sołtys@email.com</td>\n",
       "      <td>Agnieszka</td>\n",
       "      <td>Sołtys</td>\n",
       "    </tr>\n",
       "    <tr>\n",
       "      <th>1</th>\n",
       "      <td>jan.nowak@gmail.com</td>\n",
       "      <td>Jan</td>\n",
       "      <td>Nowak</td>\n",
       "    </tr>\n",
       "    <tr>\n",
       "      <th>2</th>\n",
       "      <td>anna.nowak@email.com</td>\n",
       "      <td>Anna</td>\n",
       "      <td>Nowak</td>\n",
       "    </tr>\n",
       "  </tbody>\n",
       "</table>\n",
       "</div>"
      ],
      "text/plain": [
       "                        email       imię nazwisko\n",
       "0  agnieszka.sołtys@email.com  Agnieszka   Sołtys\n",
       "1         jan.nowak@gmail.com        Jan    Nowak\n",
       "2        anna.nowak@email.com       Anna    Nowak"
      ]
     },
     "execution_count": 45,
     "metadata": {},
     "output_type": "execute_result"
    }
   ],
   "source": [
    "df"
   ]
  },
  {
   "cell_type": "code",
   "execution_count": 44,
   "id": "d89bb211-ebb6-4c40-a23c-dbbb8b250da1",
   "metadata": {
    "tags": []
   },
   "outputs": [
    {
     "data": {
      "text/plain": [
       "0    False\n",
       "1     True\n",
       "2     True\n",
       "Name: nazwisko, dtype: bool"
      ]
     },
     "execution_count": 44,
     "metadata": {},
     "output_type": "execute_result"
    }
   ],
   "source": [
    "df[\"nazwisko\"] == \"Nowak\" # maska (filter mask) - seria True/False odpowiadająca weilkości ramki danych"
   ]
  },
  {
   "cell_type": "code",
   "execution_count": 46,
   "id": "1d37bf6b-baa5-4790-bc5d-e710d89c4ea9",
   "metadata": {
    "tags": []
   },
   "outputs": [],
   "source": [
    "filt = (df[\"nazwisko\"] == \"Nowak\") # filtr"
   ]
  },
  {
   "cell_type": "code",
   "execution_count": 47,
   "id": "34d8348c-0ad1-462f-81a4-dc7d84902059",
   "metadata": {
    "tags": []
   },
   "outputs": [
    {
     "data": {
      "text/html": [
       "<div>\n",
       "<style scoped>\n",
       "    .dataframe tbody tr th:only-of-type {\n",
       "        vertical-align: middle;\n",
       "    }\n",
       "\n",
       "    .dataframe tbody tr th {\n",
       "        vertical-align: top;\n",
       "    }\n",
       "\n",
       "    .dataframe thead th {\n",
       "        text-align: right;\n",
       "    }\n",
       "</style>\n",
       "<table border=\"1\" class=\"dataframe\">\n",
       "  <thead>\n",
       "    <tr style=\"text-align: right;\">\n",
       "      <th></th>\n",
       "      <th>email</th>\n",
       "      <th>imię</th>\n",
       "      <th>nazwisko</th>\n",
       "    </tr>\n",
       "  </thead>\n",
       "  <tbody>\n",
       "    <tr>\n",
       "      <th>1</th>\n",
       "      <td>jan.nowak@gmail.com</td>\n",
       "      <td>Jan</td>\n",
       "      <td>Nowak</td>\n",
       "    </tr>\n",
       "    <tr>\n",
       "      <th>2</th>\n",
       "      <td>anna.nowak@email.com</td>\n",
       "      <td>Anna</td>\n",
       "      <td>Nowak</td>\n",
       "    </tr>\n",
       "  </tbody>\n",
       "</table>\n",
       "</div>"
      ],
      "text/plain": [
       "                  email  imię nazwisko\n",
       "1   jan.nowak@gmail.com   Jan    Nowak\n",
       "2  anna.nowak@email.com  Anna    Nowak"
      ]
     },
     "execution_count": 47,
     "metadata": {},
     "output_type": "execute_result"
    }
   ],
   "source": [
    "df[filt]"
   ]
  },
  {
   "cell_type": "markdown",
   "id": "e4d3f731-1b05-49e7-80df-ae2532120e92",
   "metadata": {},
   "source": [
    "Można też"
   ]
  },
  {
   "cell_type": "code",
   "execution_count": 48,
   "id": "dd85524b-a624-4301-bbab-00fe204af925",
   "metadata": {
    "tags": []
   },
   "outputs": [
    {
     "data": {
      "text/html": [
       "<div>\n",
       "<style scoped>\n",
       "    .dataframe tbody tr th:only-of-type {\n",
       "        vertical-align: middle;\n",
       "    }\n",
       "\n",
       "    .dataframe tbody tr th {\n",
       "        vertical-align: top;\n",
       "    }\n",
       "\n",
       "    .dataframe thead th {\n",
       "        text-align: right;\n",
       "    }\n",
       "</style>\n",
       "<table border=\"1\" class=\"dataframe\">\n",
       "  <thead>\n",
       "    <tr style=\"text-align: right;\">\n",
       "      <th></th>\n",
       "      <th>email</th>\n",
       "      <th>imię</th>\n",
       "      <th>nazwisko</th>\n",
       "    </tr>\n",
       "  </thead>\n",
       "  <tbody>\n",
       "    <tr>\n",
       "      <th>1</th>\n",
       "      <td>jan.nowak@gmail.com</td>\n",
       "      <td>Jan</td>\n",
       "      <td>Nowak</td>\n",
       "    </tr>\n",
       "    <tr>\n",
       "      <th>2</th>\n",
       "      <td>anna.nowak@email.com</td>\n",
       "      <td>Anna</td>\n",
       "      <td>Nowak</td>\n",
       "    </tr>\n",
       "  </tbody>\n",
       "</table>\n",
       "</div>"
      ],
      "text/plain": [
       "                  email  imię nazwisko\n",
       "1   jan.nowak@gmail.com   Jan    Nowak\n",
       "2  anna.nowak@email.com  Anna    Nowak"
      ]
     },
     "execution_count": 48,
     "metadata": {},
     "output_type": "execute_result"
    }
   ],
   "source": [
    "df[df[\"nazwisko\"] == \"Nowak\"]"
   ]
  },
  {
   "cell_type": "code",
   "execution_count": 49,
   "id": "c29440ef-34e1-431c-9506-a9c2101e1e6f",
   "metadata": {
    "tags": []
   },
   "outputs": [
    {
     "data": {
      "text/html": [
       "<div>\n",
       "<style scoped>\n",
       "    .dataframe tbody tr th:only-of-type {\n",
       "        vertical-align: middle;\n",
       "    }\n",
       "\n",
       "    .dataframe tbody tr th {\n",
       "        vertical-align: top;\n",
       "    }\n",
       "\n",
       "    .dataframe thead th {\n",
       "        text-align: right;\n",
       "    }\n",
       "</style>\n",
       "<table border=\"1\" class=\"dataframe\">\n",
       "  <thead>\n",
       "    <tr style=\"text-align: right;\">\n",
       "      <th></th>\n",
       "      <th>email</th>\n",
       "      <th>imię</th>\n",
       "      <th>nazwisko</th>\n",
       "    </tr>\n",
       "  </thead>\n",
       "  <tbody>\n",
       "    <tr>\n",
       "      <th>1</th>\n",
       "      <td>jan.nowak@gmail.com</td>\n",
       "      <td>Jan</td>\n",
       "      <td>Nowak</td>\n",
       "    </tr>\n",
       "    <tr>\n",
       "      <th>2</th>\n",
       "      <td>anna.nowak@email.com</td>\n",
       "      <td>Anna</td>\n",
       "      <td>Nowak</td>\n",
       "    </tr>\n",
       "  </tbody>\n",
       "</table>\n",
       "</div>"
      ],
      "text/plain": [
       "                  email  imię nazwisko\n",
       "1   jan.nowak@gmail.com   Jan    Nowak\n",
       "2  anna.nowak@email.com  Anna    Nowak"
      ]
     },
     "execution_count": 49,
     "metadata": {},
     "output_type": "execute_result"
    }
   ],
   "source": [
    "df.loc[filt]"
   ]
  },
  {
   "cell_type": "code",
   "execution_count": 50,
   "id": "30c31cab-8a1b-4e72-9328-7f2a30ac896d",
   "metadata": {
    "tags": []
   },
   "outputs": [
    {
     "data": {
      "text/plain": [
       "1     Jan\n",
       "2    Anna\n",
       "Name: imię, dtype: object"
      ]
     },
     "execution_count": 50,
     "metadata": {},
     "output_type": "execute_result"
    }
   ],
   "source": [
    "df.loc[filt, \"imię\"] # też można od razu kolumny"
   ]
  },
  {
   "cell_type": "markdown",
   "id": "af37c66e-ab8b-4843-b11f-c735c67648d2",
   "metadata": {},
   "source": [
    "### & , | i ~"
   ]
  },
  {
   "cell_type": "markdown",
   "id": "95302873-97be-4813-9cc4-939cb45595b0",
   "metadata": {},
   "source": [
    "W Python poza pandas and i or"
   ]
  },
  {
   "cell_type": "code",
   "execution_count": 51,
   "id": "68ad89b3-d401-4e70-92b6-11fe2027e397",
   "metadata": {
    "tags": []
   },
   "outputs": [],
   "source": [
    "filt = (df[\"nazwisko\"] == \"Nowak\") & (df[\"imię\"] == \"Jan\") # i"
   ]
  },
  {
   "cell_type": "code",
   "execution_count": 52,
   "id": "f335c7db-3537-4a08-8896-236ec5e5451d",
   "metadata": {
    "tags": []
   },
   "outputs": [
    {
     "data": {
      "text/plain": [
       "1    jan.nowak@gmail.com\n",
       "Name: email, dtype: object"
      ]
     },
     "execution_count": 52,
     "metadata": {},
     "output_type": "execute_result"
    }
   ],
   "source": [
    "df.loc[filt, \"email\"]"
   ]
  },
  {
   "cell_type": "code",
   "execution_count": 53,
   "id": "f8823f60-7e62-4b25-8c39-5d3cb47329bd",
   "metadata": {
    "tags": []
   },
   "outputs": [],
   "source": [
    "filt = (df[\"nazwisko\"] == \"Sołtys\") | (df[\"imię\"] == \"Jan\") # lub"
   ]
  },
  {
   "cell_type": "code",
   "execution_count": 54,
   "id": "ee34dd02-a7b4-41c8-a674-2df71ca4f10b",
   "metadata": {
    "tags": []
   },
   "outputs": [
    {
     "data": {
      "text/plain": [
       "0    agnieszka.sołtys@email.com\n",
       "1           jan.nowak@gmail.com\n",
       "Name: email, dtype: object"
      ]
     },
     "execution_count": 54,
     "metadata": {},
     "output_type": "execute_result"
    }
   ],
   "source": [
    "df.loc[filt, \"email\"]"
   ]
  },
  {
   "cell_type": "code",
   "execution_count": 55,
   "id": "e66678bd-e81d-40e5-ae4f-ef59bbb7cd5b",
   "metadata": {
    "tags": []
   },
   "outputs": [
    {
     "data": {
      "text/plain": [
       "2    anna.nowak@email.com\n",
       "Name: email, dtype: object"
      ]
     },
     "execution_count": 55,
     "metadata": {},
     "output_type": "execute_result"
    }
   ],
   "source": [
    "df.loc[~filt, \"email\"] # negacja"
   ]
  },
  {
   "cell_type": "markdown",
   "id": "1e81d209-68b8-48f6-a578-59a6553abe31",
   "metadata": {},
   "source": [
    "## 6. Dane jakościowe"
   ]
  },
  {
   "cell_type": "markdown",
   "id": "085799a3-0332-4b32-9043-9549490afc54",
   "metadata": {
    "tags": []
   },
   "source": [
    "zmienne jakościowe to zmienne niemierzalne: \n",
    "- nominalne, np. kolor oczu (niebieskie, zielone, brązowe),\n",
    "- porządkowe, np. wykształcenie (podstawowe, średnie, wyższe)"
   ]
  },
  {
   "cell_type": "code",
   "execution_count": 58,
   "id": "80f1989f-e210-4672-a396-35197aee4508",
   "metadata": {
    "tags": []
   },
   "outputs": [],
   "source": [
    "s1 = pd.Series([\"a\", \"b\", \"c\", \"a\"], dtype=\"category\")"
   ]
  },
  {
   "cell_type": "code",
   "execution_count": 59,
   "id": "2cbbbae3-8185-41b5-a6d5-d6530c16ec24",
   "metadata": {
    "tags": []
   },
   "outputs": [
    {
     "data": {
      "text/plain": [
       "0    a\n",
       "1    b\n",
       "2    c\n",
       "3    a\n",
       "dtype: category\n",
       "Categories (3, object): ['a', 'b', 'c']"
      ]
     },
     "execution_count": 59,
     "metadata": {},
     "output_type": "execute_result"
    }
   ],
   "source": [
    "s1"
   ]
  },
  {
   "cell_type": "code",
   "execution_count": 69,
   "id": "8509d941-6f23-4989-b383-7ac19115dc01",
   "metadata": {
    "tags": []
   },
   "outputs": [],
   "source": [
    "s2 = pd.Series(pd.Categorical([\"a\", \"b\", \"c\", \"a\"], categories=[\"a\", \"b\", \"c\"], ordered=True))"
   ]
  },
  {
   "cell_type": "code",
   "execution_count": 70,
   "id": "9c902a43-2871-4385-a583-796a0d59ebea",
   "metadata": {
    "tags": []
   },
   "outputs": [
    {
     "data": {
      "text/plain": [
       "0    a\n",
       "1    b\n",
       "2    c\n",
       "3    a\n",
       "dtype: category\n",
       "Categories (3, object): ['a' < 'b' < 'c']"
      ]
     },
     "execution_count": 70,
     "metadata": {},
     "output_type": "execute_result"
    }
   ],
   "source": [
    "s2"
   ]
  },
  {
   "cell_type": "code",
   "execution_count": 62,
   "id": "b7f0282f-2b9e-4b14-b167-cd159a10ffeb",
   "metadata": {
    "tags": []
   },
   "outputs": [],
   "source": [
    "df_cat = pd.DataFrame({\"A\": [\"a\", \"b\", \"c\", \"a\"]})"
   ]
  },
  {
   "cell_type": "code",
   "execution_count": 63,
   "id": "57424691-e399-4850-bc02-66cceb2fcdaf",
   "metadata": {
    "tags": []
   },
   "outputs": [],
   "source": [
    "df_cat[\"B\"] = df_cat[\"A\"].astype(\"category\")"
   ]
  },
  {
   "cell_type": "code",
   "execution_count": 64,
   "id": "53c357a2-5bf7-42c2-a65f-f808198a178f",
   "metadata": {
    "tags": []
   },
   "outputs": [
    {
     "data": {
      "text/html": [
       "<div>\n",
       "<style scoped>\n",
       "    .dataframe tbody tr th:only-of-type {\n",
       "        vertical-align: middle;\n",
       "    }\n",
       "\n",
       "    .dataframe tbody tr th {\n",
       "        vertical-align: top;\n",
       "    }\n",
       "\n",
       "    .dataframe thead th {\n",
       "        text-align: right;\n",
       "    }\n",
       "</style>\n",
       "<table border=\"1\" class=\"dataframe\">\n",
       "  <thead>\n",
       "    <tr style=\"text-align: right;\">\n",
       "      <th></th>\n",
       "      <th>A</th>\n",
       "      <th>B</th>\n",
       "    </tr>\n",
       "  </thead>\n",
       "  <tbody>\n",
       "    <tr>\n",
       "      <th>0</th>\n",
       "      <td>a</td>\n",
       "      <td>a</td>\n",
       "    </tr>\n",
       "    <tr>\n",
       "      <th>1</th>\n",
       "      <td>b</td>\n",
       "      <td>b</td>\n",
       "    </tr>\n",
       "    <tr>\n",
       "      <th>2</th>\n",
       "      <td>c</td>\n",
       "      <td>c</td>\n",
       "    </tr>\n",
       "    <tr>\n",
       "      <th>3</th>\n",
       "      <td>a</td>\n",
       "      <td>a</td>\n",
       "    </tr>\n",
       "  </tbody>\n",
       "</table>\n",
       "</div>"
      ],
      "text/plain": [
       "   A  B\n",
       "0  a  a\n",
       "1  b  b\n",
       "2  c  c\n",
       "3  a  a"
      ]
     },
     "execution_count": 64,
     "metadata": {},
     "output_type": "execute_result"
    }
   ],
   "source": [
    "df_cat"
   ]
  },
  {
   "cell_type": "code",
   "execution_count": 65,
   "id": "1ac97ead-e93e-4c11-9450-aac89d2b0676",
   "metadata": {
    "tags": []
   },
   "outputs": [
    {
     "data": {
      "text/plain": [
       "A      object\n",
       "B    category\n",
       "dtype: object"
      ]
     },
     "execution_count": 65,
     "metadata": {},
     "output_type": "execute_result"
    }
   ],
   "source": [
    "df_cat.dtypes"
   ]
  },
  {
   "cell_type": "code",
   "execution_count": 71,
   "id": "609a123e-eb01-4684-9acb-6f944d58613d",
   "metadata": {
    "tags": []
   },
   "outputs": [],
   "source": [
    "df_cat2 = pd.DataFrame({\"wielkość\": np.random.randint(0, 100, 20)})"
   ]
  },
  {
   "cell_type": "code",
   "execution_count": 72,
   "id": "c3a51c11-641c-4d89-9f79-0c70f191fb88",
   "metadata": {
    "tags": []
   },
   "outputs": [
    {
     "data": {
      "text/plain": [
       "0      [25, 50)\n",
       "1       [0, 25)\n",
       "2      [25, 50)\n",
       "3       [0, 25)\n",
       "4      [50, 75)\n",
       "5      [50, 75)\n",
       "6      [25, 50)\n",
       "7      [25, 50)\n",
       "8       [0, 25)\n",
       "9     [75, 100)\n",
       "10    [75, 100)\n",
       "11    [75, 100)\n",
       "12     [25, 50)\n",
       "13     [25, 50)\n",
       "14     [25, 50)\n",
       "15     [25, 50)\n",
       "16      [0, 25)\n",
       "17     [50, 75)\n",
       "18    [75, 100)\n",
       "19     [25, 50)\n",
       "Name: wielkość, dtype: category\n",
       "Categories (4, interval[int64, left]): [[0, 25) < [25, 50) < [50, 75) < [75, 100)]"
      ]
     },
     "execution_count": 72,
     "metadata": {},
     "output_type": "execute_result"
    }
   ],
   "source": [
    "pd.cut(df_cat2[\"wielkość\"], range(0, 105, 25), right=False)"
   ]
  },
  {
   "cell_type": "code",
   "execution_count": 73,
   "id": "a73a3c61-7a02-4b2c-b12f-d39852329875",
   "metadata": {
    "tags": []
   },
   "outputs": [],
   "source": [
    "df_cat2[\"grupa\"] = pd.cut(df_cat2[\"wielkość\"], range(0, 105, 25), right=False, labels = [\"mały\", \"średni\", \"duży\", \"bardzo duży\"])"
   ]
  },
  {
   "cell_type": "code",
   "execution_count": 74,
   "id": "37e673f3-83ea-493e-87bd-d5cb2148b300",
   "metadata": {
    "tags": []
   },
   "outputs": [
    {
     "data": {
      "text/html": [
       "<div>\n",
       "<style scoped>\n",
       "    .dataframe tbody tr th:only-of-type {\n",
       "        vertical-align: middle;\n",
       "    }\n",
       "\n",
       "    .dataframe tbody tr th {\n",
       "        vertical-align: top;\n",
       "    }\n",
       "\n",
       "    .dataframe thead th {\n",
       "        text-align: right;\n",
       "    }\n",
       "</style>\n",
       "<table border=\"1\" class=\"dataframe\">\n",
       "  <thead>\n",
       "    <tr style=\"text-align: right;\">\n",
       "      <th></th>\n",
       "      <th>wielkość</th>\n",
       "      <th>grupa</th>\n",
       "    </tr>\n",
       "  </thead>\n",
       "  <tbody>\n",
       "    <tr>\n",
       "      <th>0</th>\n",
       "      <td>38</td>\n",
       "      <td>średni</td>\n",
       "    </tr>\n",
       "    <tr>\n",
       "      <th>1</th>\n",
       "      <td>22</td>\n",
       "      <td>mały</td>\n",
       "    </tr>\n",
       "    <tr>\n",
       "      <th>2</th>\n",
       "      <td>29</td>\n",
       "      <td>średni</td>\n",
       "    </tr>\n",
       "    <tr>\n",
       "      <th>3</th>\n",
       "      <td>7</td>\n",
       "      <td>mały</td>\n",
       "    </tr>\n",
       "    <tr>\n",
       "      <th>4</th>\n",
       "      <td>58</td>\n",
       "      <td>duży</td>\n",
       "    </tr>\n",
       "    <tr>\n",
       "      <th>5</th>\n",
       "      <td>66</td>\n",
       "      <td>duży</td>\n",
       "    </tr>\n",
       "    <tr>\n",
       "      <th>6</th>\n",
       "      <td>31</td>\n",
       "      <td>średni</td>\n",
       "    </tr>\n",
       "    <tr>\n",
       "      <th>7</th>\n",
       "      <td>46</td>\n",
       "      <td>średni</td>\n",
       "    </tr>\n",
       "    <tr>\n",
       "      <th>8</th>\n",
       "      <td>5</td>\n",
       "      <td>mały</td>\n",
       "    </tr>\n",
       "    <tr>\n",
       "      <th>9</th>\n",
       "      <td>90</td>\n",
       "      <td>bardzo duży</td>\n",
       "    </tr>\n",
       "    <tr>\n",
       "      <th>10</th>\n",
       "      <td>92</td>\n",
       "      <td>bardzo duży</td>\n",
       "    </tr>\n",
       "    <tr>\n",
       "      <th>11</th>\n",
       "      <td>99</td>\n",
       "      <td>bardzo duży</td>\n",
       "    </tr>\n",
       "    <tr>\n",
       "      <th>12</th>\n",
       "      <td>36</td>\n",
       "      <td>średni</td>\n",
       "    </tr>\n",
       "    <tr>\n",
       "      <th>13</th>\n",
       "      <td>39</td>\n",
       "      <td>średni</td>\n",
       "    </tr>\n",
       "    <tr>\n",
       "      <th>14</th>\n",
       "      <td>32</td>\n",
       "      <td>średni</td>\n",
       "    </tr>\n",
       "    <tr>\n",
       "      <th>15</th>\n",
       "      <td>36</td>\n",
       "      <td>średni</td>\n",
       "    </tr>\n",
       "    <tr>\n",
       "      <th>16</th>\n",
       "      <td>11</td>\n",
       "      <td>mały</td>\n",
       "    </tr>\n",
       "    <tr>\n",
       "      <th>17</th>\n",
       "      <td>55</td>\n",
       "      <td>duży</td>\n",
       "    </tr>\n",
       "    <tr>\n",
       "      <th>18</th>\n",
       "      <td>76</td>\n",
       "      <td>bardzo duży</td>\n",
       "    </tr>\n",
       "    <tr>\n",
       "      <th>19</th>\n",
       "      <td>41</td>\n",
       "      <td>średni</td>\n",
       "    </tr>\n",
       "  </tbody>\n",
       "</table>\n",
       "</div>"
      ],
      "text/plain": [
       "    wielkość        grupa\n",
       "0         38       średni\n",
       "1         22         mały\n",
       "2         29       średni\n",
       "3          7         mały\n",
       "4         58         duży\n",
       "5         66         duży\n",
       "6         31       średni\n",
       "7         46       średni\n",
       "8          5         mały\n",
       "9         90  bardzo duży\n",
       "10        92  bardzo duży\n",
       "11        99  bardzo duży\n",
       "12        36       średni\n",
       "13        39       średni\n",
       "14        32       średni\n",
       "15        36       średni\n",
       "16        11         mały\n",
       "17        55         duży\n",
       "18        76  bardzo duży\n",
       "19        41       średni"
      ]
     },
     "execution_count": 74,
     "metadata": {},
     "output_type": "execute_result"
    }
   ],
   "source": [
    "df_cat2"
   ]
  },
  {
   "cell_type": "code",
   "execution_count": 75,
   "id": "dc10db5a-720b-4904-8630-b65750e0f0c7",
   "metadata": {
    "tags": []
   },
   "outputs": [
    {
     "data": {
      "text/plain": [
       "średni         9\n",
       "mały           4\n",
       "bardzo duży    4\n",
       "duży           3\n",
       "Name: grupa, dtype: int64"
      ]
     },
     "execution_count": 75,
     "metadata": {},
     "output_type": "execute_result"
    }
   ],
   "source": [
    "df_cat2[\"grupa\"].value_counts()"
   ]
  },
  {
   "cell_type": "code",
   "execution_count": 78,
   "id": "f27830a2-2214-4c13-b3e5-305e62678029",
   "metadata": {
    "tags": []
   },
   "outputs": [
    {
     "data": {
      "text/plain": [
       "0    a\n",
       "1    b\n",
       "2    c\n",
       "3    a\n",
       "dtype: category\n",
       "Categories (3, object): ['a' < 'b' < 'c']"
      ]
     },
     "execution_count": 78,
     "metadata": {},
     "output_type": "execute_result"
    }
   ],
   "source": [
    "s2"
   ]
  },
  {
   "cell_type": "code",
   "execution_count": 76,
   "id": "d7b1a8da-8f8e-4f63-a692-7f822952111f",
   "metadata": {
    "tags": []
   },
   "outputs": [
    {
     "data": {
      "text/plain": [
       "0    0\n",
       "1    1\n",
       "2    2\n",
       "3    0\n",
       "dtype: int8"
      ]
     },
     "execution_count": 76,
     "metadata": {},
     "output_type": "execute_result"
    }
   ],
   "source": [
    "s2.cat.codes"
   ]
  },
  {
   "cell_type": "code",
   "execution_count": 77,
   "id": "f6ef0d0d-984f-4a61-8c34-5ef8b35d6244",
   "metadata": {
    "tags": []
   },
   "outputs": [
    {
     "data": {
      "text/plain": [
       "Index(['a', 'b', 'c'], dtype='object')"
      ]
     },
     "execution_count": 77,
     "metadata": {},
     "output_type": "execute_result"
    }
   ],
   "source": [
    "s2.cat.categories"
   ]
  },
  {
   "cell_type": "code",
   "execution_count": 79,
   "id": "90ece395-6bad-44bc-8418-e7683f6fe99a",
   "metadata": {
    "tags": []
   },
   "outputs": [],
   "source": [
    "s2 = s2.cat.rename_categories([\"mały\", \"średni\", \"duży\"])"
   ]
  },
  {
   "cell_type": "code",
   "execution_count": 80,
   "id": "ad3c0c35-9e34-4be9-856c-f4b661246bfc",
   "metadata": {
    "tags": []
   },
   "outputs": [
    {
     "data": {
      "text/plain": [
       "0      mały\n",
       "1    średni\n",
       "2      duży\n",
       "3      mały\n",
       "dtype: category\n",
       "Categories (3, object): ['mały' < 'średni' < 'duży']"
      ]
     },
     "execution_count": 80,
     "metadata": {},
     "output_type": "execute_result"
    }
   ],
   "source": [
    "s2"
   ]
  },
  {
   "cell_type": "code",
   "execution_count": 81,
   "id": "595dca80-0399-43fa-aab9-ba48c8706202",
   "metadata": {
    "tags": []
   },
   "outputs": [],
   "source": [
    "s2[0] = \"średni\""
   ]
  },
  {
   "cell_type": "code",
   "execution_count": 82,
   "id": "279a9658-d426-4c33-8a9f-59e55f8500cd",
   "metadata": {
    "tags": []
   },
   "outputs": [
    {
     "data": {
      "text/plain": [
       "0    średni\n",
       "1    średni\n",
       "2      duży\n",
       "3      mały\n",
       "dtype: category\n",
       "Categories (3, object): ['mały' < 'średni' < 'duży']"
      ]
     },
     "execution_count": 82,
     "metadata": {},
     "output_type": "execute_result"
    }
   ],
   "source": [
    "s2"
   ]
  },
  {
   "cell_type": "code",
   "execution_count": 84,
   "id": "d1266b60-ce83-4853-b8e2-02204d1ce033",
   "metadata": {
    "tags": []
   },
   "outputs": [],
   "source": [
    "# s2[0] = \"bardzo duży\""
   ]
  },
  {
   "cell_type": "code",
   "execution_count": 85,
   "id": "570b7420-6bdc-4aa1-8789-f2d993d9a63d",
   "metadata": {
    "tags": []
   },
   "outputs": [],
   "source": [
    "s2 = s2.cat.add_categories(\"bardzo duży\")"
   ]
  },
  {
   "cell_type": "code",
   "execution_count": 86,
   "id": "eda966f7-36cd-4a43-b17f-734200551ae6",
   "metadata": {
    "tags": []
   },
   "outputs": [
    {
     "data": {
      "text/plain": [
       "0    średni\n",
       "1    średni\n",
       "2      duży\n",
       "3      mały\n",
       "dtype: category\n",
       "Categories (4, object): ['mały' < 'średni' < 'duży' < 'bardzo duży']"
      ]
     },
     "execution_count": 86,
     "metadata": {},
     "output_type": "execute_result"
    }
   ],
   "source": [
    "s2"
   ]
  },
  {
   "cell_type": "code",
   "execution_count": 87,
   "id": "af97e706-b4f8-4675-b0e1-d48527f00d5a",
   "metadata": {
    "tags": []
   },
   "outputs": [],
   "source": [
    "s2[0] = \"bardzo duży\""
   ]
  },
  {
   "cell_type": "code",
   "execution_count": 88,
   "id": "11f8eaf9-af8c-41f9-b409-0cf18786c93c",
   "metadata": {
    "tags": []
   },
   "outputs": [
    {
     "data": {
      "text/plain": [
       "0    bardzo duży\n",
       "1         średni\n",
       "2           duży\n",
       "3           mały\n",
       "dtype: category\n",
       "Categories (4, object): ['mały' < 'średni' < 'duży' < 'bardzo duży']"
      ]
     },
     "execution_count": 88,
     "metadata": {},
     "output_type": "execute_result"
    }
   ],
   "source": [
    "s2"
   ]
  },
  {
   "cell_type": "code",
   "execution_count": 89,
   "id": "7b458e12-4d44-44b0-b56c-12ef2d84068e",
   "metadata": {
    "tags": []
   },
   "outputs": [
    {
     "data": {
      "text/plain": [
       "3           mały\n",
       "1         średni\n",
       "2           duży\n",
       "0    bardzo duży\n",
       "dtype: category\n",
       "Categories (4, object): ['mały' < 'średni' < 'duży' < 'bardzo duży']"
      ]
     },
     "execution_count": 89,
     "metadata": {},
     "output_type": "execute_result"
    }
   ],
   "source": [
    "s2.sort_values()"
   ]
  },
  {
   "cell_type": "code",
   "execution_count": 90,
   "id": "e3dda1b8-cbb3-48ce-bf6c-38482cd6a74e",
   "metadata": {
    "tags": []
   },
   "outputs": [],
   "source": [
    "s2 = s2.cat.reorder_categories([\"mały\",\"bardzo duży\",\"duży\",\"średni\"], ordered=True)"
   ]
  },
  {
   "cell_type": "code",
   "execution_count": 91,
   "id": "6aa471d9-8bba-48fb-b156-4453ef1de8c0",
   "metadata": {
    "tags": []
   },
   "outputs": [
    {
     "data": {
      "text/plain": [
       "3           mały\n",
       "0    bardzo duży\n",
       "2           duży\n",
       "1         średni\n",
       "dtype: category\n",
       "Categories (4, object): ['mały' < 'bardzo duży' < 'duży' < 'średni']"
      ]
     },
     "execution_count": 91,
     "metadata": {},
     "output_type": "execute_result"
    }
   ],
   "source": [
    "s2.sort_values()"
   ]
  },
  {
   "cell_type": "markdown",
   "id": "3ce1b7ce-d820-4a88-a831-6bee62a8fe6c",
   "metadata": {},
   "source": [
    "## 7. Zmiana kolumn i wierszy"
   ]
  },
  {
   "cell_type": "markdown",
   "id": "322ea114-c470-4c38-b53f-23a3300ee4e0",
   "metadata": {},
   "source": [
    "### zmiana nazw kolumn"
   ]
  },
  {
   "cell_type": "code",
   "execution_count": 92,
   "id": "e6cc326f-95db-4b25-869c-a32b7a52b739",
   "metadata": {
    "tags": []
   },
   "outputs": [],
   "source": [
    "df.columns = [\"Email\", \"Imię\", \"Nazwisko\"]"
   ]
  },
  {
   "cell_type": "code",
   "execution_count": 93,
   "id": "f8e45b8b-ab04-46f7-a982-9e4f161bbdbc",
   "metadata": {
    "tags": []
   },
   "outputs": [
    {
     "data": {
      "text/html": [
       "<div>\n",
       "<style scoped>\n",
       "    .dataframe tbody tr th:only-of-type {\n",
       "        vertical-align: middle;\n",
       "    }\n",
       "\n",
       "    .dataframe tbody tr th {\n",
       "        vertical-align: top;\n",
       "    }\n",
       "\n",
       "    .dataframe thead th {\n",
       "        text-align: right;\n",
       "    }\n",
       "</style>\n",
       "<table border=\"1\" class=\"dataframe\">\n",
       "  <thead>\n",
       "    <tr style=\"text-align: right;\">\n",
       "      <th></th>\n",
       "      <th>Email</th>\n",
       "      <th>Imię</th>\n",
       "      <th>Nazwisko</th>\n",
       "    </tr>\n",
       "  </thead>\n",
       "  <tbody>\n",
       "    <tr>\n",
       "      <th>0</th>\n",
       "      <td>agnieszka.sołtys@email.com</td>\n",
       "      <td>Agnieszka</td>\n",
       "      <td>Sołtys</td>\n",
       "    </tr>\n",
       "    <tr>\n",
       "      <th>1</th>\n",
       "      <td>jan.nowak@gmail.com</td>\n",
       "      <td>Jan</td>\n",
       "      <td>Nowak</td>\n",
       "    </tr>\n",
       "    <tr>\n",
       "      <th>2</th>\n",
       "      <td>anna.nowak@email.com</td>\n",
       "      <td>Anna</td>\n",
       "      <td>Nowak</td>\n",
       "    </tr>\n",
       "  </tbody>\n",
       "</table>\n",
       "</div>"
      ],
      "text/plain": [
       "                        Email       Imię Nazwisko\n",
       "0  agnieszka.sołtys@email.com  Agnieszka   Sołtys\n",
       "1         jan.nowak@gmail.com        Jan    Nowak\n",
       "2        anna.nowak@email.com       Anna    Nowak"
      ]
     },
     "execution_count": 93,
     "metadata": {},
     "output_type": "execute_result"
    }
   ],
   "source": [
    "df"
   ]
  },
  {
   "cell_type": "code",
   "execution_count": 94,
   "id": "7d915ad5-a058-4a55-a44d-c303ad55dddf",
   "metadata": {
    "tags": []
   },
   "outputs": [],
   "source": [
    "df.columns = df.columns.str.upper()"
   ]
  },
  {
   "cell_type": "code",
   "execution_count": 95,
   "id": "8f27030c-d853-4a1f-88ac-560713fb2afe",
   "metadata": {
    "tags": []
   },
   "outputs": [
    {
     "data": {
      "text/html": [
       "<div>\n",
       "<style scoped>\n",
       "    .dataframe tbody tr th:only-of-type {\n",
       "        vertical-align: middle;\n",
       "    }\n",
       "\n",
       "    .dataframe tbody tr th {\n",
       "        vertical-align: top;\n",
       "    }\n",
       "\n",
       "    .dataframe thead th {\n",
       "        text-align: right;\n",
       "    }\n",
       "</style>\n",
       "<table border=\"1\" class=\"dataframe\">\n",
       "  <thead>\n",
       "    <tr style=\"text-align: right;\">\n",
       "      <th></th>\n",
       "      <th>EMAIL</th>\n",
       "      <th>IMIĘ</th>\n",
       "      <th>NAZWISKO</th>\n",
       "    </tr>\n",
       "  </thead>\n",
       "  <tbody>\n",
       "    <tr>\n",
       "      <th>0</th>\n",
       "      <td>agnieszka.sołtys@email.com</td>\n",
       "      <td>Agnieszka</td>\n",
       "      <td>Sołtys</td>\n",
       "    </tr>\n",
       "    <tr>\n",
       "      <th>1</th>\n",
       "      <td>jan.nowak@gmail.com</td>\n",
       "      <td>Jan</td>\n",
       "      <td>Nowak</td>\n",
       "    </tr>\n",
       "    <tr>\n",
       "      <th>2</th>\n",
       "      <td>anna.nowak@email.com</td>\n",
       "      <td>Anna</td>\n",
       "      <td>Nowak</td>\n",
       "    </tr>\n",
       "  </tbody>\n",
       "</table>\n",
       "</div>"
      ],
      "text/plain": [
       "                        EMAIL       IMIĘ NAZWISKO\n",
       "0  agnieszka.sołtys@email.com  Agnieszka   Sołtys\n",
       "1         jan.nowak@gmail.com        Jan    Nowak\n",
       "2        anna.nowak@email.com       Anna    Nowak"
      ]
     },
     "execution_count": 95,
     "metadata": {},
     "output_type": "execute_result"
    }
   ],
   "source": [
    "df"
   ]
  },
  {
   "cell_type": "code",
   "execution_count": 96,
   "id": "7e6fc245-52f6-4172-b91b-97db3fde55fd",
   "metadata": {
    "tags": []
   },
   "outputs": [],
   "source": [
    "df.columns = df.columns.str.replace(\"Ę\", \"E\")"
   ]
  },
  {
   "cell_type": "code",
   "execution_count": 97,
   "id": "d6eaad92-a378-4386-a87d-ecd0a2b8a679",
   "metadata": {
    "tags": []
   },
   "outputs": [
    {
     "data": {
      "text/html": [
       "<div>\n",
       "<style scoped>\n",
       "    .dataframe tbody tr th:only-of-type {\n",
       "        vertical-align: middle;\n",
       "    }\n",
       "\n",
       "    .dataframe tbody tr th {\n",
       "        vertical-align: top;\n",
       "    }\n",
       "\n",
       "    .dataframe thead th {\n",
       "        text-align: right;\n",
       "    }\n",
       "</style>\n",
       "<table border=\"1\" class=\"dataframe\">\n",
       "  <thead>\n",
       "    <tr style=\"text-align: right;\">\n",
       "      <th></th>\n",
       "      <th>EMAIL</th>\n",
       "      <th>IMIE</th>\n",
       "      <th>NAZWISKO</th>\n",
       "    </tr>\n",
       "  </thead>\n",
       "  <tbody>\n",
       "    <tr>\n",
       "      <th>0</th>\n",
       "      <td>agnieszka.sołtys@email.com</td>\n",
       "      <td>Agnieszka</td>\n",
       "      <td>Sołtys</td>\n",
       "    </tr>\n",
       "    <tr>\n",
       "      <th>1</th>\n",
       "      <td>jan.nowak@gmail.com</td>\n",
       "      <td>Jan</td>\n",
       "      <td>Nowak</td>\n",
       "    </tr>\n",
       "    <tr>\n",
       "      <th>2</th>\n",
       "      <td>anna.nowak@email.com</td>\n",
       "      <td>Anna</td>\n",
       "      <td>Nowak</td>\n",
       "    </tr>\n",
       "  </tbody>\n",
       "</table>\n",
       "</div>"
      ],
      "text/plain": [
       "                        EMAIL       IMIE NAZWISKO\n",
       "0  agnieszka.sołtys@email.com  Agnieszka   Sołtys\n",
       "1         jan.nowak@gmail.com        Jan    Nowak\n",
       "2        anna.nowak@email.com       Anna    Nowak"
      ]
     },
     "execution_count": 97,
     "metadata": {},
     "output_type": "execute_result"
    }
   ],
   "source": [
    "df"
   ]
  },
  {
   "cell_type": "code",
   "execution_count": 98,
   "id": "cf6efa72-2caf-4c68-abfe-1a2dffe7f0f1",
   "metadata": {
    "tags": []
   },
   "outputs": [],
   "source": [
    "df.rename(columns = {'IMIE':'imię', \"NAZWISKO\":\"nazwisko\" }, inplace = True)"
   ]
  },
  {
   "cell_type": "code",
   "execution_count": 99,
   "id": "2b5fc011-fa43-4710-983f-74ba350fb9c3",
   "metadata": {
    "tags": []
   },
   "outputs": [
    {
     "data": {
      "text/html": [
       "<div>\n",
       "<style scoped>\n",
       "    .dataframe tbody tr th:only-of-type {\n",
       "        vertical-align: middle;\n",
       "    }\n",
       "\n",
       "    .dataframe tbody tr th {\n",
       "        vertical-align: top;\n",
       "    }\n",
       "\n",
       "    .dataframe thead th {\n",
       "        text-align: right;\n",
       "    }\n",
       "</style>\n",
       "<table border=\"1\" class=\"dataframe\">\n",
       "  <thead>\n",
       "    <tr style=\"text-align: right;\">\n",
       "      <th></th>\n",
       "      <th>EMAIL</th>\n",
       "      <th>imię</th>\n",
       "      <th>nazwisko</th>\n",
       "    </tr>\n",
       "  </thead>\n",
       "  <tbody>\n",
       "    <tr>\n",
       "      <th>0</th>\n",
       "      <td>agnieszka.sołtys@email.com</td>\n",
       "      <td>Agnieszka</td>\n",
       "      <td>Sołtys</td>\n",
       "    </tr>\n",
       "    <tr>\n",
       "      <th>1</th>\n",
       "      <td>jan.nowak@gmail.com</td>\n",
       "      <td>Jan</td>\n",
       "      <td>Nowak</td>\n",
       "    </tr>\n",
       "    <tr>\n",
       "      <th>2</th>\n",
       "      <td>anna.nowak@email.com</td>\n",
       "      <td>Anna</td>\n",
       "      <td>Nowak</td>\n",
       "    </tr>\n",
       "  </tbody>\n",
       "</table>\n",
       "</div>"
      ],
      "text/plain": [
       "                        EMAIL       imię nazwisko\n",
       "0  agnieszka.sołtys@email.com  Agnieszka   Sołtys\n",
       "1         jan.nowak@gmail.com        Jan    Nowak\n",
       "2        anna.nowak@email.com       Anna    Nowak"
      ]
     },
     "execution_count": 99,
     "metadata": {},
     "output_type": "execute_result"
    }
   ],
   "source": [
    "df"
   ]
  },
  {
   "cell_type": "code",
   "execution_count": 100,
   "id": "f5ccedd7-310e-4d90-87e7-d7a506852144",
   "metadata": {
    "tags": []
   },
   "outputs": [],
   "source": [
    "df.columns = df.columns.str.lower()"
   ]
  },
  {
   "cell_type": "markdown",
   "id": "9962a104-a13f-4cf9-b4d6-6ae49e32ff33",
   "metadata": {},
   "source": [
    "### zmiana wierszy"
   ]
  },
  {
   "cell_type": "code",
   "execution_count": null,
   "id": "0e2bee23-b412-44ec-a581-3997dc710159",
   "metadata": {
    "tags": []
   },
   "outputs": [],
   "source": [
    "df"
   ]
  },
  {
   "cell_type": "code",
   "execution_count": 101,
   "id": "fde33ff9-0bc5-4dfe-8830-84b455d4f615",
   "metadata": {
    "tags": []
   },
   "outputs": [],
   "source": [
    "df.loc[2] = [\"maria.kowalska@wp.pl\", \"Maria\", \"Kowalska\"]"
   ]
  },
  {
   "cell_type": "code",
   "execution_count": 103,
   "id": "6b295792-98b1-460b-91c3-8910e43d28da",
   "metadata": {
    "tags": []
   },
   "outputs": [
    {
     "data": {
      "text/html": [
       "<div>\n",
       "<style scoped>\n",
       "    .dataframe tbody tr th:only-of-type {\n",
       "        vertical-align: middle;\n",
       "    }\n",
       "\n",
       "    .dataframe tbody tr th {\n",
       "        vertical-align: top;\n",
       "    }\n",
       "\n",
       "    .dataframe thead th {\n",
       "        text-align: right;\n",
       "    }\n",
       "</style>\n",
       "<table border=\"1\" class=\"dataframe\">\n",
       "  <thead>\n",
       "    <tr style=\"text-align: right;\">\n",
       "      <th></th>\n",
       "      <th>email</th>\n",
       "      <th>imię</th>\n",
       "      <th>nazwisko</th>\n",
       "    </tr>\n",
       "  </thead>\n",
       "  <tbody>\n",
       "    <tr>\n",
       "      <th>0</th>\n",
       "      <td>agnieszka.sołtys@email.com</td>\n",
       "      <td>Agnieszka</td>\n",
       "      <td>Sołtys</td>\n",
       "    </tr>\n",
       "    <tr>\n",
       "      <th>1</th>\n",
       "      <td>jan.nowak@gmail.com</td>\n",
       "      <td>Jan</td>\n",
       "      <td>Nowak</td>\n",
       "    </tr>\n",
       "    <tr>\n",
       "      <th>2</th>\n",
       "      <td>maria.kowalska@wp.pl</td>\n",
       "      <td>Maria</td>\n",
       "      <td>Kowalska</td>\n",
       "    </tr>\n",
       "  </tbody>\n",
       "</table>\n",
       "</div>"
      ],
      "text/plain": [
       "                        email       imię  nazwisko\n",
       "0  agnieszka.sołtys@email.com  Agnieszka    Sołtys\n",
       "1         jan.nowak@gmail.com        Jan     Nowak\n",
       "2        maria.kowalska@wp.pl      Maria  Kowalska"
      ]
     },
     "execution_count": 103,
     "metadata": {},
     "output_type": "execute_result"
    }
   ],
   "source": [
    "df"
   ]
  },
  {
   "cell_type": "code",
   "execution_count": 104,
   "id": "f5ac9635-5c18-43ef-ba37-61f884e36c1e",
   "metadata": {
    "tags": []
   },
   "outputs": [],
   "source": [
    "df.loc[2, [\"imię\", \"nazwisko\"]] = [\"Anna\", \"Nowak\"]"
   ]
  },
  {
   "cell_type": "code",
   "execution_count": 105,
   "id": "3bf6865d-4b31-4395-9004-043c31831053",
   "metadata": {
    "tags": []
   },
   "outputs": [
    {
     "data": {
      "text/html": [
       "<div>\n",
       "<style scoped>\n",
       "    .dataframe tbody tr th:only-of-type {\n",
       "        vertical-align: middle;\n",
       "    }\n",
       "\n",
       "    .dataframe tbody tr th {\n",
       "        vertical-align: top;\n",
       "    }\n",
       "\n",
       "    .dataframe thead th {\n",
       "        text-align: right;\n",
       "    }\n",
       "</style>\n",
       "<table border=\"1\" class=\"dataframe\">\n",
       "  <thead>\n",
       "    <tr style=\"text-align: right;\">\n",
       "      <th></th>\n",
       "      <th>email</th>\n",
       "      <th>imię</th>\n",
       "      <th>nazwisko</th>\n",
       "    </tr>\n",
       "  </thead>\n",
       "  <tbody>\n",
       "    <tr>\n",
       "      <th>0</th>\n",
       "      <td>agnieszka.sołtys@email.com</td>\n",
       "      <td>Agnieszka</td>\n",
       "      <td>Sołtys</td>\n",
       "    </tr>\n",
       "    <tr>\n",
       "      <th>1</th>\n",
       "      <td>jan.nowak@gmail.com</td>\n",
       "      <td>Jan</td>\n",
       "      <td>Nowak</td>\n",
       "    </tr>\n",
       "    <tr>\n",
       "      <th>2</th>\n",
       "      <td>maria.kowalska@wp.pl</td>\n",
       "      <td>Anna</td>\n",
       "      <td>Nowak</td>\n",
       "    </tr>\n",
       "  </tbody>\n",
       "</table>\n",
       "</div>"
      ],
      "text/plain": [
       "                        email       imię nazwisko\n",
       "0  agnieszka.sołtys@email.com  Agnieszka   Sołtys\n",
       "1         jan.nowak@gmail.com        Jan    Nowak\n",
       "2        maria.kowalska@wp.pl       Anna    Nowak"
      ]
     },
     "execution_count": 105,
     "metadata": {},
     "output_type": "execute_result"
    }
   ],
   "source": [
    "df"
   ]
  },
  {
   "cell_type": "markdown",
   "id": "18b1da5d-6ac0-47e2-996b-71c222aeb39b",
   "metadata": {},
   "source": [
    "### uwaga, tutaj potrzebne loc!"
   ]
  },
  {
   "cell_type": "code",
   "execution_count": 106,
   "id": "cb8c79a2-8174-494b-80fb-73458be71d72",
   "metadata": {
    "tags": []
   },
   "outputs": [],
   "source": [
    "filt = (df[\"email\"] == \"maria.kowalska@wp.pl\")"
   ]
  },
  {
   "cell_type": "code",
   "execution_count": 107,
   "id": "c7a31224-89ff-46fb-864a-c96325054205",
   "metadata": {
    "tags": []
   },
   "outputs": [
    {
     "data": {
      "text/html": [
       "<div>\n",
       "<style scoped>\n",
       "    .dataframe tbody tr th:only-of-type {\n",
       "        vertical-align: middle;\n",
       "    }\n",
       "\n",
       "    .dataframe tbody tr th {\n",
       "        vertical-align: top;\n",
       "    }\n",
       "\n",
       "    .dataframe thead th {\n",
       "        text-align: right;\n",
       "    }\n",
       "</style>\n",
       "<table border=\"1\" class=\"dataframe\">\n",
       "  <thead>\n",
       "    <tr style=\"text-align: right;\">\n",
       "      <th></th>\n",
       "      <th>email</th>\n",
       "      <th>imię</th>\n",
       "      <th>nazwisko</th>\n",
       "    </tr>\n",
       "  </thead>\n",
       "  <tbody>\n",
       "    <tr>\n",
       "      <th>2</th>\n",
       "      <td>maria.kowalska@wp.pl</td>\n",
       "      <td>Anna</td>\n",
       "      <td>Nowak</td>\n",
       "    </tr>\n",
       "  </tbody>\n",
       "</table>\n",
       "</div>"
      ],
      "text/plain": [
       "                  email  imię nazwisko\n",
       "2  maria.kowalska@wp.pl  Anna    Nowak"
      ]
     },
     "execution_count": 107,
     "metadata": {},
     "output_type": "execute_result"
    }
   ],
   "source": [
    "df[filt]"
   ]
  },
  {
   "cell_type": "code",
   "execution_count": 108,
   "id": "e4450c02-02b3-4e22-8a2b-0749dd92c3a8",
   "metadata": {
    "tags": []
   },
   "outputs": [],
   "source": [
    "# df[filt, \"email\"] = \"anna.nowak@email.com\""
   ]
  },
  {
   "cell_type": "code",
   "execution_count": 109,
   "id": "4ea24824-151c-420c-852d-07b07391522d",
   "metadata": {
    "tags": []
   },
   "outputs": [],
   "source": [
    "df.loc[filt, \"email\"] = \"Anna.nowak@email.com\""
   ]
  },
  {
   "cell_type": "code",
   "execution_count": 110,
   "id": "f4006d64-e8f4-4c24-8725-6ac4522565d9",
   "metadata": {
    "tags": []
   },
   "outputs": [
    {
     "data": {
      "text/html": [
       "<div>\n",
       "<style scoped>\n",
       "    .dataframe tbody tr th:only-of-type {\n",
       "        vertical-align: middle;\n",
       "    }\n",
       "\n",
       "    .dataframe tbody tr th {\n",
       "        vertical-align: top;\n",
       "    }\n",
       "\n",
       "    .dataframe thead th {\n",
       "        text-align: right;\n",
       "    }\n",
       "</style>\n",
       "<table border=\"1\" class=\"dataframe\">\n",
       "  <thead>\n",
       "    <tr style=\"text-align: right;\">\n",
       "      <th></th>\n",
       "      <th>email</th>\n",
       "      <th>imię</th>\n",
       "      <th>nazwisko</th>\n",
       "    </tr>\n",
       "  </thead>\n",
       "  <tbody>\n",
       "    <tr>\n",
       "      <th>0</th>\n",
       "      <td>agnieszka.sołtys@email.com</td>\n",
       "      <td>Agnieszka</td>\n",
       "      <td>Sołtys</td>\n",
       "    </tr>\n",
       "    <tr>\n",
       "      <th>1</th>\n",
       "      <td>jan.nowak@gmail.com</td>\n",
       "      <td>Jan</td>\n",
       "      <td>Nowak</td>\n",
       "    </tr>\n",
       "    <tr>\n",
       "      <th>2</th>\n",
       "      <td>Anna.nowak@email.com</td>\n",
       "      <td>Anna</td>\n",
       "      <td>Nowak</td>\n",
       "    </tr>\n",
       "  </tbody>\n",
       "</table>\n",
       "</div>"
      ],
      "text/plain": [
       "                        email       imię nazwisko\n",
       "0  agnieszka.sołtys@email.com  Agnieszka   Sołtys\n",
       "1         jan.nowak@gmail.com        Jan    Nowak\n",
       "2        Anna.nowak@email.com       Anna    Nowak"
      ]
     },
     "execution_count": 110,
     "metadata": {},
     "output_type": "execute_result"
    }
   ],
   "source": [
    "df"
   ]
  },
  {
   "cell_type": "markdown",
   "id": "403b846b-fa06-47e2-9fa1-6795df73513e",
   "metadata": {},
   "source": [
    "### zmiana kolumn"
   ]
  },
  {
   "cell_type": "code",
   "execution_count": 111,
   "id": "7aca5d29-e3dc-4504-af41-73290aa59960",
   "metadata": {
    "tags": []
   },
   "outputs": [],
   "source": [
    "df[\"email\"] = df[\"email\"].str.lower()"
   ]
  },
  {
   "cell_type": "code",
   "execution_count": 112,
   "id": "58539d27-621e-4be7-95eb-cd5ede573dbc",
   "metadata": {
    "tags": []
   },
   "outputs": [
    {
     "data": {
      "text/html": [
       "<div>\n",
       "<style scoped>\n",
       "    .dataframe tbody tr th:only-of-type {\n",
       "        vertical-align: middle;\n",
       "    }\n",
       "\n",
       "    .dataframe tbody tr th {\n",
       "        vertical-align: top;\n",
       "    }\n",
       "\n",
       "    .dataframe thead th {\n",
       "        text-align: right;\n",
       "    }\n",
       "</style>\n",
       "<table border=\"1\" class=\"dataframe\">\n",
       "  <thead>\n",
       "    <tr style=\"text-align: right;\">\n",
       "      <th></th>\n",
       "      <th>email</th>\n",
       "      <th>imię</th>\n",
       "      <th>nazwisko</th>\n",
       "    </tr>\n",
       "  </thead>\n",
       "  <tbody>\n",
       "    <tr>\n",
       "      <th>0</th>\n",
       "      <td>agnieszka.sołtys@email.com</td>\n",
       "      <td>Agnieszka</td>\n",
       "      <td>Sołtys</td>\n",
       "    </tr>\n",
       "    <tr>\n",
       "      <th>1</th>\n",
       "      <td>jan.nowak@gmail.com</td>\n",
       "      <td>Jan</td>\n",
       "      <td>Nowak</td>\n",
       "    </tr>\n",
       "    <tr>\n",
       "      <th>2</th>\n",
       "      <td>anna.nowak@email.com</td>\n",
       "      <td>Anna</td>\n",
       "      <td>Nowak</td>\n",
       "    </tr>\n",
       "  </tbody>\n",
       "</table>\n",
       "</div>"
      ],
      "text/plain": [
       "                        email       imię nazwisko\n",
       "0  agnieszka.sołtys@email.com  Agnieszka   Sołtys\n",
       "1         jan.nowak@gmail.com        Jan    Nowak\n",
       "2        anna.nowak@email.com       Anna    Nowak"
      ]
     },
     "execution_count": 112,
     "metadata": {},
     "output_type": "execute_result"
    }
   ],
   "source": [
    "df"
   ]
  },
  {
   "cell_type": "markdown",
   "id": "039bcff2-2f2b-4a48-83fa-45cdca621f81",
   "metadata": {},
   "source": [
    "### apply"
   ]
  },
  {
   "cell_type": "markdown",
   "id": "8047dd1d-9628-4648-a048-bb347df0e9d0",
   "metadata": {},
   "source": [
    "Serie - użycie funkcji dla każdego elementu serii"
   ]
  },
  {
   "cell_type": "code",
   "execution_count": 113,
   "id": "7e2515c0-ea6b-4e5d-91e4-660dbfe52ca6",
   "metadata": {
    "tags": []
   },
   "outputs": [
    {
     "data": {
      "text/html": [
       "<div>\n",
       "<style scoped>\n",
       "    .dataframe tbody tr th:only-of-type {\n",
       "        vertical-align: middle;\n",
       "    }\n",
       "\n",
       "    .dataframe tbody tr th {\n",
       "        vertical-align: top;\n",
       "    }\n",
       "\n",
       "    .dataframe thead th {\n",
       "        text-align: right;\n",
       "    }\n",
       "</style>\n",
       "<table border=\"1\" class=\"dataframe\">\n",
       "  <thead>\n",
       "    <tr style=\"text-align: right;\">\n",
       "      <th></th>\n",
       "      <th>email</th>\n",
       "      <th>imię</th>\n",
       "      <th>nazwisko</th>\n",
       "    </tr>\n",
       "  </thead>\n",
       "  <tbody>\n",
       "    <tr>\n",
       "      <th>0</th>\n",
       "      <td>agnieszka.sołtys@email.com</td>\n",
       "      <td>Agnieszka</td>\n",
       "      <td>Sołtys</td>\n",
       "    </tr>\n",
       "    <tr>\n",
       "      <th>1</th>\n",
       "      <td>jan.nowak@gmail.com</td>\n",
       "      <td>Jan</td>\n",
       "      <td>Nowak</td>\n",
       "    </tr>\n",
       "    <tr>\n",
       "      <th>2</th>\n",
       "      <td>anna.nowak@email.com</td>\n",
       "      <td>Anna</td>\n",
       "      <td>Nowak</td>\n",
       "    </tr>\n",
       "  </tbody>\n",
       "</table>\n",
       "</div>"
      ],
      "text/plain": [
       "                        email       imię nazwisko\n",
       "0  agnieszka.sołtys@email.com  Agnieszka   Sołtys\n",
       "1         jan.nowak@gmail.com        Jan    Nowak\n",
       "2        anna.nowak@email.com       Anna    Nowak"
      ]
     },
     "execution_count": 113,
     "metadata": {},
     "output_type": "execute_result"
    }
   ],
   "source": [
    "df"
   ]
  },
  {
   "cell_type": "code",
   "execution_count": 114,
   "id": "4ab463f7-783e-44c0-ad48-e8ed667cba4e",
   "metadata": {
    "tags": []
   },
   "outputs": [
    {
     "data": {
      "text/plain": [
       "0    26\n",
       "1    19\n",
       "2    20\n",
       "Name: email, dtype: int64"
      ]
     },
     "execution_count": 114,
     "metadata": {},
     "output_type": "execute_result"
    }
   ],
   "source": [
    "df[\"email\"].apply(len)"
   ]
  },
  {
   "cell_type": "code",
   "execution_count": 115,
   "id": "43fd2c9a-a43b-4627-8bd6-2118b872631e",
   "metadata": {
    "tags": []
   },
   "outputs": [],
   "source": [
    "def update_email(email):\n",
    "    return email.replace(\".com\", \".pl\")"
   ]
  },
  {
   "cell_type": "code",
   "execution_count": 116,
   "id": "66054bd4-7688-4745-817c-b31be4ebf4a7",
   "metadata": {
    "tags": []
   },
   "outputs": [],
   "source": [
    "df[\"email\"] = df[\"email\"].apply(update_email)"
   ]
  },
  {
   "cell_type": "code",
   "execution_count": 117,
   "id": "9d7dc5ca-a988-4984-b186-b1e82749e059",
   "metadata": {
    "tags": []
   },
   "outputs": [
    {
     "data": {
      "text/html": [
       "<div>\n",
       "<style scoped>\n",
       "    .dataframe tbody tr th:only-of-type {\n",
       "        vertical-align: middle;\n",
       "    }\n",
       "\n",
       "    .dataframe tbody tr th {\n",
       "        vertical-align: top;\n",
       "    }\n",
       "\n",
       "    .dataframe thead th {\n",
       "        text-align: right;\n",
       "    }\n",
       "</style>\n",
       "<table border=\"1\" class=\"dataframe\">\n",
       "  <thead>\n",
       "    <tr style=\"text-align: right;\">\n",
       "      <th></th>\n",
       "      <th>email</th>\n",
       "      <th>imię</th>\n",
       "      <th>nazwisko</th>\n",
       "    </tr>\n",
       "  </thead>\n",
       "  <tbody>\n",
       "    <tr>\n",
       "      <th>0</th>\n",
       "      <td>agnieszka.sołtys@email.pl</td>\n",
       "      <td>Agnieszka</td>\n",
       "      <td>Sołtys</td>\n",
       "    </tr>\n",
       "    <tr>\n",
       "      <th>1</th>\n",
       "      <td>jan.nowak@gmail.pl</td>\n",
       "      <td>Jan</td>\n",
       "      <td>Nowak</td>\n",
       "    </tr>\n",
       "    <tr>\n",
       "      <th>2</th>\n",
       "      <td>anna.nowak@email.pl</td>\n",
       "      <td>Anna</td>\n",
       "      <td>Nowak</td>\n",
       "    </tr>\n",
       "  </tbody>\n",
       "</table>\n",
       "</div>"
      ],
      "text/plain": [
       "                       email       imię nazwisko\n",
       "0  agnieszka.sołtys@email.pl  Agnieszka   Sołtys\n",
       "1         jan.nowak@gmail.pl        Jan    Nowak\n",
       "2        anna.nowak@email.pl       Anna    Nowak"
      ]
     },
     "execution_count": 117,
     "metadata": {},
     "output_type": "execute_result"
    }
   ],
   "source": [
    "df"
   ]
  },
  {
   "cell_type": "markdown",
   "id": "1960b2f5-6f10-4d9f-bfd5-340ee197366a",
   "metadata": {},
   "source": [
    "funkcja lambda"
   ]
  },
  {
   "cell_type": "code",
   "execution_count": 118,
   "id": "eb7198e4-e472-4a13-a50c-3face8165205",
   "metadata": {
    "tags": []
   },
   "outputs": [],
   "source": [
    "df[\"email\"] = df[\"email\"].apply(lambda x: x.replace(\".pl\", \".com\"))"
   ]
  },
  {
   "cell_type": "code",
   "execution_count": 119,
   "id": "9c530beb-1e3c-4373-95e6-35bcbcaa1729",
   "metadata": {
    "tags": []
   },
   "outputs": [
    {
     "data": {
      "text/html": [
       "<div>\n",
       "<style scoped>\n",
       "    .dataframe tbody tr th:only-of-type {\n",
       "        vertical-align: middle;\n",
       "    }\n",
       "\n",
       "    .dataframe tbody tr th {\n",
       "        vertical-align: top;\n",
       "    }\n",
       "\n",
       "    .dataframe thead th {\n",
       "        text-align: right;\n",
       "    }\n",
       "</style>\n",
       "<table border=\"1\" class=\"dataframe\">\n",
       "  <thead>\n",
       "    <tr style=\"text-align: right;\">\n",
       "      <th></th>\n",
       "      <th>email</th>\n",
       "      <th>imię</th>\n",
       "      <th>nazwisko</th>\n",
       "    </tr>\n",
       "  </thead>\n",
       "  <tbody>\n",
       "    <tr>\n",
       "      <th>0</th>\n",
       "      <td>agnieszka.sołtys@email.com</td>\n",
       "      <td>Agnieszka</td>\n",
       "      <td>Sołtys</td>\n",
       "    </tr>\n",
       "    <tr>\n",
       "      <th>1</th>\n",
       "      <td>jan.nowak@gmail.com</td>\n",
       "      <td>Jan</td>\n",
       "      <td>Nowak</td>\n",
       "    </tr>\n",
       "    <tr>\n",
       "      <th>2</th>\n",
       "      <td>anna.nowak@email.com</td>\n",
       "      <td>Anna</td>\n",
       "      <td>Nowak</td>\n",
       "    </tr>\n",
       "  </tbody>\n",
       "</table>\n",
       "</div>"
      ],
      "text/plain": [
       "                        email       imię nazwisko\n",
       "0  agnieszka.sołtys@email.com  Agnieszka   Sołtys\n",
       "1         jan.nowak@gmail.com        Jan    Nowak\n",
       "2        anna.nowak@email.com       Anna    Nowak"
      ]
     },
     "execution_count": 119,
     "metadata": {},
     "output_type": "execute_result"
    }
   ],
   "source": [
    "df"
   ]
  },
  {
   "cell_type": "markdown",
   "id": "a199f9a8-bd86-4981-8e28-2a3ab7ab8072",
   "metadata": {},
   "source": [
    "apply na ramkach danych (Data Frame) - użycie funkcji dla każdego wiersza lub kolumny"
   ]
  },
  {
   "cell_type": "code",
   "execution_count": 120,
   "id": "91925b98-fb9d-4964-bfde-dbe42975eaa2",
   "metadata": {
    "tags": []
   },
   "outputs": [
    {
     "data": {
      "text/plain": [
       "email       3\n",
       "imię        3\n",
       "nazwisko    3\n",
       "dtype: int64"
      ]
     },
     "execution_count": 120,
     "metadata": {},
     "output_type": "execute_result"
    }
   ],
   "source": [
    "df.apply(len) # długość każdej kolumny"
   ]
  },
  {
   "cell_type": "code",
   "execution_count": 121,
   "id": "b0cb17ed-613f-4e37-a4ea-141d37ce2aa0",
   "metadata": {
    "tags": []
   },
   "outputs": [
    {
     "data": {
      "text/plain": [
       "0    3\n",
       "1    3\n",
       "2    3\n",
       "dtype: int64"
      ]
     },
     "execution_count": 121,
     "metadata": {},
     "output_type": "execute_result"
    }
   ],
   "source": [
    "df.apply(len, axis = \"columns\") # długość każdego wiersza"
   ]
  },
  {
   "cell_type": "code",
   "execution_count": 122,
   "id": "4871b667-d3fa-45c5-bb4d-940462d86f0a",
   "metadata": {
    "tags": []
   },
   "outputs": [
    {
     "data": {
      "text/plain": [
       "email       jan.nowak@gmail.com\n",
       "imię                        Jan\n",
       "nazwisko                 Sołtys\n",
       "dtype: object"
      ]
     },
     "execution_count": 122,
     "metadata": {},
     "output_type": "execute_result"
    }
   ],
   "source": [
    "df.apply(lambda x: x.max()) # wg alfabetu"
   ]
  },
  {
   "cell_type": "markdown",
   "id": "9ff2dcb0-0acf-4e25-bd0e-a975d8db659a",
   "metadata": {},
   "source": [
    "### applymap - tylko dla ramek danych (Data Frames), użycie funkcji dla każdego elementu "
   ]
  },
  {
   "cell_type": "code",
   "execution_count": 123,
   "id": "da5299a7-1cc8-47f2-aa23-281fc6a6ca15",
   "metadata": {
    "tags": []
   },
   "outputs": [
    {
     "data": {
      "text/html": [
       "<div>\n",
       "<style scoped>\n",
       "    .dataframe tbody tr th:only-of-type {\n",
       "        vertical-align: middle;\n",
       "    }\n",
       "\n",
       "    .dataframe tbody tr th {\n",
       "        vertical-align: top;\n",
       "    }\n",
       "\n",
       "    .dataframe thead th {\n",
       "        text-align: right;\n",
       "    }\n",
       "</style>\n",
       "<table border=\"1\" class=\"dataframe\">\n",
       "  <thead>\n",
       "    <tr style=\"text-align: right;\">\n",
       "      <th></th>\n",
       "      <th>email</th>\n",
       "      <th>imię</th>\n",
       "      <th>nazwisko</th>\n",
       "    </tr>\n",
       "  </thead>\n",
       "  <tbody>\n",
       "    <tr>\n",
       "      <th>0</th>\n",
       "      <td>26</td>\n",
       "      <td>9</td>\n",
       "      <td>6</td>\n",
       "    </tr>\n",
       "    <tr>\n",
       "      <th>1</th>\n",
       "      <td>19</td>\n",
       "      <td>3</td>\n",
       "      <td>5</td>\n",
       "    </tr>\n",
       "    <tr>\n",
       "      <th>2</th>\n",
       "      <td>20</td>\n",
       "      <td>4</td>\n",
       "      <td>5</td>\n",
       "    </tr>\n",
       "  </tbody>\n",
       "</table>\n",
       "</div>"
      ],
      "text/plain": [
       "   email  imię  nazwisko\n",
       "0     26     9         6\n",
       "1     19     3         5\n",
       "2     20     4         5"
      ]
     },
     "execution_count": 123,
     "metadata": {},
     "output_type": "execute_result"
    }
   ],
   "source": [
    "df.applymap(len)"
   ]
  },
  {
   "cell_type": "markdown",
   "id": "45b66101-3099-4e95-98fb-4da43edaf7b1",
   "metadata": {},
   "source": [
    "### map - tylko dla serii, podstaw wartości, uwaga na NAN!"
   ]
  },
  {
   "cell_type": "code",
   "execution_count": 124,
   "id": "60920d31-8c66-413e-adeb-268e2312fd7e",
   "metadata": {
    "tags": []
   },
   "outputs": [
    {
     "data": {
      "text/plain": [
       "0       NaN\n",
       "1    Janusz\n",
       "2    Joanna\n",
       "Name: imię, dtype: object"
      ]
     },
     "execution_count": 124,
     "metadata": {},
     "output_type": "execute_result"
    }
   ],
   "source": [
    "df[\"imię\"].map({'Jan':'Janusz', 'Anna':\"Joanna\"})"
   ]
  },
  {
   "cell_type": "markdown",
   "id": "6f4bfd6b-5c69-423a-bc6c-c35d8f3ed36f",
   "metadata": {},
   "source": [
    "### replace"
   ]
  },
  {
   "cell_type": "code",
   "execution_count": 125,
   "id": "fc6e6687-199c-4674-86e2-cdfdf069edbd",
   "metadata": {
    "tags": []
   },
   "outputs": [
    {
     "data": {
      "text/plain": [
       "0    Agnieszka\n",
       "1       Janusz\n",
       "2       Joanna\n",
       "Name: imię, dtype: object"
      ]
     },
     "execution_count": 125,
     "metadata": {},
     "output_type": "execute_result"
    }
   ],
   "source": [
    "df[\"imię\"].replace({'Jan':'Janusz', 'Anna':\"Joanna\"})"
   ]
  },
  {
   "cell_type": "code",
   "execution_count": 126,
   "id": "bf61b25d-a696-4f3e-8f0a-55379cfdc36b",
   "metadata": {
    "tags": []
   },
   "outputs": [],
   "source": [
    "df[\"imię\"] = df[\"imię\"].replace({'Jan':'Janusz', 'Anna':\"Joanna\"})"
   ]
  },
  {
   "cell_type": "code",
   "execution_count": 127,
   "id": "0780da4d-64ff-4368-bd90-e19182201c3a",
   "metadata": {
    "tags": []
   },
   "outputs": [
    {
     "data": {
      "text/html": [
       "<div>\n",
       "<style scoped>\n",
       "    .dataframe tbody tr th:only-of-type {\n",
       "        vertical-align: middle;\n",
       "    }\n",
       "\n",
       "    .dataframe tbody tr th {\n",
       "        vertical-align: top;\n",
       "    }\n",
       "\n",
       "    .dataframe thead th {\n",
       "        text-align: right;\n",
       "    }\n",
       "</style>\n",
       "<table border=\"1\" class=\"dataframe\">\n",
       "  <thead>\n",
       "    <tr style=\"text-align: right;\">\n",
       "      <th></th>\n",
       "      <th>email</th>\n",
       "      <th>imię</th>\n",
       "      <th>nazwisko</th>\n",
       "    </tr>\n",
       "  </thead>\n",
       "  <tbody>\n",
       "    <tr>\n",
       "      <th>0</th>\n",
       "      <td>agnieszka.sołtys@email.com</td>\n",
       "      <td>Agnieszka</td>\n",
       "      <td>Sołtys</td>\n",
       "    </tr>\n",
       "    <tr>\n",
       "      <th>1</th>\n",
       "      <td>jan.nowak@gmail.com</td>\n",
       "      <td>Janusz</td>\n",
       "      <td>Nowak</td>\n",
       "    </tr>\n",
       "    <tr>\n",
       "      <th>2</th>\n",
       "      <td>anna.nowak@email.com</td>\n",
       "      <td>Joanna</td>\n",
       "      <td>Nowak</td>\n",
       "    </tr>\n",
       "  </tbody>\n",
       "</table>\n",
       "</div>"
      ],
      "text/plain": [
       "                        email       imię nazwisko\n",
       "0  agnieszka.sołtys@email.com  Agnieszka   Sołtys\n",
       "1         jan.nowak@gmail.com     Janusz    Nowak\n",
       "2        anna.nowak@email.com     Joanna    Nowak"
      ]
     },
     "execution_count": 127,
     "metadata": {},
     "output_type": "execute_result"
    }
   ],
   "source": [
    "df"
   ]
  },
  {
   "cell_type": "markdown",
   "id": "d49f60dd-43c5-4953-85cc-588d09ed7434",
   "metadata": {},
   "source": [
    "## 8. Obsługa obserwacji brakujących"
   ]
  },
  {
   "cell_type": "markdown",
   "id": "3926a2dc-a90f-4097-b769-2980dca6b8fb",
   "metadata": {},
   "source": [
    "usuwanie braków danych"
   ]
  },
  {
   "cell_type": "code",
   "execution_count": 128,
   "id": "4e4cbfeb-fb18-4238-8748-cf2ba7799e29",
   "metadata": {
    "tags": []
   },
   "outputs": [],
   "source": [
    "osoby1 = {\n",
    "    'imię': ['Agnieszka', 'Jan', 'Anna', 'Janusz', np.nan, None, 'NA'],\n",
    "    'nazwisko': ['Sołtys', 'Kowalski', 'Kowalska', 'Nowak', np.nan, pd.NaT, 'Missing'],\n",
    "    'email': ['agnieszka.soltys@email.com', 'jan.kowalski@wp.pl', 'anna.kowalska@wp.pl', 'januszek@email.com', None, \"antek.nowak@gmail.com\", np.nan],\n",
    "    'age': ['25', '55', '63', '36', None, None, 'Missing']\n",
    "}"
   ]
  },
  {
   "cell_type": "code",
   "execution_count": 129,
   "id": "bec1c9af-8719-4fb8-8fd3-54ab900f61a2",
   "metadata": {
    "tags": []
   },
   "outputs": [],
   "source": [
    "df1 = pd.DataFrame(osoby1)"
   ]
  },
  {
   "cell_type": "code",
   "execution_count": 130,
   "id": "9eb6dc58-ea33-415e-abf4-af60b3f67642",
   "metadata": {
    "tags": []
   },
   "outputs": [
    {
     "data": {
      "text/html": [
       "<div>\n",
       "<style scoped>\n",
       "    .dataframe tbody tr th:only-of-type {\n",
       "        vertical-align: middle;\n",
       "    }\n",
       "\n",
       "    .dataframe tbody tr th {\n",
       "        vertical-align: top;\n",
       "    }\n",
       "\n",
       "    .dataframe thead th {\n",
       "        text-align: right;\n",
       "    }\n",
       "</style>\n",
       "<table border=\"1\" class=\"dataframe\">\n",
       "  <thead>\n",
       "    <tr style=\"text-align: right;\">\n",
       "      <th></th>\n",
       "      <th>imię</th>\n",
       "      <th>nazwisko</th>\n",
       "      <th>email</th>\n",
       "      <th>age</th>\n",
       "    </tr>\n",
       "  </thead>\n",
       "  <tbody>\n",
       "    <tr>\n",
       "      <th>0</th>\n",
       "      <td>Agnieszka</td>\n",
       "      <td>Sołtys</td>\n",
       "      <td>agnieszka.soltys@email.com</td>\n",
       "      <td>25</td>\n",
       "    </tr>\n",
       "    <tr>\n",
       "      <th>1</th>\n",
       "      <td>Jan</td>\n",
       "      <td>Kowalski</td>\n",
       "      <td>jan.kowalski@wp.pl</td>\n",
       "      <td>55</td>\n",
       "    </tr>\n",
       "    <tr>\n",
       "      <th>2</th>\n",
       "      <td>Anna</td>\n",
       "      <td>Kowalska</td>\n",
       "      <td>anna.kowalska@wp.pl</td>\n",
       "      <td>63</td>\n",
       "    </tr>\n",
       "    <tr>\n",
       "      <th>3</th>\n",
       "      <td>Janusz</td>\n",
       "      <td>Nowak</td>\n",
       "      <td>januszek@email.com</td>\n",
       "      <td>36</td>\n",
       "    </tr>\n",
       "    <tr>\n",
       "      <th>4</th>\n",
       "      <td>NaN</td>\n",
       "      <td>NaN</td>\n",
       "      <td>None</td>\n",
       "      <td>None</td>\n",
       "    </tr>\n",
       "    <tr>\n",
       "      <th>5</th>\n",
       "      <td>None</td>\n",
       "      <td>NaT</td>\n",
       "      <td>antek.nowak@gmail.com</td>\n",
       "      <td>None</td>\n",
       "    </tr>\n",
       "    <tr>\n",
       "      <th>6</th>\n",
       "      <td>NA</td>\n",
       "      <td>Missing</td>\n",
       "      <td>NaN</td>\n",
       "      <td>Missing</td>\n",
       "    </tr>\n",
       "  </tbody>\n",
       "</table>\n",
       "</div>"
      ],
      "text/plain": [
       "        imię  nazwisko                       email      age\n",
       "0  Agnieszka    Sołtys  agnieszka.soltys@email.com       25\n",
       "1        Jan  Kowalski          jan.kowalski@wp.pl       55\n",
       "2       Anna  Kowalska         anna.kowalska@wp.pl       63\n",
       "3     Janusz     Nowak          januszek@email.com       36\n",
       "4        NaN       NaN                        None     None\n",
       "5       None       NaT       antek.nowak@gmail.com     None\n",
       "6         NA   Missing                         NaN  Missing"
      ]
     },
     "execution_count": 130,
     "metadata": {},
     "output_type": "execute_result"
    }
   ],
   "source": [
    "df1"
   ]
  },
  {
   "cell_type": "code",
   "execution_count": 133,
   "id": "73c81b63-55af-4aee-8815-3d399498373f",
   "metadata": {
    "tags": []
   },
   "outputs": [
    {
     "data": {
      "text/html": [
       "<div>\n",
       "<style scoped>\n",
       "    .dataframe tbody tr th:only-of-type {\n",
       "        vertical-align: middle;\n",
       "    }\n",
       "\n",
       "    .dataframe tbody tr th {\n",
       "        vertical-align: top;\n",
       "    }\n",
       "\n",
       "    .dataframe thead th {\n",
       "        text-align: right;\n",
       "    }\n",
       "</style>\n",
       "<table border=\"1\" class=\"dataframe\">\n",
       "  <thead>\n",
       "    <tr style=\"text-align: right;\">\n",
       "      <th></th>\n",
       "      <th>imię</th>\n",
       "      <th>nazwisko</th>\n",
       "      <th>email</th>\n",
       "      <th>age</th>\n",
       "    </tr>\n",
       "  </thead>\n",
       "  <tbody>\n",
       "    <tr>\n",
       "      <th>0</th>\n",
       "      <td>False</td>\n",
       "      <td>False</td>\n",
       "      <td>False</td>\n",
       "      <td>False</td>\n",
       "    </tr>\n",
       "    <tr>\n",
       "      <th>1</th>\n",
       "      <td>False</td>\n",
       "      <td>False</td>\n",
       "      <td>False</td>\n",
       "      <td>False</td>\n",
       "    </tr>\n",
       "    <tr>\n",
       "      <th>2</th>\n",
       "      <td>False</td>\n",
       "      <td>False</td>\n",
       "      <td>False</td>\n",
       "      <td>False</td>\n",
       "    </tr>\n",
       "    <tr>\n",
       "      <th>3</th>\n",
       "      <td>False</td>\n",
       "      <td>False</td>\n",
       "      <td>False</td>\n",
       "      <td>False</td>\n",
       "    </tr>\n",
       "    <tr>\n",
       "      <th>4</th>\n",
       "      <td>True</td>\n",
       "      <td>True</td>\n",
       "      <td>True</td>\n",
       "      <td>True</td>\n",
       "    </tr>\n",
       "    <tr>\n",
       "      <th>5</th>\n",
       "      <td>True</td>\n",
       "      <td>True</td>\n",
       "      <td>False</td>\n",
       "      <td>True</td>\n",
       "    </tr>\n",
       "    <tr>\n",
       "      <th>6</th>\n",
       "      <td>False</td>\n",
       "      <td>False</td>\n",
       "      <td>True</td>\n",
       "      <td>False</td>\n",
       "    </tr>\n",
       "  </tbody>\n",
       "</table>\n",
       "</div>"
      ],
      "text/plain": [
       "    imię  nazwisko  email    age\n",
       "0  False     False  False  False\n",
       "1  False     False  False  False\n",
       "2  False     False  False  False\n",
       "3  False     False  False  False\n",
       "4   True      True   True   True\n",
       "5   True      True  False   True\n",
       "6  False     False   True  False"
      ]
     },
     "execution_count": 133,
     "metadata": {},
     "output_type": "execute_result"
    }
   ],
   "source": [
    "df1.isna()"
   ]
  },
  {
   "cell_type": "code",
   "execution_count": 134,
   "id": "117ff94f-7ad5-4183-9e18-071c0f642c65",
   "metadata": {
    "tags": []
   },
   "outputs": [
    {
     "data": {
      "text/html": [
       "<div>\n",
       "<style scoped>\n",
       "    .dataframe tbody tr th:only-of-type {\n",
       "        vertical-align: middle;\n",
       "    }\n",
       "\n",
       "    .dataframe tbody tr th {\n",
       "        vertical-align: top;\n",
       "    }\n",
       "\n",
       "    .dataframe thead th {\n",
       "        text-align: right;\n",
       "    }\n",
       "</style>\n",
       "<table border=\"1\" class=\"dataframe\">\n",
       "  <thead>\n",
       "    <tr style=\"text-align: right;\">\n",
       "      <th></th>\n",
       "      <th>imię</th>\n",
       "      <th>nazwisko</th>\n",
       "      <th>email</th>\n",
       "      <th>age</th>\n",
       "    </tr>\n",
       "  </thead>\n",
       "  <tbody>\n",
       "    <tr>\n",
       "      <th>0</th>\n",
       "      <td>Agnieszka</td>\n",
       "      <td>Sołtys</td>\n",
       "      <td>agnieszka.soltys@email.com</td>\n",
       "      <td>25</td>\n",
       "    </tr>\n",
       "    <tr>\n",
       "      <th>1</th>\n",
       "      <td>Jan</td>\n",
       "      <td>Kowalski</td>\n",
       "      <td>jan.kowalski@wp.pl</td>\n",
       "      <td>55</td>\n",
       "    </tr>\n",
       "    <tr>\n",
       "      <th>2</th>\n",
       "      <td>Anna</td>\n",
       "      <td>Kowalska</td>\n",
       "      <td>anna.kowalska@wp.pl</td>\n",
       "      <td>63</td>\n",
       "    </tr>\n",
       "    <tr>\n",
       "      <th>3</th>\n",
       "      <td>Janusz</td>\n",
       "      <td>Nowak</td>\n",
       "      <td>januszek@email.com</td>\n",
       "      <td>36</td>\n",
       "    </tr>\n",
       "  </tbody>\n",
       "</table>\n",
       "</div>"
      ],
      "text/plain": [
       "        imię  nazwisko                       email age\n",
       "0  Agnieszka    Sołtys  agnieszka.soltys@email.com  25\n",
       "1        Jan  Kowalski          jan.kowalski@wp.pl  55\n",
       "2       Anna  Kowalska         anna.kowalska@wp.pl  63\n",
       "3     Janusz     Nowak          januszek@email.com  36"
      ]
     },
     "execution_count": 134,
     "metadata": {},
     "output_type": "execute_result"
    }
   ],
   "source": [
    "df1.dropna()"
   ]
  },
  {
   "cell_type": "code",
   "execution_count": 135,
   "id": "1ad2bca3-7a09-49bf-85b2-2b015cfae3a5",
   "metadata": {
    "tags": []
   },
   "outputs": [
    {
     "data": {
      "text/html": [
       "<div>\n",
       "<style scoped>\n",
       "    .dataframe tbody tr th:only-of-type {\n",
       "        vertical-align: middle;\n",
       "    }\n",
       "\n",
       "    .dataframe tbody tr th {\n",
       "        vertical-align: top;\n",
       "    }\n",
       "\n",
       "    .dataframe thead th {\n",
       "        text-align: right;\n",
       "    }\n",
       "</style>\n",
       "<table border=\"1\" class=\"dataframe\">\n",
       "  <thead>\n",
       "    <tr style=\"text-align: right;\">\n",
       "      <th></th>\n",
       "      <th>imię</th>\n",
       "      <th>nazwisko</th>\n",
       "      <th>email</th>\n",
       "      <th>age</th>\n",
       "    </tr>\n",
       "  </thead>\n",
       "  <tbody>\n",
       "    <tr>\n",
       "      <th>0</th>\n",
       "      <td>Agnieszka</td>\n",
       "      <td>Sołtys</td>\n",
       "      <td>agnieszka.soltys@email.com</td>\n",
       "      <td>25</td>\n",
       "    </tr>\n",
       "    <tr>\n",
       "      <th>1</th>\n",
       "      <td>Jan</td>\n",
       "      <td>Kowalski</td>\n",
       "      <td>jan.kowalski@wp.pl</td>\n",
       "      <td>55</td>\n",
       "    </tr>\n",
       "    <tr>\n",
       "      <th>2</th>\n",
       "      <td>Anna</td>\n",
       "      <td>Kowalska</td>\n",
       "      <td>anna.kowalska@wp.pl</td>\n",
       "      <td>63</td>\n",
       "    </tr>\n",
       "    <tr>\n",
       "      <th>3</th>\n",
       "      <td>Janusz</td>\n",
       "      <td>Nowak</td>\n",
       "      <td>januszek@email.com</td>\n",
       "      <td>36</td>\n",
       "    </tr>\n",
       "  </tbody>\n",
       "</table>\n",
       "</div>"
      ],
      "text/plain": [
       "        imię  nazwisko                       email age\n",
       "0  Agnieszka    Sołtys  agnieszka.soltys@email.com  25\n",
       "1        Jan  Kowalski          jan.kowalski@wp.pl  55\n",
       "2       Anna  Kowalska         anna.kowalska@wp.pl  63\n",
       "3     Janusz     Nowak          januszek@email.com  36"
      ]
     },
     "execution_count": 135,
     "metadata": {},
     "output_type": "execute_result"
    }
   ],
   "source": [
    "df1.dropna(axis = \"index\", how = \"any\") # domyślne: usuń wiersze, gdzie chociaż jeden brak w danych"
   ]
  },
  {
   "cell_type": "code",
   "execution_count": 136,
   "id": "c06c8569-3df7-4de8-8a86-40cb5392de10",
   "metadata": {
    "tags": []
   },
   "outputs": [
    {
     "data": {
      "text/html": [
       "<div>\n",
       "<style scoped>\n",
       "    .dataframe tbody tr th:only-of-type {\n",
       "        vertical-align: middle;\n",
       "    }\n",
       "\n",
       "    .dataframe tbody tr th {\n",
       "        vertical-align: top;\n",
       "    }\n",
       "\n",
       "    .dataframe thead th {\n",
       "        text-align: right;\n",
       "    }\n",
       "</style>\n",
       "<table border=\"1\" class=\"dataframe\">\n",
       "  <thead>\n",
       "    <tr style=\"text-align: right;\">\n",
       "      <th></th>\n",
       "    </tr>\n",
       "  </thead>\n",
       "  <tbody>\n",
       "    <tr>\n",
       "      <th>0</th>\n",
       "    </tr>\n",
       "    <tr>\n",
       "      <th>1</th>\n",
       "    </tr>\n",
       "    <tr>\n",
       "      <th>2</th>\n",
       "    </tr>\n",
       "    <tr>\n",
       "      <th>3</th>\n",
       "    </tr>\n",
       "    <tr>\n",
       "      <th>4</th>\n",
       "    </tr>\n",
       "    <tr>\n",
       "      <th>5</th>\n",
       "    </tr>\n",
       "    <tr>\n",
       "      <th>6</th>\n",
       "    </tr>\n",
       "  </tbody>\n",
       "</table>\n",
       "</div>"
      ],
      "text/plain": [
       "Empty DataFrame\n",
       "Columns: []\n",
       "Index: [0, 1, 2, 3, 4, 5, 6]"
      ]
     },
     "execution_count": 136,
     "metadata": {},
     "output_type": "execute_result"
    }
   ],
   "source": [
    "df1.dropna(axis = \"columns\", how = \"any\")"
   ]
  },
  {
   "cell_type": "code",
   "execution_count": 137,
   "id": "0bc2b5ed-77b8-4924-a607-559a4362101a",
   "metadata": {
    "tags": []
   },
   "outputs": [
    {
     "data": {
      "text/html": [
       "<div>\n",
       "<style scoped>\n",
       "    .dataframe tbody tr th:only-of-type {\n",
       "        vertical-align: middle;\n",
       "    }\n",
       "\n",
       "    .dataframe tbody tr th {\n",
       "        vertical-align: top;\n",
       "    }\n",
       "\n",
       "    .dataframe thead th {\n",
       "        text-align: right;\n",
       "    }\n",
       "</style>\n",
       "<table border=\"1\" class=\"dataframe\">\n",
       "  <thead>\n",
       "    <tr style=\"text-align: right;\">\n",
       "      <th></th>\n",
       "      <th>imię</th>\n",
       "      <th>nazwisko</th>\n",
       "      <th>email</th>\n",
       "      <th>age</th>\n",
       "    </tr>\n",
       "  </thead>\n",
       "  <tbody>\n",
       "    <tr>\n",
       "      <th>0</th>\n",
       "      <td>Agnieszka</td>\n",
       "      <td>Sołtys</td>\n",
       "      <td>agnieszka.soltys@email.com</td>\n",
       "      <td>25</td>\n",
       "    </tr>\n",
       "    <tr>\n",
       "      <th>1</th>\n",
       "      <td>Jan</td>\n",
       "      <td>Kowalski</td>\n",
       "      <td>jan.kowalski@wp.pl</td>\n",
       "      <td>55</td>\n",
       "    </tr>\n",
       "    <tr>\n",
       "      <th>2</th>\n",
       "      <td>Anna</td>\n",
       "      <td>Kowalska</td>\n",
       "      <td>anna.kowalska@wp.pl</td>\n",
       "      <td>63</td>\n",
       "    </tr>\n",
       "    <tr>\n",
       "      <th>3</th>\n",
       "      <td>Janusz</td>\n",
       "      <td>Nowak</td>\n",
       "      <td>januszek@email.com</td>\n",
       "      <td>36</td>\n",
       "    </tr>\n",
       "    <tr>\n",
       "      <th>5</th>\n",
       "      <td>None</td>\n",
       "      <td>NaT</td>\n",
       "      <td>antek.nowak@gmail.com</td>\n",
       "      <td>None</td>\n",
       "    </tr>\n",
       "    <tr>\n",
       "      <th>6</th>\n",
       "      <td>NA</td>\n",
       "      <td>Missing</td>\n",
       "      <td>NaN</td>\n",
       "      <td>Missing</td>\n",
       "    </tr>\n",
       "  </tbody>\n",
       "</table>\n",
       "</div>"
      ],
      "text/plain": [
       "        imię  nazwisko                       email      age\n",
       "0  Agnieszka    Sołtys  agnieszka.soltys@email.com       25\n",
       "1        Jan  Kowalski          jan.kowalski@wp.pl       55\n",
       "2       Anna  Kowalska         anna.kowalska@wp.pl       63\n",
       "3     Janusz     Nowak          januszek@email.com       36\n",
       "5       None       NaT       antek.nowak@gmail.com     None\n",
       "6         NA   Missing                         NaN  Missing"
      ]
     },
     "execution_count": 137,
     "metadata": {},
     "output_type": "execute_result"
    }
   ],
   "source": [
    "df1.dropna(axis = \"index\", how = \"all\") "
   ]
  },
  {
   "cell_type": "code",
   "execution_count": 138,
   "id": "08c7821f-db70-4b6f-8283-62677314f606",
   "metadata": {
    "tags": []
   },
   "outputs": [],
   "source": [
    "df1.dropna(axis = \"index\", how = \"any\", subset = 'email', inplace = True) "
   ]
  },
  {
   "cell_type": "code",
   "execution_count": 139,
   "id": "4bda8100-de65-4345-b8dc-dd77d25c947e",
   "metadata": {
    "tags": []
   },
   "outputs": [
    {
     "data": {
      "text/html": [
       "<div>\n",
       "<style scoped>\n",
       "    .dataframe tbody tr th:only-of-type {\n",
       "        vertical-align: middle;\n",
       "    }\n",
       "\n",
       "    .dataframe tbody tr th {\n",
       "        vertical-align: top;\n",
       "    }\n",
       "\n",
       "    .dataframe thead th {\n",
       "        text-align: right;\n",
       "    }\n",
       "</style>\n",
       "<table border=\"1\" class=\"dataframe\">\n",
       "  <thead>\n",
       "    <tr style=\"text-align: right;\">\n",
       "      <th></th>\n",
       "      <th>imię</th>\n",
       "      <th>nazwisko</th>\n",
       "      <th>email</th>\n",
       "      <th>age</th>\n",
       "    </tr>\n",
       "  </thead>\n",
       "  <tbody>\n",
       "    <tr>\n",
       "      <th>0</th>\n",
       "      <td>Agnieszka</td>\n",
       "      <td>Sołtys</td>\n",
       "      <td>agnieszka.soltys@email.com</td>\n",
       "      <td>25</td>\n",
       "    </tr>\n",
       "    <tr>\n",
       "      <th>1</th>\n",
       "      <td>Jan</td>\n",
       "      <td>Kowalski</td>\n",
       "      <td>jan.kowalski@wp.pl</td>\n",
       "      <td>55</td>\n",
       "    </tr>\n",
       "    <tr>\n",
       "      <th>2</th>\n",
       "      <td>Anna</td>\n",
       "      <td>Kowalska</td>\n",
       "      <td>anna.kowalska@wp.pl</td>\n",
       "      <td>63</td>\n",
       "    </tr>\n",
       "    <tr>\n",
       "      <th>3</th>\n",
       "      <td>Janusz</td>\n",
       "      <td>Nowak</td>\n",
       "      <td>januszek@email.com</td>\n",
       "      <td>36</td>\n",
       "    </tr>\n",
       "    <tr>\n",
       "      <th>5</th>\n",
       "      <td>None</td>\n",
       "      <td>NaT</td>\n",
       "      <td>antek.nowak@gmail.com</td>\n",
       "      <td>None</td>\n",
       "    </tr>\n",
       "  </tbody>\n",
       "</table>\n",
       "</div>"
      ],
      "text/plain": [
       "        imię  nazwisko                       email   age\n",
       "0  Agnieszka    Sołtys  agnieszka.soltys@email.com    25\n",
       "1        Jan  Kowalski          jan.kowalski@wp.pl    55\n",
       "2       Anna  Kowalska         anna.kowalska@wp.pl    63\n",
       "3     Janusz     Nowak          januszek@email.com    36\n",
       "5       None       NaT       antek.nowak@gmail.com  None"
      ]
     },
     "execution_count": 139,
     "metadata": {},
     "output_type": "execute_result"
    }
   ],
   "source": [
    "df1"
   ]
  },
  {
   "cell_type": "code",
   "execution_count": 140,
   "id": "187bee26-e71a-4c7e-b176-621c3e64fd42",
   "metadata": {},
   "outputs": [
    {
     "data": {
      "text/html": [
       "<div>\n",
       "<style scoped>\n",
       "    .dataframe tbody tr th:only-of-type {\n",
       "        vertical-align: middle;\n",
       "    }\n",
       "\n",
       "    .dataframe tbody tr th {\n",
       "        vertical-align: top;\n",
       "    }\n",
       "\n",
       "    .dataframe thead th {\n",
       "        text-align: right;\n",
       "    }\n",
       "</style>\n",
       "<table border=\"1\" class=\"dataframe\">\n",
       "  <thead>\n",
       "    <tr style=\"text-align: right;\">\n",
       "      <th></th>\n",
       "      <th>imię</th>\n",
       "      <th>nazwisko</th>\n",
       "      <th>email</th>\n",
       "      <th>age</th>\n",
       "    </tr>\n",
       "  </thead>\n",
       "  <tbody>\n",
       "    <tr>\n",
       "      <th>0</th>\n",
       "      <td>Agnieszka</td>\n",
       "      <td>Sołtys</td>\n",
       "      <td>agnieszka.soltys@email.com</td>\n",
       "      <td>25</td>\n",
       "    </tr>\n",
       "    <tr>\n",
       "      <th>1</th>\n",
       "      <td>Jan</td>\n",
       "      <td>Kowalski</td>\n",
       "      <td>jan.kowalski@wp.pl</td>\n",
       "      <td>55</td>\n",
       "    </tr>\n",
       "    <tr>\n",
       "      <th>2</th>\n",
       "      <td>Anna</td>\n",
       "      <td>Kowalska</td>\n",
       "      <td>anna.kowalska@wp.pl</td>\n",
       "      <td>63</td>\n",
       "    </tr>\n",
       "    <tr>\n",
       "      <th>3</th>\n",
       "      <td>Janusz</td>\n",
       "      <td>Nowak</td>\n",
       "      <td>januszek@email.com</td>\n",
       "      <td>36</td>\n",
       "    </tr>\n",
       "  </tbody>\n",
       "</table>\n",
       "</div>"
      ],
      "text/plain": [
       "        imię  nazwisko                       email age\n",
       "0  Agnieszka    Sołtys  agnieszka.soltys@email.com  25\n",
       "1        Jan  Kowalski          jan.kowalski@wp.pl  55\n",
       "2       Anna  Kowalska         anna.kowalska@wp.pl  63\n",
       "3     Janusz     Nowak          januszek@email.com  36"
      ]
     },
     "execution_count": 140,
     "metadata": {},
     "output_type": "execute_result"
    }
   ],
   "source": [
    "df1.dropna(axis = \"index\", how = \"any\", subset = ['email', 'imię']) "
   ]
  },
  {
   "cell_type": "markdown",
   "id": "7587f39b-b3d5-47b5-a398-ebcd4242964b",
   "metadata": {},
   "source": [
    "ujednolicenie braków"
   ]
  },
  {
   "cell_type": "code",
   "execution_count": 141,
   "id": "b104d6a7-bc93-4607-897f-980568d6cb57",
   "metadata": {
    "tags": []
   },
   "outputs": [],
   "source": [
    "df1 = pd.DataFrame(osoby1)"
   ]
  },
  {
   "cell_type": "code",
   "execution_count": 142,
   "id": "aca9b5b2-c653-4925-a7c9-c1199a37d60c",
   "metadata": {
    "tags": []
   },
   "outputs": [
    {
     "data": {
      "text/html": [
       "<div>\n",
       "<style scoped>\n",
       "    .dataframe tbody tr th:only-of-type {\n",
       "        vertical-align: middle;\n",
       "    }\n",
       "\n",
       "    .dataframe tbody tr th {\n",
       "        vertical-align: top;\n",
       "    }\n",
       "\n",
       "    .dataframe thead th {\n",
       "        text-align: right;\n",
       "    }\n",
       "</style>\n",
       "<table border=\"1\" class=\"dataframe\">\n",
       "  <thead>\n",
       "    <tr style=\"text-align: right;\">\n",
       "      <th></th>\n",
       "      <th>imię</th>\n",
       "      <th>nazwisko</th>\n",
       "      <th>email</th>\n",
       "      <th>age</th>\n",
       "    </tr>\n",
       "  </thead>\n",
       "  <tbody>\n",
       "    <tr>\n",
       "      <th>0</th>\n",
       "      <td>Agnieszka</td>\n",
       "      <td>Sołtys</td>\n",
       "      <td>agnieszka.soltys@email.com</td>\n",
       "      <td>25</td>\n",
       "    </tr>\n",
       "    <tr>\n",
       "      <th>1</th>\n",
       "      <td>Jan</td>\n",
       "      <td>Kowalski</td>\n",
       "      <td>jan.kowalski@wp.pl</td>\n",
       "      <td>55</td>\n",
       "    </tr>\n",
       "    <tr>\n",
       "      <th>2</th>\n",
       "      <td>Anna</td>\n",
       "      <td>Kowalska</td>\n",
       "      <td>anna.kowalska@wp.pl</td>\n",
       "      <td>63</td>\n",
       "    </tr>\n",
       "    <tr>\n",
       "      <th>3</th>\n",
       "      <td>Janusz</td>\n",
       "      <td>Nowak</td>\n",
       "      <td>januszek@email.com</td>\n",
       "      <td>36</td>\n",
       "    </tr>\n",
       "    <tr>\n",
       "      <th>4</th>\n",
       "      <td>NaN</td>\n",
       "      <td>NaN</td>\n",
       "      <td>None</td>\n",
       "      <td>None</td>\n",
       "    </tr>\n",
       "    <tr>\n",
       "      <th>5</th>\n",
       "      <td>None</td>\n",
       "      <td>NaT</td>\n",
       "      <td>antek.nowak@gmail.com</td>\n",
       "      <td>None</td>\n",
       "    </tr>\n",
       "    <tr>\n",
       "      <th>6</th>\n",
       "      <td>NaN</td>\n",
       "      <td>Missing</td>\n",
       "      <td>NaN</td>\n",
       "      <td>Missing</td>\n",
       "    </tr>\n",
       "  </tbody>\n",
       "</table>\n",
       "</div>"
      ],
      "text/plain": [
       "        imię  nazwisko                       email      age\n",
       "0  Agnieszka    Sołtys  agnieszka.soltys@email.com       25\n",
       "1        Jan  Kowalski          jan.kowalski@wp.pl       55\n",
       "2       Anna  Kowalska         anna.kowalska@wp.pl       63\n",
       "3     Janusz     Nowak          januszek@email.com       36\n",
       "4        NaN       NaN                        None     None\n",
       "5       None       NaT       antek.nowak@gmail.com     None\n",
       "6        NaN   Missing                         NaN  Missing"
      ]
     },
     "execution_count": 142,
     "metadata": {},
     "output_type": "execute_result"
    }
   ],
   "source": [
    "df1.replace('NA', np.nan)"
   ]
  },
  {
   "cell_type": "code",
   "execution_count": 143,
   "id": "8b5ebb73-d0a3-41e1-a9a3-f323a0982045",
   "metadata": {
    "tags": []
   },
   "outputs": [
    {
     "data": {
      "text/html": [
       "<div>\n",
       "<style scoped>\n",
       "    .dataframe tbody tr th:only-of-type {\n",
       "        vertical-align: middle;\n",
       "    }\n",
       "\n",
       "    .dataframe tbody tr th {\n",
       "        vertical-align: top;\n",
       "    }\n",
       "\n",
       "    .dataframe thead th {\n",
       "        text-align: right;\n",
       "    }\n",
       "</style>\n",
       "<table border=\"1\" class=\"dataframe\">\n",
       "  <thead>\n",
       "    <tr style=\"text-align: right;\">\n",
       "      <th></th>\n",
       "      <th>imię</th>\n",
       "      <th>nazwisko</th>\n",
       "      <th>email</th>\n",
       "      <th>age</th>\n",
       "    </tr>\n",
       "  </thead>\n",
       "  <tbody>\n",
       "    <tr>\n",
       "      <th>0</th>\n",
       "      <td>Agnieszka</td>\n",
       "      <td>Sołtys</td>\n",
       "      <td>agnieszka.soltys@email.com</td>\n",
       "      <td>25</td>\n",
       "    </tr>\n",
       "    <tr>\n",
       "      <th>1</th>\n",
       "      <td>Jan</td>\n",
       "      <td>Kowalski</td>\n",
       "      <td>jan.kowalski@wp.pl</td>\n",
       "      <td>55</td>\n",
       "    </tr>\n",
       "    <tr>\n",
       "      <th>2</th>\n",
       "      <td>Anna</td>\n",
       "      <td>Kowalska</td>\n",
       "      <td>anna.kowalska@wp.pl</td>\n",
       "      <td>63</td>\n",
       "    </tr>\n",
       "    <tr>\n",
       "      <th>3</th>\n",
       "      <td>Janusz</td>\n",
       "      <td>Nowak</td>\n",
       "      <td>januszek@email.com</td>\n",
       "      <td>36</td>\n",
       "    </tr>\n",
       "    <tr>\n",
       "      <th>4</th>\n",
       "      <td>NaN</td>\n",
       "      <td>NaN</td>\n",
       "      <td>None</td>\n",
       "      <td>None</td>\n",
       "    </tr>\n",
       "    <tr>\n",
       "      <th>5</th>\n",
       "      <td>None</td>\n",
       "      <td>NaT</td>\n",
       "      <td>antek.nowak@gmail.com</td>\n",
       "      <td>None</td>\n",
       "    </tr>\n",
       "    <tr>\n",
       "      <th>6</th>\n",
       "      <td>NA</td>\n",
       "      <td>NaN</td>\n",
       "      <td>NaN</td>\n",
       "      <td>NaN</td>\n",
       "    </tr>\n",
       "  </tbody>\n",
       "</table>\n",
       "</div>"
      ],
      "text/plain": [
       "        imię  nazwisko                       email   age\n",
       "0  Agnieszka    Sołtys  agnieszka.soltys@email.com    25\n",
       "1        Jan  Kowalski          jan.kowalski@wp.pl    55\n",
       "2       Anna  Kowalska         anna.kowalska@wp.pl    63\n",
       "3     Janusz     Nowak          januszek@email.com    36\n",
       "4        NaN       NaN                        None  None\n",
       "5       None       NaT       antek.nowak@gmail.com  None\n",
       "6         NA       NaN                         NaN   NaN"
      ]
     },
     "execution_count": 143,
     "metadata": {},
     "output_type": "execute_result"
    }
   ],
   "source": [
    "df1.replace('Missing', np.nan)"
   ]
  },
  {
   "cell_type": "code",
   "execution_count": 144,
   "id": "842abc38-88fb-4776-a56c-344a693af0ea",
   "metadata": {
    "tags": []
   },
   "outputs": [
    {
     "data": {
      "text/html": [
       "<div>\n",
       "<style scoped>\n",
       "    .dataframe tbody tr th:only-of-type {\n",
       "        vertical-align: middle;\n",
       "    }\n",
       "\n",
       "    .dataframe tbody tr th {\n",
       "        vertical-align: top;\n",
       "    }\n",
       "\n",
       "    .dataframe thead th {\n",
       "        text-align: right;\n",
       "    }\n",
       "</style>\n",
       "<table border=\"1\" class=\"dataframe\">\n",
       "  <thead>\n",
       "    <tr style=\"text-align: right;\">\n",
       "      <th></th>\n",
       "      <th>imię</th>\n",
       "      <th>nazwisko</th>\n",
       "      <th>email</th>\n",
       "      <th>age</th>\n",
       "    </tr>\n",
       "  </thead>\n",
       "  <tbody>\n",
       "    <tr>\n",
       "      <th>0</th>\n",
       "      <td>Agnieszka</td>\n",
       "      <td>Sołtys</td>\n",
       "      <td>agnieszka.soltys@email.com</td>\n",
       "      <td>25</td>\n",
       "    </tr>\n",
       "    <tr>\n",
       "      <th>1</th>\n",
       "      <td>Jan</td>\n",
       "      <td>Kowalski</td>\n",
       "      <td>jan.kowalski@wp.pl</td>\n",
       "      <td>55</td>\n",
       "    </tr>\n",
       "    <tr>\n",
       "      <th>2</th>\n",
       "      <td>Anna</td>\n",
       "      <td>Kowalska</td>\n",
       "      <td>anna.kowalska@wp.pl</td>\n",
       "      <td>63</td>\n",
       "    </tr>\n",
       "    <tr>\n",
       "      <th>3</th>\n",
       "      <td>Janusz</td>\n",
       "      <td>Nowak</td>\n",
       "      <td>januszek@email.com</td>\n",
       "      <td>36</td>\n",
       "    </tr>\n",
       "    <tr>\n",
       "      <th>4</th>\n",
       "      <td>NaN</td>\n",
       "      <td>NaN</td>\n",
       "      <td>None</td>\n",
       "      <td>None</td>\n",
       "    </tr>\n",
       "    <tr>\n",
       "      <th>5</th>\n",
       "      <td>None</td>\n",
       "      <td>NaT</td>\n",
       "      <td>antek.nowak@gmail.com</td>\n",
       "      <td>None</td>\n",
       "    </tr>\n",
       "    <tr>\n",
       "      <th>6</th>\n",
       "      <td>NA</td>\n",
       "      <td>Missing</td>\n",
       "      <td>NaN</td>\n",
       "      <td>Missing</td>\n",
       "    </tr>\n",
       "  </tbody>\n",
       "</table>\n",
       "</div>"
      ],
      "text/plain": [
       "        imię  nazwisko                       email      age\n",
       "0  Agnieszka    Sołtys  agnieszka.soltys@email.com       25\n",
       "1        Jan  Kowalski          jan.kowalski@wp.pl       55\n",
       "2       Anna  Kowalska         anna.kowalska@wp.pl       63\n",
       "3     Janusz     Nowak          januszek@email.com       36\n",
       "4        NaN       NaN                        None     None\n",
       "5       None       NaT       antek.nowak@gmail.com     None\n",
       "6         NA   Missing                         NaN  Missing"
      ]
     },
     "execution_count": 144,
     "metadata": {},
     "output_type": "execute_result"
    }
   ],
   "source": [
    "df1"
   ]
  },
  {
   "cell_type": "markdown",
   "id": "35739480-71ef-4009-907b-01306ce5aa28",
   "metadata": {},
   "source": [
    "wypełnianie braków"
   ]
  },
  {
   "cell_type": "code",
   "execution_count": 145,
   "id": "3923e4c2-6c1c-46a5-9a6e-f3d7c32825e5",
   "metadata": {
    "tags": []
   },
   "outputs": [
    {
     "data": {
      "text/html": [
       "<div>\n",
       "<style scoped>\n",
       "    .dataframe tbody tr th:only-of-type {\n",
       "        vertical-align: middle;\n",
       "    }\n",
       "\n",
       "    .dataframe tbody tr th {\n",
       "        vertical-align: top;\n",
       "    }\n",
       "\n",
       "    .dataframe thead th {\n",
       "        text-align: right;\n",
       "    }\n",
       "</style>\n",
       "<table border=\"1\" class=\"dataframe\">\n",
       "  <thead>\n",
       "    <tr style=\"text-align: right;\">\n",
       "      <th></th>\n",
       "      <th>imię</th>\n",
       "      <th>nazwisko</th>\n",
       "      <th>email</th>\n",
       "      <th>age</th>\n",
       "    </tr>\n",
       "  </thead>\n",
       "  <tbody>\n",
       "    <tr>\n",
       "      <th>0</th>\n",
       "      <td>Agnieszka</td>\n",
       "      <td>Sołtys</td>\n",
       "      <td>agnieszka.soltys@email.com</td>\n",
       "      <td>25</td>\n",
       "    </tr>\n",
       "    <tr>\n",
       "      <th>1</th>\n",
       "      <td>Jan</td>\n",
       "      <td>Kowalski</td>\n",
       "      <td>jan.kowalski@wp.pl</td>\n",
       "      <td>55</td>\n",
       "    </tr>\n",
       "    <tr>\n",
       "      <th>2</th>\n",
       "      <td>Anna</td>\n",
       "      <td>Kowalska</td>\n",
       "      <td>anna.kowalska@wp.pl</td>\n",
       "      <td>63</td>\n",
       "    </tr>\n",
       "    <tr>\n",
       "      <th>3</th>\n",
       "      <td>Janusz</td>\n",
       "      <td>Nowak</td>\n",
       "      <td>januszek@email.com</td>\n",
       "      <td>36</td>\n",
       "    </tr>\n",
       "    <tr>\n",
       "      <th>4</th>\n",
       "      <td>MISSING</td>\n",
       "      <td>MISSING</td>\n",
       "      <td>MISSING</td>\n",
       "      <td>MISSING</td>\n",
       "    </tr>\n",
       "    <tr>\n",
       "      <th>5</th>\n",
       "      <td>MISSING</td>\n",
       "      <td>MISSING</td>\n",
       "      <td>antek.nowak@gmail.com</td>\n",
       "      <td>MISSING</td>\n",
       "    </tr>\n",
       "    <tr>\n",
       "      <th>6</th>\n",
       "      <td>NA</td>\n",
       "      <td>Missing</td>\n",
       "      <td>MISSING</td>\n",
       "      <td>Missing</td>\n",
       "    </tr>\n",
       "  </tbody>\n",
       "</table>\n",
       "</div>"
      ],
      "text/plain": [
       "        imię  nazwisko                       email      age\n",
       "0  Agnieszka    Sołtys  agnieszka.soltys@email.com       25\n",
       "1        Jan  Kowalski          jan.kowalski@wp.pl       55\n",
       "2       Anna  Kowalska         anna.kowalska@wp.pl       63\n",
       "3     Janusz     Nowak          januszek@email.com       36\n",
       "4    MISSING   MISSING                     MISSING  MISSING\n",
       "5    MISSING   MISSING       antek.nowak@gmail.com  MISSING\n",
       "6         NA   Missing                     MISSING  Missing"
      ]
     },
     "execution_count": 145,
     "metadata": {},
     "output_type": "execute_result"
    }
   ],
   "source": [
    "df1.fillna('MISSING')"
   ]
  },
  {
   "cell_type": "code",
   "execution_count": 146,
   "id": "06ddf859-dbd0-4393-91ca-b8fb9236ecac",
   "metadata": {
    "tags": []
   },
   "outputs": [],
   "source": [
    "df1.to_csv(\"df1.csv\")"
   ]
  },
  {
   "cell_type": "code",
   "execution_count": 147,
   "id": "c8770776-875b-4c26-bba8-c718e93f7758",
   "metadata": {
    "tags": []
   },
   "outputs": [],
   "source": [
    "na_vals = ['NA', 'Missing']"
   ]
  },
  {
   "cell_type": "code",
   "execution_count": 148,
   "id": "27897821-8dc2-4429-a227-2f61c99c564d",
   "metadata": {
    "tags": []
   },
   "outputs": [],
   "source": [
    "df2 = pd.read_csv(\"df1.csv\", na_values = na_vals)"
   ]
  },
  {
   "cell_type": "code",
   "execution_count": 149,
   "id": "d03fa1ed-80b2-4a44-920b-91df8e1dc901",
   "metadata": {
    "tags": []
   },
   "outputs": [
    {
     "data": {
      "text/html": [
       "<div>\n",
       "<style scoped>\n",
       "    .dataframe tbody tr th:only-of-type {\n",
       "        vertical-align: middle;\n",
       "    }\n",
       "\n",
       "    .dataframe tbody tr th {\n",
       "        vertical-align: top;\n",
       "    }\n",
       "\n",
       "    .dataframe thead th {\n",
       "        text-align: right;\n",
       "    }\n",
       "</style>\n",
       "<table border=\"1\" class=\"dataframe\">\n",
       "  <thead>\n",
       "    <tr style=\"text-align: right;\">\n",
       "      <th></th>\n",
       "      <th>Unnamed: 0</th>\n",
       "      <th>imię</th>\n",
       "      <th>nazwisko</th>\n",
       "      <th>email</th>\n",
       "      <th>age</th>\n",
       "    </tr>\n",
       "  </thead>\n",
       "  <tbody>\n",
       "    <tr>\n",
       "      <th>0</th>\n",
       "      <td>0</td>\n",
       "      <td>Agnieszka</td>\n",
       "      <td>Sołtys</td>\n",
       "      <td>agnieszka.soltys@email.com</td>\n",
       "      <td>25.0</td>\n",
       "    </tr>\n",
       "    <tr>\n",
       "      <th>1</th>\n",
       "      <td>1</td>\n",
       "      <td>Jan</td>\n",
       "      <td>Kowalski</td>\n",
       "      <td>jan.kowalski@wp.pl</td>\n",
       "      <td>55.0</td>\n",
       "    </tr>\n",
       "    <tr>\n",
       "      <th>2</th>\n",
       "      <td>2</td>\n",
       "      <td>Anna</td>\n",
       "      <td>Kowalska</td>\n",
       "      <td>anna.kowalska@wp.pl</td>\n",
       "      <td>63.0</td>\n",
       "    </tr>\n",
       "    <tr>\n",
       "      <th>3</th>\n",
       "      <td>3</td>\n",
       "      <td>Janusz</td>\n",
       "      <td>Nowak</td>\n",
       "      <td>januszek@email.com</td>\n",
       "      <td>36.0</td>\n",
       "    </tr>\n",
       "    <tr>\n",
       "      <th>4</th>\n",
       "      <td>4</td>\n",
       "      <td>NaN</td>\n",
       "      <td>NaN</td>\n",
       "      <td>NaN</td>\n",
       "      <td>NaN</td>\n",
       "    </tr>\n",
       "    <tr>\n",
       "      <th>5</th>\n",
       "      <td>5</td>\n",
       "      <td>NaN</td>\n",
       "      <td>NaN</td>\n",
       "      <td>antek.nowak@gmail.com</td>\n",
       "      <td>NaN</td>\n",
       "    </tr>\n",
       "    <tr>\n",
       "      <th>6</th>\n",
       "      <td>6</td>\n",
       "      <td>NaN</td>\n",
       "      <td>NaN</td>\n",
       "      <td>NaN</td>\n",
       "      <td>NaN</td>\n",
       "    </tr>\n",
       "  </tbody>\n",
       "</table>\n",
       "</div>"
      ],
      "text/plain": [
       "   Unnamed: 0       imię  nazwisko                       email   age\n",
       "0           0  Agnieszka    Sołtys  agnieszka.soltys@email.com  25.0\n",
       "1           1        Jan  Kowalski          jan.kowalski@wp.pl  55.0\n",
       "2           2       Anna  Kowalska         anna.kowalska@wp.pl  63.0\n",
       "3           3     Janusz     Nowak          januszek@email.com  36.0\n",
       "4           4        NaN       NaN                         NaN   NaN\n",
       "5           5        NaN       NaN       antek.nowak@gmail.com   NaN\n",
       "6           6        NaN       NaN                         NaN   NaN"
      ]
     },
     "execution_count": 149,
     "metadata": {},
     "output_type": "execute_result"
    }
   ],
   "source": [
    "df2"
   ]
  },
  {
   "cell_type": "code",
   "execution_count": 150,
   "id": "29842873-66d9-4ad2-8e61-c73bd85b7bbc",
   "metadata": {
    "tags": []
   },
   "outputs": [],
   "source": [
    "# df2['age'] = df2['age'].astype(int)"
   ]
  },
  {
   "cell_type": "code",
   "execution_count": 151,
   "id": "cd08efd3-a0a9-4d39-beed-58894c69bd62",
   "metadata": {
    "tags": []
   },
   "outputs": [],
   "source": [
    "df2['age'] = df2['age'].astype(float) # np.nan jest typu float!"
   ]
  },
  {
   "cell_type": "code",
   "execution_count": 152,
   "id": "cfa3a852-b26d-4b89-8309-6baf47b9214a",
   "metadata": {
    "tags": []
   },
   "outputs": [
    {
     "data": {
      "text/plain": [
       "44.75"
      ]
     },
     "execution_count": 152,
     "metadata": {},
     "output_type": "execute_result"
    }
   ],
   "source": [
    "df2['age'].mean()"
   ]
  },
  {
   "cell_type": "markdown",
   "id": "bb3adf1e-4ee3-46c7-9f92-91fac1668c0c",
   "metadata": {},
   "source": [
    "## 9. Dodawanie/usuwanie wierszy i kolumn"
   ]
  },
  {
   "cell_type": "markdown",
   "id": "43d13f33-fdb1-41b0-bafc-1e3401fa68a6",
   "metadata": {},
   "source": [
    "podobne do zmiany wierszy i kolumn"
   ]
  },
  {
   "cell_type": "markdown",
   "id": "41b40bd1-65bc-4008-91ba-47c51e97fdb1",
   "metadata": {},
   "source": [
    "dodawanie kolumn"
   ]
  },
  {
   "cell_type": "code",
   "execution_count": 153,
   "id": "1a4cca61-72dd-413a-9901-c0601969f7e0",
   "metadata": {
    "tags": []
   },
   "outputs": [],
   "source": [
    "df[\"imię_i_nazwisko\"] = df[\"imię\"] + \" \" + df[\"nazwisko\"] # nie . bo Python nie wiedziałby czy atrybut"
   ]
  },
  {
   "cell_type": "code",
   "execution_count": 154,
   "id": "1c7c376f-ee34-4478-aad9-c68df1edb7a7",
   "metadata": {
    "tags": []
   },
   "outputs": [
    {
     "data": {
      "text/html": [
       "<div>\n",
       "<style scoped>\n",
       "    .dataframe tbody tr th:only-of-type {\n",
       "        vertical-align: middle;\n",
       "    }\n",
       "\n",
       "    .dataframe tbody tr th {\n",
       "        vertical-align: top;\n",
       "    }\n",
       "\n",
       "    .dataframe thead th {\n",
       "        text-align: right;\n",
       "    }\n",
       "</style>\n",
       "<table border=\"1\" class=\"dataframe\">\n",
       "  <thead>\n",
       "    <tr style=\"text-align: right;\">\n",
       "      <th></th>\n",
       "      <th>email</th>\n",
       "      <th>imię</th>\n",
       "      <th>nazwisko</th>\n",
       "      <th>imię_i_nazwisko</th>\n",
       "    </tr>\n",
       "  </thead>\n",
       "  <tbody>\n",
       "    <tr>\n",
       "      <th>0</th>\n",
       "      <td>agnieszka.sołtys@email.com</td>\n",
       "      <td>Agnieszka</td>\n",
       "      <td>Sołtys</td>\n",
       "      <td>Agnieszka Sołtys</td>\n",
       "    </tr>\n",
       "    <tr>\n",
       "      <th>1</th>\n",
       "      <td>jan.nowak@gmail.com</td>\n",
       "      <td>Janusz</td>\n",
       "      <td>Nowak</td>\n",
       "      <td>Janusz Nowak</td>\n",
       "    </tr>\n",
       "    <tr>\n",
       "      <th>2</th>\n",
       "      <td>anna.nowak@email.com</td>\n",
       "      <td>Joanna</td>\n",
       "      <td>Nowak</td>\n",
       "      <td>Joanna Nowak</td>\n",
       "    </tr>\n",
       "  </tbody>\n",
       "</table>\n",
       "</div>"
      ],
      "text/plain": [
       "                        email       imię nazwisko   imię_i_nazwisko\n",
       "0  agnieszka.sołtys@email.com  Agnieszka   Sołtys  Agnieszka Sołtys\n",
       "1         jan.nowak@gmail.com     Janusz    Nowak      Janusz Nowak\n",
       "2        anna.nowak@email.com     Joanna    Nowak      Joanna Nowak"
      ]
     },
     "execution_count": 154,
     "metadata": {},
     "output_type": "execute_result"
    }
   ],
   "source": [
    "df"
   ]
  },
  {
   "cell_type": "markdown",
   "id": "c246ec15-b768-41c6-9d0f-110e40cf8adb",
   "metadata": {},
   "source": [
    "usuwanie kolumn"
   ]
  },
  {
   "cell_type": "code",
   "execution_count": 155,
   "id": "504dba7f-ab9c-47c0-84a2-6ce12403d751",
   "metadata": {
    "tags": []
   },
   "outputs": [],
   "source": [
    "df.drop(columns = [\"imię\", \"nazwisko\"], inplace = True)"
   ]
  },
  {
   "cell_type": "code",
   "execution_count": 156,
   "id": "85b846a9-3f36-4daa-a676-1c09421e15f9",
   "metadata": {
    "tags": []
   },
   "outputs": [
    {
     "data": {
      "text/html": [
       "<div>\n",
       "<style scoped>\n",
       "    .dataframe tbody tr th:only-of-type {\n",
       "        vertical-align: middle;\n",
       "    }\n",
       "\n",
       "    .dataframe tbody tr th {\n",
       "        vertical-align: top;\n",
       "    }\n",
       "\n",
       "    .dataframe thead th {\n",
       "        text-align: right;\n",
       "    }\n",
       "</style>\n",
       "<table border=\"1\" class=\"dataframe\">\n",
       "  <thead>\n",
       "    <tr style=\"text-align: right;\">\n",
       "      <th></th>\n",
       "      <th>email</th>\n",
       "      <th>imię_i_nazwisko</th>\n",
       "    </tr>\n",
       "  </thead>\n",
       "  <tbody>\n",
       "    <tr>\n",
       "      <th>0</th>\n",
       "      <td>agnieszka.sołtys@email.com</td>\n",
       "      <td>Agnieszka Sołtys</td>\n",
       "    </tr>\n",
       "    <tr>\n",
       "      <th>1</th>\n",
       "      <td>jan.nowak@gmail.com</td>\n",
       "      <td>Janusz Nowak</td>\n",
       "    </tr>\n",
       "    <tr>\n",
       "      <th>2</th>\n",
       "      <td>anna.nowak@email.com</td>\n",
       "      <td>Joanna Nowak</td>\n",
       "    </tr>\n",
       "  </tbody>\n",
       "</table>\n",
       "</div>"
      ],
      "text/plain": [
       "                        email   imię_i_nazwisko\n",
       "0  agnieszka.sołtys@email.com  Agnieszka Sołtys\n",
       "1         jan.nowak@gmail.com      Janusz Nowak\n",
       "2        anna.nowak@email.com      Joanna Nowak"
      ]
     },
     "execution_count": 156,
     "metadata": {},
     "output_type": "execute_result"
    }
   ],
   "source": [
    "df"
   ]
  },
  {
   "cell_type": "code",
   "execution_count": 157,
   "id": "56830aa5-2c91-4ece-93d2-6076c667864f",
   "metadata": {
    "tags": []
   },
   "outputs": [],
   "source": [
    "df[[\"imię\", \"nazwisko\"]] = df[\"imię_i_nazwisko\"].str.split(\" \", expand = True) # expand nie lista, tylko DF"
   ]
  },
  {
   "cell_type": "code",
   "execution_count": 158,
   "id": "870dc35f-93cd-49d4-8c80-ab0b745d1212",
   "metadata": {
    "tags": []
   },
   "outputs": [
    {
     "data": {
      "text/html": [
       "<div>\n",
       "<style scoped>\n",
       "    .dataframe tbody tr th:only-of-type {\n",
       "        vertical-align: middle;\n",
       "    }\n",
       "\n",
       "    .dataframe tbody tr th {\n",
       "        vertical-align: top;\n",
       "    }\n",
       "\n",
       "    .dataframe thead th {\n",
       "        text-align: right;\n",
       "    }\n",
       "</style>\n",
       "<table border=\"1\" class=\"dataframe\">\n",
       "  <thead>\n",
       "    <tr style=\"text-align: right;\">\n",
       "      <th></th>\n",
       "      <th>email</th>\n",
       "      <th>imię_i_nazwisko</th>\n",
       "      <th>imię</th>\n",
       "      <th>nazwisko</th>\n",
       "    </tr>\n",
       "  </thead>\n",
       "  <tbody>\n",
       "    <tr>\n",
       "      <th>0</th>\n",
       "      <td>agnieszka.sołtys@email.com</td>\n",
       "      <td>Agnieszka Sołtys</td>\n",
       "      <td>Agnieszka</td>\n",
       "      <td>Sołtys</td>\n",
       "    </tr>\n",
       "    <tr>\n",
       "      <th>1</th>\n",
       "      <td>jan.nowak@gmail.com</td>\n",
       "      <td>Janusz Nowak</td>\n",
       "      <td>Janusz</td>\n",
       "      <td>Nowak</td>\n",
       "    </tr>\n",
       "    <tr>\n",
       "      <th>2</th>\n",
       "      <td>anna.nowak@email.com</td>\n",
       "      <td>Joanna Nowak</td>\n",
       "      <td>Joanna</td>\n",
       "      <td>Nowak</td>\n",
       "    </tr>\n",
       "  </tbody>\n",
       "</table>\n",
       "</div>"
      ],
      "text/plain": [
       "                        email   imię_i_nazwisko       imię nazwisko\n",
       "0  agnieszka.sołtys@email.com  Agnieszka Sołtys  Agnieszka   Sołtys\n",
       "1         jan.nowak@gmail.com      Janusz Nowak     Janusz    Nowak\n",
       "2        anna.nowak@email.com      Joanna Nowak     Joanna    Nowak"
      ]
     },
     "execution_count": 158,
     "metadata": {},
     "output_type": "execute_result"
    }
   ],
   "source": [
    "df"
   ]
  },
  {
   "cell_type": "markdown",
   "id": "2a1b2411-26a8-4471-ac50-d7a7e47a8085",
   "metadata": {},
   "source": [
    "dodawanie wierszy"
   ]
  },
  {
   "cell_type": "code",
   "execution_count": 160,
   "id": "34c29ce0-1e4f-4726-8587-3c259518a8a1",
   "metadata": {
    "tags": []
   },
   "outputs": [],
   "source": [
    "df1 = pd.DataFrame({'imię': 'Katarzyna', 'nazwisko': 'Kowalska'}, index = [0])"
   ]
  },
  {
   "cell_type": "code",
   "execution_count": 161,
   "id": "32d16284-2973-4417-8f80-b6e5011cac67",
   "metadata": {
    "tags": []
   },
   "outputs": [
    {
     "data": {
      "text/html": [
       "<div>\n",
       "<style scoped>\n",
       "    .dataframe tbody tr th:only-of-type {\n",
       "        vertical-align: middle;\n",
       "    }\n",
       "\n",
       "    .dataframe tbody tr th {\n",
       "        vertical-align: top;\n",
       "    }\n",
       "\n",
       "    .dataframe thead th {\n",
       "        text-align: right;\n",
       "    }\n",
       "</style>\n",
       "<table border=\"1\" class=\"dataframe\">\n",
       "  <thead>\n",
       "    <tr style=\"text-align: right;\">\n",
       "      <th></th>\n",
       "      <th>imię</th>\n",
       "      <th>nazwisko</th>\n",
       "    </tr>\n",
       "  </thead>\n",
       "  <tbody>\n",
       "    <tr>\n",
       "      <th>0</th>\n",
       "      <td>Katarzyna</td>\n",
       "      <td>Kowalska</td>\n",
       "    </tr>\n",
       "  </tbody>\n",
       "</table>\n",
       "</div>"
      ],
      "text/plain": [
       "        imię  nazwisko\n",
       "0  Katarzyna  Kowalska"
      ]
     },
     "execution_count": 161,
     "metadata": {},
     "output_type": "execute_result"
    }
   ],
   "source": [
    "df1"
   ]
  },
  {
   "cell_type": "code",
   "execution_count": 162,
   "id": "066e4c08-93d5-43c5-be7d-e54e65a935b9",
   "metadata": {
    "tags": []
   },
   "outputs": [],
   "source": [
    "df = pd.concat([df, df1], ignore_index = True)"
   ]
  },
  {
   "cell_type": "code",
   "execution_count": 163,
   "id": "c427df66-603e-4327-aba2-444f75f98f40",
   "metadata": {
    "tags": []
   },
   "outputs": [
    {
     "data": {
      "text/html": [
       "<div>\n",
       "<style scoped>\n",
       "    .dataframe tbody tr th:only-of-type {\n",
       "        vertical-align: middle;\n",
       "    }\n",
       "\n",
       "    .dataframe tbody tr th {\n",
       "        vertical-align: top;\n",
       "    }\n",
       "\n",
       "    .dataframe thead th {\n",
       "        text-align: right;\n",
       "    }\n",
       "</style>\n",
       "<table border=\"1\" class=\"dataframe\">\n",
       "  <thead>\n",
       "    <tr style=\"text-align: right;\">\n",
       "      <th></th>\n",
       "      <th>email</th>\n",
       "      <th>imię_i_nazwisko</th>\n",
       "      <th>imię</th>\n",
       "      <th>nazwisko</th>\n",
       "    </tr>\n",
       "  </thead>\n",
       "  <tbody>\n",
       "    <tr>\n",
       "      <th>0</th>\n",
       "      <td>agnieszka.sołtys@email.com</td>\n",
       "      <td>Agnieszka Sołtys</td>\n",
       "      <td>Agnieszka</td>\n",
       "      <td>Sołtys</td>\n",
       "    </tr>\n",
       "    <tr>\n",
       "      <th>1</th>\n",
       "      <td>jan.nowak@gmail.com</td>\n",
       "      <td>Janusz Nowak</td>\n",
       "      <td>Janusz</td>\n",
       "      <td>Nowak</td>\n",
       "    </tr>\n",
       "    <tr>\n",
       "      <th>2</th>\n",
       "      <td>anna.nowak@email.com</td>\n",
       "      <td>Joanna Nowak</td>\n",
       "      <td>Joanna</td>\n",
       "      <td>Nowak</td>\n",
       "    </tr>\n",
       "    <tr>\n",
       "      <th>3</th>\n",
       "      <td>NaN</td>\n",
       "      <td>NaN</td>\n",
       "      <td>Katarzyna</td>\n",
       "      <td>Kowalska</td>\n",
       "    </tr>\n",
       "  </tbody>\n",
       "</table>\n",
       "</div>"
      ],
      "text/plain": [
       "                        email   imię_i_nazwisko       imię  nazwisko\n",
       "0  agnieszka.sołtys@email.com  Agnieszka Sołtys  Agnieszka    Sołtys\n",
       "1         jan.nowak@gmail.com      Janusz Nowak     Janusz     Nowak\n",
       "2        anna.nowak@email.com      Joanna Nowak     Joanna     Nowak\n",
       "3                         NaN               NaN  Katarzyna  Kowalska"
      ]
     },
     "execution_count": 163,
     "metadata": {},
     "output_type": "execute_result"
    }
   ],
   "source": [
    "df"
   ]
  },
  {
   "cell_type": "markdown",
   "id": "fbce3979-de17-4de0-99e5-8075e45a2c32",
   "metadata": {},
   "source": [
    "usuwanie wierszy"
   ]
  },
  {
   "cell_type": "code",
   "execution_count": 164,
   "id": "5f679b41-d87f-4170-83a1-f23f66533a7c",
   "metadata": {
    "tags": []
   },
   "outputs": [
    {
     "data": {
      "text/html": [
       "<div>\n",
       "<style scoped>\n",
       "    .dataframe tbody tr th:only-of-type {\n",
       "        vertical-align: middle;\n",
       "    }\n",
       "\n",
       "    .dataframe tbody tr th {\n",
       "        vertical-align: top;\n",
       "    }\n",
       "\n",
       "    .dataframe thead th {\n",
       "        text-align: right;\n",
       "    }\n",
       "</style>\n",
       "<table border=\"1\" class=\"dataframe\">\n",
       "  <thead>\n",
       "    <tr style=\"text-align: right;\">\n",
       "      <th></th>\n",
       "      <th>email</th>\n",
       "      <th>imię_i_nazwisko</th>\n",
       "      <th>imię</th>\n",
       "      <th>nazwisko</th>\n",
       "    </tr>\n",
       "  </thead>\n",
       "  <tbody>\n",
       "    <tr>\n",
       "      <th>0</th>\n",
       "      <td>agnieszka.sołtys@email.com</td>\n",
       "      <td>Agnieszka Sołtys</td>\n",
       "      <td>Agnieszka</td>\n",
       "      <td>Sołtys</td>\n",
       "    </tr>\n",
       "    <tr>\n",
       "      <th>1</th>\n",
       "      <td>jan.nowak@gmail.com</td>\n",
       "      <td>Janusz Nowak</td>\n",
       "      <td>Janusz</td>\n",
       "      <td>Nowak</td>\n",
       "    </tr>\n",
       "    <tr>\n",
       "      <th>2</th>\n",
       "      <td>anna.nowak@email.com</td>\n",
       "      <td>Joanna Nowak</td>\n",
       "      <td>Joanna</td>\n",
       "      <td>Nowak</td>\n",
       "    </tr>\n",
       "  </tbody>\n",
       "</table>\n",
       "</div>"
      ],
      "text/plain": [
       "                        email   imię_i_nazwisko       imię nazwisko\n",
       "0  agnieszka.sołtys@email.com  Agnieszka Sołtys  Agnieszka   Sołtys\n",
       "1         jan.nowak@gmail.com      Janusz Nowak     Janusz    Nowak\n",
       "2        anna.nowak@email.com      Joanna Nowak     Joanna    Nowak"
      ]
     },
     "execution_count": 164,
     "metadata": {},
     "output_type": "execute_result"
    }
   ],
   "source": [
    "df.drop(index = 3)"
   ]
  },
  {
   "cell_type": "code",
   "execution_count": 165,
   "id": "7ec0becb-0458-4ad3-a1be-be837bc639a5",
   "metadata": {
    "tags": []
   },
   "outputs": [
    {
     "data": {
      "text/html": [
       "<div>\n",
       "<style scoped>\n",
       "    .dataframe tbody tr th:only-of-type {\n",
       "        vertical-align: middle;\n",
       "    }\n",
       "\n",
       "    .dataframe tbody tr th {\n",
       "        vertical-align: top;\n",
       "    }\n",
       "\n",
       "    .dataframe thead th {\n",
       "        text-align: right;\n",
       "    }\n",
       "</style>\n",
       "<table border=\"1\" class=\"dataframe\">\n",
       "  <thead>\n",
       "    <tr style=\"text-align: right;\">\n",
       "      <th></th>\n",
       "      <th>email</th>\n",
       "      <th>imię_i_nazwisko</th>\n",
       "      <th>imię</th>\n",
       "      <th>nazwisko</th>\n",
       "    </tr>\n",
       "  </thead>\n",
       "  <tbody>\n",
       "    <tr>\n",
       "      <th>0</th>\n",
       "      <td>agnieszka.sołtys@email.com</td>\n",
       "      <td>Agnieszka Sołtys</td>\n",
       "      <td>Agnieszka</td>\n",
       "      <td>Sołtys</td>\n",
       "    </tr>\n",
       "    <tr>\n",
       "      <th>1</th>\n",
       "      <td>jan.nowak@gmail.com</td>\n",
       "      <td>Janusz Nowak</td>\n",
       "      <td>Janusz</td>\n",
       "      <td>Nowak</td>\n",
       "    </tr>\n",
       "    <tr>\n",
       "      <th>2</th>\n",
       "      <td>anna.nowak@email.com</td>\n",
       "      <td>Joanna Nowak</td>\n",
       "      <td>Joanna</td>\n",
       "      <td>Nowak</td>\n",
       "    </tr>\n",
       "    <tr>\n",
       "      <th>3</th>\n",
       "      <td>NaN</td>\n",
       "      <td>NaN</td>\n",
       "      <td>Katarzyna</td>\n",
       "      <td>Kowalska</td>\n",
       "    </tr>\n",
       "  </tbody>\n",
       "</table>\n",
       "</div>"
      ],
      "text/plain": [
       "                        email   imię_i_nazwisko       imię  nazwisko\n",
       "0  agnieszka.sołtys@email.com  Agnieszka Sołtys  Agnieszka    Sołtys\n",
       "1         jan.nowak@gmail.com      Janusz Nowak     Janusz     Nowak\n",
       "2        anna.nowak@email.com      Joanna Nowak     Joanna     Nowak\n",
       "3                         NaN               NaN  Katarzyna  Kowalska"
      ]
     },
     "execution_count": 165,
     "metadata": {},
     "output_type": "execute_result"
    }
   ],
   "source": [
    "df"
   ]
  },
  {
   "cell_type": "code",
   "execution_count": 166,
   "id": "ddefb2c9-17c9-4034-a98b-4fcc2722419c",
   "metadata": {
    "tags": []
   },
   "outputs": [],
   "source": [
    "filt = (df[\"nazwisko\"] == \"Kowalska\") "
   ]
  },
  {
   "cell_type": "code",
   "execution_count": 167,
   "id": "b1346322-383b-4e57-b156-53c16a12e3f5",
   "metadata": {
    "tags": []
   },
   "outputs": [],
   "source": [
    "df.drop(index = df[filt].index, inplace = True) # usuwanie z użyciem filtra"
   ]
  },
  {
   "cell_type": "code",
   "execution_count": 168,
   "id": "e6d6793d-ff96-41e6-a071-65ddb9ee3c7e",
   "metadata": {
    "tags": []
   },
   "outputs": [
    {
     "data": {
      "text/html": [
       "<div>\n",
       "<style scoped>\n",
       "    .dataframe tbody tr th:only-of-type {\n",
       "        vertical-align: middle;\n",
       "    }\n",
       "\n",
       "    .dataframe tbody tr th {\n",
       "        vertical-align: top;\n",
       "    }\n",
       "\n",
       "    .dataframe thead th {\n",
       "        text-align: right;\n",
       "    }\n",
       "</style>\n",
       "<table border=\"1\" class=\"dataframe\">\n",
       "  <thead>\n",
       "    <tr style=\"text-align: right;\">\n",
       "      <th></th>\n",
       "      <th>email</th>\n",
       "      <th>imię_i_nazwisko</th>\n",
       "      <th>imię</th>\n",
       "      <th>nazwisko</th>\n",
       "    </tr>\n",
       "  </thead>\n",
       "  <tbody>\n",
       "    <tr>\n",
       "      <th>0</th>\n",
       "      <td>agnieszka.sołtys@email.com</td>\n",
       "      <td>Agnieszka Sołtys</td>\n",
       "      <td>Agnieszka</td>\n",
       "      <td>Sołtys</td>\n",
       "    </tr>\n",
       "    <tr>\n",
       "      <th>1</th>\n",
       "      <td>jan.nowak@gmail.com</td>\n",
       "      <td>Janusz Nowak</td>\n",
       "      <td>Janusz</td>\n",
       "      <td>Nowak</td>\n",
       "    </tr>\n",
       "    <tr>\n",
       "      <th>2</th>\n",
       "      <td>anna.nowak@email.com</td>\n",
       "      <td>Joanna Nowak</td>\n",
       "      <td>Joanna</td>\n",
       "      <td>Nowak</td>\n",
       "    </tr>\n",
       "  </tbody>\n",
       "</table>\n",
       "</div>"
      ],
      "text/plain": [
       "                        email   imię_i_nazwisko       imię nazwisko\n",
       "0  agnieszka.sołtys@email.com  Agnieszka Sołtys  Agnieszka   Sołtys\n",
       "1         jan.nowak@gmail.com      Janusz Nowak     Janusz    Nowak\n",
       "2        anna.nowak@email.com      Joanna Nowak     Joanna    Nowak"
      ]
     },
     "execution_count": 168,
     "metadata": {},
     "output_type": "execute_result"
    }
   ],
   "source": [
    "df"
   ]
  },
  {
   "cell_type": "markdown",
   "id": "455046d1-7ec8-41cf-b9c6-7ac0b5829ffb",
   "metadata": {},
   "source": [
    "### 10. Sortowanie"
   ]
  },
  {
   "cell_type": "code",
   "execution_count": 169,
   "id": "0332dfb4-07c6-4a8a-9ad0-82479d50b683",
   "metadata": {
    "tags": []
   },
   "outputs": [
    {
     "data": {
      "text/html": [
       "<div>\n",
       "<style scoped>\n",
       "    .dataframe tbody tr th:only-of-type {\n",
       "        vertical-align: middle;\n",
       "    }\n",
       "\n",
       "    .dataframe tbody tr th {\n",
       "        vertical-align: top;\n",
       "    }\n",
       "\n",
       "    .dataframe thead th {\n",
       "        text-align: right;\n",
       "    }\n",
       "</style>\n",
       "<table border=\"1\" class=\"dataframe\">\n",
       "  <thead>\n",
       "    <tr style=\"text-align: right;\">\n",
       "      <th></th>\n",
       "      <th>email</th>\n",
       "      <th>imię_i_nazwisko</th>\n",
       "      <th>imię</th>\n",
       "      <th>nazwisko</th>\n",
       "    </tr>\n",
       "  </thead>\n",
       "  <tbody>\n",
       "    <tr>\n",
       "      <th>0</th>\n",
       "      <td>agnieszka.sołtys@email.com</td>\n",
       "      <td>Agnieszka Sołtys</td>\n",
       "      <td>Agnieszka</td>\n",
       "      <td>Sołtys</td>\n",
       "    </tr>\n",
       "    <tr>\n",
       "      <th>1</th>\n",
       "      <td>jan.nowak@gmail.com</td>\n",
       "      <td>Janusz Nowak</td>\n",
       "      <td>Janusz</td>\n",
       "      <td>Nowak</td>\n",
       "    </tr>\n",
       "    <tr>\n",
       "      <th>2</th>\n",
       "      <td>anna.nowak@email.com</td>\n",
       "      <td>Joanna Nowak</td>\n",
       "      <td>Joanna</td>\n",
       "      <td>Nowak</td>\n",
       "    </tr>\n",
       "  </tbody>\n",
       "</table>\n",
       "</div>"
      ],
      "text/plain": [
       "                        email   imię_i_nazwisko       imię nazwisko\n",
       "0  agnieszka.sołtys@email.com  Agnieszka Sołtys  Agnieszka   Sołtys\n",
       "1         jan.nowak@gmail.com      Janusz Nowak     Janusz    Nowak\n",
       "2        anna.nowak@email.com      Joanna Nowak     Joanna    Nowak"
      ]
     },
     "execution_count": 169,
     "metadata": {},
     "output_type": "execute_result"
    }
   ],
   "source": [
    "df.sort_values(by = 'nazwisko', ascending = False)"
   ]
  },
  {
   "cell_type": "code",
   "execution_count": 170,
   "id": "9427b35d-cbb4-44a2-81ef-f1ae0b9f3a88",
   "metadata": {
    "tags": []
   },
   "outputs": [],
   "source": [
    "df.sort_values(by = ['nazwisko', 'imię'], ascending = [True, False], inplace = True)"
   ]
  },
  {
   "cell_type": "code",
   "execution_count": 157,
   "id": "6ed4eec8-fffa-4f1e-a37f-d465cbb6d781",
   "metadata": {
    "tags": []
   },
   "outputs": [
    {
     "data": {
      "text/html": [
       "<div>\n",
       "<style scoped>\n",
       "    .dataframe tbody tr th:only-of-type {\n",
       "        vertical-align: middle;\n",
       "    }\n",
       "\n",
       "    .dataframe tbody tr th {\n",
       "        vertical-align: top;\n",
       "    }\n",
       "\n",
       "    .dataframe thead th {\n",
       "        text-align: right;\n",
       "    }\n",
       "</style>\n",
       "<table border=\"1\" class=\"dataframe\">\n",
       "  <thead>\n",
       "    <tr style=\"text-align: right;\">\n",
       "      <th></th>\n",
       "      <th>email</th>\n",
       "      <th>imię_i_nazwisko</th>\n",
       "      <th>imię</th>\n",
       "      <th>nazwisko</th>\n",
       "    </tr>\n",
       "  </thead>\n",
       "  <tbody>\n",
       "    <tr>\n",
       "      <th>2</th>\n",
       "      <td>anna.nowak@email.com</td>\n",
       "      <td>Joanna Nowak</td>\n",
       "      <td>Joanna</td>\n",
       "      <td>Nowak</td>\n",
       "    </tr>\n",
       "    <tr>\n",
       "      <th>1</th>\n",
       "      <td>jan.nowak@gmail.com</td>\n",
       "      <td>Janusz Nowak</td>\n",
       "      <td>Janusz</td>\n",
       "      <td>Nowak</td>\n",
       "    </tr>\n",
       "    <tr>\n",
       "      <th>0</th>\n",
       "      <td>agnieszka.sołtys@email.com</td>\n",
       "      <td>Agnieszka Sołtys</td>\n",
       "      <td>Agnieszka</td>\n",
       "      <td>Sołtys</td>\n",
       "    </tr>\n",
       "  </tbody>\n",
       "</table>\n",
       "</div>"
      ],
      "text/plain": [
       "                        email   imię_i_nazwisko       imię nazwisko\n",
       "2        anna.nowak@email.com      Joanna Nowak     Joanna    Nowak\n",
       "1         jan.nowak@gmail.com      Janusz Nowak     Janusz    Nowak\n",
       "0  agnieszka.sołtys@email.com  Agnieszka Sołtys  Agnieszka   Sołtys"
      ]
     },
     "execution_count": 157,
     "metadata": {},
     "output_type": "execute_result"
    }
   ],
   "source": [
    "df"
   ]
  },
  {
   "cell_type": "code",
   "execution_count": 171,
   "id": "414e2302-134e-46eb-ade5-4fe835c649f0",
   "metadata": {
    "tags": []
   },
   "outputs": [
    {
     "data": {
      "text/html": [
       "<div>\n",
       "<style scoped>\n",
       "    .dataframe tbody tr th:only-of-type {\n",
       "        vertical-align: middle;\n",
       "    }\n",
       "\n",
       "    .dataframe tbody tr th {\n",
       "        vertical-align: top;\n",
       "    }\n",
       "\n",
       "    .dataframe thead th {\n",
       "        text-align: right;\n",
       "    }\n",
       "</style>\n",
       "<table border=\"1\" class=\"dataframe\">\n",
       "  <thead>\n",
       "    <tr style=\"text-align: right;\">\n",
       "      <th></th>\n",
       "      <th>email</th>\n",
       "      <th>imię_i_nazwisko</th>\n",
       "      <th>imię</th>\n",
       "      <th>nazwisko</th>\n",
       "    </tr>\n",
       "  </thead>\n",
       "  <tbody>\n",
       "    <tr>\n",
       "      <th>0</th>\n",
       "      <td>agnieszka.sołtys@email.com</td>\n",
       "      <td>Agnieszka Sołtys</td>\n",
       "      <td>Agnieszka</td>\n",
       "      <td>Sołtys</td>\n",
       "    </tr>\n",
       "    <tr>\n",
       "      <th>1</th>\n",
       "      <td>jan.nowak@gmail.com</td>\n",
       "      <td>Janusz Nowak</td>\n",
       "      <td>Janusz</td>\n",
       "      <td>Nowak</td>\n",
       "    </tr>\n",
       "    <tr>\n",
       "      <th>2</th>\n",
       "      <td>anna.nowak@email.com</td>\n",
       "      <td>Joanna Nowak</td>\n",
       "      <td>Joanna</td>\n",
       "      <td>Nowak</td>\n",
       "    </tr>\n",
       "  </tbody>\n",
       "</table>\n",
       "</div>"
      ],
      "text/plain": [
       "                        email   imię_i_nazwisko       imię nazwisko\n",
       "0  agnieszka.sołtys@email.com  Agnieszka Sołtys  Agnieszka   Sołtys\n",
       "1         jan.nowak@gmail.com      Janusz Nowak     Janusz    Nowak\n",
       "2        anna.nowak@email.com      Joanna Nowak     Joanna    Nowak"
      ]
     },
     "execution_count": 171,
     "metadata": {},
     "output_type": "execute_result"
    }
   ],
   "source": [
    "df.sort_index()"
   ]
  },
  {
   "cell_type": "code",
   "execution_count": 172,
   "id": "dfb9bdaa-02a3-4f3f-8396-a3d27a10d664",
   "metadata": {
    "tags": []
   },
   "outputs": [
    {
     "data": {
      "text/plain": [
       "0    Agnieszka\n",
       "1       Janusz\n",
       "2       Joanna\n",
       "Name: imię, dtype: object"
      ]
     },
     "execution_count": 172,
     "metadata": {},
     "output_type": "execute_result"
    }
   ],
   "source": [
    "df[\"imię\"].sort_values()"
   ]
  },
  {
   "cell_type": "code",
   "execution_count": null,
   "id": "829f0e27-0805-4679-875c-d77acaec794c",
   "metadata": {},
   "outputs": [],
   "source": []
  }
 ],
 "metadata": {
  "kernelspec": {
   "display_name": "Python 3 (ipykernel)",
   "language": "python",
   "name": "python3"
  },
  "language_info": {
   "codemirror_mode": {
    "name": "ipython",
    "version": 3
   },
   "file_extension": ".py",
   "mimetype": "text/x-python",
   "name": "python",
   "nbconvert_exporter": "python",
   "pygments_lexer": "ipython3",
   "version": "3.10.9"
  }
 },
 "nbformat": 4,
 "nbformat_minor": 5
}
