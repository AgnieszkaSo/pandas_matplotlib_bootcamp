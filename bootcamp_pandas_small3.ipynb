{
 "cells": [
  {
   "cell_type": "markdown",
   "id": "17851df0-5bb4-4eb3-8b8d-9c5a82934436",
   "metadata": {},
   "source": [
    "# Wczytanie bibliotek"
   ]
  },
  {
   "cell_type": "code",
   "execution_count": 1,
   "id": "fb93dc3b-835d-4aeb-9302-512f1c48f5bf",
   "metadata": {
    "tags": []
   },
   "outputs": [],
   "source": [
    "import pandas as pd\n",
    "import numpy as np"
   ]
  },
  {
   "cell_type": "markdown",
   "id": "b898b9b7-a2d9-4384-a90d-b51011727ed0",
   "metadata": {},
   "source": [
    "## 2. Serie i ramki danych (Series and Data Frames)"
   ]
  },
  {
   "cell_type": "markdown",
   "id": "07147124-12cb-4b34-b969-21fce3431899",
   "metadata": {},
   "source": [
    "### Serie"
   ]
  },
  {
   "cell_type": "markdown",
   "id": "8578aade-8b3b-4195-a02b-b876124e673d",
   "metadata": {},
   "source": [
    "Seria - jednowymiarowa tablica przechowująca konkretny jeden typ danych (integers, strings, floating point numbers, Python objects).\n",
    "Etykiety elementów nazywane są indeksem (index)."
   ]
  },
  {
   "cell_type": "markdown",
   "id": "67b61ccf-2856-4338-b629-d305b07b75d7",
   "metadata": {},
   "source": [
    "Serie są bardzo podobne do ndarray, fcje numpy na nich działają."
   ]
  },
  {
   "cell_type": "markdown",
   "id": "460d743e-0bf1-419a-bedf-b560e246208a",
   "metadata": {},
   "source": [
    "Tworzenie serii z tabeli numpy ndarray"
   ]
  },
  {
   "cell_type": "code",
   "execution_count": 2,
   "id": "f0cb3245-5f7d-4b74-ad31-542cc9ebbf90",
   "metadata": {
    "tags": []
   },
   "outputs": [],
   "source": [
    "s = pd.Series(np.random.randn(5), index = [\"a\", \"b\", \"c\", \"d\", \"e\"])"
   ]
  },
  {
   "cell_type": "code",
   "execution_count": 3,
   "id": "e99d1ca6-79ca-4879-80bd-952a960eea07",
   "metadata": {
    "tags": []
   },
   "outputs": [
    {
     "data": {
      "text/plain": [
       "a    0.086076\n",
       "b    0.050558\n",
       "c   -0.369284\n",
       "d   -0.508609\n",
       "e    0.827123\n",
       "dtype: float64"
      ]
     },
     "execution_count": 3,
     "metadata": {},
     "output_type": "execute_result"
    }
   ],
   "source": [
    "s"
   ]
  },
  {
   "cell_type": "code",
   "execution_count": 4,
   "id": "1c9c7936-f734-492b-b7d7-8e1d2a4ce059",
   "metadata": {
    "tags": []
   },
   "outputs": [
    {
     "data": {
      "text/plain": [
       "Index(['a', 'b', 'c', 'd', 'e'], dtype='object')"
      ]
     },
     "execution_count": 4,
     "metadata": {},
     "output_type": "execute_result"
    }
   ],
   "source": [
    "s.index"
   ]
  },
  {
   "cell_type": "code",
   "execution_count": 5,
   "id": "a0dd7895-e120-4a73-9f96-467fa80bce28",
   "metadata": {
    "tags": []
   },
   "outputs": [
    {
     "data": {
      "text/plain": [
       "0    0.608813\n",
       "1    1.617106\n",
       "2   -2.408194\n",
       "3    1.429673\n",
       "4   -1.285901\n",
       "dtype: float64"
      ]
     },
     "execution_count": 5,
     "metadata": {},
     "output_type": "execute_result"
    }
   ],
   "source": [
    "pd.Series(np.random.randn(5))"
   ]
  },
  {
   "cell_type": "code",
   "execution_count": 6,
   "id": "ea3937f3-26cf-4453-8349-6699883206a5",
   "metadata": {
    "tags": []
   },
   "outputs": [
    {
     "data": {
      "text/plain": [
       "array([ 0.0860759 ,  0.0505575 , -0.36928391, -0.50860919,  0.82712272])"
      ]
     },
     "execution_count": 6,
     "metadata": {},
     "output_type": "execute_result"
    }
   ],
   "source": [
    "s.to_numpy()"
   ]
  },
  {
   "cell_type": "markdown",
   "id": "50b3e516-4665-41ba-8b3a-24bf0f4f94eb",
   "metadata": {},
   "source": [
    "Serie ze słownika"
   ]
  },
  {
   "cell_type": "code",
   "execution_count": 7,
   "id": "fa947080-8dbf-474f-89ff-0f8bd80c5d4e",
   "metadata": {
    "tags": []
   },
   "outputs": [],
   "source": [
    "d = {\"b\": 1, \"a\": 0, \"c\": 2}"
   ]
  },
  {
   "cell_type": "code",
   "execution_count": 8,
   "id": "42e8b62b-da03-4133-9299-dd1f3f420ff1",
   "metadata": {
    "tags": []
   },
   "outputs": [
    {
     "data": {
      "text/plain": [
       "b    1\n",
       "a    0\n",
       "c    2\n",
       "dtype: int64"
      ]
     },
     "execution_count": 8,
     "metadata": {},
     "output_type": "execute_result"
    }
   ],
   "source": [
    "pd.Series(d)"
   ]
  },
  {
   "cell_type": "code",
   "execution_count": 9,
   "id": "ff78f9cc-0a8c-4fd6-aaee-3c9a08c8b845",
   "metadata": {
    "tags": []
   },
   "outputs": [
    {
     "data": {
      "text/plain": [
       "b    1.0\n",
       "c    2.0\n",
       "d    NaN\n",
       "a    0.0\n",
       "dtype: float64"
      ]
     },
     "execution_count": 9,
     "metadata": {},
     "output_type": "execute_result"
    }
   ],
   "source": [
    "pd.Series(d, index = [\"b\", \"c\", \"d\", \"a\"])"
   ]
  },
  {
   "cell_type": "code",
   "execution_count": 10,
   "id": "80a69e04-3adf-46d9-a0a4-06011f2fe076",
   "metadata": {
    "tags": []
   },
   "outputs": [
    {
     "data": {
      "text/plain": [
       "float"
      ]
     },
     "execution_count": 10,
     "metadata": {},
     "output_type": "execute_result"
    }
   ],
   "source": [
    "type(np.nan)"
   ]
  },
  {
   "cell_type": "code",
   "execution_count": 11,
   "id": "88497588-a808-4e3c-8700-3dab7afb8f71",
   "metadata": {
    "tags": []
   },
   "outputs": [
    {
     "data": {
      "text/plain": [
       "0.05055750487742177"
      ]
     },
     "execution_count": 11,
     "metadata": {},
     "output_type": "execute_result"
    }
   ],
   "source": [
    "s[\"b\"]"
   ]
  },
  {
   "cell_type": "code",
   "execution_count": 12,
   "id": "496d5ad3-1179-46ad-959e-674d90fbbe27",
   "metadata": {
    "tags": []
   },
   "outputs": [],
   "source": [
    "s[\"a\"] = 5"
   ]
  },
  {
   "cell_type": "code",
   "execution_count": 13,
   "id": "20aa1455-9cd4-4838-bb4b-863f5171f5de",
   "metadata": {
    "tags": []
   },
   "outputs": [
    {
     "data": {
      "text/plain": [
       "a    5.000000\n",
       "b    0.050558\n",
       "c   -0.369284\n",
       "d   -0.508609\n",
       "e    0.827123\n",
       "dtype: float64"
      ]
     },
     "execution_count": 13,
     "metadata": {},
     "output_type": "execute_result"
    }
   ],
   "source": [
    "s"
   ]
  },
  {
   "cell_type": "markdown",
   "id": "1abd5931-5953-4e04-865d-012b08999f65",
   "metadata": {
    "tags": []
   },
   "source": [
    "### Ramki danych (Data Frames)"
   ]
  },
  {
   "cell_type": "markdown",
   "id": "3858ef4b-38bd-4842-aca1-89160f853b3c",
   "metadata": {},
   "source": [
    "Ramka Danych (Data Frame) - dwuwymiarowa tablica danych z indeksem, w której kolumny mogą być różnych \n",
    "typów. Można myśleć o niej jak o tabeli SQL albo słowniku zawierającym serie danych."
   ]
  },
  {
   "cell_type": "code",
   "execution_count": 14,
   "id": "2fc7ecb6-ccf5-4189-806d-e493ae9bdd00",
   "metadata": {
    "tags": []
   },
   "outputs": [],
   "source": [
    "osoby = {\n",
    "    \"imię\": [\"Agnieszka\", \"Jan\", \"Anna\"],\n",
    "    \"nazwisko\": [\"Sołtys\", \"Nowak\", \"Nowak\"],\n",
    "    \"email\": [\"agnieszka.sołtys@email.com\", \"jan.nowak@gmail.com\", \"anna.nowak@email.com\"]\n",
    "}"
   ]
  },
  {
   "cell_type": "code",
   "execution_count": 15,
   "id": "eb2c0d50-3da5-41ce-9e94-1a4f633a89b7",
   "metadata": {
    "tags": []
   },
   "outputs": [],
   "source": [
    "df = pd.DataFrame(osoby)"
   ]
  },
  {
   "cell_type": "code",
   "execution_count": 16,
   "id": "2501c499-611a-449c-a7b4-746221edac46",
   "metadata": {
    "tags": []
   },
   "outputs": [
    {
     "data": {
      "text/html": [
       "<div>\n",
       "<style scoped>\n",
       "    .dataframe tbody tr th:only-of-type {\n",
       "        vertical-align: middle;\n",
       "    }\n",
       "\n",
       "    .dataframe tbody tr th {\n",
       "        vertical-align: top;\n",
       "    }\n",
       "\n",
       "    .dataframe thead th {\n",
       "        text-align: right;\n",
       "    }\n",
       "</style>\n",
       "<table border=\"1\" class=\"dataframe\">\n",
       "  <thead>\n",
       "    <tr style=\"text-align: right;\">\n",
       "      <th></th>\n",
       "      <th>imię</th>\n",
       "      <th>nazwisko</th>\n",
       "      <th>email</th>\n",
       "    </tr>\n",
       "  </thead>\n",
       "  <tbody>\n",
       "    <tr>\n",
       "      <th>0</th>\n",
       "      <td>Agnieszka</td>\n",
       "      <td>Sołtys</td>\n",
       "      <td>agnieszka.sołtys@email.com</td>\n",
       "    </tr>\n",
       "    <tr>\n",
       "      <th>1</th>\n",
       "      <td>Jan</td>\n",
       "      <td>Nowak</td>\n",
       "      <td>jan.nowak@gmail.com</td>\n",
       "    </tr>\n",
       "    <tr>\n",
       "      <th>2</th>\n",
       "      <td>Anna</td>\n",
       "      <td>Nowak</td>\n",
       "      <td>anna.nowak@email.com</td>\n",
       "    </tr>\n",
       "  </tbody>\n",
       "</table>\n",
       "</div>"
      ],
      "text/plain": [
       "        imię nazwisko                       email\n",
       "0  Agnieszka   Sołtys  agnieszka.sołtys@email.com\n",
       "1        Jan    Nowak         jan.nowak@gmail.com\n",
       "2       Anna    Nowak        anna.nowak@email.com"
      ]
     },
     "execution_count": 16,
     "metadata": {},
     "output_type": "execute_result"
    }
   ],
   "source": [
    "df"
   ]
  },
  {
   "cell_type": "markdown",
   "id": "66aa5833-6f97-4ec5-b2fa-ac4d3dbdae15",
   "metadata": {},
   "source": [
    "### Wybór kolumn"
   ]
  },
  {
   "cell_type": "code",
   "execution_count": 17,
   "id": "6725f9ea-f062-475c-a4af-6fe4df801578",
   "metadata": {
    "tags": []
   },
   "outputs": [
    {
     "data": {
      "text/plain": [
       "0    agnieszka.sołtys@email.com\n",
       "1           jan.nowak@gmail.com\n",
       "2          anna.nowak@email.com\n",
       "Name: email, dtype: object"
      ]
     },
     "execution_count": 17,
     "metadata": {},
     "output_type": "execute_result"
    }
   ],
   "source": [
    "df[\"email\"]"
   ]
  },
  {
   "cell_type": "code",
   "execution_count": 18,
   "id": "53beeb12-fa0d-47f2-9b5a-4a6eba1efdbe",
   "metadata": {
    "tags": []
   },
   "outputs": [
    {
     "data": {
      "text/plain": [
       "pandas.core.series.Series"
      ]
     },
     "execution_count": 18,
     "metadata": {},
     "output_type": "execute_result"
    }
   ],
   "source": [
    "type(df[\"email\"])"
   ]
  },
  {
   "cell_type": "code",
   "execution_count": 19,
   "id": "491017dd-1f80-45fe-a97a-7627c1c9a9a2",
   "metadata": {
    "tags": []
   },
   "outputs": [
    {
     "data": {
      "text/plain": [
       "0    agnieszka.sołtys@email.com\n",
       "1           jan.nowak@gmail.com\n",
       "2          anna.nowak@email.com\n",
       "Name: email, dtype: object"
      ]
     },
     "execution_count": 19,
     "metadata": {},
     "output_type": "execute_result"
    }
   ],
   "source": [
    "df.email"
   ]
  },
  {
   "cell_type": "markdown",
   "id": "f4cc2503-7276-458c-bb55-29e31fb83707",
   "metadata": {},
   "source": [
    "wiele kolumn"
   ]
  },
  {
   "cell_type": "code",
   "execution_count": 20,
   "id": "2647a180-8646-4ecf-b0f0-efaa3a97d064",
   "metadata": {
    "tags": []
   },
   "outputs": [
    {
     "data": {
      "text/html": [
       "<div>\n",
       "<style scoped>\n",
       "    .dataframe tbody tr th:only-of-type {\n",
       "        vertical-align: middle;\n",
       "    }\n",
       "\n",
       "    .dataframe tbody tr th {\n",
       "        vertical-align: top;\n",
       "    }\n",
       "\n",
       "    .dataframe thead th {\n",
       "        text-align: right;\n",
       "    }\n",
       "</style>\n",
       "<table border=\"1\" class=\"dataframe\">\n",
       "  <thead>\n",
       "    <tr style=\"text-align: right;\">\n",
       "      <th></th>\n",
       "      <th>imię</th>\n",
       "      <th>email</th>\n",
       "    </tr>\n",
       "  </thead>\n",
       "  <tbody>\n",
       "    <tr>\n",
       "      <th>0</th>\n",
       "      <td>Agnieszka</td>\n",
       "      <td>agnieszka.sołtys@email.com</td>\n",
       "    </tr>\n",
       "    <tr>\n",
       "      <th>1</th>\n",
       "      <td>Jan</td>\n",
       "      <td>jan.nowak@gmail.com</td>\n",
       "    </tr>\n",
       "    <tr>\n",
       "      <th>2</th>\n",
       "      <td>Anna</td>\n",
       "      <td>anna.nowak@email.com</td>\n",
       "    </tr>\n",
       "  </tbody>\n",
       "</table>\n",
       "</div>"
      ],
      "text/plain": [
       "        imię                       email\n",
       "0  Agnieszka  agnieszka.sołtys@email.com\n",
       "1        Jan         jan.nowak@gmail.com\n",
       "2       Anna        anna.nowak@email.com"
      ]
     },
     "execution_count": 20,
     "metadata": {},
     "output_type": "execute_result"
    }
   ],
   "source": [
    "df[[\"imię\", \"email\"]] # indeksowanie listą"
   ]
  },
  {
   "cell_type": "code",
   "execution_count": 21,
   "id": "e0c79938-f609-43bc-b1ab-d959a3f19839",
   "metadata": {
    "tags": []
   },
   "outputs": [
    {
     "data": {
      "text/plain": [
       "Index(['imię', 'nazwisko', 'email'], dtype='object')"
      ]
     },
     "execution_count": 21,
     "metadata": {},
     "output_type": "execute_result"
    }
   ],
   "source": [
    "df.columns"
   ]
  },
  {
   "cell_type": "markdown",
   "id": "5961853f-1ff3-40eb-ba90-1cc255cf035a",
   "metadata": {},
   "source": [
    "### Wybór wierszy (loc, iloc)"
   ]
  },
  {
   "cell_type": "markdown",
   "id": "744be908-adbc-460c-9d91-98a7d3e55747",
   "metadata": {},
   "source": [
    "iloc - integer locator"
   ]
  },
  {
   "cell_type": "code",
   "execution_count": 22,
   "id": "c7776fa7-66ea-4ecf-882c-81880cb540ac",
   "metadata": {
    "tags": []
   },
   "outputs": [
    {
     "data": {
      "text/plain": [
       "imię                         Agnieszka\n",
       "nazwisko                        Sołtys\n",
       "email       agnieszka.sołtys@email.com\n",
       "Name: 0, dtype: object"
      ]
     },
     "execution_count": 22,
     "metadata": {},
     "output_type": "execute_result"
    }
   ],
   "source": [
    "df.iloc[0]"
   ]
  },
  {
   "cell_type": "markdown",
   "id": "5725736f-c2b2-42bf-82d2-1420ee52899c",
   "metadata": {},
   "source": [
    "wiele wierszy"
   ]
  },
  {
   "cell_type": "code",
   "execution_count": 23,
   "id": "54c25745-f384-4024-b3c1-58597ca64084",
   "metadata": {
    "tags": []
   },
   "outputs": [
    {
     "data": {
      "text/html": [
       "<div>\n",
       "<style scoped>\n",
       "    .dataframe tbody tr th:only-of-type {\n",
       "        vertical-align: middle;\n",
       "    }\n",
       "\n",
       "    .dataframe tbody tr th {\n",
       "        vertical-align: top;\n",
       "    }\n",
       "\n",
       "    .dataframe thead th {\n",
       "        text-align: right;\n",
       "    }\n",
       "</style>\n",
       "<table border=\"1\" class=\"dataframe\">\n",
       "  <thead>\n",
       "    <tr style=\"text-align: right;\">\n",
       "      <th></th>\n",
       "      <th>imię</th>\n",
       "      <th>nazwisko</th>\n",
       "      <th>email</th>\n",
       "    </tr>\n",
       "  </thead>\n",
       "  <tbody>\n",
       "    <tr>\n",
       "      <th>0</th>\n",
       "      <td>Agnieszka</td>\n",
       "      <td>Sołtys</td>\n",
       "      <td>agnieszka.sołtys@email.com</td>\n",
       "    </tr>\n",
       "    <tr>\n",
       "      <th>1</th>\n",
       "      <td>Jan</td>\n",
       "      <td>Nowak</td>\n",
       "      <td>jan.nowak@gmail.com</td>\n",
       "    </tr>\n",
       "  </tbody>\n",
       "</table>\n",
       "</div>"
      ],
      "text/plain": [
       "        imię nazwisko                       email\n",
       "0  Agnieszka   Sołtys  agnieszka.sołtys@email.com\n",
       "1        Jan    Nowak         jan.nowak@gmail.com"
      ]
     },
     "execution_count": 23,
     "metadata": {},
     "output_type": "execute_result"
    }
   ],
   "source": [
    "df.iloc[[0,1]]"
   ]
  },
  {
   "cell_type": "code",
   "execution_count": 26,
   "id": "5b07e2cd-802a-4fdc-8c59-f77017f81a7b",
   "metadata": {
    "tags": []
   },
   "outputs": [
    {
     "data": {
      "text/plain": [
       "0    agnieszka.sołtys@email.com\n",
       "1           jan.nowak@gmail.com\n",
       "Name: email, dtype: object"
      ]
     },
     "execution_count": 26,
     "metadata": {},
     "output_type": "execute_result"
    }
   ],
   "source": [
    "df.iloc[[0,1], 2] # nie nazwy, tylko numery - integer locator"
   ]
  },
  {
   "cell_type": "code",
   "execution_count": 25,
   "id": "289d8adf-e80f-4157-b4e1-4136a78d22f9",
   "metadata": {
    "tags": []
   },
   "outputs": [
    {
     "data": {
      "text/html": [
       "<div>\n",
       "<style scoped>\n",
       "    .dataframe tbody tr th:only-of-type {\n",
       "        vertical-align: middle;\n",
       "    }\n",
       "\n",
       "    .dataframe tbody tr th {\n",
       "        vertical-align: top;\n",
       "    }\n",
       "\n",
       "    .dataframe thead th {\n",
       "        text-align: right;\n",
       "    }\n",
       "</style>\n",
       "<table border=\"1\" class=\"dataframe\">\n",
       "  <thead>\n",
       "    <tr style=\"text-align: right;\">\n",
       "      <th></th>\n",
       "      <th>imię</th>\n",
       "      <th>nazwisko</th>\n",
       "      <th>email</th>\n",
       "    </tr>\n",
       "  </thead>\n",
       "  <tbody>\n",
       "    <tr>\n",
       "      <th>0</th>\n",
       "      <td>Agnieszka</td>\n",
       "      <td>Sołtys</td>\n",
       "      <td>agnieszka.sołtys@email.com</td>\n",
       "    </tr>\n",
       "    <tr>\n",
       "      <th>1</th>\n",
       "      <td>Jan</td>\n",
       "      <td>Nowak</td>\n",
       "      <td>jan.nowak@gmail.com</td>\n",
       "    </tr>\n",
       "    <tr>\n",
       "      <th>2</th>\n",
       "      <td>Anna</td>\n",
       "      <td>Nowak</td>\n",
       "      <td>anna.nowak@email.com</td>\n",
       "    </tr>\n",
       "  </tbody>\n",
       "</table>\n",
       "</div>"
      ],
      "text/plain": [
       "        imię nazwisko                       email\n",
       "0  Agnieszka   Sołtys  agnieszka.sołtys@email.com\n",
       "1        Jan    Nowak         jan.nowak@gmail.com\n",
       "2       Anna    Nowak        anna.nowak@email.com"
      ]
     },
     "execution_count": 25,
     "metadata": {},
     "output_type": "execute_result"
    }
   ],
   "source": [
    "df"
   ]
  },
  {
   "cell_type": "markdown",
   "id": "9ac35e14-5ef0-4561-94a2-b6481f951488",
   "metadata": {},
   "source": [
    "loc "
   ]
  },
  {
   "cell_type": "code",
   "execution_count": 29,
   "id": "fce48cc8-8c49-4e53-8926-25b273c1be23",
   "metadata": {
    "tags": []
   },
   "outputs": [
    {
     "data": {
      "text/plain": [
       "'Sołtys'"
      ]
     },
     "execution_count": 29,
     "metadata": {},
     "output_type": "execute_result"
    }
   ],
   "source": [
    "df.loc[0, \"nazwisko\"] # odwoływanie po nazwach!"
   ]
  },
  {
   "cell_type": "code",
   "execution_count": 30,
   "id": "c5879674-a2b6-4a6e-8fb2-498f786774d1",
   "metadata": {
    "tags": []
   },
   "outputs": [
    {
     "data": {
      "text/html": [
       "<div>\n",
       "<style scoped>\n",
       "    .dataframe tbody tr th:only-of-type {\n",
       "        vertical-align: middle;\n",
       "    }\n",
       "\n",
       "    .dataframe tbody tr th {\n",
       "        vertical-align: top;\n",
       "    }\n",
       "\n",
       "    .dataframe thead th {\n",
       "        text-align: right;\n",
       "    }\n",
       "</style>\n",
       "<table border=\"1\" class=\"dataframe\">\n",
       "  <thead>\n",
       "    <tr style=\"text-align: right;\">\n",
       "      <th></th>\n",
       "      <th>email</th>\n",
       "      <th>imię</th>\n",
       "    </tr>\n",
       "  </thead>\n",
       "  <tbody>\n",
       "    <tr>\n",
       "      <th>0</th>\n",
       "      <td>agnieszka.sołtys@email.com</td>\n",
       "      <td>Agnieszka</td>\n",
       "    </tr>\n",
       "    <tr>\n",
       "      <th>1</th>\n",
       "      <td>jan.nowak@gmail.com</td>\n",
       "      <td>Jan</td>\n",
       "    </tr>\n",
       "  </tbody>\n",
       "</table>\n",
       "</div>"
      ],
      "text/plain": [
       "                        email       imię\n",
       "0  agnieszka.sołtys@email.com  Agnieszka\n",
       "1         jan.nowak@gmail.com        Jan"
      ]
     },
     "execution_count": 30,
     "metadata": {},
     "output_type": "execute_result"
    }
   ],
   "source": [
    "df.loc[[0,1], [\"email\", \"imię\"]]"
   ]
  },
  {
   "cell_type": "markdown",
   "id": "a0eeb3ef-1efe-4430-94bc-13fcad3b9a4c",
   "metadata": {},
   "source": [
    "## 3. Indeksowanie"
   ]
  },
  {
   "cell_type": "markdown",
   "id": "afa85005-839d-4eed-ac3b-8e79bc913ab7",
   "metadata": {},
   "source": [
    "Domyślnie liczby 0,1,2,... Czasem sensowny jest jakiś inny indeks, np. adres email (numer PESEL), w PANDAS \n",
    "nie musi on być unikalny."
   ]
  },
  {
   "cell_type": "code",
   "execution_count": 31,
   "id": "fc6a69fa-0d2d-494d-b7cd-12991f05aa9d",
   "metadata": {
    "tags": []
   },
   "outputs": [
    {
     "data": {
      "text/html": [
       "<div>\n",
       "<style scoped>\n",
       "    .dataframe tbody tr th:only-of-type {\n",
       "        vertical-align: middle;\n",
       "    }\n",
       "\n",
       "    .dataframe tbody tr th {\n",
       "        vertical-align: top;\n",
       "    }\n",
       "\n",
       "    .dataframe thead th {\n",
       "        text-align: right;\n",
       "    }\n",
       "</style>\n",
       "<table border=\"1\" class=\"dataframe\">\n",
       "  <thead>\n",
       "    <tr style=\"text-align: right;\">\n",
       "      <th></th>\n",
       "      <th>imię</th>\n",
       "      <th>nazwisko</th>\n",
       "      <th>email</th>\n",
       "    </tr>\n",
       "  </thead>\n",
       "  <tbody>\n",
       "    <tr>\n",
       "      <th>0</th>\n",
       "      <td>Agnieszka</td>\n",
       "      <td>Sołtys</td>\n",
       "      <td>agnieszka.sołtys@email.com</td>\n",
       "    </tr>\n",
       "    <tr>\n",
       "      <th>1</th>\n",
       "      <td>Jan</td>\n",
       "      <td>Nowak</td>\n",
       "      <td>jan.nowak@gmail.com</td>\n",
       "    </tr>\n",
       "    <tr>\n",
       "      <th>2</th>\n",
       "      <td>Anna</td>\n",
       "      <td>Nowak</td>\n",
       "      <td>anna.nowak@email.com</td>\n",
       "    </tr>\n",
       "  </tbody>\n",
       "</table>\n",
       "</div>"
      ],
      "text/plain": [
       "        imię nazwisko                       email\n",
       "0  Agnieszka   Sołtys  agnieszka.sołtys@email.com\n",
       "1        Jan    Nowak         jan.nowak@gmail.com\n",
       "2       Anna    Nowak        anna.nowak@email.com"
      ]
     },
     "execution_count": 31,
     "metadata": {},
     "output_type": "execute_result"
    }
   ],
   "source": [
    "df"
   ]
  },
  {
   "cell_type": "code",
   "execution_count": 32,
   "id": "2467d80b-a103-48a4-8222-0accd01c76ab",
   "metadata": {
    "tags": []
   },
   "outputs": [
    {
     "data": {
      "text/html": [
       "<div>\n",
       "<style scoped>\n",
       "    .dataframe tbody tr th:only-of-type {\n",
       "        vertical-align: middle;\n",
       "    }\n",
       "\n",
       "    .dataframe tbody tr th {\n",
       "        vertical-align: top;\n",
       "    }\n",
       "\n",
       "    .dataframe thead th {\n",
       "        text-align: right;\n",
       "    }\n",
       "</style>\n",
       "<table border=\"1\" class=\"dataframe\">\n",
       "  <thead>\n",
       "    <tr style=\"text-align: right;\">\n",
       "      <th></th>\n",
       "      <th>imię</th>\n",
       "      <th>nazwisko</th>\n",
       "    </tr>\n",
       "    <tr>\n",
       "      <th>email</th>\n",
       "      <th></th>\n",
       "      <th></th>\n",
       "    </tr>\n",
       "  </thead>\n",
       "  <tbody>\n",
       "    <tr>\n",
       "      <th>agnieszka.sołtys@email.com</th>\n",
       "      <td>Agnieszka</td>\n",
       "      <td>Sołtys</td>\n",
       "    </tr>\n",
       "    <tr>\n",
       "      <th>jan.nowak@gmail.com</th>\n",
       "      <td>Jan</td>\n",
       "      <td>Nowak</td>\n",
       "    </tr>\n",
       "    <tr>\n",
       "      <th>anna.nowak@email.com</th>\n",
       "      <td>Anna</td>\n",
       "      <td>Nowak</td>\n",
       "    </tr>\n",
       "  </tbody>\n",
       "</table>\n",
       "</div>"
      ],
      "text/plain": [
       "                                 imię nazwisko\n",
       "email                                         \n",
       "agnieszka.sołtys@email.com  Agnieszka   Sołtys\n",
       "jan.nowak@gmail.com               Jan    Nowak\n",
       "anna.nowak@email.com             Anna    Nowak"
      ]
     },
     "execution_count": 32,
     "metadata": {},
     "output_type": "execute_result"
    }
   ],
   "source": [
    "df.set_index(\"email\")"
   ]
  },
  {
   "cell_type": "code",
   "execution_count": 33,
   "id": "7f327da2-bb53-4b36-b09a-8603223f0b1b",
   "metadata": {
    "tags": []
   },
   "outputs": [
    {
     "data": {
      "text/html": [
       "<div>\n",
       "<style scoped>\n",
       "    .dataframe tbody tr th:only-of-type {\n",
       "        vertical-align: middle;\n",
       "    }\n",
       "\n",
       "    .dataframe tbody tr th {\n",
       "        vertical-align: top;\n",
       "    }\n",
       "\n",
       "    .dataframe thead th {\n",
       "        text-align: right;\n",
       "    }\n",
       "</style>\n",
       "<table border=\"1\" class=\"dataframe\">\n",
       "  <thead>\n",
       "    <tr style=\"text-align: right;\">\n",
       "      <th></th>\n",
       "      <th>imię</th>\n",
       "      <th>nazwisko</th>\n",
       "      <th>email</th>\n",
       "    </tr>\n",
       "  </thead>\n",
       "  <tbody>\n",
       "    <tr>\n",
       "      <th>0</th>\n",
       "      <td>Agnieszka</td>\n",
       "      <td>Sołtys</td>\n",
       "      <td>agnieszka.sołtys@email.com</td>\n",
       "    </tr>\n",
       "    <tr>\n",
       "      <th>1</th>\n",
       "      <td>Jan</td>\n",
       "      <td>Nowak</td>\n",
       "      <td>jan.nowak@gmail.com</td>\n",
       "    </tr>\n",
       "    <tr>\n",
       "      <th>2</th>\n",
       "      <td>Anna</td>\n",
       "      <td>Nowak</td>\n",
       "      <td>anna.nowak@email.com</td>\n",
       "    </tr>\n",
       "  </tbody>\n",
       "</table>\n",
       "</div>"
      ],
      "text/plain": [
       "        imię nazwisko                       email\n",
       "0  Agnieszka   Sołtys  agnieszka.sołtys@email.com\n",
       "1        Jan    Nowak         jan.nowak@gmail.com\n",
       "2       Anna    Nowak        anna.nowak@email.com"
      ]
     },
     "execution_count": 33,
     "metadata": {},
     "output_type": "execute_result"
    }
   ],
   "source": [
    "df"
   ]
  },
  {
   "cell_type": "code",
   "execution_count": 34,
   "id": "43cbd3a5-aefa-4f09-999e-d17bbc918a54",
   "metadata": {
    "tags": []
   },
   "outputs": [],
   "source": [
    "df.set_index(\"email\", inplace = True)"
   ]
  },
  {
   "cell_type": "code",
   "execution_count": 35,
   "id": "49534a3a-c211-414d-ab3c-bb5510722893",
   "metadata": {
    "tags": []
   },
   "outputs": [
    {
     "data": {
      "text/html": [
       "<div>\n",
       "<style scoped>\n",
       "    .dataframe tbody tr th:only-of-type {\n",
       "        vertical-align: middle;\n",
       "    }\n",
       "\n",
       "    .dataframe tbody tr th {\n",
       "        vertical-align: top;\n",
       "    }\n",
       "\n",
       "    .dataframe thead th {\n",
       "        text-align: right;\n",
       "    }\n",
       "</style>\n",
       "<table border=\"1\" class=\"dataframe\">\n",
       "  <thead>\n",
       "    <tr style=\"text-align: right;\">\n",
       "      <th></th>\n",
       "      <th>imię</th>\n",
       "      <th>nazwisko</th>\n",
       "    </tr>\n",
       "    <tr>\n",
       "      <th>email</th>\n",
       "      <th></th>\n",
       "      <th></th>\n",
       "    </tr>\n",
       "  </thead>\n",
       "  <tbody>\n",
       "    <tr>\n",
       "      <th>agnieszka.sołtys@email.com</th>\n",
       "      <td>Agnieszka</td>\n",
       "      <td>Sołtys</td>\n",
       "    </tr>\n",
       "    <tr>\n",
       "      <th>jan.nowak@gmail.com</th>\n",
       "      <td>Jan</td>\n",
       "      <td>Nowak</td>\n",
       "    </tr>\n",
       "    <tr>\n",
       "      <th>anna.nowak@email.com</th>\n",
       "      <td>Anna</td>\n",
       "      <td>Nowak</td>\n",
       "    </tr>\n",
       "  </tbody>\n",
       "</table>\n",
       "</div>"
      ],
      "text/plain": [
       "                                 imię nazwisko\n",
       "email                                         \n",
       "agnieszka.sołtys@email.com  Agnieszka   Sołtys\n",
       "jan.nowak@gmail.com               Jan    Nowak\n",
       "anna.nowak@email.com             Anna    Nowak"
      ]
     },
     "execution_count": 35,
     "metadata": {},
     "output_type": "execute_result"
    }
   ],
   "source": [
    "df"
   ]
  },
  {
   "cell_type": "code",
   "execution_count": 36,
   "id": "ae406f66-60d9-40d5-9e5d-10b66d10840f",
   "metadata": {
    "tags": []
   },
   "outputs": [
    {
     "data": {
      "text/plain": [
       "Index(['agnieszka.sołtys@email.com', 'jan.nowak@gmail.com',\n",
       "       'anna.nowak@email.com'],\n",
       "      dtype='object', name='email')"
      ]
     },
     "execution_count": 36,
     "metadata": {},
     "output_type": "execute_result"
    }
   ],
   "source": [
    "df.index"
   ]
  },
  {
   "cell_type": "code",
   "execution_count": 37,
   "id": "d9bf11c0-fc08-43d0-b96e-72413a0f91f6",
   "metadata": {
    "tags": []
   },
   "outputs": [
    {
     "data": {
      "text/plain": [
       "imię          Jan\n",
       "nazwisko    Nowak\n",
       "Name: jan.nowak@gmail.com, dtype: object"
      ]
     },
     "execution_count": 37,
     "metadata": {},
     "output_type": "execute_result"
    }
   ],
   "source": [
    "df.loc[\"jan.nowak@gmail.com\"]"
   ]
  },
  {
   "cell_type": "code",
   "execution_count": 39,
   "id": "4c366b97-6564-44ed-8632-b000a32215f7",
   "metadata": {
    "tags": []
   },
   "outputs": [
    {
     "data": {
      "text/plain": [
       "imię        Agnieszka\n",
       "nazwisko       Sołtys\n",
       "Name: agnieszka.sołtys@email.com, dtype: object"
      ]
     },
     "execution_count": 39,
     "metadata": {},
     "output_type": "execute_result"
    }
   ],
   "source": [
    "df.iloc[0]"
   ]
  },
  {
   "cell_type": "code",
   "execution_count": 40,
   "id": "cb472090-6dd2-4123-83cc-2d4b0acb0520",
   "metadata": {
    "tags": []
   },
   "outputs": [],
   "source": [
    "df.reset_index(inplace = True)"
   ]
  },
  {
   "cell_type": "code",
   "execution_count": 41,
   "id": "62ae94ce-d58a-4474-8ef4-c82c01f78de5",
   "metadata": {
    "tags": []
   },
   "outputs": [
    {
     "data": {
      "text/html": [
       "<div>\n",
       "<style scoped>\n",
       "    .dataframe tbody tr th:only-of-type {\n",
       "        vertical-align: middle;\n",
       "    }\n",
       "\n",
       "    .dataframe tbody tr th {\n",
       "        vertical-align: top;\n",
       "    }\n",
       "\n",
       "    .dataframe thead th {\n",
       "        text-align: right;\n",
       "    }\n",
       "</style>\n",
       "<table border=\"1\" class=\"dataframe\">\n",
       "  <thead>\n",
       "    <tr style=\"text-align: right;\">\n",
       "      <th></th>\n",
       "      <th>email</th>\n",
       "      <th>imię</th>\n",
       "      <th>nazwisko</th>\n",
       "    </tr>\n",
       "  </thead>\n",
       "  <tbody>\n",
       "    <tr>\n",
       "      <th>0</th>\n",
       "      <td>agnieszka.sołtys@email.com</td>\n",
       "      <td>Agnieszka</td>\n",
       "      <td>Sołtys</td>\n",
       "    </tr>\n",
       "    <tr>\n",
       "      <th>1</th>\n",
       "      <td>jan.nowak@gmail.com</td>\n",
       "      <td>Jan</td>\n",
       "      <td>Nowak</td>\n",
       "    </tr>\n",
       "    <tr>\n",
       "      <th>2</th>\n",
       "      <td>anna.nowak@email.com</td>\n",
       "      <td>Anna</td>\n",
       "      <td>Nowak</td>\n",
       "    </tr>\n",
       "  </tbody>\n",
       "</table>\n",
       "</div>"
      ],
      "text/plain": [
       "                        email       imię nazwisko\n",
       "0  agnieszka.sołtys@email.com  Agnieszka   Sołtys\n",
       "1         jan.nowak@gmail.com        Jan    Nowak\n",
       "2        anna.nowak@email.com       Anna    Nowak"
      ]
     },
     "execution_count": 41,
     "metadata": {},
     "output_type": "execute_result"
    }
   ],
   "source": [
    "df"
   ]
  },
  {
   "cell_type": "markdown",
   "id": "907fd574-a3a4-4014-b0d5-d5cf1b92570e",
   "metadata": {},
   "source": [
    "### Indeksy hierarchiczne (zagnieżdżone)"
   ]
  },
  {
   "cell_type": "code",
   "execution_count": 42,
   "id": "d7f966a8-1ebb-4782-967c-0c1f7a61c98a",
   "metadata": {
    "tags": []
   },
   "outputs": [],
   "source": [
    "iterables = [[\"bar\", \"baz\", \"foo\", \"qux\"], [\"one\", \"two\"]]"
   ]
  },
  {
   "cell_type": "code",
   "execution_count": 43,
   "id": "1dfd7c58-4eb0-4664-bfba-fde8458030e5",
   "metadata": {
    "tags": []
   },
   "outputs": [],
   "source": [
    "index = pd.MultiIndex.from_product(iterables, names = [\"first\", \"second\"])"
   ]
  },
  {
   "cell_type": "code",
   "execution_count": 44,
   "id": "0f2ba825-b6aa-4fa2-b7a8-f9c2b340deb2",
   "metadata": {
    "tags": []
   },
   "outputs": [],
   "source": [
    "s = pd.Series(np.random.randn(8), index = index)"
   ]
  },
  {
   "cell_type": "code",
   "execution_count": 45,
   "id": "3348440f-00a8-4066-a087-8367af3c1ed6",
   "metadata": {
    "tags": []
   },
   "outputs": [
    {
     "data": {
      "text/plain": [
       "first  second\n",
       "bar    one      -0.405969\n",
       "       two       0.196577\n",
       "baz    one       1.182120\n",
       "       two       0.420792\n",
       "foo    one       0.922954\n",
       "       two      -1.842617\n",
       "qux    one       0.340414\n",
       "       two       0.207405\n",
       "dtype: float64"
      ]
     },
     "execution_count": 45,
     "metadata": {},
     "output_type": "execute_result"
    }
   ],
   "source": [
    "s"
   ]
  },
  {
   "cell_type": "code",
   "execution_count": 46,
   "id": "599bf039-7ee4-4bbe-9261-aa9729627d78",
   "metadata": {
    "tags": []
   },
   "outputs": [
    {
     "data": {
      "text/plain": [
       "-0.4059691020269081"
      ]
     },
     "execution_count": 46,
     "metadata": {},
     "output_type": "execute_result"
    }
   ],
   "source": [
    "s[\"bar\", \"one\"]"
   ]
  },
  {
   "cell_type": "code",
   "execution_count": 47,
   "id": "8ae8da14-2f27-495f-b175-e1af2c6124c5",
   "metadata": {
    "tags": []
   },
   "outputs": [
    {
     "data": {
      "text/plain": [
       "second\n",
       "one   -0.405969\n",
       "two    0.196577\n",
       "dtype: float64"
      ]
     },
     "execution_count": 47,
     "metadata": {},
     "output_type": "execute_result"
    }
   ],
   "source": [
    "s[\"bar\"]"
   ]
  },
  {
   "cell_type": "markdown",
   "id": "cb786f59-1476-41c3-a3a9-8e36d309e53d",
   "metadata": {},
   "source": [
    "## 5. Filtrowanie"
   ]
  },
  {
   "cell_type": "code",
   "execution_count": 48,
   "id": "656b89df-0123-497a-8137-b14d1cc5fbcd",
   "metadata": {
    "tags": []
   },
   "outputs": [
    {
     "data": {
      "text/html": [
       "<div>\n",
       "<style scoped>\n",
       "    .dataframe tbody tr th:only-of-type {\n",
       "        vertical-align: middle;\n",
       "    }\n",
       "\n",
       "    .dataframe tbody tr th {\n",
       "        vertical-align: top;\n",
       "    }\n",
       "\n",
       "    .dataframe thead th {\n",
       "        text-align: right;\n",
       "    }\n",
       "</style>\n",
       "<table border=\"1\" class=\"dataframe\">\n",
       "  <thead>\n",
       "    <tr style=\"text-align: right;\">\n",
       "      <th></th>\n",
       "      <th>email</th>\n",
       "      <th>imię</th>\n",
       "      <th>nazwisko</th>\n",
       "    </tr>\n",
       "  </thead>\n",
       "  <tbody>\n",
       "    <tr>\n",
       "      <th>0</th>\n",
       "      <td>agnieszka.sołtys@email.com</td>\n",
       "      <td>Agnieszka</td>\n",
       "      <td>Sołtys</td>\n",
       "    </tr>\n",
       "    <tr>\n",
       "      <th>1</th>\n",
       "      <td>jan.nowak@gmail.com</td>\n",
       "      <td>Jan</td>\n",
       "      <td>Nowak</td>\n",
       "    </tr>\n",
       "    <tr>\n",
       "      <th>2</th>\n",
       "      <td>anna.nowak@email.com</td>\n",
       "      <td>Anna</td>\n",
       "      <td>Nowak</td>\n",
       "    </tr>\n",
       "  </tbody>\n",
       "</table>\n",
       "</div>"
      ],
      "text/plain": [
       "                        email       imię nazwisko\n",
       "0  agnieszka.sołtys@email.com  Agnieszka   Sołtys\n",
       "1         jan.nowak@gmail.com        Jan    Nowak\n",
       "2        anna.nowak@email.com       Anna    Nowak"
      ]
     },
     "execution_count": 48,
     "metadata": {},
     "output_type": "execute_result"
    }
   ],
   "source": [
    "df"
   ]
  },
  {
   "cell_type": "code",
   "execution_count": 49,
   "id": "e740a0bf-c832-4445-9cb1-9fb8be223eea",
   "metadata": {
    "tags": []
   },
   "outputs": [
    {
     "data": {
      "text/plain": [
       "0    False\n",
       "1     True\n",
       "2     True\n",
       "Name: nazwisko, dtype: bool"
      ]
     },
     "execution_count": 49,
     "metadata": {},
     "output_type": "execute_result"
    }
   ],
   "source": [
    "df[\"nazwisko\"] == \"Nowak\" # maska  (filter mask) seria True/Flase odpowiadająca wielkości ramki"
   ]
  },
  {
   "cell_type": "code",
   "execution_count": 50,
   "id": "e0f66c27-901c-4b7c-b271-34bb7b5de409",
   "metadata": {
    "tags": []
   },
   "outputs": [],
   "source": [
    "filt = (df[\"nazwisko\"] == \"Nowak\")"
   ]
  },
  {
   "cell_type": "code",
   "execution_count": 51,
   "id": "005f0bd0-e797-4406-b0a6-0e40219e4a5b",
   "metadata": {
    "tags": []
   },
   "outputs": [
    {
     "data": {
      "text/html": [
       "<div>\n",
       "<style scoped>\n",
       "    .dataframe tbody tr th:only-of-type {\n",
       "        vertical-align: middle;\n",
       "    }\n",
       "\n",
       "    .dataframe tbody tr th {\n",
       "        vertical-align: top;\n",
       "    }\n",
       "\n",
       "    .dataframe thead th {\n",
       "        text-align: right;\n",
       "    }\n",
       "</style>\n",
       "<table border=\"1\" class=\"dataframe\">\n",
       "  <thead>\n",
       "    <tr style=\"text-align: right;\">\n",
       "      <th></th>\n",
       "      <th>email</th>\n",
       "      <th>imię</th>\n",
       "      <th>nazwisko</th>\n",
       "    </tr>\n",
       "  </thead>\n",
       "  <tbody>\n",
       "    <tr>\n",
       "      <th>1</th>\n",
       "      <td>jan.nowak@gmail.com</td>\n",
       "      <td>Jan</td>\n",
       "      <td>Nowak</td>\n",
       "    </tr>\n",
       "    <tr>\n",
       "      <th>2</th>\n",
       "      <td>anna.nowak@email.com</td>\n",
       "      <td>Anna</td>\n",
       "      <td>Nowak</td>\n",
       "    </tr>\n",
       "  </tbody>\n",
       "</table>\n",
       "</div>"
      ],
      "text/plain": [
       "                  email  imię nazwisko\n",
       "1   jan.nowak@gmail.com   Jan    Nowak\n",
       "2  anna.nowak@email.com  Anna    Nowak"
      ]
     },
     "execution_count": 51,
     "metadata": {},
     "output_type": "execute_result"
    }
   ],
   "source": [
    "df[filt]"
   ]
  },
  {
   "cell_type": "code",
   "execution_count": 52,
   "id": "22a9279e-0fd7-458b-bc6f-35f157c07678",
   "metadata": {
    "tags": []
   },
   "outputs": [
    {
     "data": {
      "text/html": [
       "<div>\n",
       "<style scoped>\n",
       "    .dataframe tbody tr th:only-of-type {\n",
       "        vertical-align: middle;\n",
       "    }\n",
       "\n",
       "    .dataframe tbody tr th {\n",
       "        vertical-align: top;\n",
       "    }\n",
       "\n",
       "    .dataframe thead th {\n",
       "        text-align: right;\n",
       "    }\n",
       "</style>\n",
       "<table border=\"1\" class=\"dataframe\">\n",
       "  <thead>\n",
       "    <tr style=\"text-align: right;\">\n",
       "      <th></th>\n",
       "      <th>email</th>\n",
       "      <th>imię</th>\n",
       "      <th>nazwisko</th>\n",
       "    </tr>\n",
       "  </thead>\n",
       "  <tbody>\n",
       "    <tr>\n",
       "      <th>1</th>\n",
       "      <td>jan.nowak@gmail.com</td>\n",
       "      <td>Jan</td>\n",
       "      <td>Nowak</td>\n",
       "    </tr>\n",
       "    <tr>\n",
       "      <th>2</th>\n",
       "      <td>anna.nowak@email.com</td>\n",
       "      <td>Anna</td>\n",
       "      <td>Nowak</td>\n",
       "    </tr>\n",
       "  </tbody>\n",
       "</table>\n",
       "</div>"
      ],
      "text/plain": [
       "                  email  imię nazwisko\n",
       "1   jan.nowak@gmail.com   Jan    Nowak\n",
       "2  anna.nowak@email.com  Anna    Nowak"
      ]
     },
     "execution_count": 52,
     "metadata": {},
     "output_type": "execute_result"
    }
   ],
   "source": [
    "df[df[\"nazwisko\"] == \"Nowak\"]"
   ]
  },
  {
   "cell_type": "code",
   "execution_count": 53,
   "id": "af341df0-2c95-4116-9779-5c11e7318092",
   "metadata": {
    "tags": []
   },
   "outputs": [
    {
     "data": {
      "text/html": [
       "<div>\n",
       "<style scoped>\n",
       "    .dataframe tbody tr th:only-of-type {\n",
       "        vertical-align: middle;\n",
       "    }\n",
       "\n",
       "    .dataframe tbody tr th {\n",
       "        vertical-align: top;\n",
       "    }\n",
       "\n",
       "    .dataframe thead th {\n",
       "        text-align: right;\n",
       "    }\n",
       "</style>\n",
       "<table border=\"1\" class=\"dataframe\">\n",
       "  <thead>\n",
       "    <tr style=\"text-align: right;\">\n",
       "      <th></th>\n",
       "      <th>email</th>\n",
       "      <th>imię</th>\n",
       "      <th>nazwisko</th>\n",
       "    </tr>\n",
       "  </thead>\n",
       "  <tbody>\n",
       "    <tr>\n",
       "      <th>1</th>\n",
       "      <td>jan.nowak@gmail.com</td>\n",
       "      <td>Jan</td>\n",
       "      <td>Nowak</td>\n",
       "    </tr>\n",
       "    <tr>\n",
       "      <th>2</th>\n",
       "      <td>anna.nowak@email.com</td>\n",
       "      <td>Anna</td>\n",
       "      <td>Nowak</td>\n",
       "    </tr>\n",
       "  </tbody>\n",
       "</table>\n",
       "</div>"
      ],
      "text/plain": [
       "                  email  imię nazwisko\n",
       "1   jan.nowak@gmail.com   Jan    Nowak\n",
       "2  anna.nowak@email.com  Anna    Nowak"
      ]
     },
     "execution_count": 53,
     "metadata": {},
     "output_type": "execute_result"
    }
   ],
   "source": [
    "df.loc[filt]"
   ]
  },
  {
   "cell_type": "code",
   "execution_count": 54,
   "id": "c24689da-8a3b-4cb5-b346-115c4f73304d",
   "metadata": {
    "tags": []
   },
   "outputs": [
    {
     "data": {
      "text/plain": [
       "1     Jan\n",
       "2    Anna\n",
       "Name: imię, dtype: object"
      ]
     },
     "execution_count": 54,
     "metadata": {},
     "output_type": "execute_result"
    }
   ],
   "source": [
    "df.loc[filt, \"imię\"]"
   ]
  },
  {
   "cell_type": "markdown",
   "id": "f37fcc56-e4ae-492f-8896-56f6c82bc3ae",
   "metadata": {},
   "source": [
    "### & , | i ~"
   ]
  },
  {
   "cell_type": "code",
   "execution_count": 55,
   "id": "dfed58e6-a56e-4144-9faf-1d94e3de9544",
   "metadata": {
    "tags": []
   },
   "outputs": [],
   "source": [
    "filt = (df[\"nazwisko\"] == \"Nowak\") & (df[\"imię\"] == \"Jan\")"
   ]
  },
  {
   "cell_type": "code",
   "execution_count": 56,
   "id": "2acb2de5-b8b4-4ee7-8640-b0b38524fdd9",
   "metadata": {
    "tags": []
   },
   "outputs": [
    {
     "data": {
      "text/html": [
       "<div>\n",
       "<style scoped>\n",
       "    .dataframe tbody tr th:only-of-type {\n",
       "        vertical-align: middle;\n",
       "    }\n",
       "\n",
       "    .dataframe tbody tr th {\n",
       "        vertical-align: top;\n",
       "    }\n",
       "\n",
       "    .dataframe thead th {\n",
       "        text-align: right;\n",
       "    }\n",
       "</style>\n",
       "<table border=\"1\" class=\"dataframe\">\n",
       "  <thead>\n",
       "    <tr style=\"text-align: right;\">\n",
       "      <th></th>\n",
       "      <th>email</th>\n",
       "      <th>imię</th>\n",
       "      <th>nazwisko</th>\n",
       "    </tr>\n",
       "  </thead>\n",
       "  <tbody>\n",
       "    <tr>\n",
       "      <th>1</th>\n",
       "      <td>jan.nowak@gmail.com</td>\n",
       "      <td>Jan</td>\n",
       "      <td>Nowak</td>\n",
       "    </tr>\n",
       "  </tbody>\n",
       "</table>\n",
       "</div>"
      ],
      "text/plain": [
       "                 email imię nazwisko\n",
       "1  jan.nowak@gmail.com  Jan    Nowak"
      ]
     },
     "execution_count": 56,
     "metadata": {},
     "output_type": "execute_result"
    }
   ],
   "source": [
    "df[filt]"
   ]
  },
  {
   "cell_type": "code",
   "execution_count": 57,
   "id": "58b4ac54-4120-4ccb-9a01-26a3940d0e5e",
   "metadata": {
    "tags": []
   },
   "outputs": [],
   "source": [
    "filt = (df[\"nazwisko\"] == \"Sołtys\") | (df[\"imię\"] == \"Jan\")"
   ]
  },
  {
   "cell_type": "code",
   "execution_count": 58,
   "id": "c2528e8b-ede3-460c-a52a-3cdb4aef7ba4",
   "metadata": {
    "tags": []
   },
   "outputs": [
    {
     "data": {
      "text/html": [
       "<div>\n",
       "<style scoped>\n",
       "    .dataframe tbody tr th:only-of-type {\n",
       "        vertical-align: middle;\n",
       "    }\n",
       "\n",
       "    .dataframe tbody tr th {\n",
       "        vertical-align: top;\n",
       "    }\n",
       "\n",
       "    .dataframe thead th {\n",
       "        text-align: right;\n",
       "    }\n",
       "</style>\n",
       "<table border=\"1\" class=\"dataframe\">\n",
       "  <thead>\n",
       "    <tr style=\"text-align: right;\">\n",
       "      <th></th>\n",
       "      <th>email</th>\n",
       "      <th>imię</th>\n",
       "      <th>nazwisko</th>\n",
       "    </tr>\n",
       "  </thead>\n",
       "  <tbody>\n",
       "    <tr>\n",
       "      <th>0</th>\n",
       "      <td>agnieszka.sołtys@email.com</td>\n",
       "      <td>Agnieszka</td>\n",
       "      <td>Sołtys</td>\n",
       "    </tr>\n",
       "    <tr>\n",
       "      <th>1</th>\n",
       "      <td>jan.nowak@gmail.com</td>\n",
       "      <td>Jan</td>\n",
       "      <td>Nowak</td>\n",
       "    </tr>\n",
       "  </tbody>\n",
       "</table>\n",
       "</div>"
      ],
      "text/plain": [
       "                        email       imię nazwisko\n",
       "0  agnieszka.sołtys@email.com  Agnieszka   Sołtys\n",
       "1         jan.nowak@gmail.com        Jan    Nowak"
      ]
     },
     "execution_count": 58,
     "metadata": {},
     "output_type": "execute_result"
    }
   ],
   "source": [
    "df[filt]"
   ]
  },
  {
   "cell_type": "code",
   "execution_count": 59,
   "id": "0e99e776-bcd9-4e01-9778-b5424d314364",
   "metadata": {
    "tags": []
   },
   "outputs": [
    {
     "data": {
      "text/html": [
       "<div>\n",
       "<style scoped>\n",
       "    .dataframe tbody tr th:only-of-type {\n",
       "        vertical-align: middle;\n",
       "    }\n",
       "\n",
       "    .dataframe tbody tr th {\n",
       "        vertical-align: top;\n",
       "    }\n",
       "\n",
       "    .dataframe thead th {\n",
       "        text-align: right;\n",
       "    }\n",
       "</style>\n",
       "<table border=\"1\" class=\"dataframe\">\n",
       "  <thead>\n",
       "    <tr style=\"text-align: right;\">\n",
       "      <th></th>\n",
       "      <th>email</th>\n",
       "      <th>imię</th>\n",
       "      <th>nazwisko</th>\n",
       "    </tr>\n",
       "  </thead>\n",
       "  <tbody>\n",
       "    <tr>\n",
       "      <th>2</th>\n",
       "      <td>anna.nowak@email.com</td>\n",
       "      <td>Anna</td>\n",
       "      <td>Nowak</td>\n",
       "    </tr>\n",
       "  </tbody>\n",
       "</table>\n",
       "</div>"
      ],
      "text/plain": [
       "                  email  imię nazwisko\n",
       "2  anna.nowak@email.com  Anna    Nowak"
      ]
     },
     "execution_count": 59,
     "metadata": {},
     "output_type": "execute_result"
    }
   ],
   "source": [
    "df.loc[~filt]"
   ]
  },
  {
   "cell_type": "code",
   "execution_count": null,
   "id": "af09a0a6-012e-4483-8f31-d906e3c9f16f",
   "metadata": {},
   "outputs": [],
   "source": []
  },
  {
   "cell_type": "code",
   "execution_count": null,
   "id": "9a1cf773-fc9e-43e8-9739-679c98564810",
   "metadata": {},
   "outputs": [],
   "source": []
  },
  {
   "cell_type": "markdown",
   "id": "146756f5-da65-42de-b2e0-85310a1ca9a9",
   "metadata": {},
   "source": [
    "## 6. Dane jakościowe"
   ]
  },
  {
   "cell_type": "markdown",
   "id": "7ed04c0e-8ac1-4462-8920-49a8559eed29",
   "metadata": {},
   "source": [
    "zmienne jakościowe to zmienne niemierzalne: \n",
    "- nominalne, np. kolor oczu (niebieskie, zielone, brązowe),\n",
    "- porządkowe, np. wykształcenie (podstawowe, średnie, wyższe)"
   ]
  },
  {
   "cell_type": "code",
   "execution_count": 60,
   "id": "c4816383-3d38-4a37-bf11-75f82ba0636e",
   "metadata": {
    "tags": []
   },
   "outputs": [],
   "source": [
    "s1 = pd.Series([\"a\", \"b\", \"c\", \"a\"], dtype = \"category\")"
   ]
  },
  {
   "cell_type": "code",
   "execution_count": 61,
   "id": "5a0de4a2-ae72-4631-83d0-637b5b0086b8",
   "metadata": {
    "tags": []
   },
   "outputs": [
    {
     "data": {
      "text/plain": [
       "0    a\n",
       "1    b\n",
       "2    c\n",
       "3    a\n",
       "dtype: category\n",
       "Categories (3, object): ['a', 'b', 'c']"
      ]
     },
     "execution_count": 61,
     "metadata": {},
     "output_type": "execute_result"
    }
   ],
   "source": [
    "s1"
   ]
  },
  {
   "cell_type": "code",
   "execution_count": 62,
   "id": "b18e4b5f-9f46-4d7b-9252-e705d3c59459",
   "metadata": {
    "tags": []
   },
   "outputs": [],
   "source": [
    "s2 = pd.Series(pd.Categorical([\"a\", \"b\", \"c\", \"a\"], categories = [\"a\", \"b\", \"c\"], ordered = True))"
   ]
  },
  {
   "cell_type": "code",
   "execution_count": 63,
   "id": "50a828fe-f124-4f9d-9f3e-ba63a9bffcff",
   "metadata": {
    "tags": []
   },
   "outputs": [
    {
     "data": {
      "text/plain": [
       "0    a\n",
       "1    b\n",
       "2    c\n",
       "3    a\n",
       "dtype: category\n",
       "Categories (3, object): ['a' < 'b' < 'c']"
      ]
     },
     "execution_count": 63,
     "metadata": {},
     "output_type": "execute_result"
    }
   ],
   "source": [
    "s2"
   ]
  },
  {
   "cell_type": "code",
   "execution_count": 64,
   "id": "bbf6c1d5-6c44-4e99-a943-a0dc77307717",
   "metadata": {
    "tags": []
   },
   "outputs": [],
   "source": [
    "df_cat = pd.DataFrame({\"wielkość\": np.random.randint(0, 100, 200)})"
   ]
  },
  {
   "cell_type": "code",
   "execution_count": 65,
   "id": "fff8c01f-2bd7-4265-93bc-e0e03eddeaab",
   "metadata": {
    "tags": []
   },
   "outputs": [
    {
     "data": {
      "text/html": [
       "<div>\n",
       "<style scoped>\n",
       "    .dataframe tbody tr th:only-of-type {\n",
       "        vertical-align: middle;\n",
       "    }\n",
       "\n",
       "    .dataframe tbody tr th {\n",
       "        vertical-align: top;\n",
       "    }\n",
       "\n",
       "    .dataframe thead th {\n",
       "        text-align: right;\n",
       "    }\n",
       "</style>\n",
       "<table border=\"1\" class=\"dataframe\">\n",
       "  <thead>\n",
       "    <tr style=\"text-align: right;\">\n",
       "      <th></th>\n",
       "      <th>wielkość</th>\n",
       "    </tr>\n",
       "  </thead>\n",
       "  <tbody>\n",
       "    <tr>\n",
       "      <th>0</th>\n",
       "      <td>40</td>\n",
       "    </tr>\n",
       "    <tr>\n",
       "      <th>1</th>\n",
       "      <td>87</td>\n",
       "    </tr>\n",
       "    <tr>\n",
       "      <th>2</th>\n",
       "      <td>34</td>\n",
       "    </tr>\n",
       "    <tr>\n",
       "      <th>3</th>\n",
       "      <td>19</td>\n",
       "    </tr>\n",
       "    <tr>\n",
       "      <th>4</th>\n",
       "      <td>17</td>\n",
       "    </tr>\n",
       "    <tr>\n",
       "      <th>...</th>\n",
       "      <td>...</td>\n",
       "    </tr>\n",
       "    <tr>\n",
       "      <th>195</th>\n",
       "      <td>85</td>\n",
       "    </tr>\n",
       "    <tr>\n",
       "      <th>196</th>\n",
       "      <td>98</td>\n",
       "    </tr>\n",
       "    <tr>\n",
       "      <th>197</th>\n",
       "      <td>46</td>\n",
       "    </tr>\n",
       "    <tr>\n",
       "      <th>198</th>\n",
       "      <td>82</td>\n",
       "    </tr>\n",
       "    <tr>\n",
       "      <th>199</th>\n",
       "      <td>82</td>\n",
       "    </tr>\n",
       "  </tbody>\n",
       "</table>\n",
       "<p>200 rows × 1 columns</p>\n",
       "</div>"
      ],
      "text/plain": [
       "     wielkość\n",
       "0          40\n",
       "1          87\n",
       "2          34\n",
       "3          19\n",
       "4          17\n",
       "..        ...\n",
       "195        85\n",
       "196        98\n",
       "197        46\n",
       "198        82\n",
       "199        82\n",
       "\n",
       "[200 rows x 1 columns]"
      ]
     },
     "execution_count": 65,
     "metadata": {},
     "output_type": "execute_result"
    }
   ],
   "source": [
    "df_cat"
   ]
  },
  {
   "cell_type": "code",
   "execution_count": 68,
   "id": "bd592524-ff47-4c6e-9a68-f075292fbaf8",
   "metadata": {
    "tags": []
   },
   "outputs": [
    {
     "data": {
      "text/plain": [
       "0       [25, 50)\n",
       "1      [75, 100)\n",
       "2       [25, 50)\n",
       "3        [0, 25)\n",
       "4        [0, 25)\n",
       "         ...    \n",
       "195    [75, 100)\n",
       "196    [75, 100)\n",
       "197     [25, 50)\n",
       "198    [75, 100)\n",
       "199    [75, 100)\n",
       "Name: wielkość, Length: 200, dtype: category\n",
       "Categories (4, interval[int64, left]): [[0, 25) < [25, 50) < [50, 75) < [75, 100)]"
      ]
     },
     "execution_count": 68,
     "metadata": {},
     "output_type": "execute_result"
    }
   ],
   "source": [
    "pd.cut(df_cat[\"wielkość\"], range(0, 105, 25), right = False)"
   ]
  },
  {
   "cell_type": "code",
   "execution_count": 69,
   "id": "41dd0a01-4a56-46f8-b875-d725dba9dd40",
   "metadata": {
    "tags": []
   },
   "outputs": [],
   "source": [
    "df_cat[\"grupa\"] = pd.cut(df_cat[\"wielkość\"], range(0, 105, 25), right = False, labels = [\"mały\", \"średni\", \"duży\", \"bardzo duży\"])"
   ]
  },
  {
   "cell_type": "code",
   "execution_count": 70,
   "id": "fabcb98a-0e89-4d2b-82a2-a554f83e3450",
   "metadata": {
    "tags": []
   },
   "outputs": [
    {
     "data": {
      "text/html": [
       "<div>\n",
       "<style scoped>\n",
       "    .dataframe tbody tr th:only-of-type {\n",
       "        vertical-align: middle;\n",
       "    }\n",
       "\n",
       "    .dataframe tbody tr th {\n",
       "        vertical-align: top;\n",
       "    }\n",
       "\n",
       "    .dataframe thead th {\n",
       "        text-align: right;\n",
       "    }\n",
       "</style>\n",
       "<table border=\"1\" class=\"dataframe\">\n",
       "  <thead>\n",
       "    <tr style=\"text-align: right;\">\n",
       "      <th></th>\n",
       "      <th>wielkość</th>\n",
       "      <th>grupa</th>\n",
       "    </tr>\n",
       "  </thead>\n",
       "  <tbody>\n",
       "    <tr>\n",
       "      <th>0</th>\n",
       "      <td>40</td>\n",
       "      <td>średni</td>\n",
       "    </tr>\n",
       "    <tr>\n",
       "      <th>1</th>\n",
       "      <td>87</td>\n",
       "      <td>bardzo duży</td>\n",
       "    </tr>\n",
       "    <tr>\n",
       "      <th>2</th>\n",
       "      <td>34</td>\n",
       "      <td>średni</td>\n",
       "    </tr>\n",
       "    <tr>\n",
       "      <th>3</th>\n",
       "      <td>19</td>\n",
       "      <td>mały</td>\n",
       "    </tr>\n",
       "    <tr>\n",
       "      <th>4</th>\n",
       "      <td>17</td>\n",
       "      <td>mały</td>\n",
       "    </tr>\n",
       "    <tr>\n",
       "      <th>...</th>\n",
       "      <td>...</td>\n",
       "      <td>...</td>\n",
       "    </tr>\n",
       "    <tr>\n",
       "      <th>195</th>\n",
       "      <td>85</td>\n",
       "      <td>bardzo duży</td>\n",
       "    </tr>\n",
       "    <tr>\n",
       "      <th>196</th>\n",
       "      <td>98</td>\n",
       "      <td>bardzo duży</td>\n",
       "    </tr>\n",
       "    <tr>\n",
       "      <th>197</th>\n",
       "      <td>46</td>\n",
       "      <td>średni</td>\n",
       "    </tr>\n",
       "    <tr>\n",
       "      <th>198</th>\n",
       "      <td>82</td>\n",
       "      <td>bardzo duży</td>\n",
       "    </tr>\n",
       "    <tr>\n",
       "      <th>199</th>\n",
       "      <td>82</td>\n",
       "      <td>bardzo duży</td>\n",
       "    </tr>\n",
       "  </tbody>\n",
       "</table>\n",
       "<p>200 rows × 2 columns</p>\n",
       "</div>"
      ],
      "text/plain": [
       "     wielkość        grupa\n",
       "0          40       średni\n",
       "1          87  bardzo duży\n",
       "2          34       średni\n",
       "3          19         mały\n",
       "4          17         mały\n",
       "..        ...          ...\n",
       "195        85  bardzo duży\n",
       "196        98  bardzo duży\n",
       "197        46       średni\n",
       "198        82  bardzo duży\n",
       "199        82  bardzo duży\n",
       "\n",
       "[200 rows x 2 columns]"
      ]
     },
     "execution_count": 70,
     "metadata": {},
     "output_type": "execute_result"
    }
   ],
   "source": [
    "df_cat"
   ]
  },
  {
   "cell_type": "code",
   "execution_count": 73,
   "id": "4e1ea695-86a3-4888-b5bb-cd3874c8b983",
   "metadata": {
    "tags": []
   },
   "outputs": [
    {
     "data": {
      "text/plain": [
       "mały           52\n",
       "duży           50\n",
       "bardzo duży    50\n",
       "średni         48\n",
       "Name: grupa, dtype: int64"
      ]
     },
     "execution_count": 73,
     "metadata": {},
     "output_type": "execute_result"
    }
   ],
   "source": [
    "df_cat[\"grupa\"].value_counts()"
   ]
  },
  {
   "cell_type": "code",
   "execution_count": 74,
   "id": "be8cf95c-db12-4dcd-a83d-133bd7ceb083",
   "metadata": {
    "tags": []
   },
   "outputs": [
    {
     "data": {
      "text/plain": [
       "0    a\n",
       "1    b\n",
       "2    c\n",
       "3    a\n",
       "dtype: category\n",
       "Categories (3, object): ['a' < 'b' < 'c']"
      ]
     },
     "execution_count": 74,
     "metadata": {},
     "output_type": "execute_result"
    }
   ],
   "source": [
    "s2"
   ]
  },
  {
   "cell_type": "code",
   "execution_count": 75,
   "id": "172682ae-bdab-48f0-b268-0461375c74d0",
   "metadata": {
    "tags": []
   },
   "outputs": [
    {
     "data": {
      "text/plain": [
       "Index(['a', 'b', 'c'], dtype='object')"
      ]
     },
     "execution_count": 75,
     "metadata": {},
     "output_type": "execute_result"
    }
   ],
   "source": [
    "s2.cat.categories"
   ]
  },
  {
   "cell_type": "code",
   "execution_count": 76,
   "id": "e75d9ba8-8e5e-4226-858a-a0401fbcf327",
   "metadata": {
    "tags": []
   },
   "outputs": [
    {
     "data": {
      "text/plain": [
       "0    0\n",
       "1    1\n",
       "2    2\n",
       "3    0\n",
       "dtype: int8"
      ]
     },
     "execution_count": 76,
     "metadata": {},
     "output_type": "execute_result"
    }
   ],
   "source": [
    "s2.cat.codes"
   ]
  },
  {
   "cell_type": "code",
   "execution_count": 77,
   "id": "01092144-d895-483b-96e4-181a2a88df73",
   "metadata": {
    "tags": []
   },
   "outputs": [
    {
     "data": {
      "text/plain": [
       "0    a\n",
       "1    b\n",
       "2    c\n",
       "3    a\n",
       "dtype: category\n",
       "Categories (3, object): ['a' < 'b' < 'c']"
      ]
     },
     "execution_count": 77,
     "metadata": {},
     "output_type": "execute_result"
    }
   ],
   "source": [
    "s2"
   ]
  },
  {
   "cell_type": "code",
   "execution_count": 78,
   "id": "07a80c13-d8ba-4dbc-9b1a-4e45ea132d2b",
   "metadata": {
    "tags": []
   },
   "outputs": [],
   "source": [
    "s2 = s2.cat.rename_categories([\"mały\", \"średni\", \"duży\"])"
   ]
  },
  {
   "cell_type": "code",
   "execution_count": 79,
   "id": "7f9224d0-6fdd-438a-8ead-6cdd3c020ccf",
   "metadata": {
    "tags": []
   },
   "outputs": [
    {
     "data": {
      "text/plain": [
       "0      mały\n",
       "1    średni\n",
       "2      duży\n",
       "3      mały\n",
       "dtype: category\n",
       "Categories (3, object): ['mały' < 'średni' < 'duży']"
      ]
     },
     "execution_count": 79,
     "metadata": {},
     "output_type": "execute_result"
    }
   ],
   "source": [
    "s2"
   ]
  },
  {
   "cell_type": "markdown",
   "id": "d14d1a20-18ae-4fd4-abee-e8ce0202b787",
   "metadata": {},
   "source": [
    "## 7. Zmiana kolumn i wierszy"
   ]
  },
  {
   "cell_type": "markdown",
   "id": "a09a389f-e0fe-4bcf-8733-b09afe0cb77d",
   "metadata": {},
   "source": [
    "### zmiana nazw kolumn"
   ]
  },
  {
   "cell_type": "code",
   "execution_count": 80,
   "id": "2933b61e-84cb-46f5-9f00-990b2b1b631c",
   "metadata": {
    "tags": []
   },
   "outputs": [
    {
     "data": {
      "text/html": [
       "<div>\n",
       "<style scoped>\n",
       "    .dataframe tbody tr th:only-of-type {\n",
       "        vertical-align: middle;\n",
       "    }\n",
       "\n",
       "    .dataframe tbody tr th {\n",
       "        vertical-align: top;\n",
       "    }\n",
       "\n",
       "    .dataframe thead th {\n",
       "        text-align: right;\n",
       "    }\n",
       "</style>\n",
       "<table border=\"1\" class=\"dataframe\">\n",
       "  <thead>\n",
       "    <tr style=\"text-align: right;\">\n",
       "      <th></th>\n",
       "      <th>email</th>\n",
       "      <th>imię</th>\n",
       "      <th>nazwisko</th>\n",
       "    </tr>\n",
       "  </thead>\n",
       "  <tbody>\n",
       "    <tr>\n",
       "      <th>0</th>\n",
       "      <td>agnieszka.sołtys@email.com</td>\n",
       "      <td>Agnieszka</td>\n",
       "      <td>Sołtys</td>\n",
       "    </tr>\n",
       "    <tr>\n",
       "      <th>1</th>\n",
       "      <td>jan.nowak@gmail.com</td>\n",
       "      <td>Jan</td>\n",
       "      <td>Nowak</td>\n",
       "    </tr>\n",
       "    <tr>\n",
       "      <th>2</th>\n",
       "      <td>anna.nowak@email.com</td>\n",
       "      <td>Anna</td>\n",
       "      <td>Nowak</td>\n",
       "    </tr>\n",
       "  </tbody>\n",
       "</table>\n",
       "</div>"
      ],
      "text/plain": [
       "                        email       imię nazwisko\n",
       "0  agnieszka.sołtys@email.com  Agnieszka   Sołtys\n",
       "1         jan.nowak@gmail.com        Jan    Nowak\n",
       "2        anna.nowak@email.com       Anna    Nowak"
      ]
     },
     "execution_count": 80,
     "metadata": {},
     "output_type": "execute_result"
    }
   ],
   "source": [
    "df"
   ]
  },
  {
   "cell_type": "code",
   "execution_count": 81,
   "id": "b4277f27-6079-4f41-804e-efef9598646d",
   "metadata": {
    "tags": []
   },
   "outputs": [],
   "source": [
    "df.columns = [\"Email\", \"Imię\", \"Nazwisko\"]"
   ]
  },
  {
   "cell_type": "code",
   "execution_count": 82,
   "id": "ceb194c0-77f9-4437-9640-a338e2577e4f",
   "metadata": {
    "tags": []
   },
   "outputs": [
    {
     "data": {
      "text/html": [
       "<div>\n",
       "<style scoped>\n",
       "    .dataframe tbody tr th:only-of-type {\n",
       "        vertical-align: middle;\n",
       "    }\n",
       "\n",
       "    .dataframe tbody tr th {\n",
       "        vertical-align: top;\n",
       "    }\n",
       "\n",
       "    .dataframe thead th {\n",
       "        text-align: right;\n",
       "    }\n",
       "</style>\n",
       "<table border=\"1\" class=\"dataframe\">\n",
       "  <thead>\n",
       "    <tr style=\"text-align: right;\">\n",
       "      <th></th>\n",
       "      <th>Email</th>\n",
       "      <th>Imię</th>\n",
       "      <th>Nazwisko</th>\n",
       "    </tr>\n",
       "  </thead>\n",
       "  <tbody>\n",
       "    <tr>\n",
       "      <th>0</th>\n",
       "      <td>agnieszka.sołtys@email.com</td>\n",
       "      <td>Agnieszka</td>\n",
       "      <td>Sołtys</td>\n",
       "    </tr>\n",
       "    <tr>\n",
       "      <th>1</th>\n",
       "      <td>jan.nowak@gmail.com</td>\n",
       "      <td>Jan</td>\n",
       "      <td>Nowak</td>\n",
       "    </tr>\n",
       "    <tr>\n",
       "      <th>2</th>\n",
       "      <td>anna.nowak@email.com</td>\n",
       "      <td>Anna</td>\n",
       "      <td>Nowak</td>\n",
       "    </tr>\n",
       "  </tbody>\n",
       "</table>\n",
       "</div>"
      ],
      "text/plain": [
       "                        Email       Imię Nazwisko\n",
       "0  agnieszka.sołtys@email.com  Agnieszka   Sołtys\n",
       "1         jan.nowak@gmail.com        Jan    Nowak\n",
       "2        anna.nowak@email.com       Anna    Nowak"
      ]
     },
     "execution_count": 82,
     "metadata": {},
     "output_type": "execute_result"
    }
   ],
   "source": [
    "df"
   ]
  },
  {
   "cell_type": "code",
   "execution_count": 83,
   "id": "c884eed0-dfac-4b72-a235-c0305b1fb5e2",
   "metadata": {
    "tags": []
   },
   "outputs": [],
   "source": [
    "df.columns = df.columns.str.upper()"
   ]
  },
  {
   "cell_type": "code",
   "execution_count": 84,
   "id": "cd47ccfa-b032-4f03-b345-890554dedfa7",
   "metadata": {
    "tags": []
   },
   "outputs": [
    {
     "data": {
      "text/html": [
       "<div>\n",
       "<style scoped>\n",
       "    .dataframe tbody tr th:only-of-type {\n",
       "        vertical-align: middle;\n",
       "    }\n",
       "\n",
       "    .dataframe tbody tr th {\n",
       "        vertical-align: top;\n",
       "    }\n",
       "\n",
       "    .dataframe thead th {\n",
       "        text-align: right;\n",
       "    }\n",
       "</style>\n",
       "<table border=\"1\" class=\"dataframe\">\n",
       "  <thead>\n",
       "    <tr style=\"text-align: right;\">\n",
       "      <th></th>\n",
       "      <th>EMAIL</th>\n",
       "      <th>IMIĘ</th>\n",
       "      <th>NAZWISKO</th>\n",
       "    </tr>\n",
       "  </thead>\n",
       "  <tbody>\n",
       "    <tr>\n",
       "      <th>0</th>\n",
       "      <td>agnieszka.sołtys@email.com</td>\n",
       "      <td>Agnieszka</td>\n",
       "      <td>Sołtys</td>\n",
       "    </tr>\n",
       "    <tr>\n",
       "      <th>1</th>\n",
       "      <td>jan.nowak@gmail.com</td>\n",
       "      <td>Jan</td>\n",
       "      <td>Nowak</td>\n",
       "    </tr>\n",
       "    <tr>\n",
       "      <th>2</th>\n",
       "      <td>anna.nowak@email.com</td>\n",
       "      <td>Anna</td>\n",
       "      <td>Nowak</td>\n",
       "    </tr>\n",
       "  </tbody>\n",
       "</table>\n",
       "</div>"
      ],
      "text/plain": [
       "                        EMAIL       IMIĘ NAZWISKO\n",
       "0  agnieszka.sołtys@email.com  Agnieszka   Sołtys\n",
       "1         jan.nowak@gmail.com        Jan    Nowak\n",
       "2        anna.nowak@email.com       Anna    Nowak"
      ]
     },
     "execution_count": 84,
     "metadata": {},
     "output_type": "execute_result"
    }
   ],
   "source": [
    "df"
   ]
  },
  {
   "cell_type": "code",
   "execution_count": 85,
   "id": "8adf651a-1ae7-441e-a399-a57b22139ca5",
   "metadata": {
    "tags": []
   },
   "outputs": [],
   "source": [
    "df.columns = df.columns.str.replace(\"Ę\", \"E\")"
   ]
  },
  {
   "cell_type": "code",
   "execution_count": 86,
   "id": "8d976c5f-9e76-4c83-8d7b-c154d82d9340",
   "metadata": {
    "tags": []
   },
   "outputs": [
    {
     "data": {
      "text/html": [
       "<div>\n",
       "<style scoped>\n",
       "    .dataframe tbody tr th:only-of-type {\n",
       "        vertical-align: middle;\n",
       "    }\n",
       "\n",
       "    .dataframe tbody tr th {\n",
       "        vertical-align: top;\n",
       "    }\n",
       "\n",
       "    .dataframe thead th {\n",
       "        text-align: right;\n",
       "    }\n",
       "</style>\n",
       "<table border=\"1\" class=\"dataframe\">\n",
       "  <thead>\n",
       "    <tr style=\"text-align: right;\">\n",
       "      <th></th>\n",
       "      <th>EMAIL</th>\n",
       "      <th>IMIE</th>\n",
       "      <th>NAZWISKO</th>\n",
       "    </tr>\n",
       "  </thead>\n",
       "  <tbody>\n",
       "    <tr>\n",
       "      <th>0</th>\n",
       "      <td>agnieszka.sołtys@email.com</td>\n",
       "      <td>Agnieszka</td>\n",
       "      <td>Sołtys</td>\n",
       "    </tr>\n",
       "    <tr>\n",
       "      <th>1</th>\n",
       "      <td>jan.nowak@gmail.com</td>\n",
       "      <td>Jan</td>\n",
       "      <td>Nowak</td>\n",
       "    </tr>\n",
       "    <tr>\n",
       "      <th>2</th>\n",
       "      <td>anna.nowak@email.com</td>\n",
       "      <td>Anna</td>\n",
       "      <td>Nowak</td>\n",
       "    </tr>\n",
       "  </tbody>\n",
       "</table>\n",
       "</div>"
      ],
      "text/plain": [
       "                        EMAIL       IMIE NAZWISKO\n",
       "0  agnieszka.sołtys@email.com  Agnieszka   Sołtys\n",
       "1         jan.nowak@gmail.com        Jan    Nowak\n",
       "2        anna.nowak@email.com       Anna    Nowak"
      ]
     },
     "execution_count": 86,
     "metadata": {},
     "output_type": "execute_result"
    }
   ],
   "source": [
    "df"
   ]
  },
  {
   "cell_type": "code",
   "execution_count": 87,
   "id": "4c4b1015-9616-42b4-9fe1-6ac5d0854ab8",
   "metadata": {
    "tags": []
   },
   "outputs": [],
   "source": [
    "df.rename(columns = {\"IMIE\" : \"imię\", \"NAZWISKO\" : \"nazwisko\"}, inplace = True)"
   ]
  },
  {
   "cell_type": "code",
   "execution_count": 88,
   "id": "bf7a0ae2-883d-49b8-b066-654a71dfd914",
   "metadata": {
    "tags": []
   },
   "outputs": [
    {
     "data": {
      "text/html": [
       "<div>\n",
       "<style scoped>\n",
       "    .dataframe tbody tr th:only-of-type {\n",
       "        vertical-align: middle;\n",
       "    }\n",
       "\n",
       "    .dataframe tbody tr th {\n",
       "        vertical-align: top;\n",
       "    }\n",
       "\n",
       "    .dataframe thead th {\n",
       "        text-align: right;\n",
       "    }\n",
       "</style>\n",
       "<table border=\"1\" class=\"dataframe\">\n",
       "  <thead>\n",
       "    <tr style=\"text-align: right;\">\n",
       "      <th></th>\n",
       "      <th>EMAIL</th>\n",
       "      <th>imię</th>\n",
       "      <th>nazwisko</th>\n",
       "    </tr>\n",
       "  </thead>\n",
       "  <tbody>\n",
       "    <tr>\n",
       "      <th>0</th>\n",
       "      <td>agnieszka.sołtys@email.com</td>\n",
       "      <td>Agnieszka</td>\n",
       "      <td>Sołtys</td>\n",
       "    </tr>\n",
       "    <tr>\n",
       "      <th>1</th>\n",
       "      <td>jan.nowak@gmail.com</td>\n",
       "      <td>Jan</td>\n",
       "      <td>Nowak</td>\n",
       "    </tr>\n",
       "    <tr>\n",
       "      <th>2</th>\n",
       "      <td>anna.nowak@email.com</td>\n",
       "      <td>Anna</td>\n",
       "      <td>Nowak</td>\n",
       "    </tr>\n",
       "  </tbody>\n",
       "</table>\n",
       "</div>"
      ],
      "text/plain": [
       "                        EMAIL       imię nazwisko\n",
       "0  agnieszka.sołtys@email.com  Agnieszka   Sołtys\n",
       "1         jan.nowak@gmail.com        Jan    Nowak\n",
       "2        anna.nowak@email.com       Anna    Nowak"
      ]
     },
     "execution_count": 88,
     "metadata": {},
     "output_type": "execute_result"
    }
   ],
   "source": [
    "df"
   ]
  },
  {
   "cell_type": "code",
   "execution_count": 89,
   "id": "50776ae7-cfa4-4d8c-b8eb-7b879812f87a",
   "metadata": {
    "tags": []
   },
   "outputs": [],
   "source": [
    "df.columns = df.columns.str.lower()"
   ]
  },
  {
   "cell_type": "code",
   "execution_count": 90,
   "id": "c5c23b09-e2c0-4a56-b341-0bcbb850821b",
   "metadata": {
    "tags": []
   },
   "outputs": [
    {
     "data": {
      "text/html": [
       "<div>\n",
       "<style scoped>\n",
       "    .dataframe tbody tr th:only-of-type {\n",
       "        vertical-align: middle;\n",
       "    }\n",
       "\n",
       "    .dataframe tbody tr th {\n",
       "        vertical-align: top;\n",
       "    }\n",
       "\n",
       "    .dataframe thead th {\n",
       "        text-align: right;\n",
       "    }\n",
       "</style>\n",
       "<table border=\"1\" class=\"dataframe\">\n",
       "  <thead>\n",
       "    <tr style=\"text-align: right;\">\n",
       "      <th></th>\n",
       "      <th>email</th>\n",
       "      <th>imię</th>\n",
       "      <th>nazwisko</th>\n",
       "    </tr>\n",
       "  </thead>\n",
       "  <tbody>\n",
       "    <tr>\n",
       "      <th>0</th>\n",
       "      <td>agnieszka.sołtys@email.com</td>\n",
       "      <td>Agnieszka</td>\n",
       "      <td>Sołtys</td>\n",
       "    </tr>\n",
       "    <tr>\n",
       "      <th>1</th>\n",
       "      <td>jan.nowak@gmail.com</td>\n",
       "      <td>Jan</td>\n",
       "      <td>Nowak</td>\n",
       "    </tr>\n",
       "    <tr>\n",
       "      <th>2</th>\n",
       "      <td>anna.nowak@email.com</td>\n",
       "      <td>Anna</td>\n",
       "      <td>Nowak</td>\n",
       "    </tr>\n",
       "  </tbody>\n",
       "</table>\n",
       "</div>"
      ],
      "text/plain": [
       "                        email       imię nazwisko\n",
       "0  agnieszka.sołtys@email.com  Agnieszka   Sołtys\n",
       "1         jan.nowak@gmail.com        Jan    Nowak\n",
       "2        anna.nowak@email.com       Anna    Nowak"
      ]
     },
     "execution_count": 90,
     "metadata": {},
     "output_type": "execute_result"
    }
   ],
   "source": [
    "df"
   ]
  },
  {
   "cell_type": "markdown",
   "id": "fa1a215f-b937-4f48-9a50-82c6b33daeee",
   "metadata": {},
   "source": [
    "### zmiana wierszy"
   ]
  },
  {
   "cell_type": "code",
   "execution_count": 91,
   "id": "0ab4e35b-de40-43fb-90b1-b3255305e76e",
   "metadata": {
    "tags": []
   },
   "outputs": [
    {
     "data": {
      "text/html": [
       "<div>\n",
       "<style scoped>\n",
       "    .dataframe tbody tr th:only-of-type {\n",
       "        vertical-align: middle;\n",
       "    }\n",
       "\n",
       "    .dataframe tbody tr th {\n",
       "        vertical-align: top;\n",
       "    }\n",
       "\n",
       "    .dataframe thead th {\n",
       "        text-align: right;\n",
       "    }\n",
       "</style>\n",
       "<table border=\"1\" class=\"dataframe\">\n",
       "  <thead>\n",
       "    <tr style=\"text-align: right;\">\n",
       "      <th></th>\n",
       "      <th>email</th>\n",
       "      <th>imię</th>\n",
       "      <th>nazwisko</th>\n",
       "    </tr>\n",
       "  </thead>\n",
       "  <tbody>\n",
       "    <tr>\n",
       "      <th>0</th>\n",
       "      <td>agnieszka.sołtys@email.com</td>\n",
       "      <td>Agnieszka</td>\n",
       "      <td>Sołtys</td>\n",
       "    </tr>\n",
       "    <tr>\n",
       "      <th>1</th>\n",
       "      <td>jan.nowak@gmail.com</td>\n",
       "      <td>Jan</td>\n",
       "      <td>Nowak</td>\n",
       "    </tr>\n",
       "    <tr>\n",
       "      <th>2</th>\n",
       "      <td>anna.nowak@email.com</td>\n",
       "      <td>Anna</td>\n",
       "      <td>Nowak</td>\n",
       "    </tr>\n",
       "  </tbody>\n",
       "</table>\n",
       "</div>"
      ],
      "text/plain": [
       "                        email       imię nazwisko\n",
       "0  agnieszka.sołtys@email.com  Agnieszka   Sołtys\n",
       "1         jan.nowak@gmail.com        Jan    Nowak\n",
       "2        anna.nowak@email.com       Anna    Nowak"
      ]
     },
     "execution_count": 91,
     "metadata": {},
     "output_type": "execute_result"
    }
   ],
   "source": [
    "df"
   ]
  },
  {
   "cell_type": "code",
   "execution_count": 92,
   "id": "d6619b8b-be81-472c-896d-94c427eebd0e",
   "metadata": {
    "tags": []
   },
   "outputs": [],
   "source": [
    "df.loc[2] = [\"maria.kowalska@wp.pl\", \"Maria\", \"Kowalska\"]"
   ]
  },
  {
   "cell_type": "code",
   "execution_count": 93,
   "id": "fcae2fbe-b3b1-4ac5-aa46-c34790b4e184",
   "metadata": {
    "tags": []
   },
   "outputs": [
    {
     "data": {
      "text/html": [
       "<div>\n",
       "<style scoped>\n",
       "    .dataframe tbody tr th:only-of-type {\n",
       "        vertical-align: middle;\n",
       "    }\n",
       "\n",
       "    .dataframe tbody tr th {\n",
       "        vertical-align: top;\n",
       "    }\n",
       "\n",
       "    .dataframe thead th {\n",
       "        text-align: right;\n",
       "    }\n",
       "</style>\n",
       "<table border=\"1\" class=\"dataframe\">\n",
       "  <thead>\n",
       "    <tr style=\"text-align: right;\">\n",
       "      <th></th>\n",
       "      <th>email</th>\n",
       "      <th>imię</th>\n",
       "      <th>nazwisko</th>\n",
       "    </tr>\n",
       "  </thead>\n",
       "  <tbody>\n",
       "    <tr>\n",
       "      <th>0</th>\n",
       "      <td>agnieszka.sołtys@email.com</td>\n",
       "      <td>Agnieszka</td>\n",
       "      <td>Sołtys</td>\n",
       "    </tr>\n",
       "    <tr>\n",
       "      <th>1</th>\n",
       "      <td>jan.nowak@gmail.com</td>\n",
       "      <td>Jan</td>\n",
       "      <td>Nowak</td>\n",
       "    </tr>\n",
       "    <tr>\n",
       "      <th>2</th>\n",
       "      <td>maria.kowalska@wp.pl</td>\n",
       "      <td>Maria</td>\n",
       "      <td>Kowalska</td>\n",
       "    </tr>\n",
       "  </tbody>\n",
       "</table>\n",
       "</div>"
      ],
      "text/plain": [
       "                        email       imię  nazwisko\n",
       "0  agnieszka.sołtys@email.com  Agnieszka    Sołtys\n",
       "1         jan.nowak@gmail.com        Jan     Nowak\n",
       "2        maria.kowalska@wp.pl      Maria  Kowalska"
      ]
     },
     "execution_count": 93,
     "metadata": {},
     "output_type": "execute_result"
    }
   ],
   "source": [
    "df"
   ]
  },
  {
   "cell_type": "code",
   "execution_count": 94,
   "id": "3377400b-439f-4bed-bf0a-aed70b553116",
   "metadata": {
    "tags": []
   },
   "outputs": [],
   "source": [
    "df.loc[2, [\"imię\", \"nazwisko\"]] = [\"Anna\", \"Nowak\"]"
   ]
  },
  {
   "cell_type": "code",
   "execution_count": 95,
   "id": "2012087f-8a9a-441d-9629-fd2d46bb3dfb",
   "metadata": {
    "tags": []
   },
   "outputs": [
    {
     "data": {
      "text/html": [
       "<div>\n",
       "<style scoped>\n",
       "    .dataframe tbody tr th:only-of-type {\n",
       "        vertical-align: middle;\n",
       "    }\n",
       "\n",
       "    .dataframe tbody tr th {\n",
       "        vertical-align: top;\n",
       "    }\n",
       "\n",
       "    .dataframe thead th {\n",
       "        text-align: right;\n",
       "    }\n",
       "</style>\n",
       "<table border=\"1\" class=\"dataframe\">\n",
       "  <thead>\n",
       "    <tr style=\"text-align: right;\">\n",
       "      <th></th>\n",
       "      <th>email</th>\n",
       "      <th>imię</th>\n",
       "      <th>nazwisko</th>\n",
       "    </tr>\n",
       "  </thead>\n",
       "  <tbody>\n",
       "    <tr>\n",
       "      <th>0</th>\n",
       "      <td>agnieszka.sołtys@email.com</td>\n",
       "      <td>Agnieszka</td>\n",
       "      <td>Sołtys</td>\n",
       "    </tr>\n",
       "    <tr>\n",
       "      <th>1</th>\n",
       "      <td>jan.nowak@gmail.com</td>\n",
       "      <td>Jan</td>\n",
       "      <td>Nowak</td>\n",
       "    </tr>\n",
       "    <tr>\n",
       "      <th>2</th>\n",
       "      <td>maria.kowalska@wp.pl</td>\n",
       "      <td>Anna</td>\n",
       "      <td>Nowak</td>\n",
       "    </tr>\n",
       "  </tbody>\n",
       "</table>\n",
       "</div>"
      ],
      "text/plain": [
       "                        email       imię nazwisko\n",
       "0  agnieszka.sołtys@email.com  Agnieszka   Sołtys\n",
       "1         jan.nowak@gmail.com        Jan    Nowak\n",
       "2        maria.kowalska@wp.pl       Anna    Nowak"
      ]
     },
     "execution_count": 95,
     "metadata": {},
     "output_type": "execute_result"
    }
   ],
   "source": [
    "df"
   ]
  },
  {
   "cell_type": "markdown",
   "id": "528bee01-319b-4e4a-976f-214bf139fa7d",
   "metadata": {},
   "source": [
    "### uwaga, tutaj potrzebne loc!"
   ]
  },
  {
   "cell_type": "code",
   "execution_count": 96,
   "id": "41785fa3-ce5d-44e5-9e57-0a3201de2660",
   "metadata": {
    "tags": []
   },
   "outputs": [],
   "source": [
    "filt = (df[\"email\"] == \"maria.kowalska@wp.pl\")"
   ]
  },
  {
   "cell_type": "code",
   "execution_count": 97,
   "id": "2d7a28a7-fc28-4278-80a8-0fdcd518e7a5",
   "metadata": {
    "tags": []
   },
   "outputs": [
    {
     "ename": "TypeError",
     "evalue": "unhashable type: 'Series'",
     "output_type": "error",
     "traceback": [
      "\u001b[0;31m---------------------------------------------------------------------------\u001b[0m",
      "\u001b[0;31mTypeError\u001b[0m                                 Traceback (most recent call last)",
      "Cell \u001b[0;32mIn[97], line 1\u001b[0m\n\u001b[0;32m----> 1\u001b[0m \u001b[43mdf\u001b[49m\u001b[43m[\u001b[49m\u001b[43mfilt\u001b[49m\u001b[43m,\u001b[49m\u001b[43m \u001b[49m\u001b[38;5;124;43m\"\u001b[39;49m\u001b[38;5;124;43memail\u001b[39;49m\u001b[38;5;124;43m\"\u001b[39;49m\u001b[43m]\u001b[49m \u001b[38;5;241m=\u001b[39m \u001b[38;5;124m\"\u001b[39m\u001b[38;5;124manna.nowak@email.com\u001b[39m\u001b[38;5;124m\"\u001b[39m\n",
      "File \u001b[0;32m/opt/conda/lib/python3.10/site-packages/pandas/core/frame.py:3980\u001b[0m, in \u001b[0;36mDataFrame.__setitem__\u001b[0;34m(self, key, value)\u001b[0m\n\u001b[1;32m   3977\u001b[0m     \u001b[38;5;28mself\u001b[39m\u001b[38;5;241m.\u001b[39m_setitem_array([key], value)\n\u001b[1;32m   3978\u001b[0m \u001b[38;5;28;01melse\u001b[39;00m:\n\u001b[1;32m   3979\u001b[0m     \u001b[38;5;66;03m# set column\u001b[39;00m\n\u001b[0;32m-> 3980\u001b[0m     \u001b[38;5;28;43mself\u001b[39;49m\u001b[38;5;241;43m.\u001b[39;49m\u001b[43m_set_item\u001b[49m\u001b[43m(\u001b[49m\u001b[43mkey\u001b[49m\u001b[43m,\u001b[49m\u001b[43m \u001b[49m\u001b[43mvalue\u001b[49m\u001b[43m)\u001b[49m\n",
      "File \u001b[0;32m/opt/conda/lib/python3.10/site-packages/pandas/core/frame.py:4177\u001b[0m, in \u001b[0;36mDataFrame._set_item\u001b[0;34m(self, key, value)\u001b[0m\n\u001b[1;32m   4165\u001b[0m \u001b[38;5;250m\u001b[39m\u001b[38;5;124;03m\"\"\"\u001b[39;00m\n\u001b[1;32m   4166\u001b[0m \u001b[38;5;124;03mAdd series to DataFrame in specified column.\u001b[39;00m\n\u001b[1;32m   4167\u001b[0m \n\u001b[0;32m   (...)\u001b[0m\n\u001b[1;32m   4172\u001b[0m \u001b[38;5;124;03mensure homogeneity.\u001b[39;00m\n\u001b[1;32m   4173\u001b[0m \u001b[38;5;124;03m\"\"\"\u001b[39;00m\n\u001b[1;32m   4174\u001b[0m value \u001b[38;5;241m=\u001b[39m \u001b[38;5;28mself\u001b[39m\u001b[38;5;241m.\u001b[39m_sanitize_column(value)\n\u001b[1;32m   4176\u001b[0m \u001b[38;5;28;01mif\u001b[39;00m (\n\u001b[0;32m-> 4177\u001b[0m     \u001b[43mkey\u001b[49m\u001b[43m \u001b[49m\u001b[38;5;129;43;01min\u001b[39;49;00m\u001b[43m \u001b[49m\u001b[38;5;28;43mself\u001b[39;49m\u001b[38;5;241;43m.\u001b[39;49m\u001b[43mcolumns\u001b[49m\n\u001b[1;32m   4178\u001b[0m     \u001b[38;5;129;01mand\u001b[39;00m value\u001b[38;5;241m.\u001b[39mndim \u001b[38;5;241m==\u001b[39m \u001b[38;5;241m1\u001b[39m\n\u001b[1;32m   4179\u001b[0m     \u001b[38;5;129;01mand\u001b[39;00m \u001b[38;5;129;01mnot\u001b[39;00m is_extension_array_dtype(value)\n\u001b[1;32m   4180\u001b[0m ):\n\u001b[1;32m   4181\u001b[0m     \u001b[38;5;66;03m# broadcast across multiple columns if necessary\u001b[39;00m\n\u001b[1;32m   4182\u001b[0m     \u001b[38;5;28;01mif\u001b[39;00m \u001b[38;5;129;01mnot\u001b[39;00m \u001b[38;5;28mself\u001b[39m\u001b[38;5;241m.\u001b[39mcolumns\u001b[38;5;241m.\u001b[39mis_unique \u001b[38;5;129;01mor\u001b[39;00m \u001b[38;5;28misinstance\u001b[39m(\u001b[38;5;28mself\u001b[39m\u001b[38;5;241m.\u001b[39mcolumns, MultiIndex):\n\u001b[1;32m   4183\u001b[0m         existing_piece \u001b[38;5;241m=\u001b[39m \u001b[38;5;28mself\u001b[39m[key]\n",
      "File \u001b[0;32m/opt/conda/lib/python3.10/site-packages/pandas/core/indexes/base.py:5289\u001b[0m, in \u001b[0;36mIndex.__contains__\u001b[0;34m(self, key)\u001b[0m\n\u001b[1;32m   5254\u001b[0m \u001b[38;5;28;01mdef\u001b[39;00m \u001b[38;5;21m__contains__\u001b[39m(\u001b[38;5;28mself\u001b[39m, key: Any) \u001b[38;5;241m-\u001b[39m\u001b[38;5;241m>\u001b[39m \u001b[38;5;28mbool\u001b[39m:\n\u001b[1;32m   5255\u001b[0m \u001b[38;5;250m    \u001b[39m\u001b[38;5;124;03m\"\"\"\u001b[39;00m\n\u001b[1;32m   5256\u001b[0m \u001b[38;5;124;03m    Return a boolean indicating whether the provided key is in the index.\u001b[39;00m\n\u001b[1;32m   5257\u001b[0m \n\u001b[0;32m   (...)\u001b[0m\n\u001b[1;32m   5287\u001b[0m \u001b[38;5;124;03m    False\u001b[39;00m\n\u001b[1;32m   5288\u001b[0m \u001b[38;5;124;03m    \"\"\"\u001b[39;00m\n\u001b[0;32m-> 5289\u001b[0m     \u001b[38;5;28;43mhash\u001b[39;49m\u001b[43m(\u001b[49m\u001b[43mkey\u001b[49m\u001b[43m)\u001b[49m\n\u001b[1;32m   5290\u001b[0m     \u001b[38;5;28;01mtry\u001b[39;00m:\n\u001b[1;32m   5291\u001b[0m         \u001b[38;5;28;01mreturn\u001b[39;00m key \u001b[38;5;129;01min\u001b[39;00m \u001b[38;5;28mself\u001b[39m\u001b[38;5;241m.\u001b[39m_engine\n",
      "\u001b[0;31mTypeError\u001b[0m: unhashable type: 'Series'"
     ]
    }
   ],
   "source": [
    "df[filt, \"email\"] = \"anna.nowak@email.com\""
   ]
  },
  {
   "cell_type": "code",
   "execution_count": 98,
   "id": "74973dcf-de2a-448b-b1af-011309f65817",
   "metadata": {
    "tags": []
   },
   "outputs": [],
   "source": [
    "df.loc[filt, \"email\"] = \"anna.nowak@email.com\""
   ]
  },
  {
   "cell_type": "code",
   "execution_count": 99,
   "id": "6d8b9dd9-3853-45c3-b9c2-d4824d2781a7",
   "metadata": {
    "tags": []
   },
   "outputs": [
    {
     "data": {
      "text/html": [
       "<div>\n",
       "<style scoped>\n",
       "    .dataframe tbody tr th:only-of-type {\n",
       "        vertical-align: middle;\n",
       "    }\n",
       "\n",
       "    .dataframe tbody tr th {\n",
       "        vertical-align: top;\n",
       "    }\n",
       "\n",
       "    .dataframe thead th {\n",
       "        text-align: right;\n",
       "    }\n",
       "</style>\n",
       "<table border=\"1\" class=\"dataframe\">\n",
       "  <thead>\n",
       "    <tr style=\"text-align: right;\">\n",
       "      <th></th>\n",
       "      <th>email</th>\n",
       "      <th>imię</th>\n",
       "      <th>nazwisko</th>\n",
       "    </tr>\n",
       "  </thead>\n",
       "  <tbody>\n",
       "    <tr>\n",
       "      <th>0</th>\n",
       "      <td>agnieszka.sołtys@email.com</td>\n",
       "      <td>Agnieszka</td>\n",
       "      <td>Sołtys</td>\n",
       "    </tr>\n",
       "    <tr>\n",
       "      <th>1</th>\n",
       "      <td>jan.nowak@gmail.com</td>\n",
       "      <td>Jan</td>\n",
       "      <td>Nowak</td>\n",
       "    </tr>\n",
       "    <tr>\n",
       "      <th>2</th>\n",
       "      <td>anna.nowak@email.com</td>\n",
       "      <td>Anna</td>\n",
       "      <td>Nowak</td>\n",
       "    </tr>\n",
       "  </tbody>\n",
       "</table>\n",
       "</div>"
      ],
      "text/plain": [
       "                        email       imię nazwisko\n",
       "0  agnieszka.sołtys@email.com  Agnieszka   Sołtys\n",
       "1         jan.nowak@gmail.com        Jan    Nowak\n",
       "2        anna.nowak@email.com       Anna    Nowak"
      ]
     },
     "execution_count": 99,
     "metadata": {},
     "output_type": "execute_result"
    }
   ],
   "source": [
    "df"
   ]
  },
  {
   "cell_type": "markdown",
   "id": "cc89c5c1-6114-4bc7-a08e-6a9f9665d91b",
   "metadata": {},
   "source": [
    "### zmiana kolumn"
   ]
  },
  {
   "cell_type": "code",
   "execution_count": 100,
   "id": "e0ae1117-1cd8-43ee-b622-bbca789ccde2",
   "metadata": {
    "tags": []
   },
   "outputs": [],
   "source": [
    "df[\"email\"] = df[\"email\"].str.upper()"
   ]
  },
  {
   "cell_type": "code",
   "execution_count": 101,
   "id": "7af23760-0538-4287-913e-040024859f39",
   "metadata": {
    "tags": []
   },
   "outputs": [
    {
     "data": {
      "text/html": [
       "<div>\n",
       "<style scoped>\n",
       "    .dataframe tbody tr th:only-of-type {\n",
       "        vertical-align: middle;\n",
       "    }\n",
       "\n",
       "    .dataframe tbody tr th {\n",
       "        vertical-align: top;\n",
       "    }\n",
       "\n",
       "    .dataframe thead th {\n",
       "        text-align: right;\n",
       "    }\n",
       "</style>\n",
       "<table border=\"1\" class=\"dataframe\">\n",
       "  <thead>\n",
       "    <tr style=\"text-align: right;\">\n",
       "      <th></th>\n",
       "      <th>email</th>\n",
       "      <th>imię</th>\n",
       "      <th>nazwisko</th>\n",
       "    </tr>\n",
       "  </thead>\n",
       "  <tbody>\n",
       "    <tr>\n",
       "      <th>0</th>\n",
       "      <td>AGNIESZKA.SOŁTYS@EMAIL.COM</td>\n",
       "      <td>Agnieszka</td>\n",
       "      <td>Sołtys</td>\n",
       "    </tr>\n",
       "    <tr>\n",
       "      <th>1</th>\n",
       "      <td>JAN.NOWAK@GMAIL.COM</td>\n",
       "      <td>Jan</td>\n",
       "      <td>Nowak</td>\n",
       "    </tr>\n",
       "    <tr>\n",
       "      <th>2</th>\n",
       "      <td>ANNA.NOWAK@EMAIL.COM</td>\n",
       "      <td>Anna</td>\n",
       "      <td>Nowak</td>\n",
       "    </tr>\n",
       "  </tbody>\n",
       "</table>\n",
       "</div>"
      ],
      "text/plain": [
       "                        email       imię nazwisko\n",
       "0  AGNIESZKA.SOŁTYS@EMAIL.COM  Agnieszka   Sołtys\n",
       "1         JAN.NOWAK@GMAIL.COM        Jan    Nowak\n",
       "2        ANNA.NOWAK@EMAIL.COM       Anna    Nowak"
      ]
     },
     "execution_count": 101,
     "metadata": {},
     "output_type": "execute_result"
    }
   ],
   "source": [
    "df"
   ]
  },
  {
   "cell_type": "markdown",
   "id": "add3118e-7e0d-428d-bca7-e06304b51b68",
   "metadata": {},
   "source": [
    "### apply"
   ]
  },
  {
   "cell_type": "markdown",
   "id": "3df70bbe-b514-4764-af08-01066359e169",
   "metadata": {},
   "source": [
    "Serie - użyje fcji dla każdego elementu serii"
   ]
  },
  {
   "cell_type": "code",
   "execution_count": 103,
   "id": "ebf9f582-7ef8-49d4-9110-de2384b0a02e",
   "metadata": {
    "tags": []
   },
   "outputs": [
    {
     "data": {
      "text/html": [
       "<div>\n",
       "<style scoped>\n",
       "    .dataframe tbody tr th:only-of-type {\n",
       "        vertical-align: middle;\n",
       "    }\n",
       "\n",
       "    .dataframe tbody tr th {\n",
       "        vertical-align: top;\n",
       "    }\n",
       "\n",
       "    .dataframe thead th {\n",
       "        text-align: right;\n",
       "    }\n",
       "</style>\n",
       "<table border=\"1\" class=\"dataframe\">\n",
       "  <thead>\n",
       "    <tr style=\"text-align: right;\">\n",
       "      <th></th>\n",
       "      <th>email</th>\n",
       "      <th>imię</th>\n",
       "      <th>nazwisko</th>\n",
       "    </tr>\n",
       "  </thead>\n",
       "  <tbody>\n",
       "    <tr>\n",
       "      <th>0</th>\n",
       "      <td>AGNIESZKA.SOŁTYS@EMAIL.COM</td>\n",
       "      <td>Agnieszka</td>\n",
       "      <td>Sołtys</td>\n",
       "    </tr>\n",
       "    <tr>\n",
       "      <th>1</th>\n",
       "      <td>JAN.NOWAK@GMAIL.COM</td>\n",
       "      <td>Jan</td>\n",
       "      <td>Nowak</td>\n",
       "    </tr>\n",
       "    <tr>\n",
       "      <th>2</th>\n",
       "      <td>ANNA.NOWAK@EMAIL.COM</td>\n",
       "      <td>Anna</td>\n",
       "      <td>Nowak</td>\n",
       "    </tr>\n",
       "  </tbody>\n",
       "</table>\n",
       "</div>"
      ],
      "text/plain": [
       "                        email       imię nazwisko\n",
       "0  AGNIESZKA.SOŁTYS@EMAIL.COM  Agnieszka   Sołtys\n",
       "1         JAN.NOWAK@GMAIL.COM        Jan    Nowak\n",
       "2        ANNA.NOWAK@EMAIL.COM       Anna    Nowak"
      ]
     },
     "execution_count": 103,
     "metadata": {},
     "output_type": "execute_result"
    }
   ],
   "source": [
    "df"
   ]
  },
  {
   "cell_type": "code",
   "execution_count": 102,
   "id": "4eacdaa4-d530-4268-a722-26badf303db9",
   "metadata": {
    "tags": []
   },
   "outputs": [
    {
     "data": {
      "text/plain": [
       "0    26\n",
       "1    19\n",
       "2    20\n",
       "Name: email, dtype: int64"
      ]
     },
     "execution_count": 102,
     "metadata": {},
     "output_type": "execute_result"
    }
   ],
   "source": [
    "df[\"email\"].apply(len)"
   ]
  },
  {
   "cell_type": "code",
   "execution_count": 104,
   "id": "4e152ec7-6bc8-47d8-a7cd-6b56d6ac1948",
   "metadata": {
    "tags": []
   },
   "outputs": [],
   "source": [
    "def update_email(email):\n",
    "    return email.replace(\".COM\", \".PL\")"
   ]
  },
  {
   "cell_type": "code",
   "execution_count": 105,
   "id": "354c8df2-182a-48de-be3b-582fe0b1f414",
   "metadata": {
    "tags": []
   },
   "outputs": [],
   "source": [
    "df[\"email\"] = df[\"email\"].apply(update_email)"
   ]
  },
  {
   "cell_type": "code",
   "execution_count": 106,
   "id": "fecab390-1d10-4763-828a-7bcf069fd83c",
   "metadata": {
    "tags": []
   },
   "outputs": [
    {
     "data": {
      "text/html": [
       "<div>\n",
       "<style scoped>\n",
       "    .dataframe tbody tr th:only-of-type {\n",
       "        vertical-align: middle;\n",
       "    }\n",
       "\n",
       "    .dataframe tbody tr th {\n",
       "        vertical-align: top;\n",
       "    }\n",
       "\n",
       "    .dataframe thead th {\n",
       "        text-align: right;\n",
       "    }\n",
       "</style>\n",
       "<table border=\"1\" class=\"dataframe\">\n",
       "  <thead>\n",
       "    <tr style=\"text-align: right;\">\n",
       "      <th></th>\n",
       "      <th>email</th>\n",
       "      <th>imię</th>\n",
       "      <th>nazwisko</th>\n",
       "    </tr>\n",
       "  </thead>\n",
       "  <tbody>\n",
       "    <tr>\n",
       "      <th>0</th>\n",
       "      <td>AGNIESZKA.SOŁTYS@EMAIL.PL</td>\n",
       "      <td>Agnieszka</td>\n",
       "      <td>Sołtys</td>\n",
       "    </tr>\n",
       "    <tr>\n",
       "      <th>1</th>\n",
       "      <td>JAN.NOWAK@GMAIL.PL</td>\n",
       "      <td>Jan</td>\n",
       "      <td>Nowak</td>\n",
       "    </tr>\n",
       "    <tr>\n",
       "      <th>2</th>\n",
       "      <td>ANNA.NOWAK@EMAIL.PL</td>\n",
       "      <td>Anna</td>\n",
       "      <td>Nowak</td>\n",
       "    </tr>\n",
       "  </tbody>\n",
       "</table>\n",
       "</div>"
      ],
      "text/plain": [
       "                       email       imię nazwisko\n",
       "0  AGNIESZKA.SOŁTYS@EMAIL.PL  Agnieszka   Sołtys\n",
       "1         JAN.NOWAK@GMAIL.PL        Jan    Nowak\n",
       "2        ANNA.NOWAK@EMAIL.PL       Anna    Nowak"
      ]
     },
     "execution_count": 106,
     "metadata": {},
     "output_type": "execute_result"
    }
   ],
   "source": [
    "df"
   ]
  },
  {
   "cell_type": "code",
   "execution_count": 107,
   "id": "6c011da0-f64d-4ac1-b858-b4aabab07119",
   "metadata": {
    "tags": []
   },
   "outputs": [],
   "source": [
    "df[\"email\"] = df[\"email\"].apply(lambda x: x.replace(\".PL\", \".COM\"))"
   ]
  },
  {
   "cell_type": "code",
   "execution_count": 108,
   "id": "05dee751-f288-4feb-98b9-61cbbd084b1b",
   "metadata": {
    "tags": []
   },
   "outputs": [
    {
     "data": {
      "text/html": [
       "<div>\n",
       "<style scoped>\n",
       "    .dataframe tbody tr th:only-of-type {\n",
       "        vertical-align: middle;\n",
       "    }\n",
       "\n",
       "    .dataframe tbody tr th {\n",
       "        vertical-align: top;\n",
       "    }\n",
       "\n",
       "    .dataframe thead th {\n",
       "        text-align: right;\n",
       "    }\n",
       "</style>\n",
       "<table border=\"1\" class=\"dataframe\">\n",
       "  <thead>\n",
       "    <tr style=\"text-align: right;\">\n",
       "      <th></th>\n",
       "      <th>email</th>\n",
       "      <th>imię</th>\n",
       "      <th>nazwisko</th>\n",
       "    </tr>\n",
       "  </thead>\n",
       "  <tbody>\n",
       "    <tr>\n",
       "      <th>0</th>\n",
       "      <td>AGNIESZKA.SOŁTYS@EMAIL.COM</td>\n",
       "      <td>Agnieszka</td>\n",
       "      <td>Sołtys</td>\n",
       "    </tr>\n",
       "    <tr>\n",
       "      <th>1</th>\n",
       "      <td>JAN.NOWAK@GMAIL.COM</td>\n",
       "      <td>Jan</td>\n",
       "      <td>Nowak</td>\n",
       "    </tr>\n",
       "    <tr>\n",
       "      <th>2</th>\n",
       "      <td>ANNA.NOWAK@EMAIL.COM</td>\n",
       "      <td>Anna</td>\n",
       "      <td>Nowak</td>\n",
       "    </tr>\n",
       "  </tbody>\n",
       "</table>\n",
       "</div>"
      ],
      "text/plain": [
       "                        email       imię nazwisko\n",
       "0  AGNIESZKA.SOŁTYS@EMAIL.COM  Agnieszka   Sołtys\n",
       "1         JAN.NOWAK@GMAIL.COM        Jan    Nowak\n",
       "2        ANNA.NOWAK@EMAIL.COM       Anna    Nowak"
      ]
     },
     "execution_count": 108,
     "metadata": {},
     "output_type": "execute_result"
    }
   ],
   "source": [
    "df"
   ]
  },
  {
   "cell_type": "markdown",
   "id": "51cafee4-3dfc-47f0-b9bd-0e17ee45637d",
   "metadata": {},
   "source": [
    "apply na ramkach danych (Data Frame) - użycie fcji dla każdego wiersza lub każdej kolumny"
   ]
  },
  {
   "cell_type": "code",
   "execution_count": 116,
   "id": "07acd38f-4b01-4785-a45e-c60b58817fc5",
   "metadata": {
    "tags": []
   },
   "outputs": [
    {
     "data": {
      "text/html": [
       "<div>\n",
       "<style scoped>\n",
       "    .dataframe tbody tr th:only-of-type {\n",
       "        vertical-align: middle;\n",
       "    }\n",
       "\n",
       "    .dataframe tbody tr th {\n",
       "        vertical-align: top;\n",
       "    }\n",
       "\n",
       "    .dataframe thead th {\n",
       "        text-align: right;\n",
       "    }\n",
       "</style>\n",
       "<table border=\"1\" class=\"dataframe\">\n",
       "  <thead>\n",
       "    <tr style=\"text-align: right;\">\n",
       "      <th></th>\n",
       "      <th>email</th>\n",
       "      <th>imię</th>\n",
       "      <th>nazwisko</th>\n",
       "    </tr>\n",
       "  </thead>\n",
       "  <tbody>\n",
       "    <tr>\n",
       "      <th>0</th>\n",
       "      <td>AGNIESZKA.SOŁTYS@EMAIL.COM</td>\n",
       "      <td>Agnieszka</td>\n",
       "      <td>Sołtys</td>\n",
       "    </tr>\n",
       "    <tr>\n",
       "      <th>1</th>\n",
       "      <td>JAN.NOWAK@GMAIL.COM</td>\n",
       "      <td>Jan</td>\n",
       "      <td>Nowak</td>\n",
       "    </tr>\n",
       "    <tr>\n",
       "      <th>2</th>\n",
       "      <td>ANNA.NOWAK@EMAIL.COM</td>\n",
       "      <td>Anna</td>\n",
       "      <td>Nowak</td>\n",
       "    </tr>\n",
       "  </tbody>\n",
       "</table>\n",
       "</div>"
      ],
      "text/plain": [
       "                        email       imię nazwisko\n",
       "0  AGNIESZKA.SOŁTYS@EMAIL.COM  Agnieszka   Sołtys\n",
       "1         JAN.NOWAK@GMAIL.COM        Jan    Nowak\n",
       "2        ANNA.NOWAK@EMAIL.COM       Anna    Nowak"
      ]
     },
     "execution_count": 116,
     "metadata": {},
     "output_type": "execute_result"
    }
   ],
   "source": [
    "df"
   ]
  },
  {
   "cell_type": "code",
   "execution_count": 111,
   "id": "2888a557-9973-4ba7-9c6a-d49e044e80d2",
   "metadata": {
    "tags": []
   },
   "outputs": [
    {
     "data": {
      "text/plain": [
       "email       3\n",
       "imię        3\n",
       "nazwisko    3\n",
       "dtype: int64"
      ]
     },
     "execution_count": 111,
     "metadata": {},
     "output_type": "execute_result"
    }
   ],
   "source": [
    "df.apply(len) # dla każdej kolumny"
   ]
  },
  {
   "cell_type": "code",
   "execution_count": 112,
   "id": "d081b903-94d8-463a-a20e-4ef71ebceede",
   "metadata": {
    "tags": []
   },
   "outputs": [
    {
     "data": {
      "text/plain": [
       "0    3\n",
       "1    3\n",
       "2    3\n",
       "dtype: int64"
      ]
     },
     "execution_count": 112,
     "metadata": {},
     "output_type": "execute_result"
    }
   ],
   "source": [
    "df.apply(len, axis = \"columns\") # dla każdego wiersza"
   ]
  },
  {
   "cell_type": "code",
   "execution_count": 113,
   "id": "77715b70-7808-4328-a03e-31452eb8d007",
   "metadata": {
    "tags": []
   },
   "outputs": [
    {
     "data": {
      "text/plain": [
       "email       JAN.NOWAK@GMAIL.COM\n",
       "imię                        Jan\n",
       "nazwisko                 Sołtys\n",
       "dtype: object"
      ]
     },
     "execution_count": 113,
     "metadata": {},
     "output_type": "execute_result"
    }
   ],
   "source": [
    "df.apply(lambda x: x.max())"
   ]
  },
  {
   "cell_type": "code",
   "execution_count": 114,
   "id": "6c0c5451-c2b2-405d-941d-fd76431e7b00",
   "metadata": {
    "tags": []
   },
   "outputs": [
    {
     "data": {
      "text/html": [
       "<div>\n",
       "<style scoped>\n",
       "    .dataframe tbody tr th:only-of-type {\n",
       "        vertical-align: middle;\n",
       "    }\n",
       "\n",
       "    .dataframe tbody tr th {\n",
       "        vertical-align: top;\n",
       "    }\n",
       "\n",
       "    .dataframe thead th {\n",
       "        text-align: right;\n",
       "    }\n",
       "</style>\n",
       "<table border=\"1\" class=\"dataframe\">\n",
       "  <thead>\n",
       "    <tr style=\"text-align: right;\">\n",
       "      <th></th>\n",
       "      <th>email</th>\n",
       "      <th>imię</th>\n",
       "      <th>nazwisko</th>\n",
       "    </tr>\n",
       "  </thead>\n",
       "  <tbody>\n",
       "    <tr>\n",
       "      <th>0</th>\n",
       "      <td>AGNIESZKA.SOŁTYS@EMAIL.COM</td>\n",
       "      <td>Agnieszka</td>\n",
       "      <td>Sołtys</td>\n",
       "    </tr>\n",
       "    <tr>\n",
       "      <th>1</th>\n",
       "      <td>JAN.NOWAK@GMAIL.COM</td>\n",
       "      <td>Jan</td>\n",
       "      <td>Nowak</td>\n",
       "    </tr>\n",
       "    <tr>\n",
       "      <th>2</th>\n",
       "      <td>ANNA.NOWAK@EMAIL.COM</td>\n",
       "      <td>Anna</td>\n",
       "      <td>Nowak</td>\n",
       "    </tr>\n",
       "  </tbody>\n",
       "</table>\n",
       "</div>"
      ],
      "text/plain": [
       "                        email       imię nazwisko\n",
       "0  AGNIESZKA.SOŁTYS@EMAIL.COM  Agnieszka   Sołtys\n",
       "1         JAN.NOWAK@GMAIL.COM        Jan    Nowak\n",
       "2        ANNA.NOWAK@EMAIL.COM       Anna    Nowak"
      ]
     },
     "execution_count": 114,
     "metadata": {},
     "output_type": "execute_result"
    }
   ],
   "source": [
    "df"
   ]
  },
  {
   "cell_type": "markdown",
   "id": "ffe49f35-a999-48e2-85c1-741a363290b5",
   "metadata": {},
   "source": [
    "### applymap - tylko dla ramek danych (Data Frames), użycie funkcji dla każdego elementu "
   ]
  },
  {
   "cell_type": "code",
   "execution_count": 115,
   "id": "21a1ff32-17f0-4a25-bd55-274ce779c5d5",
   "metadata": {
    "tags": []
   },
   "outputs": [
    {
     "data": {
      "text/html": [
       "<div>\n",
       "<style scoped>\n",
       "    .dataframe tbody tr th:only-of-type {\n",
       "        vertical-align: middle;\n",
       "    }\n",
       "\n",
       "    .dataframe tbody tr th {\n",
       "        vertical-align: top;\n",
       "    }\n",
       "\n",
       "    .dataframe thead th {\n",
       "        text-align: right;\n",
       "    }\n",
       "</style>\n",
       "<table border=\"1\" class=\"dataframe\">\n",
       "  <thead>\n",
       "    <tr style=\"text-align: right;\">\n",
       "      <th></th>\n",
       "      <th>email</th>\n",
       "      <th>imię</th>\n",
       "      <th>nazwisko</th>\n",
       "    </tr>\n",
       "  </thead>\n",
       "  <tbody>\n",
       "    <tr>\n",
       "      <th>0</th>\n",
       "      <td>26</td>\n",
       "      <td>9</td>\n",
       "      <td>6</td>\n",
       "    </tr>\n",
       "    <tr>\n",
       "      <th>1</th>\n",
       "      <td>19</td>\n",
       "      <td>3</td>\n",
       "      <td>5</td>\n",
       "    </tr>\n",
       "    <tr>\n",
       "      <th>2</th>\n",
       "      <td>20</td>\n",
       "      <td>4</td>\n",
       "      <td>5</td>\n",
       "    </tr>\n",
       "  </tbody>\n",
       "</table>\n",
       "</div>"
      ],
      "text/plain": [
       "   email  imię  nazwisko\n",
       "0     26     9         6\n",
       "1     19     3         5\n",
       "2     20     4         5"
      ]
     },
     "execution_count": 115,
     "metadata": {},
     "output_type": "execute_result"
    }
   ],
   "source": [
    "df.applymap(len)"
   ]
  },
  {
   "cell_type": "markdown",
   "id": "c0e67bed-ddf3-4265-b5e3-ed5dd5b8366a",
   "metadata": {},
   "source": [
    "### map - tylko dla serii, podstaw wartości, uwaga na NAN!"
   ]
  },
  {
   "cell_type": "code",
   "execution_count": 117,
   "id": "e3ebd1b3-a32a-4db2-a53f-191aff2c520d",
   "metadata": {
    "tags": []
   },
   "outputs": [
    {
     "data": {
      "text/html": [
       "<div>\n",
       "<style scoped>\n",
       "    .dataframe tbody tr th:only-of-type {\n",
       "        vertical-align: middle;\n",
       "    }\n",
       "\n",
       "    .dataframe tbody tr th {\n",
       "        vertical-align: top;\n",
       "    }\n",
       "\n",
       "    .dataframe thead th {\n",
       "        text-align: right;\n",
       "    }\n",
       "</style>\n",
       "<table border=\"1\" class=\"dataframe\">\n",
       "  <thead>\n",
       "    <tr style=\"text-align: right;\">\n",
       "      <th></th>\n",
       "      <th>email</th>\n",
       "      <th>imię</th>\n",
       "      <th>nazwisko</th>\n",
       "    </tr>\n",
       "  </thead>\n",
       "  <tbody>\n",
       "    <tr>\n",
       "      <th>0</th>\n",
       "      <td>AGNIESZKA.SOŁTYS@EMAIL.COM</td>\n",
       "      <td>Agnieszka</td>\n",
       "      <td>Sołtys</td>\n",
       "    </tr>\n",
       "    <tr>\n",
       "      <th>1</th>\n",
       "      <td>JAN.NOWAK@GMAIL.COM</td>\n",
       "      <td>Jan</td>\n",
       "      <td>Nowak</td>\n",
       "    </tr>\n",
       "    <tr>\n",
       "      <th>2</th>\n",
       "      <td>ANNA.NOWAK@EMAIL.COM</td>\n",
       "      <td>Anna</td>\n",
       "      <td>Nowak</td>\n",
       "    </tr>\n",
       "  </tbody>\n",
       "</table>\n",
       "</div>"
      ],
      "text/plain": [
       "                        email       imię nazwisko\n",
       "0  AGNIESZKA.SOŁTYS@EMAIL.COM  Agnieszka   Sołtys\n",
       "1         JAN.NOWAK@GMAIL.COM        Jan    Nowak\n",
       "2        ANNA.NOWAK@EMAIL.COM       Anna    Nowak"
      ]
     },
     "execution_count": 117,
     "metadata": {},
     "output_type": "execute_result"
    }
   ],
   "source": [
    "df"
   ]
  },
  {
   "cell_type": "code",
   "execution_count": 118,
   "id": "e5dbae61-df95-4b12-bce4-76be446e6e92",
   "metadata": {
    "tags": []
   },
   "outputs": [
    {
     "data": {
      "text/plain": [
       "0       NaN\n",
       "1    Janusz\n",
       "2    Joanna\n",
       "Name: imię, dtype: object"
      ]
     },
     "execution_count": 118,
     "metadata": {},
     "output_type": "execute_result"
    }
   ],
   "source": [
    "df[\"imię\"].map({\"Jan\": \"Janusz\", \"Anna\": \"Joanna\"})"
   ]
  },
  {
   "cell_type": "markdown",
   "id": "d6eb26a8-fc70-4454-ad44-932e7930a9e9",
   "metadata": {},
   "source": [
    "### replace"
   ]
  },
  {
   "cell_type": "code",
   "execution_count": 119,
   "id": "052a19e9-5f95-4790-9401-09e8a4760743",
   "metadata": {
    "tags": []
   },
   "outputs": [
    {
     "data": {
      "text/plain": [
       "0    Agnieszka\n",
       "1       Janusz\n",
       "2       Joanna\n",
       "Name: imię, dtype: object"
      ]
     },
     "execution_count": 119,
     "metadata": {},
     "output_type": "execute_result"
    }
   ],
   "source": [
    "df[\"imię\"].replace({\"Jan\": \"Janusz\", \"Anna\": \"Joanna\"})"
   ]
  },
  {
   "cell_type": "code",
   "execution_count": null,
   "id": "e23ac810-b8c2-46c2-b75c-9f6c2633ba2e",
   "metadata": {},
   "outputs": [],
   "source": []
  },
  {
   "cell_type": "markdown",
   "id": "9184a5c4-8bb6-4063-a703-6c168dd0bf36",
   "metadata": {},
   "source": [
    "## 8. Obsługa obserwacji brakujących"
   ]
  },
  {
   "cell_type": "markdown",
   "id": "69318770-bfae-4702-b3b0-5154531e0a61",
   "metadata": {},
   "source": [
    "usuwanie braków danych"
   ]
  },
  {
   "cell_type": "code",
   "execution_count": 120,
   "id": "1dbf6e8e-4264-4726-b9c6-90a56081b301",
   "metadata": {
    "tags": []
   },
   "outputs": [],
   "source": [
    "osoby1 = {\n",
    "    'imię': ['Agnieszka', 'Jan', 'Anna', 'Janusz', np.nan, None, 'NA'],\n",
    "    'nazwisko': ['Sołtys', 'Kowalski', 'Kowalska', 'Nowak', np.nan, pd.NaT, 'Missing'],\n",
    "    'email': ['agnieszka.soltys@email.com', 'jan.kowalski@wp.pl', 'anna.kowalska@wp.pl', 'januszek@email.com', None, \"antek.nowak@gmail.com\", np.nan],\n",
    "    'age': ['25', '55', '63', '36', None, None, 'Missing']\n",
    "}"
   ]
  },
  {
   "cell_type": "code",
   "execution_count": 121,
   "id": "2aa7a56e-3786-49cb-a72a-e26501366f92",
   "metadata": {
    "tags": []
   },
   "outputs": [],
   "source": [
    "df1 = pd.DataFrame(osoby1)"
   ]
  },
  {
   "cell_type": "code",
   "execution_count": 122,
   "id": "1056e059-00ca-4e2b-87c2-f7405577f9a0",
   "metadata": {
    "tags": []
   },
   "outputs": [
    {
     "data": {
      "text/html": [
       "<div>\n",
       "<style scoped>\n",
       "    .dataframe tbody tr th:only-of-type {\n",
       "        vertical-align: middle;\n",
       "    }\n",
       "\n",
       "    .dataframe tbody tr th {\n",
       "        vertical-align: top;\n",
       "    }\n",
       "\n",
       "    .dataframe thead th {\n",
       "        text-align: right;\n",
       "    }\n",
       "</style>\n",
       "<table border=\"1\" class=\"dataframe\">\n",
       "  <thead>\n",
       "    <tr style=\"text-align: right;\">\n",
       "      <th></th>\n",
       "      <th>imię</th>\n",
       "      <th>nazwisko</th>\n",
       "      <th>email</th>\n",
       "      <th>age</th>\n",
       "    </tr>\n",
       "  </thead>\n",
       "  <tbody>\n",
       "    <tr>\n",
       "      <th>0</th>\n",
       "      <td>Agnieszka</td>\n",
       "      <td>Sołtys</td>\n",
       "      <td>agnieszka.soltys@email.com</td>\n",
       "      <td>25</td>\n",
       "    </tr>\n",
       "    <tr>\n",
       "      <th>1</th>\n",
       "      <td>Jan</td>\n",
       "      <td>Kowalski</td>\n",
       "      <td>jan.kowalski@wp.pl</td>\n",
       "      <td>55</td>\n",
       "    </tr>\n",
       "    <tr>\n",
       "      <th>2</th>\n",
       "      <td>Anna</td>\n",
       "      <td>Kowalska</td>\n",
       "      <td>anna.kowalska@wp.pl</td>\n",
       "      <td>63</td>\n",
       "    </tr>\n",
       "    <tr>\n",
       "      <th>3</th>\n",
       "      <td>Janusz</td>\n",
       "      <td>Nowak</td>\n",
       "      <td>januszek@email.com</td>\n",
       "      <td>36</td>\n",
       "    </tr>\n",
       "    <tr>\n",
       "      <th>4</th>\n",
       "      <td>NaN</td>\n",
       "      <td>NaN</td>\n",
       "      <td>None</td>\n",
       "      <td>None</td>\n",
       "    </tr>\n",
       "    <tr>\n",
       "      <th>5</th>\n",
       "      <td>None</td>\n",
       "      <td>NaT</td>\n",
       "      <td>antek.nowak@gmail.com</td>\n",
       "      <td>None</td>\n",
       "    </tr>\n",
       "    <tr>\n",
       "      <th>6</th>\n",
       "      <td>NA</td>\n",
       "      <td>Missing</td>\n",
       "      <td>NaN</td>\n",
       "      <td>Missing</td>\n",
       "    </tr>\n",
       "  </tbody>\n",
       "</table>\n",
       "</div>"
      ],
      "text/plain": [
       "        imię  nazwisko                       email      age\n",
       "0  Agnieszka    Sołtys  agnieszka.soltys@email.com       25\n",
       "1        Jan  Kowalski          jan.kowalski@wp.pl       55\n",
       "2       Anna  Kowalska         anna.kowalska@wp.pl       63\n",
       "3     Janusz     Nowak          januszek@email.com       36\n",
       "4        NaN       NaN                        None     None\n",
       "5       None       NaT       antek.nowak@gmail.com     None\n",
       "6         NA   Missing                         NaN  Missing"
      ]
     },
     "execution_count": 122,
     "metadata": {},
     "output_type": "execute_result"
    }
   ],
   "source": [
    "df1"
   ]
  },
  {
   "cell_type": "code",
   "execution_count": 123,
   "id": "31aef71d-407d-4954-8851-ab876eb5194c",
   "metadata": {
    "tags": []
   },
   "outputs": [
    {
     "data": {
      "text/html": [
       "<div>\n",
       "<style scoped>\n",
       "    .dataframe tbody tr th:only-of-type {\n",
       "        vertical-align: middle;\n",
       "    }\n",
       "\n",
       "    .dataframe tbody tr th {\n",
       "        vertical-align: top;\n",
       "    }\n",
       "\n",
       "    .dataframe thead th {\n",
       "        text-align: right;\n",
       "    }\n",
       "</style>\n",
       "<table border=\"1\" class=\"dataframe\">\n",
       "  <thead>\n",
       "    <tr style=\"text-align: right;\">\n",
       "      <th></th>\n",
       "      <th>imię</th>\n",
       "      <th>nazwisko</th>\n",
       "      <th>email</th>\n",
       "      <th>age</th>\n",
       "    </tr>\n",
       "  </thead>\n",
       "  <tbody>\n",
       "    <tr>\n",
       "      <th>0</th>\n",
       "      <td>False</td>\n",
       "      <td>False</td>\n",
       "      <td>False</td>\n",
       "      <td>False</td>\n",
       "    </tr>\n",
       "    <tr>\n",
       "      <th>1</th>\n",
       "      <td>False</td>\n",
       "      <td>False</td>\n",
       "      <td>False</td>\n",
       "      <td>False</td>\n",
       "    </tr>\n",
       "    <tr>\n",
       "      <th>2</th>\n",
       "      <td>False</td>\n",
       "      <td>False</td>\n",
       "      <td>False</td>\n",
       "      <td>False</td>\n",
       "    </tr>\n",
       "    <tr>\n",
       "      <th>3</th>\n",
       "      <td>False</td>\n",
       "      <td>False</td>\n",
       "      <td>False</td>\n",
       "      <td>False</td>\n",
       "    </tr>\n",
       "    <tr>\n",
       "      <th>4</th>\n",
       "      <td>True</td>\n",
       "      <td>True</td>\n",
       "      <td>True</td>\n",
       "      <td>True</td>\n",
       "    </tr>\n",
       "    <tr>\n",
       "      <th>5</th>\n",
       "      <td>True</td>\n",
       "      <td>True</td>\n",
       "      <td>False</td>\n",
       "      <td>True</td>\n",
       "    </tr>\n",
       "    <tr>\n",
       "      <th>6</th>\n",
       "      <td>False</td>\n",
       "      <td>False</td>\n",
       "      <td>True</td>\n",
       "      <td>False</td>\n",
       "    </tr>\n",
       "  </tbody>\n",
       "</table>\n",
       "</div>"
      ],
      "text/plain": [
       "    imię  nazwisko  email    age\n",
       "0  False     False  False  False\n",
       "1  False     False  False  False\n",
       "2  False     False  False  False\n",
       "3  False     False  False  False\n",
       "4   True      True   True   True\n",
       "5   True      True  False   True\n",
       "6  False     False   True  False"
      ]
     },
     "execution_count": 123,
     "metadata": {},
     "output_type": "execute_result"
    }
   ],
   "source": [
    "df1.isna()"
   ]
  },
  {
   "cell_type": "code",
   "execution_count": 124,
   "id": "46cb4099-dddb-46a7-8ab2-2f9aff7eaf78",
   "metadata": {
    "tags": []
   },
   "outputs": [
    {
     "data": {
      "text/html": [
       "<div>\n",
       "<style scoped>\n",
       "    .dataframe tbody tr th:only-of-type {\n",
       "        vertical-align: middle;\n",
       "    }\n",
       "\n",
       "    .dataframe tbody tr th {\n",
       "        vertical-align: top;\n",
       "    }\n",
       "\n",
       "    .dataframe thead th {\n",
       "        text-align: right;\n",
       "    }\n",
       "</style>\n",
       "<table border=\"1\" class=\"dataframe\">\n",
       "  <thead>\n",
       "    <tr style=\"text-align: right;\">\n",
       "      <th></th>\n",
       "      <th>imię</th>\n",
       "      <th>nazwisko</th>\n",
       "      <th>email</th>\n",
       "      <th>age</th>\n",
       "    </tr>\n",
       "  </thead>\n",
       "  <tbody>\n",
       "    <tr>\n",
       "      <th>0</th>\n",
       "      <td>Agnieszka</td>\n",
       "      <td>Sołtys</td>\n",
       "      <td>agnieszka.soltys@email.com</td>\n",
       "      <td>25</td>\n",
       "    </tr>\n",
       "    <tr>\n",
       "      <th>1</th>\n",
       "      <td>Jan</td>\n",
       "      <td>Kowalski</td>\n",
       "      <td>jan.kowalski@wp.pl</td>\n",
       "      <td>55</td>\n",
       "    </tr>\n",
       "    <tr>\n",
       "      <th>2</th>\n",
       "      <td>Anna</td>\n",
       "      <td>Kowalska</td>\n",
       "      <td>anna.kowalska@wp.pl</td>\n",
       "      <td>63</td>\n",
       "    </tr>\n",
       "    <tr>\n",
       "      <th>3</th>\n",
       "      <td>Janusz</td>\n",
       "      <td>Nowak</td>\n",
       "      <td>januszek@email.com</td>\n",
       "      <td>36</td>\n",
       "    </tr>\n",
       "  </tbody>\n",
       "</table>\n",
       "</div>"
      ],
      "text/plain": [
       "        imię  nazwisko                       email age\n",
       "0  Agnieszka    Sołtys  agnieszka.soltys@email.com  25\n",
       "1        Jan  Kowalski          jan.kowalski@wp.pl  55\n",
       "2       Anna  Kowalska         anna.kowalska@wp.pl  63\n",
       "3     Janusz     Nowak          januszek@email.com  36"
      ]
     },
     "execution_count": 124,
     "metadata": {},
     "output_type": "execute_result"
    }
   ],
   "source": [
    "df1.dropna()"
   ]
  },
  {
   "cell_type": "code",
   "execution_count": 126,
   "id": "7a831b75-5492-4562-9dfc-6e66e4b06212",
   "metadata": {
    "tags": []
   },
   "outputs": [
    {
     "data": {
      "text/html": [
       "<div>\n",
       "<style scoped>\n",
       "    .dataframe tbody tr th:only-of-type {\n",
       "        vertical-align: middle;\n",
       "    }\n",
       "\n",
       "    .dataframe tbody tr th {\n",
       "        vertical-align: top;\n",
       "    }\n",
       "\n",
       "    .dataframe thead th {\n",
       "        text-align: right;\n",
       "    }\n",
       "</style>\n",
       "<table border=\"1\" class=\"dataframe\">\n",
       "  <thead>\n",
       "    <tr style=\"text-align: right;\">\n",
       "      <th></th>\n",
       "      <th>imię</th>\n",
       "      <th>nazwisko</th>\n",
       "      <th>email</th>\n",
       "      <th>age</th>\n",
       "    </tr>\n",
       "  </thead>\n",
       "  <tbody>\n",
       "    <tr>\n",
       "      <th>0</th>\n",
       "      <td>Agnieszka</td>\n",
       "      <td>Sołtys</td>\n",
       "      <td>agnieszka.soltys@email.com</td>\n",
       "      <td>25</td>\n",
       "    </tr>\n",
       "    <tr>\n",
       "      <th>1</th>\n",
       "      <td>Jan</td>\n",
       "      <td>Kowalski</td>\n",
       "      <td>jan.kowalski@wp.pl</td>\n",
       "      <td>55</td>\n",
       "    </tr>\n",
       "    <tr>\n",
       "      <th>2</th>\n",
       "      <td>Anna</td>\n",
       "      <td>Kowalska</td>\n",
       "      <td>anna.kowalska@wp.pl</td>\n",
       "      <td>63</td>\n",
       "    </tr>\n",
       "    <tr>\n",
       "      <th>3</th>\n",
       "      <td>Janusz</td>\n",
       "      <td>Nowak</td>\n",
       "      <td>januszek@email.com</td>\n",
       "      <td>36</td>\n",
       "    </tr>\n",
       "    <tr>\n",
       "      <th>4</th>\n",
       "      <td>NaN</td>\n",
       "      <td>NaN</td>\n",
       "      <td>None</td>\n",
       "      <td>None</td>\n",
       "    </tr>\n",
       "    <tr>\n",
       "      <th>5</th>\n",
       "      <td>None</td>\n",
       "      <td>NaT</td>\n",
       "      <td>antek.nowak@gmail.com</td>\n",
       "      <td>None</td>\n",
       "    </tr>\n",
       "    <tr>\n",
       "      <th>6</th>\n",
       "      <td>NA</td>\n",
       "      <td>Missing</td>\n",
       "      <td>NaN</td>\n",
       "      <td>Missing</td>\n",
       "    </tr>\n",
       "  </tbody>\n",
       "</table>\n",
       "</div>"
      ],
      "text/plain": [
       "        imię  nazwisko                       email      age\n",
       "0  Agnieszka    Sołtys  agnieszka.soltys@email.com       25\n",
       "1        Jan  Kowalski          jan.kowalski@wp.pl       55\n",
       "2       Anna  Kowalska         anna.kowalska@wp.pl       63\n",
       "3     Janusz     Nowak          januszek@email.com       36\n",
       "4        NaN       NaN                        None     None\n",
       "5       None       NaT       antek.nowak@gmail.com     None\n",
       "6         NA   Missing                         NaN  Missing"
      ]
     },
     "execution_count": 126,
     "metadata": {},
     "output_type": "execute_result"
    }
   ],
   "source": [
    "df1"
   ]
  },
  {
   "cell_type": "code",
   "execution_count": 125,
   "id": "9793effc-5674-443e-bc67-97b9e81a5730",
   "metadata": {
    "tags": []
   },
   "outputs": [
    {
     "data": {
      "text/html": [
       "<div>\n",
       "<style scoped>\n",
       "    .dataframe tbody tr th:only-of-type {\n",
       "        vertical-align: middle;\n",
       "    }\n",
       "\n",
       "    .dataframe tbody tr th {\n",
       "        vertical-align: top;\n",
       "    }\n",
       "\n",
       "    .dataframe thead th {\n",
       "        text-align: right;\n",
       "    }\n",
       "</style>\n",
       "<table border=\"1\" class=\"dataframe\">\n",
       "  <thead>\n",
       "    <tr style=\"text-align: right;\">\n",
       "      <th></th>\n",
       "      <th>imię</th>\n",
       "      <th>nazwisko</th>\n",
       "      <th>email</th>\n",
       "      <th>age</th>\n",
       "    </tr>\n",
       "  </thead>\n",
       "  <tbody>\n",
       "    <tr>\n",
       "      <th>0</th>\n",
       "      <td>Agnieszka</td>\n",
       "      <td>Sołtys</td>\n",
       "      <td>agnieszka.soltys@email.com</td>\n",
       "      <td>25</td>\n",
       "    </tr>\n",
       "    <tr>\n",
       "      <th>1</th>\n",
       "      <td>Jan</td>\n",
       "      <td>Kowalski</td>\n",
       "      <td>jan.kowalski@wp.pl</td>\n",
       "      <td>55</td>\n",
       "    </tr>\n",
       "    <tr>\n",
       "      <th>2</th>\n",
       "      <td>Anna</td>\n",
       "      <td>Kowalska</td>\n",
       "      <td>anna.kowalska@wp.pl</td>\n",
       "      <td>63</td>\n",
       "    </tr>\n",
       "    <tr>\n",
       "      <th>3</th>\n",
       "      <td>Janusz</td>\n",
       "      <td>Nowak</td>\n",
       "      <td>januszek@email.com</td>\n",
       "      <td>36</td>\n",
       "    </tr>\n",
       "  </tbody>\n",
       "</table>\n",
       "</div>"
      ],
      "text/plain": [
       "        imię  nazwisko                       email age\n",
       "0  Agnieszka    Sołtys  agnieszka.soltys@email.com  25\n",
       "1        Jan  Kowalski          jan.kowalski@wp.pl  55\n",
       "2       Anna  Kowalska         anna.kowalska@wp.pl  63\n",
       "3     Janusz     Nowak          januszek@email.com  36"
      ]
     },
     "execution_count": 125,
     "metadata": {},
     "output_type": "execute_result"
    }
   ],
   "source": [
    "df1.dropna(axis = \"index\", how = \"any\") # domyślnie: usuń wiersze, gdzie jest chociaż jeden brak w danych"
   ]
  },
  {
   "cell_type": "code",
   "execution_count": 127,
   "id": "ba3e895e-4ed8-4dbb-97df-dde42f499326",
   "metadata": {
    "tags": []
   },
   "outputs": [
    {
     "data": {
      "text/html": [
       "<div>\n",
       "<style scoped>\n",
       "    .dataframe tbody tr th:only-of-type {\n",
       "        vertical-align: middle;\n",
       "    }\n",
       "\n",
       "    .dataframe tbody tr th {\n",
       "        vertical-align: top;\n",
       "    }\n",
       "\n",
       "    .dataframe thead th {\n",
       "        text-align: right;\n",
       "    }\n",
       "</style>\n",
       "<table border=\"1\" class=\"dataframe\">\n",
       "  <thead>\n",
       "    <tr style=\"text-align: right;\">\n",
       "      <th></th>\n",
       "    </tr>\n",
       "  </thead>\n",
       "  <tbody>\n",
       "    <tr>\n",
       "      <th>0</th>\n",
       "    </tr>\n",
       "    <tr>\n",
       "      <th>1</th>\n",
       "    </tr>\n",
       "    <tr>\n",
       "      <th>2</th>\n",
       "    </tr>\n",
       "    <tr>\n",
       "      <th>3</th>\n",
       "    </tr>\n",
       "    <tr>\n",
       "      <th>4</th>\n",
       "    </tr>\n",
       "    <tr>\n",
       "      <th>5</th>\n",
       "    </tr>\n",
       "    <tr>\n",
       "      <th>6</th>\n",
       "    </tr>\n",
       "  </tbody>\n",
       "</table>\n",
       "</div>"
      ],
      "text/plain": [
       "Empty DataFrame\n",
       "Columns: []\n",
       "Index: [0, 1, 2, 3, 4, 5, 6]"
      ]
     },
     "execution_count": 127,
     "metadata": {},
     "output_type": "execute_result"
    }
   ],
   "source": [
    "df1.dropna(axis = \"columns\", how = \"any\") "
   ]
  },
  {
   "cell_type": "code",
   "execution_count": 128,
   "id": "73211826-868f-4083-aeba-a5f6e5d0243a",
   "metadata": {
    "tags": []
   },
   "outputs": [
    {
     "data": {
      "text/html": [
       "<div>\n",
       "<style scoped>\n",
       "    .dataframe tbody tr th:only-of-type {\n",
       "        vertical-align: middle;\n",
       "    }\n",
       "\n",
       "    .dataframe tbody tr th {\n",
       "        vertical-align: top;\n",
       "    }\n",
       "\n",
       "    .dataframe thead th {\n",
       "        text-align: right;\n",
       "    }\n",
       "</style>\n",
       "<table border=\"1\" class=\"dataframe\">\n",
       "  <thead>\n",
       "    <tr style=\"text-align: right;\">\n",
       "      <th></th>\n",
       "      <th>imię</th>\n",
       "      <th>nazwisko</th>\n",
       "      <th>email</th>\n",
       "      <th>age</th>\n",
       "    </tr>\n",
       "  </thead>\n",
       "  <tbody>\n",
       "    <tr>\n",
       "      <th>0</th>\n",
       "      <td>Agnieszka</td>\n",
       "      <td>Sołtys</td>\n",
       "      <td>agnieszka.soltys@email.com</td>\n",
       "      <td>25</td>\n",
       "    </tr>\n",
       "    <tr>\n",
       "      <th>1</th>\n",
       "      <td>Jan</td>\n",
       "      <td>Kowalski</td>\n",
       "      <td>jan.kowalski@wp.pl</td>\n",
       "      <td>55</td>\n",
       "    </tr>\n",
       "    <tr>\n",
       "      <th>2</th>\n",
       "      <td>Anna</td>\n",
       "      <td>Kowalska</td>\n",
       "      <td>anna.kowalska@wp.pl</td>\n",
       "      <td>63</td>\n",
       "    </tr>\n",
       "    <tr>\n",
       "      <th>3</th>\n",
       "      <td>Janusz</td>\n",
       "      <td>Nowak</td>\n",
       "      <td>januszek@email.com</td>\n",
       "      <td>36</td>\n",
       "    </tr>\n",
       "    <tr>\n",
       "      <th>5</th>\n",
       "      <td>None</td>\n",
       "      <td>NaT</td>\n",
       "      <td>antek.nowak@gmail.com</td>\n",
       "      <td>None</td>\n",
       "    </tr>\n",
       "    <tr>\n",
       "      <th>6</th>\n",
       "      <td>NA</td>\n",
       "      <td>Missing</td>\n",
       "      <td>NaN</td>\n",
       "      <td>Missing</td>\n",
       "    </tr>\n",
       "  </tbody>\n",
       "</table>\n",
       "</div>"
      ],
      "text/plain": [
       "        imię  nazwisko                       email      age\n",
       "0  Agnieszka    Sołtys  agnieszka.soltys@email.com       25\n",
       "1        Jan  Kowalski          jan.kowalski@wp.pl       55\n",
       "2       Anna  Kowalska         anna.kowalska@wp.pl       63\n",
       "3     Janusz     Nowak          januszek@email.com       36\n",
       "5       None       NaT       antek.nowak@gmail.com     None\n",
       "6         NA   Missing                         NaN  Missing"
      ]
     },
     "execution_count": 128,
     "metadata": {},
     "output_type": "execute_result"
    }
   ],
   "source": [
    "df1.dropna(axis = \"index\", how = \"all\") # wszystkie elementy w wierszu to braki danych - wyrzucamy"
   ]
  },
  {
   "cell_type": "code",
   "execution_count": 129,
   "id": "9d1a209b-0bea-4687-aac1-a4f38d520213",
   "metadata": {
    "tags": []
   },
   "outputs": [],
   "source": [
    "df1.dropna(axis = \"index\", how = \"any\", subset = \"email\", inplace = True)"
   ]
  },
  {
   "cell_type": "code",
   "execution_count": 130,
   "id": "1672d612-003b-45dc-87eb-acaa56203250",
   "metadata": {
    "tags": []
   },
   "outputs": [
    {
     "data": {
      "text/html": [
       "<div>\n",
       "<style scoped>\n",
       "    .dataframe tbody tr th:only-of-type {\n",
       "        vertical-align: middle;\n",
       "    }\n",
       "\n",
       "    .dataframe tbody tr th {\n",
       "        vertical-align: top;\n",
       "    }\n",
       "\n",
       "    .dataframe thead th {\n",
       "        text-align: right;\n",
       "    }\n",
       "</style>\n",
       "<table border=\"1\" class=\"dataframe\">\n",
       "  <thead>\n",
       "    <tr style=\"text-align: right;\">\n",
       "      <th></th>\n",
       "      <th>imię</th>\n",
       "      <th>nazwisko</th>\n",
       "      <th>email</th>\n",
       "      <th>age</th>\n",
       "    </tr>\n",
       "  </thead>\n",
       "  <tbody>\n",
       "    <tr>\n",
       "      <th>0</th>\n",
       "      <td>Agnieszka</td>\n",
       "      <td>Sołtys</td>\n",
       "      <td>agnieszka.soltys@email.com</td>\n",
       "      <td>25</td>\n",
       "    </tr>\n",
       "    <tr>\n",
       "      <th>1</th>\n",
       "      <td>Jan</td>\n",
       "      <td>Kowalski</td>\n",
       "      <td>jan.kowalski@wp.pl</td>\n",
       "      <td>55</td>\n",
       "    </tr>\n",
       "    <tr>\n",
       "      <th>2</th>\n",
       "      <td>Anna</td>\n",
       "      <td>Kowalska</td>\n",
       "      <td>anna.kowalska@wp.pl</td>\n",
       "      <td>63</td>\n",
       "    </tr>\n",
       "    <tr>\n",
       "      <th>3</th>\n",
       "      <td>Janusz</td>\n",
       "      <td>Nowak</td>\n",
       "      <td>januszek@email.com</td>\n",
       "      <td>36</td>\n",
       "    </tr>\n",
       "    <tr>\n",
       "      <th>5</th>\n",
       "      <td>None</td>\n",
       "      <td>NaT</td>\n",
       "      <td>antek.nowak@gmail.com</td>\n",
       "      <td>None</td>\n",
       "    </tr>\n",
       "  </tbody>\n",
       "</table>\n",
       "</div>"
      ],
      "text/plain": [
       "        imię  nazwisko                       email   age\n",
       "0  Agnieszka    Sołtys  agnieszka.soltys@email.com    25\n",
       "1        Jan  Kowalski          jan.kowalski@wp.pl    55\n",
       "2       Anna  Kowalska         anna.kowalska@wp.pl    63\n",
       "3     Janusz     Nowak          januszek@email.com    36\n",
       "5       None       NaT       antek.nowak@gmail.com  None"
      ]
     },
     "execution_count": 130,
     "metadata": {},
     "output_type": "execute_result"
    }
   ],
   "source": [
    "df1"
   ]
  },
  {
   "cell_type": "code",
   "execution_count": 131,
   "id": "6b5c53ab-5505-41fa-8cde-f099025d92f2",
   "metadata": {
    "tags": []
   },
   "outputs": [
    {
     "data": {
      "text/html": [
       "<div>\n",
       "<style scoped>\n",
       "    .dataframe tbody tr th:only-of-type {\n",
       "        vertical-align: middle;\n",
       "    }\n",
       "\n",
       "    .dataframe tbody tr th {\n",
       "        vertical-align: top;\n",
       "    }\n",
       "\n",
       "    .dataframe thead th {\n",
       "        text-align: right;\n",
       "    }\n",
       "</style>\n",
       "<table border=\"1\" class=\"dataframe\">\n",
       "  <thead>\n",
       "    <tr style=\"text-align: right;\">\n",
       "      <th></th>\n",
       "      <th>imię</th>\n",
       "      <th>nazwisko</th>\n",
       "      <th>email</th>\n",
       "      <th>age</th>\n",
       "    </tr>\n",
       "  </thead>\n",
       "  <tbody>\n",
       "    <tr>\n",
       "      <th>0</th>\n",
       "      <td>Agnieszka</td>\n",
       "      <td>Sołtys</td>\n",
       "      <td>agnieszka.soltys@email.com</td>\n",
       "      <td>25</td>\n",
       "    </tr>\n",
       "    <tr>\n",
       "      <th>1</th>\n",
       "      <td>Jan</td>\n",
       "      <td>Kowalski</td>\n",
       "      <td>jan.kowalski@wp.pl</td>\n",
       "      <td>55</td>\n",
       "    </tr>\n",
       "    <tr>\n",
       "      <th>2</th>\n",
       "      <td>Anna</td>\n",
       "      <td>Kowalska</td>\n",
       "      <td>anna.kowalska@wp.pl</td>\n",
       "      <td>63</td>\n",
       "    </tr>\n",
       "    <tr>\n",
       "      <th>3</th>\n",
       "      <td>Janusz</td>\n",
       "      <td>Nowak</td>\n",
       "      <td>januszek@email.com</td>\n",
       "      <td>36</td>\n",
       "    </tr>\n",
       "  </tbody>\n",
       "</table>\n",
       "</div>"
      ],
      "text/plain": [
       "        imię  nazwisko                       email age\n",
       "0  Agnieszka    Sołtys  agnieszka.soltys@email.com  25\n",
       "1        Jan  Kowalski          jan.kowalski@wp.pl  55\n",
       "2       Anna  Kowalska         anna.kowalska@wp.pl  63\n",
       "3     Janusz     Nowak          januszek@email.com  36"
      ]
     },
     "execution_count": 131,
     "metadata": {},
     "output_type": "execute_result"
    }
   ],
   "source": [
    "df1.dropna(axis = \"index\", how = \"any\", subset = [\"email\", \"imię\"])"
   ]
  },
  {
   "cell_type": "markdown",
   "id": "2a01bb64-40e1-405e-b2b9-e89f04a5af0b",
   "metadata": {},
   "source": [
    "ujednolicenie braków"
   ]
  },
  {
   "cell_type": "code",
   "execution_count": 132,
   "id": "8b95e5b1-8f78-4697-a702-12ed515f52c7",
   "metadata": {
    "tags": []
   },
   "outputs": [],
   "source": [
    "df2 = pd.DataFrame(osoby1)"
   ]
  },
  {
   "cell_type": "code",
   "execution_count": 133,
   "id": "597f78d6-7fe7-4e56-9116-a939a331e6ad",
   "metadata": {
    "tags": []
   },
   "outputs": [
    {
     "data": {
      "text/html": [
       "<div>\n",
       "<style scoped>\n",
       "    .dataframe tbody tr th:only-of-type {\n",
       "        vertical-align: middle;\n",
       "    }\n",
       "\n",
       "    .dataframe tbody tr th {\n",
       "        vertical-align: top;\n",
       "    }\n",
       "\n",
       "    .dataframe thead th {\n",
       "        text-align: right;\n",
       "    }\n",
       "</style>\n",
       "<table border=\"1\" class=\"dataframe\">\n",
       "  <thead>\n",
       "    <tr style=\"text-align: right;\">\n",
       "      <th></th>\n",
       "      <th>imię</th>\n",
       "      <th>nazwisko</th>\n",
       "      <th>email</th>\n",
       "      <th>age</th>\n",
       "    </tr>\n",
       "  </thead>\n",
       "  <tbody>\n",
       "    <tr>\n",
       "      <th>0</th>\n",
       "      <td>Agnieszka</td>\n",
       "      <td>Sołtys</td>\n",
       "      <td>agnieszka.soltys@email.com</td>\n",
       "      <td>25</td>\n",
       "    </tr>\n",
       "    <tr>\n",
       "      <th>1</th>\n",
       "      <td>Jan</td>\n",
       "      <td>Kowalski</td>\n",
       "      <td>jan.kowalski@wp.pl</td>\n",
       "      <td>55</td>\n",
       "    </tr>\n",
       "    <tr>\n",
       "      <th>2</th>\n",
       "      <td>Anna</td>\n",
       "      <td>Kowalska</td>\n",
       "      <td>anna.kowalska@wp.pl</td>\n",
       "      <td>63</td>\n",
       "    </tr>\n",
       "    <tr>\n",
       "      <th>3</th>\n",
       "      <td>Janusz</td>\n",
       "      <td>Nowak</td>\n",
       "      <td>januszek@email.com</td>\n",
       "      <td>36</td>\n",
       "    </tr>\n",
       "    <tr>\n",
       "      <th>4</th>\n",
       "      <td>NaN</td>\n",
       "      <td>NaN</td>\n",
       "      <td>None</td>\n",
       "      <td>None</td>\n",
       "    </tr>\n",
       "    <tr>\n",
       "      <th>5</th>\n",
       "      <td>None</td>\n",
       "      <td>NaT</td>\n",
       "      <td>antek.nowak@gmail.com</td>\n",
       "      <td>None</td>\n",
       "    </tr>\n",
       "    <tr>\n",
       "      <th>6</th>\n",
       "      <td>NA</td>\n",
       "      <td>Missing</td>\n",
       "      <td>NaN</td>\n",
       "      <td>Missing</td>\n",
       "    </tr>\n",
       "  </tbody>\n",
       "</table>\n",
       "</div>"
      ],
      "text/plain": [
       "        imię  nazwisko                       email      age\n",
       "0  Agnieszka    Sołtys  agnieszka.soltys@email.com       25\n",
       "1        Jan  Kowalski          jan.kowalski@wp.pl       55\n",
       "2       Anna  Kowalska         anna.kowalska@wp.pl       63\n",
       "3     Janusz     Nowak          januszek@email.com       36\n",
       "4        NaN       NaN                        None     None\n",
       "5       None       NaT       antek.nowak@gmail.com     None\n",
       "6         NA   Missing                         NaN  Missing"
      ]
     },
     "execution_count": 133,
     "metadata": {},
     "output_type": "execute_result"
    }
   ],
   "source": [
    "df2"
   ]
  },
  {
   "cell_type": "code",
   "execution_count": 134,
   "id": "cffe7fb7-905d-4e8f-81df-5da461a06a81",
   "metadata": {
    "tags": []
   },
   "outputs": [
    {
     "data": {
      "text/html": [
       "<div>\n",
       "<style scoped>\n",
       "    .dataframe tbody tr th:only-of-type {\n",
       "        vertical-align: middle;\n",
       "    }\n",
       "\n",
       "    .dataframe tbody tr th {\n",
       "        vertical-align: top;\n",
       "    }\n",
       "\n",
       "    .dataframe thead th {\n",
       "        text-align: right;\n",
       "    }\n",
       "</style>\n",
       "<table border=\"1\" class=\"dataframe\">\n",
       "  <thead>\n",
       "    <tr style=\"text-align: right;\">\n",
       "      <th></th>\n",
       "      <th>imię</th>\n",
       "      <th>nazwisko</th>\n",
       "      <th>email</th>\n",
       "      <th>age</th>\n",
       "    </tr>\n",
       "  </thead>\n",
       "  <tbody>\n",
       "    <tr>\n",
       "      <th>0</th>\n",
       "      <td>Agnieszka</td>\n",
       "      <td>Sołtys</td>\n",
       "      <td>agnieszka.soltys@email.com</td>\n",
       "      <td>25</td>\n",
       "    </tr>\n",
       "    <tr>\n",
       "      <th>1</th>\n",
       "      <td>Jan</td>\n",
       "      <td>Kowalski</td>\n",
       "      <td>jan.kowalski@wp.pl</td>\n",
       "      <td>55</td>\n",
       "    </tr>\n",
       "    <tr>\n",
       "      <th>2</th>\n",
       "      <td>Anna</td>\n",
       "      <td>Kowalska</td>\n",
       "      <td>anna.kowalska@wp.pl</td>\n",
       "      <td>63</td>\n",
       "    </tr>\n",
       "    <tr>\n",
       "      <th>3</th>\n",
       "      <td>Janusz</td>\n",
       "      <td>Nowak</td>\n",
       "      <td>januszek@email.com</td>\n",
       "      <td>36</td>\n",
       "    </tr>\n",
       "    <tr>\n",
       "      <th>4</th>\n",
       "      <td>NaN</td>\n",
       "      <td>NaN</td>\n",
       "      <td>None</td>\n",
       "      <td>None</td>\n",
       "    </tr>\n",
       "    <tr>\n",
       "      <th>5</th>\n",
       "      <td>None</td>\n",
       "      <td>NaT</td>\n",
       "      <td>antek.nowak@gmail.com</td>\n",
       "      <td>None</td>\n",
       "    </tr>\n",
       "    <tr>\n",
       "      <th>6</th>\n",
       "      <td>NaN</td>\n",
       "      <td>Missing</td>\n",
       "      <td>NaN</td>\n",
       "      <td>Missing</td>\n",
       "    </tr>\n",
       "  </tbody>\n",
       "</table>\n",
       "</div>"
      ],
      "text/plain": [
       "        imię  nazwisko                       email      age\n",
       "0  Agnieszka    Sołtys  agnieszka.soltys@email.com       25\n",
       "1        Jan  Kowalski          jan.kowalski@wp.pl       55\n",
       "2       Anna  Kowalska         anna.kowalska@wp.pl       63\n",
       "3     Janusz     Nowak          januszek@email.com       36\n",
       "4        NaN       NaN                        None     None\n",
       "5       None       NaT       antek.nowak@gmail.com     None\n",
       "6        NaN   Missing                         NaN  Missing"
      ]
     },
     "execution_count": 134,
     "metadata": {},
     "output_type": "execute_result"
    }
   ],
   "source": [
    "df2.replace(\"NA\", np.nan)"
   ]
  },
  {
   "cell_type": "code",
   "execution_count": 135,
   "id": "3638c219-9823-48ea-9218-9ac8a5be0507",
   "metadata": {
    "tags": []
   },
   "outputs": [
    {
     "data": {
      "text/html": [
       "<div>\n",
       "<style scoped>\n",
       "    .dataframe tbody tr th:only-of-type {\n",
       "        vertical-align: middle;\n",
       "    }\n",
       "\n",
       "    .dataframe tbody tr th {\n",
       "        vertical-align: top;\n",
       "    }\n",
       "\n",
       "    .dataframe thead th {\n",
       "        text-align: right;\n",
       "    }\n",
       "</style>\n",
       "<table border=\"1\" class=\"dataframe\">\n",
       "  <thead>\n",
       "    <tr style=\"text-align: right;\">\n",
       "      <th></th>\n",
       "      <th>imię</th>\n",
       "      <th>nazwisko</th>\n",
       "      <th>email</th>\n",
       "      <th>age</th>\n",
       "    </tr>\n",
       "  </thead>\n",
       "  <tbody>\n",
       "    <tr>\n",
       "      <th>0</th>\n",
       "      <td>Agnieszka</td>\n",
       "      <td>Sołtys</td>\n",
       "      <td>agnieszka.soltys@email.com</td>\n",
       "      <td>25</td>\n",
       "    </tr>\n",
       "    <tr>\n",
       "      <th>1</th>\n",
       "      <td>Jan</td>\n",
       "      <td>Kowalski</td>\n",
       "      <td>jan.kowalski@wp.pl</td>\n",
       "      <td>55</td>\n",
       "    </tr>\n",
       "    <tr>\n",
       "      <th>2</th>\n",
       "      <td>Anna</td>\n",
       "      <td>Kowalska</td>\n",
       "      <td>anna.kowalska@wp.pl</td>\n",
       "      <td>63</td>\n",
       "    </tr>\n",
       "    <tr>\n",
       "      <th>3</th>\n",
       "      <td>Janusz</td>\n",
       "      <td>Nowak</td>\n",
       "      <td>januszek@email.com</td>\n",
       "      <td>36</td>\n",
       "    </tr>\n",
       "    <tr>\n",
       "      <th>4</th>\n",
       "      <td>NaN</td>\n",
       "      <td>NaN</td>\n",
       "      <td>None</td>\n",
       "      <td>None</td>\n",
       "    </tr>\n",
       "    <tr>\n",
       "      <th>5</th>\n",
       "      <td>None</td>\n",
       "      <td>NaT</td>\n",
       "      <td>antek.nowak@gmail.com</td>\n",
       "      <td>None</td>\n",
       "    </tr>\n",
       "    <tr>\n",
       "      <th>6</th>\n",
       "      <td>NA</td>\n",
       "      <td>NaN</td>\n",
       "      <td>NaN</td>\n",
       "      <td>NaN</td>\n",
       "    </tr>\n",
       "  </tbody>\n",
       "</table>\n",
       "</div>"
      ],
      "text/plain": [
       "        imię  nazwisko                       email   age\n",
       "0  Agnieszka    Sołtys  agnieszka.soltys@email.com    25\n",
       "1        Jan  Kowalski          jan.kowalski@wp.pl    55\n",
       "2       Anna  Kowalska         anna.kowalska@wp.pl    63\n",
       "3     Janusz     Nowak          januszek@email.com    36\n",
       "4        NaN       NaN                        None  None\n",
       "5       None       NaT       antek.nowak@gmail.com  None\n",
       "6         NA       NaN                         NaN   NaN"
      ]
     },
     "execution_count": 135,
     "metadata": {},
     "output_type": "execute_result"
    }
   ],
   "source": [
    "df2.replace(\"Missing\", np.nan)"
   ]
  },
  {
   "cell_type": "markdown",
   "id": "b1f1f425-1769-4b93-b5c1-004c1bd733a3",
   "metadata": {},
   "source": [
    "wypełnianie braków"
   ]
  },
  {
   "cell_type": "code",
   "execution_count": 137,
   "id": "4423423c-482e-4f4e-96a6-974e71b72abf",
   "metadata": {
    "tags": []
   },
   "outputs": [
    {
     "data": {
      "text/html": [
       "<div>\n",
       "<style scoped>\n",
       "    .dataframe tbody tr th:only-of-type {\n",
       "        vertical-align: middle;\n",
       "    }\n",
       "\n",
       "    .dataframe tbody tr th {\n",
       "        vertical-align: top;\n",
       "    }\n",
       "\n",
       "    .dataframe thead th {\n",
       "        text-align: right;\n",
       "    }\n",
       "</style>\n",
       "<table border=\"1\" class=\"dataframe\">\n",
       "  <thead>\n",
       "    <tr style=\"text-align: right;\">\n",
       "      <th></th>\n",
       "      <th>imię</th>\n",
       "      <th>nazwisko</th>\n",
       "      <th>email</th>\n",
       "      <th>age</th>\n",
       "    </tr>\n",
       "  </thead>\n",
       "  <tbody>\n",
       "    <tr>\n",
       "      <th>0</th>\n",
       "      <td>Agnieszka</td>\n",
       "      <td>Sołtys</td>\n",
       "      <td>agnieszka.soltys@email.com</td>\n",
       "      <td>25</td>\n",
       "    </tr>\n",
       "    <tr>\n",
       "      <th>1</th>\n",
       "      <td>Jan</td>\n",
       "      <td>Kowalski</td>\n",
       "      <td>jan.kowalski@wp.pl</td>\n",
       "      <td>55</td>\n",
       "    </tr>\n",
       "    <tr>\n",
       "      <th>2</th>\n",
       "      <td>Anna</td>\n",
       "      <td>Kowalska</td>\n",
       "      <td>anna.kowalska@wp.pl</td>\n",
       "      <td>63</td>\n",
       "    </tr>\n",
       "    <tr>\n",
       "      <th>3</th>\n",
       "      <td>Janusz</td>\n",
       "      <td>Nowak</td>\n",
       "      <td>januszek@email.com</td>\n",
       "      <td>36</td>\n",
       "    </tr>\n",
       "    <tr>\n",
       "      <th>4</th>\n",
       "      <td>MISSING</td>\n",
       "      <td>MISSING</td>\n",
       "      <td>MISSING</td>\n",
       "      <td>MISSING</td>\n",
       "    </tr>\n",
       "    <tr>\n",
       "      <th>5</th>\n",
       "      <td>MISSING</td>\n",
       "      <td>MISSING</td>\n",
       "      <td>antek.nowak@gmail.com</td>\n",
       "      <td>MISSING</td>\n",
       "    </tr>\n",
       "    <tr>\n",
       "      <th>6</th>\n",
       "      <td>NA</td>\n",
       "      <td>Missing</td>\n",
       "      <td>MISSING</td>\n",
       "      <td>Missing</td>\n",
       "    </tr>\n",
       "  </tbody>\n",
       "</table>\n",
       "</div>"
      ],
      "text/plain": [
       "        imię  nazwisko                       email      age\n",
       "0  Agnieszka    Sołtys  agnieszka.soltys@email.com       25\n",
       "1        Jan  Kowalski          jan.kowalski@wp.pl       55\n",
       "2       Anna  Kowalska         anna.kowalska@wp.pl       63\n",
       "3     Janusz     Nowak          januszek@email.com       36\n",
       "4    MISSING   MISSING                     MISSING  MISSING\n",
       "5    MISSING   MISSING       antek.nowak@gmail.com  MISSING\n",
       "6         NA   Missing                     MISSING  Missing"
      ]
     },
     "execution_count": 137,
     "metadata": {},
     "output_type": "execute_result"
    }
   ],
   "source": [
    "df2.fillna(\"MISSING\")"
   ]
  },
  {
   "cell_type": "code",
   "execution_count": null,
   "id": "454da333-5afe-45e1-8e43-e6bc94912461",
   "metadata": {},
   "outputs": [],
   "source": []
  },
  {
   "cell_type": "code",
   "execution_count": null,
   "id": "0c79669e-82e2-4c0c-9715-aa8cfcc0cb5e",
   "metadata": {},
   "outputs": [],
   "source": []
  },
  {
   "cell_type": "markdown",
   "id": "88c734c6-ec2a-4eaa-9181-b2f5ddecd3c2",
   "metadata": {},
   "source": [
    "## 9. Dodawanie/usuwanie wierszy i kolumn"
   ]
  },
  {
   "cell_type": "markdown",
   "id": "3a52af3f-7e59-4ec9-a8fb-f7643b37cae2",
   "metadata": {},
   "source": [
    "podobne do zmiany wierszy i kolumn"
   ]
  },
  {
   "cell_type": "markdown",
   "id": "3ebfa8ef-1c1b-456c-a1ea-cda934d47535",
   "metadata": {},
   "source": [
    "dodawanie kolumn"
   ]
  },
  {
   "cell_type": "code",
   "execution_count": 138,
   "id": "7b24dd5c-56e8-4a48-a829-beb0f2372ad1",
   "metadata": {
    "tags": []
   },
   "outputs": [
    {
     "data": {
      "text/html": [
       "<div>\n",
       "<style scoped>\n",
       "    .dataframe tbody tr th:only-of-type {\n",
       "        vertical-align: middle;\n",
       "    }\n",
       "\n",
       "    .dataframe tbody tr th {\n",
       "        vertical-align: top;\n",
       "    }\n",
       "\n",
       "    .dataframe thead th {\n",
       "        text-align: right;\n",
       "    }\n",
       "</style>\n",
       "<table border=\"1\" class=\"dataframe\">\n",
       "  <thead>\n",
       "    <tr style=\"text-align: right;\">\n",
       "      <th></th>\n",
       "      <th>email</th>\n",
       "      <th>imię</th>\n",
       "      <th>nazwisko</th>\n",
       "    </tr>\n",
       "  </thead>\n",
       "  <tbody>\n",
       "    <tr>\n",
       "      <th>0</th>\n",
       "      <td>AGNIESZKA.SOŁTYS@EMAIL.COM</td>\n",
       "      <td>Agnieszka</td>\n",
       "      <td>Sołtys</td>\n",
       "    </tr>\n",
       "    <tr>\n",
       "      <th>1</th>\n",
       "      <td>JAN.NOWAK@GMAIL.COM</td>\n",
       "      <td>Jan</td>\n",
       "      <td>Nowak</td>\n",
       "    </tr>\n",
       "    <tr>\n",
       "      <th>2</th>\n",
       "      <td>ANNA.NOWAK@EMAIL.COM</td>\n",
       "      <td>Anna</td>\n",
       "      <td>Nowak</td>\n",
       "    </tr>\n",
       "  </tbody>\n",
       "</table>\n",
       "</div>"
      ],
      "text/plain": [
       "                        email       imię nazwisko\n",
       "0  AGNIESZKA.SOŁTYS@EMAIL.COM  Agnieszka   Sołtys\n",
       "1         JAN.NOWAK@GMAIL.COM        Jan    Nowak\n",
       "2        ANNA.NOWAK@EMAIL.COM       Anna    Nowak"
      ]
     },
     "execution_count": 138,
     "metadata": {},
     "output_type": "execute_result"
    }
   ],
   "source": [
    "df"
   ]
  },
  {
   "cell_type": "code",
   "execution_count": 141,
   "id": "071f38ab-2c7d-4e34-9fe0-eadac9a94db6",
   "metadata": {
    "tags": []
   },
   "outputs": [],
   "source": [
    "df[\"imię_i_nazwisko\"] = df[\"imię\"] + \" \" + df[\"nazwisko\"]"
   ]
  },
  {
   "cell_type": "code",
   "execution_count": 142,
   "id": "1666c1d5-b1ca-415b-98b0-d1484473ced0",
   "metadata": {
    "tags": []
   },
   "outputs": [
    {
     "data": {
      "text/html": [
       "<div>\n",
       "<style scoped>\n",
       "    .dataframe tbody tr th:only-of-type {\n",
       "        vertical-align: middle;\n",
       "    }\n",
       "\n",
       "    .dataframe tbody tr th {\n",
       "        vertical-align: top;\n",
       "    }\n",
       "\n",
       "    .dataframe thead th {\n",
       "        text-align: right;\n",
       "    }\n",
       "</style>\n",
       "<table border=\"1\" class=\"dataframe\">\n",
       "  <thead>\n",
       "    <tr style=\"text-align: right;\">\n",
       "      <th></th>\n",
       "      <th>email</th>\n",
       "      <th>imię</th>\n",
       "      <th>nazwisko</th>\n",
       "      <th>imię_i_nazwisko</th>\n",
       "    </tr>\n",
       "  </thead>\n",
       "  <tbody>\n",
       "    <tr>\n",
       "      <th>0</th>\n",
       "      <td>AGNIESZKA.SOŁTYS@EMAIL.COM</td>\n",
       "      <td>Agnieszka</td>\n",
       "      <td>Sołtys</td>\n",
       "      <td>Agnieszka Sołtys</td>\n",
       "    </tr>\n",
       "    <tr>\n",
       "      <th>1</th>\n",
       "      <td>JAN.NOWAK@GMAIL.COM</td>\n",
       "      <td>Jan</td>\n",
       "      <td>Nowak</td>\n",
       "      <td>Jan Nowak</td>\n",
       "    </tr>\n",
       "    <tr>\n",
       "      <th>2</th>\n",
       "      <td>ANNA.NOWAK@EMAIL.COM</td>\n",
       "      <td>Anna</td>\n",
       "      <td>Nowak</td>\n",
       "      <td>Anna Nowak</td>\n",
       "    </tr>\n",
       "  </tbody>\n",
       "</table>\n",
       "</div>"
      ],
      "text/plain": [
       "                        email       imię nazwisko   imię_i_nazwisko\n",
       "0  AGNIESZKA.SOŁTYS@EMAIL.COM  Agnieszka   Sołtys  Agnieszka Sołtys\n",
       "1         JAN.NOWAK@GMAIL.COM        Jan    Nowak         Jan Nowak\n",
       "2        ANNA.NOWAK@EMAIL.COM       Anna    Nowak        Anna Nowak"
      ]
     },
     "execution_count": 142,
     "metadata": {},
     "output_type": "execute_result"
    }
   ],
   "source": [
    "df"
   ]
  },
  {
   "cell_type": "markdown",
   "id": "929130ec-c9d2-4b06-a0ef-f24274868b6a",
   "metadata": {},
   "source": [
    "usuwanie kolumn"
   ]
  },
  {
   "cell_type": "code",
   "execution_count": 143,
   "id": "6a67fd0e-8080-4b62-8341-957ec63e7b76",
   "metadata": {
    "tags": []
   },
   "outputs": [],
   "source": [
    "df.drop(columns = [\"imię\", \"nazwisko\"], inplace = True)"
   ]
  },
  {
   "cell_type": "code",
   "execution_count": 144,
   "id": "a43c30d3-0cfc-4e13-af5e-2938efb6961d",
   "metadata": {
    "tags": []
   },
   "outputs": [
    {
     "data": {
      "text/html": [
       "<div>\n",
       "<style scoped>\n",
       "    .dataframe tbody tr th:only-of-type {\n",
       "        vertical-align: middle;\n",
       "    }\n",
       "\n",
       "    .dataframe tbody tr th {\n",
       "        vertical-align: top;\n",
       "    }\n",
       "\n",
       "    .dataframe thead th {\n",
       "        text-align: right;\n",
       "    }\n",
       "</style>\n",
       "<table border=\"1\" class=\"dataframe\">\n",
       "  <thead>\n",
       "    <tr style=\"text-align: right;\">\n",
       "      <th></th>\n",
       "      <th>email</th>\n",
       "      <th>imię_i_nazwisko</th>\n",
       "    </tr>\n",
       "  </thead>\n",
       "  <tbody>\n",
       "    <tr>\n",
       "      <th>0</th>\n",
       "      <td>AGNIESZKA.SOŁTYS@EMAIL.COM</td>\n",
       "      <td>Agnieszka Sołtys</td>\n",
       "    </tr>\n",
       "    <tr>\n",
       "      <th>1</th>\n",
       "      <td>JAN.NOWAK@GMAIL.COM</td>\n",
       "      <td>Jan Nowak</td>\n",
       "    </tr>\n",
       "    <tr>\n",
       "      <th>2</th>\n",
       "      <td>ANNA.NOWAK@EMAIL.COM</td>\n",
       "      <td>Anna Nowak</td>\n",
       "    </tr>\n",
       "  </tbody>\n",
       "</table>\n",
       "</div>"
      ],
      "text/plain": [
       "                        email   imię_i_nazwisko\n",
       "0  AGNIESZKA.SOŁTYS@EMAIL.COM  Agnieszka Sołtys\n",
       "1         JAN.NOWAK@GMAIL.COM         Jan Nowak\n",
       "2        ANNA.NOWAK@EMAIL.COM        Anna Nowak"
      ]
     },
     "execution_count": 144,
     "metadata": {},
     "output_type": "execute_result"
    }
   ],
   "source": [
    "df"
   ]
  },
  {
   "cell_type": "code",
   "execution_count": 145,
   "id": "cd185874-230a-4ddf-bdd0-7087164cface",
   "metadata": {
    "tags": []
   },
   "outputs": [],
   "source": [
    "df[[\"imię\", \"nazwisko\"]] = df[\"imię_i_nazwisko\"].str.split(\" \", expand = True) # expand = True \n",
    "# powoduje zwrcanaie data frame"
   ]
  },
  {
   "cell_type": "code",
   "execution_count": 146,
   "id": "5b74355f-4ca3-4580-ba88-2a5c47afa50b",
   "metadata": {
    "tags": []
   },
   "outputs": [
    {
     "data": {
      "text/html": [
       "<div>\n",
       "<style scoped>\n",
       "    .dataframe tbody tr th:only-of-type {\n",
       "        vertical-align: middle;\n",
       "    }\n",
       "\n",
       "    .dataframe tbody tr th {\n",
       "        vertical-align: top;\n",
       "    }\n",
       "\n",
       "    .dataframe thead th {\n",
       "        text-align: right;\n",
       "    }\n",
       "</style>\n",
       "<table border=\"1\" class=\"dataframe\">\n",
       "  <thead>\n",
       "    <tr style=\"text-align: right;\">\n",
       "      <th></th>\n",
       "      <th>email</th>\n",
       "      <th>imię_i_nazwisko</th>\n",
       "      <th>imię</th>\n",
       "      <th>nazwisko</th>\n",
       "    </tr>\n",
       "  </thead>\n",
       "  <tbody>\n",
       "    <tr>\n",
       "      <th>0</th>\n",
       "      <td>AGNIESZKA.SOŁTYS@EMAIL.COM</td>\n",
       "      <td>Agnieszka Sołtys</td>\n",
       "      <td>Agnieszka</td>\n",
       "      <td>Sołtys</td>\n",
       "    </tr>\n",
       "    <tr>\n",
       "      <th>1</th>\n",
       "      <td>JAN.NOWAK@GMAIL.COM</td>\n",
       "      <td>Jan Nowak</td>\n",
       "      <td>Jan</td>\n",
       "      <td>Nowak</td>\n",
       "    </tr>\n",
       "    <tr>\n",
       "      <th>2</th>\n",
       "      <td>ANNA.NOWAK@EMAIL.COM</td>\n",
       "      <td>Anna Nowak</td>\n",
       "      <td>Anna</td>\n",
       "      <td>Nowak</td>\n",
       "    </tr>\n",
       "  </tbody>\n",
       "</table>\n",
       "</div>"
      ],
      "text/plain": [
       "                        email   imię_i_nazwisko       imię nazwisko\n",
       "0  AGNIESZKA.SOŁTYS@EMAIL.COM  Agnieszka Sołtys  Agnieszka   Sołtys\n",
       "1         JAN.NOWAK@GMAIL.COM         Jan Nowak        Jan    Nowak\n",
       "2        ANNA.NOWAK@EMAIL.COM        Anna Nowak       Anna    Nowak"
      ]
     },
     "execution_count": 146,
     "metadata": {},
     "output_type": "execute_result"
    }
   ],
   "source": [
    "df"
   ]
  },
  {
   "cell_type": "markdown",
   "id": "23ea7405-f083-4f77-bd35-8fab0e502c48",
   "metadata": {},
   "source": [
    "dodawanie wierszy"
   ]
  },
  {
   "cell_type": "code",
   "execution_count": 147,
   "id": "7156a94a-f6ff-488f-8108-be3a420cd792",
   "metadata": {
    "tags": []
   },
   "outputs": [],
   "source": [
    "df1 = pd.DataFrame({\"imię\": \"Katarzyna\", \"nazwisko\": \"Kowalska\"}, index = [0])"
   ]
  },
  {
   "cell_type": "code",
   "execution_count": 148,
   "id": "6b68e5f4-d102-4160-8300-d8d90d326dc6",
   "metadata": {
    "tags": []
   },
   "outputs": [
    {
     "data": {
      "text/html": [
       "<div>\n",
       "<style scoped>\n",
       "    .dataframe tbody tr th:only-of-type {\n",
       "        vertical-align: middle;\n",
       "    }\n",
       "\n",
       "    .dataframe tbody tr th {\n",
       "        vertical-align: top;\n",
       "    }\n",
       "\n",
       "    .dataframe thead th {\n",
       "        text-align: right;\n",
       "    }\n",
       "</style>\n",
       "<table border=\"1\" class=\"dataframe\">\n",
       "  <thead>\n",
       "    <tr style=\"text-align: right;\">\n",
       "      <th></th>\n",
       "      <th>imię</th>\n",
       "      <th>nazwisko</th>\n",
       "    </tr>\n",
       "  </thead>\n",
       "  <tbody>\n",
       "    <tr>\n",
       "      <th>0</th>\n",
       "      <td>Katarzyna</td>\n",
       "      <td>Kowalska</td>\n",
       "    </tr>\n",
       "  </tbody>\n",
       "</table>\n",
       "</div>"
      ],
      "text/plain": [
       "        imię  nazwisko\n",
       "0  Katarzyna  Kowalska"
      ]
     },
     "execution_count": 148,
     "metadata": {},
     "output_type": "execute_result"
    }
   ],
   "source": [
    "df1"
   ]
  },
  {
   "cell_type": "code",
   "execution_count": 149,
   "id": "78f25b0b-7c96-4d95-b0ef-f595daf74850",
   "metadata": {
    "tags": []
   },
   "outputs": [],
   "source": [
    "df = pd.concat([df, df1], ignore_index = True)"
   ]
  },
  {
   "cell_type": "code",
   "execution_count": 150,
   "id": "03ae3794-1c66-4b56-bbef-6e7ad466616b",
   "metadata": {
    "tags": []
   },
   "outputs": [
    {
     "data": {
      "text/html": [
       "<div>\n",
       "<style scoped>\n",
       "    .dataframe tbody tr th:only-of-type {\n",
       "        vertical-align: middle;\n",
       "    }\n",
       "\n",
       "    .dataframe tbody tr th {\n",
       "        vertical-align: top;\n",
       "    }\n",
       "\n",
       "    .dataframe thead th {\n",
       "        text-align: right;\n",
       "    }\n",
       "</style>\n",
       "<table border=\"1\" class=\"dataframe\">\n",
       "  <thead>\n",
       "    <tr style=\"text-align: right;\">\n",
       "      <th></th>\n",
       "      <th>email</th>\n",
       "      <th>imię_i_nazwisko</th>\n",
       "      <th>imię</th>\n",
       "      <th>nazwisko</th>\n",
       "    </tr>\n",
       "  </thead>\n",
       "  <tbody>\n",
       "    <tr>\n",
       "      <th>0</th>\n",
       "      <td>AGNIESZKA.SOŁTYS@EMAIL.COM</td>\n",
       "      <td>Agnieszka Sołtys</td>\n",
       "      <td>Agnieszka</td>\n",
       "      <td>Sołtys</td>\n",
       "    </tr>\n",
       "    <tr>\n",
       "      <th>1</th>\n",
       "      <td>JAN.NOWAK@GMAIL.COM</td>\n",
       "      <td>Jan Nowak</td>\n",
       "      <td>Jan</td>\n",
       "      <td>Nowak</td>\n",
       "    </tr>\n",
       "    <tr>\n",
       "      <th>2</th>\n",
       "      <td>ANNA.NOWAK@EMAIL.COM</td>\n",
       "      <td>Anna Nowak</td>\n",
       "      <td>Anna</td>\n",
       "      <td>Nowak</td>\n",
       "    </tr>\n",
       "    <tr>\n",
       "      <th>3</th>\n",
       "      <td>NaN</td>\n",
       "      <td>NaN</td>\n",
       "      <td>Katarzyna</td>\n",
       "      <td>Kowalska</td>\n",
       "    </tr>\n",
       "  </tbody>\n",
       "</table>\n",
       "</div>"
      ],
      "text/plain": [
       "                        email   imię_i_nazwisko       imię  nazwisko\n",
       "0  AGNIESZKA.SOŁTYS@EMAIL.COM  Agnieszka Sołtys  Agnieszka    Sołtys\n",
       "1         JAN.NOWAK@GMAIL.COM         Jan Nowak        Jan     Nowak\n",
       "2        ANNA.NOWAK@EMAIL.COM        Anna Nowak       Anna     Nowak\n",
       "3                         NaN               NaN  Katarzyna  Kowalska"
      ]
     },
     "execution_count": 150,
     "metadata": {},
     "output_type": "execute_result"
    }
   ],
   "source": [
    "df"
   ]
  },
  {
   "cell_type": "code",
   "execution_count": 151,
   "id": "87848770-6117-43d4-879f-80e65906ab66",
   "metadata": {
    "tags": []
   },
   "outputs": [],
   "source": [
    "df3 = pd.concat([df, df1])"
   ]
  },
  {
   "cell_type": "code",
   "execution_count": 152,
   "id": "effa3b27-0f32-4021-9c2b-7d7ab38640ca",
   "metadata": {
    "tags": []
   },
   "outputs": [
    {
     "data": {
      "text/html": [
       "<div>\n",
       "<style scoped>\n",
       "    .dataframe tbody tr th:only-of-type {\n",
       "        vertical-align: middle;\n",
       "    }\n",
       "\n",
       "    .dataframe tbody tr th {\n",
       "        vertical-align: top;\n",
       "    }\n",
       "\n",
       "    .dataframe thead th {\n",
       "        text-align: right;\n",
       "    }\n",
       "</style>\n",
       "<table border=\"1\" class=\"dataframe\">\n",
       "  <thead>\n",
       "    <tr style=\"text-align: right;\">\n",
       "      <th></th>\n",
       "      <th>email</th>\n",
       "      <th>imię_i_nazwisko</th>\n",
       "      <th>imię</th>\n",
       "      <th>nazwisko</th>\n",
       "    </tr>\n",
       "  </thead>\n",
       "  <tbody>\n",
       "    <tr>\n",
       "      <th>0</th>\n",
       "      <td>AGNIESZKA.SOŁTYS@EMAIL.COM</td>\n",
       "      <td>Agnieszka Sołtys</td>\n",
       "      <td>Agnieszka</td>\n",
       "      <td>Sołtys</td>\n",
       "    </tr>\n",
       "    <tr>\n",
       "      <th>1</th>\n",
       "      <td>JAN.NOWAK@GMAIL.COM</td>\n",
       "      <td>Jan Nowak</td>\n",
       "      <td>Jan</td>\n",
       "      <td>Nowak</td>\n",
       "    </tr>\n",
       "    <tr>\n",
       "      <th>2</th>\n",
       "      <td>ANNA.NOWAK@EMAIL.COM</td>\n",
       "      <td>Anna Nowak</td>\n",
       "      <td>Anna</td>\n",
       "      <td>Nowak</td>\n",
       "    </tr>\n",
       "    <tr>\n",
       "      <th>3</th>\n",
       "      <td>NaN</td>\n",
       "      <td>NaN</td>\n",
       "      <td>Katarzyna</td>\n",
       "      <td>Kowalska</td>\n",
       "    </tr>\n",
       "    <tr>\n",
       "      <th>0</th>\n",
       "      <td>NaN</td>\n",
       "      <td>NaN</td>\n",
       "      <td>Katarzyna</td>\n",
       "      <td>Kowalska</td>\n",
       "    </tr>\n",
       "  </tbody>\n",
       "</table>\n",
       "</div>"
      ],
      "text/plain": [
       "                        email   imię_i_nazwisko       imię  nazwisko\n",
       "0  AGNIESZKA.SOŁTYS@EMAIL.COM  Agnieszka Sołtys  Agnieszka    Sołtys\n",
       "1         JAN.NOWAK@GMAIL.COM         Jan Nowak        Jan     Nowak\n",
       "2        ANNA.NOWAK@EMAIL.COM        Anna Nowak       Anna     Nowak\n",
       "3                         NaN               NaN  Katarzyna  Kowalska\n",
       "0                         NaN               NaN  Katarzyna  Kowalska"
      ]
     },
     "execution_count": 152,
     "metadata": {},
     "output_type": "execute_result"
    }
   ],
   "source": [
    "df3"
   ]
  },
  {
   "cell_type": "markdown",
   "id": "87c7b7ed-7533-4da5-a637-19378f6012a2",
   "metadata": {},
   "source": [
    "usuwanie wierszy"
   ]
  },
  {
   "cell_type": "code",
   "execution_count": 154,
   "id": "8ba7af72-245d-49ab-aa39-f6a0fa8b6188",
   "metadata": {
    "tags": []
   },
   "outputs": [
    {
     "data": {
      "text/html": [
       "<div>\n",
       "<style scoped>\n",
       "    .dataframe tbody tr th:only-of-type {\n",
       "        vertical-align: middle;\n",
       "    }\n",
       "\n",
       "    .dataframe tbody tr th {\n",
       "        vertical-align: top;\n",
       "    }\n",
       "\n",
       "    .dataframe thead th {\n",
       "        text-align: right;\n",
       "    }\n",
       "</style>\n",
       "<table border=\"1\" class=\"dataframe\">\n",
       "  <thead>\n",
       "    <tr style=\"text-align: right;\">\n",
       "      <th></th>\n",
       "      <th>email</th>\n",
       "      <th>imię_i_nazwisko</th>\n",
       "      <th>imię</th>\n",
       "      <th>nazwisko</th>\n",
       "    </tr>\n",
       "  </thead>\n",
       "  <tbody>\n",
       "    <tr>\n",
       "      <th>0</th>\n",
       "      <td>AGNIESZKA.SOŁTYS@EMAIL.COM</td>\n",
       "      <td>Agnieszka Sołtys</td>\n",
       "      <td>Agnieszka</td>\n",
       "      <td>Sołtys</td>\n",
       "    </tr>\n",
       "    <tr>\n",
       "      <th>1</th>\n",
       "      <td>JAN.NOWAK@GMAIL.COM</td>\n",
       "      <td>Jan Nowak</td>\n",
       "      <td>Jan</td>\n",
       "      <td>Nowak</td>\n",
       "    </tr>\n",
       "    <tr>\n",
       "      <th>2</th>\n",
       "      <td>ANNA.NOWAK@EMAIL.COM</td>\n",
       "      <td>Anna Nowak</td>\n",
       "      <td>Anna</td>\n",
       "      <td>Nowak</td>\n",
       "    </tr>\n",
       "    <tr>\n",
       "      <th>3</th>\n",
       "      <td>NaN</td>\n",
       "      <td>NaN</td>\n",
       "      <td>Katarzyna</td>\n",
       "      <td>Kowalska</td>\n",
       "    </tr>\n",
       "  </tbody>\n",
       "</table>\n",
       "</div>"
      ],
      "text/plain": [
       "                        email   imię_i_nazwisko       imię  nazwisko\n",
       "0  AGNIESZKA.SOŁTYS@EMAIL.COM  Agnieszka Sołtys  Agnieszka    Sołtys\n",
       "1         JAN.NOWAK@GMAIL.COM         Jan Nowak        Jan     Nowak\n",
       "2        ANNA.NOWAK@EMAIL.COM        Anna Nowak       Anna     Nowak\n",
       "3                         NaN               NaN  Katarzyna  Kowalska"
      ]
     },
     "execution_count": 154,
     "metadata": {},
     "output_type": "execute_result"
    }
   ],
   "source": [
    "df"
   ]
  },
  {
   "cell_type": "code",
   "execution_count": 155,
   "id": "5d2df6de-bf7b-4732-8ea0-cede4783cb14",
   "metadata": {
    "tags": []
   },
   "outputs": [],
   "source": [
    "df.drop(index = 3, inplace = True)"
   ]
  },
  {
   "cell_type": "code",
   "execution_count": 156,
   "id": "49954dc6-fb6d-40c9-8cef-42ccd65490d7",
   "metadata": {
    "tags": []
   },
   "outputs": [
    {
     "data": {
      "text/html": [
       "<div>\n",
       "<style scoped>\n",
       "    .dataframe tbody tr th:only-of-type {\n",
       "        vertical-align: middle;\n",
       "    }\n",
       "\n",
       "    .dataframe tbody tr th {\n",
       "        vertical-align: top;\n",
       "    }\n",
       "\n",
       "    .dataframe thead th {\n",
       "        text-align: right;\n",
       "    }\n",
       "</style>\n",
       "<table border=\"1\" class=\"dataframe\">\n",
       "  <thead>\n",
       "    <tr style=\"text-align: right;\">\n",
       "      <th></th>\n",
       "      <th>email</th>\n",
       "      <th>imię_i_nazwisko</th>\n",
       "      <th>imię</th>\n",
       "      <th>nazwisko</th>\n",
       "    </tr>\n",
       "  </thead>\n",
       "  <tbody>\n",
       "    <tr>\n",
       "      <th>0</th>\n",
       "      <td>AGNIESZKA.SOŁTYS@EMAIL.COM</td>\n",
       "      <td>Agnieszka Sołtys</td>\n",
       "      <td>Agnieszka</td>\n",
       "      <td>Sołtys</td>\n",
       "    </tr>\n",
       "    <tr>\n",
       "      <th>1</th>\n",
       "      <td>JAN.NOWAK@GMAIL.COM</td>\n",
       "      <td>Jan Nowak</td>\n",
       "      <td>Jan</td>\n",
       "      <td>Nowak</td>\n",
       "    </tr>\n",
       "    <tr>\n",
       "      <th>2</th>\n",
       "      <td>ANNA.NOWAK@EMAIL.COM</td>\n",
       "      <td>Anna Nowak</td>\n",
       "      <td>Anna</td>\n",
       "      <td>Nowak</td>\n",
       "    </tr>\n",
       "  </tbody>\n",
       "</table>\n",
       "</div>"
      ],
      "text/plain": [
       "                        email   imię_i_nazwisko       imię nazwisko\n",
       "0  AGNIESZKA.SOŁTYS@EMAIL.COM  Agnieszka Sołtys  Agnieszka   Sołtys\n",
       "1         JAN.NOWAK@GMAIL.COM         Jan Nowak        Jan    Nowak\n",
       "2        ANNA.NOWAK@EMAIL.COM        Anna Nowak       Anna    Nowak"
      ]
     },
     "execution_count": 156,
     "metadata": {},
     "output_type": "execute_result"
    }
   ],
   "source": [
    "df"
   ]
  },
  {
   "cell_type": "markdown",
   "id": "65e0286c-1b52-4bf8-be8f-ea1c11faa7a1",
   "metadata": {},
   "source": [
    "### 10. Sortowanie"
   ]
  },
  {
   "cell_type": "code",
   "execution_count": 157,
   "id": "287f5678-591c-4860-a93f-3a61de4649f4",
   "metadata": {},
   "outputs": [
    {
     "data": {
      "text/html": [
       "<div>\n",
       "<style scoped>\n",
       "    .dataframe tbody tr th:only-of-type {\n",
       "        vertical-align: middle;\n",
       "    }\n",
       "\n",
       "    .dataframe tbody tr th {\n",
       "        vertical-align: top;\n",
       "    }\n",
       "\n",
       "    .dataframe thead th {\n",
       "        text-align: right;\n",
       "    }\n",
       "</style>\n",
       "<table border=\"1\" class=\"dataframe\">\n",
       "  <thead>\n",
       "    <tr style=\"text-align: right;\">\n",
       "      <th></th>\n",
       "      <th>email</th>\n",
       "      <th>imię_i_nazwisko</th>\n",
       "      <th>imię</th>\n",
       "      <th>nazwisko</th>\n",
       "    </tr>\n",
       "  </thead>\n",
       "  <tbody>\n",
       "    <tr>\n",
       "      <th>0</th>\n",
       "      <td>AGNIESZKA.SOŁTYS@EMAIL.COM</td>\n",
       "      <td>Agnieszka Sołtys</td>\n",
       "      <td>Agnieszka</td>\n",
       "      <td>Sołtys</td>\n",
       "    </tr>\n",
       "    <tr>\n",
       "      <th>1</th>\n",
       "      <td>JAN.NOWAK@GMAIL.COM</td>\n",
       "      <td>Jan Nowak</td>\n",
       "      <td>Jan</td>\n",
       "      <td>Nowak</td>\n",
       "    </tr>\n",
       "    <tr>\n",
       "      <th>2</th>\n",
       "      <td>ANNA.NOWAK@EMAIL.COM</td>\n",
       "      <td>Anna Nowak</td>\n",
       "      <td>Anna</td>\n",
       "      <td>Nowak</td>\n",
       "    </tr>\n",
       "  </tbody>\n",
       "</table>\n",
       "</div>"
      ],
      "text/plain": [
       "                        email   imię_i_nazwisko       imię nazwisko\n",
       "0  AGNIESZKA.SOŁTYS@EMAIL.COM  Agnieszka Sołtys  Agnieszka   Sołtys\n",
       "1         JAN.NOWAK@GMAIL.COM         Jan Nowak        Jan    Nowak\n",
       "2        ANNA.NOWAK@EMAIL.COM        Anna Nowak       Anna    Nowak"
      ]
     },
     "execution_count": 157,
     "metadata": {},
     "output_type": "execute_result"
    }
   ],
   "source": [
    "df"
   ]
  },
  {
   "cell_type": "code",
   "execution_count": 159,
   "id": "a72a6daf-12f9-4167-ada2-5cbf97bbceb8",
   "metadata": {
    "tags": []
   },
   "outputs": [
    {
     "data": {
      "text/html": [
       "<div>\n",
       "<style scoped>\n",
       "    .dataframe tbody tr th:only-of-type {\n",
       "        vertical-align: middle;\n",
       "    }\n",
       "\n",
       "    .dataframe tbody tr th {\n",
       "        vertical-align: top;\n",
       "    }\n",
       "\n",
       "    .dataframe thead th {\n",
       "        text-align: right;\n",
       "    }\n",
       "</style>\n",
       "<table border=\"1\" class=\"dataframe\">\n",
       "  <thead>\n",
       "    <tr style=\"text-align: right;\">\n",
       "      <th></th>\n",
       "      <th>email</th>\n",
       "      <th>imię_i_nazwisko</th>\n",
       "      <th>imię</th>\n",
       "      <th>nazwisko</th>\n",
       "    </tr>\n",
       "  </thead>\n",
       "  <tbody>\n",
       "    <tr>\n",
       "      <th>1</th>\n",
       "      <td>JAN.NOWAK@GMAIL.COM</td>\n",
       "      <td>Jan Nowak</td>\n",
       "      <td>Jan</td>\n",
       "      <td>Nowak</td>\n",
       "    </tr>\n",
       "    <tr>\n",
       "      <th>2</th>\n",
       "      <td>ANNA.NOWAK@EMAIL.COM</td>\n",
       "      <td>Anna Nowak</td>\n",
       "      <td>Anna</td>\n",
       "      <td>Nowak</td>\n",
       "    </tr>\n",
       "    <tr>\n",
       "      <th>0</th>\n",
       "      <td>AGNIESZKA.SOŁTYS@EMAIL.COM</td>\n",
       "      <td>Agnieszka Sołtys</td>\n",
       "      <td>Agnieszka</td>\n",
       "      <td>Sołtys</td>\n",
       "    </tr>\n",
       "  </tbody>\n",
       "</table>\n",
       "</div>"
      ],
      "text/plain": [
       "                        email   imię_i_nazwisko       imię nazwisko\n",
       "1         JAN.NOWAK@GMAIL.COM         Jan Nowak        Jan    Nowak\n",
       "2        ANNA.NOWAK@EMAIL.COM        Anna Nowak       Anna    Nowak\n",
       "0  AGNIESZKA.SOŁTYS@EMAIL.COM  Agnieszka Sołtys  Agnieszka   Sołtys"
      ]
     },
     "execution_count": 159,
     "metadata": {},
     "output_type": "execute_result"
    }
   ],
   "source": [
    "df.sort_values(by = \"nazwisko\", ascending = True)"
   ]
  },
  {
   "cell_type": "code",
   "execution_count": 160,
   "id": "dcaa7040-3f0b-4015-8be4-c43a56156fc8",
   "metadata": {
    "tags": []
   },
   "outputs": [
    {
     "data": {
      "text/html": [
       "<div>\n",
       "<style scoped>\n",
       "    .dataframe tbody tr th:only-of-type {\n",
       "        vertical-align: middle;\n",
       "    }\n",
       "\n",
       "    .dataframe tbody tr th {\n",
       "        vertical-align: top;\n",
       "    }\n",
       "\n",
       "    .dataframe thead th {\n",
       "        text-align: right;\n",
       "    }\n",
       "</style>\n",
       "<table border=\"1\" class=\"dataframe\">\n",
       "  <thead>\n",
       "    <tr style=\"text-align: right;\">\n",
       "      <th></th>\n",
       "      <th>email</th>\n",
       "      <th>imię_i_nazwisko</th>\n",
       "      <th>imię</th>\n",
       "      <th>nazwisko</th>\n",
       "    </tr>\n",
       "  </thead>\n",
       "  <tbody>\n",
       "    <tr>\n",
       "      <th>0</th>\n",
       "      <td>AGNIESZKA.SOŁTYS@EMAIL.COM</td>\n",
       "      <td>Agnieszka Sołtys</td>\n",
       "      <td>Agnieszka</td>\n",
       "      <td>Sołtys</td>\n",
       "    </tr>\n",
       "    <tr>\n",
       "      <th>1</th>\n",
       "      <td>JAN.NOWAK@GMAIL.COM</td>\n",
       "      <td>Jan Nowak</td>\n",
       "      <td>Jan</td>\n",
       "      <td>Nowak</td>\n",
       "    </tr>\n",
       "    <tr>\n",
       "      <th>2</th>\n",
       "      <td>ANNA.NOWAK@EMAIL.COM</td>\n",
       "      <td>Anna Nowak</td>\n",
       "      <td>Anna</td>\n",
       "      <td>Nowak</td>\n",
       "    </tr>\n",
       "  </tbody>\n",
       "</table>\n",
       "</div>"
      ],
      "text/plain": [
       "                        email   imię_i_nazwisko       imię nazwisko\n",
       "0  AGNIESZKA.SOŁTYS@EMAIL.COM  Agnieszka Sołtys  Agnieszka   Sołtys\n",
       "1         JAN.NOWAK@GMAIL.COM         Jan Nowak        Jan    Nowak\n",
       "2        ANNA.NOWAK@EMAIL.COM        Anna Nowak       Anna    Nowak"
      ]
     },
     "execution_count": 160,
     "metadata": {},
     "output_type": "execute_result"
    }
   ],
   "source": [
    "df"
   ]
  },
  {
   "cell_type": "code",
   "execution_count": 161,
   "id": "fcb451a7-124e-4081-930e-1cd1240bf061",
   "metadata": {
    "tags": []
   },
   "outputs": [],
   "source": [
    "df.sort_values(by = [\"nazwisko\", \"imię\"], ascending = [True, False], inplace = True)"
   ]
  },
  {
   "cell_type": "code",
   "execution_count": 162,
   "id": "f11ee216-aa19-4f94-b26e-6822630e5a3d",
   "metadata": {
    "tags": []
   },
   "outputs": [
    {
     "data": {
      "text/html": [
       "<div>\n",
       "<style scoped>\n",
       "    .dataframe tbody tr th:only-of-type {\n",
       "        vertical-align: middle;\n",
       "    }\n",
       "\n",
       "    .dataframe tbody tr th {\n",
       "        vertical-align: top;\n",
       "    }\n",
       "\n",
       "    .dataframe thead th {\n",
       "        text-align: right;\n",
       "    }\n",
       "</style>\n",
       "<table border=\"1\" class=\"dataframe\">\n",
       "  <thead>\n",
       "    <tr style=\"text-align: right;\">\n",
       "      <th></th>\n",
       "      <th>email</th>\n",
       "      <th>imię_i_nazwisko</th>\n",
       "      <th>imię</th>\n",
       "      <th>nazwisko</th>\n",
       "    </tr>\n",
       "  </thead>\n",
       "  <tbody>\n",
       "    <tr>\n",
       "      <th>1</th>\n",
       "      <td>JAN.NOWAK@GMAIL.COM</td>\n",
       "      <td>Jan Nowak</td>\n",
       "      <td>Jan</td>\n",
       "      <td>Nowak</td>\n",
       "    </tr>\n",
       "    <tr>\n",
       "      <th>2</th>\n",
       "      <td>ANNA.NOWAK@EMAIL.COM</td>\n",
       "      <td>Anna Nowak</td>\n",
       "      <td>Anna</td>\n",
       "      <td>Nowak</td>\n",
       "    </tr>\n",
       "    <tr>\n",
       "      <th>0</th>\n",
       "      <td>AGNIESZKA.SOŁTYS@EMAIL.COM</td>\n",
       "      <td>Agnieszka Sołtys</td>\n",
       "      <td>Agnieszka</td>\n",
       "      <td>Sołtys</td>\n",
       "    </tr>\n",
       "  </tbody>\n",
       "</table>\n",
       "</div>"
      ],
      "text/plain": [
       "                        email   imię_i_nazwisko       imię nazwisko\n",
       "1         JAN.NOWAK@GMAIL.COM         Jan Nowak        Jan    Nowak\n",
       "2        ANNA.NOWAK@EMAIL.COM        Anna Nowak       Anna    Nowak\n",
       "0  AGNIESZKA.SOŁTYS@EMAIL.COM  Agnieszka Sołtys  Agnieszka   Sołtys"
      ]
     },
     "execution_count": 162,
     "metadata": {},
     "output_type": "execute_result"
    }
   ],
   "source": [
    "df"
   ]
  },
  {
   "cell_type": "code",
   "execution_count": null,
   "id": "c3840b7b-a601-418e-a534-5270f93bf7f7",
   "metadata": {},
   "outputs": [],
   "source": []
  }
 ],
 "metadata": {
  "kernelspec": {
   "display_name": "Python 3 (ipykernel)",
   "language": "python",
   "name": "python3"
  },
  "language_info": {
   "codemirror_mode": {
    "name": "ipython",
    "version": 3
   },
   "file_extension": ".py",
   "mimetype": "text/x-python",
   "name": "python",
   "nbconvert_exporter": "python",
   "pygments_lexer": "ipython3",
   "version": "3.10.9"
  }
 },
 "nbformat": 4,
 "nbformat_minor": 5
}
